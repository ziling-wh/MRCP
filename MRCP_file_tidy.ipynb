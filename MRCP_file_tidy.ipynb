{
 "cells": [
  {
   "cell_type": "code",
   "execution_count": 3,
   "metadata": {},
   "outputs": [
    {
     "name": "stderr",
     "output_type": "stream",
     "text": [
      "WARNING: In /tmp/SimpleITK-build/ITK-prefix/include/ITK-5.3/itkImageSeriesReader.hxx, line 478\n",
      "ImageSeriesReader (0x105cb5830): Non uniform sampling or missing slices detected,  maximum nonuniformity:337.371\n",
      "\n"
     ]
    },
    {
     "name": "stdout",
     "output_type": "stream",
     "text": [
      "60010072483LB transformation finished\n"
     ]
    },
    {
     "name": "stderr",
     "output_type": "stream",
     "text": [
      "WARNING: In /tmp/SimpleITK-build/ITK-prefix/include/ITK-5.3/itkImageSeriesReader.hxx, line 478\n",
      "ImageSeriesReader (0x105ce0150): Non uniform sampling or missing slices detected,  maximum nonuniformity:543.784\n",
      "\n"
     ]
    },
    {
     "name": "stdout",
     "output_type": "stream",
     "text": [
      "60010072483LB transformation finished\n"
     ]
    },
    {
     "name": "stderr",
     "output_type": "stream",
     "text": [
      "WARNING: In /tmp/SimpleITK-build/ITK-prefix/include/ITK-5.3/itkImageSeriesReader.hxx, line 478\n",
      "ImageSeriesReader (0x105cb5830): Non uniform sampling or missing slices detected,  maximum nonuniformity:183.048\n",
      "\n"
     ]
    },
    {
     "name": "stdout",
     "output_type": "stream",
     "text": [
      "60010072483LB transformation finished\n",
      "60010072483LB transformation finished\n",
      "60010072483LB transformation finished\n",
      "60010072483LB transformation finished\n",
      "60010072483LB transformation finished\n",
      "60010072483LB transformation finished\n",
      "60010072483LB transformation finished\n",
      "60010072483LB transformation finished\n",
      "60010072483LB transformation finished\n",
      "60010072483LB transformation finished\n"
     ]
    },
    {
     "name": "stderr",
     "output_type": "stream",
     "text": [
      "WARNING: In /tmp/SimpleITK-build/ITK-prefix/include/ITK-5.3/itkImageSeriesReader.hxx, line 478\n",
      "ImageSeriesReader (0x105ce2a90): Non uniform sampling or missing slices detected,  maximum nonuniformity:0.000297538\n",
      "\n"
     ]
    },
    {
     "name": "stdout",
     "output_type": "stream",
     "text": [
      "60010072483LB transformation finished\n",
      "Skipped processing folder /Volumes/MR_analysis/MRCP_DICOM/60010072483LB/SE50 due to insufficient DICOM files (<5).\n",
      "60010072483LB transformation finished\n"
     ]
    },
    {
     "name": "stderr",
     "output_type": "stream",
     "text": [
      "WARNING: In /tmp/SimpleITK-build/ITK-prefix/include/ITK-5.3/itkImageSeriesReader.hxx, line 478\n",
      "ImageSeriesReader (0x105ce7f80): Non uniform sampling or missing slices detected,  maximum nonuniformity:323.24\n",
      "\n",
      "WARNING: In /tmp/SimpleITK-build/ITK-prefix/include/ITK-5.3/itkImageSeriesReader.hxx, line 478\n",
      "ImageSeriesReader (0x105cc2bd0): Non uniform sampling or missing slices detected,  maximum nonuniformity:328.16\n",
      "\n"
     ]
    },
    {
     "name": "stdout",
     "output_type": "stream",
     "text": [
      "60010072483LB transformation finished\n"
     ]
    },
    {
     "name": "stderr",
     "output_type": "stream",
     "text": [
      "WARNING: In /tmp/SimpleITK-build/ITK-prefix/include/ITK-5.3/itkImageSeriesReader.hxx, line 478\n",
      "ImageSeriesReader (0x105cc2bd0): Non uniform sampling or missing slices detected,  maximum nonuniformity:0.000332016\n",
      "\n"
     ]
    },
    {
     "name": "stdout",
     "output_type": "stream",
     "text": [
      "60010072483LB transformation finished\n",
      "Skipped processing folder /Volumes/MR_analysis/MRCP_DICOM/60010072483LB/SE14 due to insufficient DICOM files (<5).\n",
      "60010072483LB transformation finished\n"
     ]
    },
    {
     "name": "stderr",
     "output_type": "stream",
     "text": [
      "WARNING: In /tmp/SimpleITK-build/ITK-prefix/include/ITK-5.3/itkImageSeriesReader.hxx, line 478\n",
      "ImageSeriesReader (0x10235f7a0): Non uniform sampling or missing slices detected,  maximum nonuniformity:328.153\n",
      "\n",
      "WARNING: In /tmp/SimpleITK-build/ITK-prefix/include/ITK-5.3/itkImageSeriesReader.hxx, line 478\n",
      "ImageSeriesReader (0x102388590): Non uniform sampling or missing slices detected,  maximum nonuniformity:328.153\n",
      "\n"
     ]
    },
    {
     "name": "stdout",
     "output_type": "stream",
     "text": [
      "60010072483LB transformation finished\n",
      "60010072483LB transformation finished\n",
      "60010072483LB transformation finished\n",
      "60010072483LB transformation finished\n",
      "60010072483LB transformation finished\n",
      "60010072483LB transformation finished\n",
      "60010072483LB transformation finished\n",
      "60010072483LB transformation finished\n",
      "60010072483LB transformation finished\n",
      "60010072483LB transformation finished\n",
      "60010072483LB transformation finished\n",
      "60010072483LB transformation finished\n",
      "60010072483LB transformation finished\n",
      "60010072483LB transformation finished\n",
      "60010072483LB transformation finished\n",
      "60010072483LB transformation finished\n",
      "60010072483LB transformation finished\n",
      "60010072483LB transformation finished\n",
      "60010072483LB transformation finished\n",
      "60010072483LB transformation finished\n",
      "60010072483LB transformation finished\n",
      "60010072483LB transformation finished\n",
      "60010072483LB transformation finished\n",
      "60010072483LB transformation finished\n",
      "60010072483LB transformation finished\n",
      "60010072483LB transformation finished\n",
      "60010072483LB transformation finished\n"
     ]
    },
    {
     "name": "stderr",
     "output_type": "stream",
     "text": [
      "WARNING: In /tmp/SimpleITK-build/ITK-prefix/include/ITK-5.3/itkImageSeriesReader.hxx, line 478\n",
      "ImageSeriesReader (0x103a04c40): Non uniform sampling or missing slices detected,  maximum nonuniformity:183.048\n",
      "\n"
     ]
    },
    {
     "name": "stdout",
     "output_type": "stream",
     "text": [
      "60010072483LB transformation finished\n",
      "Skipped processing folder /Volumes/MR_analysis/MRCP_DICOM/60010072483LB/SE19 due to insufficient DICOM files (<5).\n"
     ]
    },
    {
     "name": "stderr",
     "output_type": "stream",
     "text": [
      "WARNING: In /tmp/SimpleITK-build/ITK-prefix/include/ITK-5.3/itkImageSeriesReader.hxx, line 478\n",
      "ImageSeriesReader (0x102380490): Non uniform sampling or missing slices detected,  maximum nonuniformity:0.000297538\n",
      "\n"
     ]
    },
    {
     "name": "stdout",
     "output_type": "stream",
     "text": [
      "60010072483LB transformation finished\n",
      "60010072483LB transformation finished\n"
     ]
    },
    {
     "name": "stderr",
     "output_type": "stream",
     "text": [
      "WARNING: In /tmp/SimpleITK-build/ITK-prefix/include/ITK-5.3/itkImageSeriesReader.hxx, line 478\n",
      "ImageSeriesReader (0x105cbc5e0): Non uniform sampling or missing slices detected,  maximum nonuniformity:329.081\n",
      "\n",
      "WARNING: In /tmp/SimpleITK-build/ITK-prefix/include/ITK-5.3/itkImageSeriesReader.hxx, line 478\n",
      "ImageSeriesReader (0x105cb5830): Non uniform sampling or missing slices detected,  maximum nonuniformity:329.081\n",
      "\n"
     ]
    },
    {
     "name": "stdout",
     "output_type": "stream",
     "text": [
      "60010072483LB transformation finished\n",
      "60010072483LB transformation finished\n",
      "60010072483LB transformation finished\n"
     ]
    },
    {
     "name": "stderr",
     "output_type": "stream",
     "text": [
      "WARNING: In /tmp/SimpleITK-build/ITK-prefix/include/ITK-5.3/itkImageSeriesReader.hxx, line 478\n",
      "ImageSeriesReader (0x105cc2bd0): Non uniform sampling or missing slices detected,  maximum nonuniformity:0.000332016\n",
      "\n"
     ]
    },
    {
     "name": "stdout",
     "output_type": "stream",
     "text": [
      "60010072483LB transformation finished\n",
      "Skipped processing folder /Volumes/MR_analysis/MRCP_DICOM/60010072483LB/SE24 due to insufficient DICOM files (<5).\n",
      "60010072483LB transformation finished\n"
     ]
    },
    {
     "name": "stderr",
     "output_type": "stream",
     "text": [
      "WARNING: In /tmp/SimpleITK-build/ITK-prefix/include/ITK-5.3/itkImageSeriesReader.hxx, line 478\n",
      "ImageSeriesReader (0x105cb5830): Non uniform sampling or missing slices detected,  maximum nonuniformity:328.153\n",
      "\n",
      "WARNING: In /tmp/SimpleITK-build/ITK-prefix/include/ITK-5.3/itkImageSeriesReader.hxx, line 478\n",
      "ImageSeriesReader (0x105ce7f80): Non uniform sampling or missing slices detected,  maximum nonuniformity:328.153\n",
      "\n"
     ]
    },
    {
     "name": "stdout",
     "output_type": "stream",
     "text": [
      "60010072483LB transformation finished\n",
      "60010072483LB transformation finished\n",
      "60010072483LB transformation finished\n",
      "60010072483LB transformation finished\n",
      "60010072483LB transformation finished\n",
      "60010072483LB transformation finished\n"
     ]
    },
    {
     "name": "stderr",
     "output_type": "stream",
     "text": [
      "WARNING: In /tmp/SimpleITK-build/ITK-prefix/include/ITK-5.3/itkImageSeriesReader.hxx, line 478\n",
      "ImageSeriesReader (0x105ce7f80): Non uniform sampling or missing slices detected,  maximum nonuniformity:337.371\n",
      "\n"
     ]
    },
    {
     "name": "stdout",
     "output_type": "stream",
     "text": [
      "60015160100ZSM transformation finished\n"
     ]
    },
    {
     "name": "stderr",
     "output_type": "stream",
     "text": [
      "WARNING: In /tmp/SimpleITK-build/ITK-prefix/include/ITK-5.3/itkImageSeriesReader.hxx, line 478\n",
      "ImageSeriesReader (0x105cd92d0): Non uniform sampling or missing slices detected,  maximum nonuniformity:543.784\n",
      "\n"
     ]
    },
    {
     "name": "stdout",
     "output_type": "stream",
     "text": [
      "60015160100ZSM transformation finished\n"
     ]
    },
    {
     "name": "stderr",
     "output_type": "stream",
     "text": [
      "WARNING: In /tmp/SimpleITK-build/ITK-prefix/include/ITK-5.3/itkImageSeriesReader.hxx, line 478\n",
      "ImageSeriesReader (0x105cd92d0): Non uniform sampling or missing slices detected,  maximum nonuniformity:183.047\n",
      "\n"
     ]
    },
    {
     "name": "stdout",
     "output_type": "stream",
     "text": [
      "60015160100ZSM transformation finished\n",
      "60015160100ZSM transformation finished\n",
      "60015160100ZSM transformation finished\n",
      "60015160100ZSM transformation finished\n",
      "Skipped processing folder /Volumes/MR_analysis/MRCP_DICOM/60015160100ZSM/SE37 due to insufficient DICOM files (<5).\n"
     ]
    },
    {
     "name": "stderr",
     "output_type": "stream",
     "text": [
      "WARNING: In /tmp/SimpleITK-build/ITK-prefix/include/ITK-5.3/itkImageSeriesReader.hxx, line 478\n",
      "ImageSeriesReader (0x105cc2bd0): Non uniform sampling or missing slices detected,  maximum nonuniformity:0.000221567\n",
      "\n"
     ]
    },
    {
     "name": "stdout",
     "output_type": "stream",
     "text": [
      "60015160100ZSM transformation finished\n",
      "60015160100ZSM transformation finished\n"
     ]
    },
    {
     "name": "stderr",
     "output_type": "stream",
     "text": [
      "WARNING: In /tmp/SimpleITK-build/ITK-prefix/include/ITK-5.3/itkImageSeriesReader.hxx, line 478\n",
      "ImageSeriesReader (0x1023535f0): Non uniform sampling or missing slices detected,  maximum nonuniformity:280.558\n",
      "\n",
      "WARNING: In /tmp/SimpleITK-build/ITK-prefix/include/ITK-5.3/itkImageSeriesReader.hxx, line 478\n",
      "ImageSeriesReader (0x1023535f0): Non uniform sampling or missing slices detected,  maximum nonuniformity:323.24\n",
      "\n"
     ]
    },
    {
     "name": "stdout",
     "output_type": "stream",
     "text": [
      "60015160100ZSM transformation finished\n"
     ]
    },
    {
     "name": "stderr",
     "output_type": "stream",
     "text": [
      "WARNING: In /tmp/SimpleITK-build/ITK-prefix/include/ITK-5.3/itkImageSeriesReader.hxx, line 478\n",
      "ImageSeriesReader (0x1023792c0): Non uniform sampling or missing slices detected,  maximum nonuniformity:0.000280299\n",
      "\n"
     ]
    },
    {
     "name": "stdout",
     "output_type": "stream",
     "text": [
      "60015160100ZSM transformation finished\n",
      "Skipped processing folder /Volumes/MR_analysis/MRCP_DICOM/60015160100ZSM/SE26 due to insufficient DICOM files (<5).\n",
      "60015160100ZSM transformation finished\n"
     ]
    },
    {
     "name": "stderr",
     "output_type": "stream",
     "text": [
      "WARNING: In /tmp/SimpleITK-build/ITK-prefix/include/ITK-5.3/itkImageSeriesReader.hxx, line 478\n",
      "ImageSeriesReader (0x1023535f0): Non uniform sampling or missing slices detected,  maximum nonuniformity:328.16\n",
      "\n",
      "WARNING: In /tmp/SimpleITK-build/ITK-prefix/include/ITK-5.3/itkImageSeriesReader.hxx, line 478\n",
      "ImageSeriesReader (0x1023535f0): Non uniform sampling or missing slices detected,  maximum nonuniformity:328.16\n",
      "\n"
     ]
    },
    {
     "name": "stdout",
     "output_type": "stream",
     "text": [
      "60015160100ZSM transformation finished\n",
      "60015160100ZSM transformation finished\n"
     ]
    },
    {
     "name": "stderr",
     "output_type": "stream",
     "text": [
      "WARNING: In /tmp/SimpleITK-build/ITK-prefix/include/ITK-5.3/itkImageSeriesReader.hxx, line 478\n",
      "ImageSeriesReader (0x102396d70): Non uniform sampling or missing slices detected,  maximum nonuniformity:183.047\n",
      "\n"
     ]
    },
    {
     "name": "stdout",
     "output_type": "stream",
     "text": [
      "60015160100ZSM transformation finished\n",
      "60015160100ZSM transformation finished\n"
     ]
    },
    {
     "name": "stderr",
     "output_type": "stream",
     "text": [
      "WARNING: In /tmp/SimpleITK-build/ITK-prefix/include/ITK-5.3/itkImageSeriesReader.hxx, line 478\n",
      "ImageSeriesReader (0x1023535f0): Non uniform sampling or missing slices detected,  maximum nonuniformity:0.000962146\n",
      "\n"
     ]
    },
    {
     "name": "stdout",
     "output_type": "stream",
     "text": [
      "60015160100ZSM transformation finished\n"
     ]
    },
    {
     "name": "stderr",
     "output_type": "stream",
     "text": [
      "WARNING: In /tmp/SimpleITK-build/ITK-prefix/include/ITK-5.3/itkImageSeriesReader.hxx, line 478\n",
      "ImageSeriesReader (0x10232c3c0): Non uniform sampling or missing slices detected,  maximum nonuniformity:0.000962146\n",
      "\n"
     ]
    },
    {
     "name": "stdout",
     "output_type": "stream",
     "text": [
      "60015160100ZSM transformation finished\n"
     ]
    },
    {
     "name": "stderr",
     "output_type": "stream",
     "text": [
      "WARNING: In /tmp/SimpleITK-build/ITK-prefix/include/ITK-5.3/itkImageSeriesReader.hxx, line 478\n",
      "ImageSeriesReader (0x1023535f0): Non uniform sampling or missing slices detected,  maximum nonuniformity:0.000962146\n",
      "\n"
     ]
    },
    {
     "name": "stdout",
     "output_type": "stream",
     "text": [
      "60015160100ZSM transformation finished\n"
     ]
    },
    {
     "name": "stderr",
     "output_type": "stream",
     "text": [
      "WARNING: In /tmp/SimpleITK-build/ITK-prefix/include/ITK-5.3/itkImageSeriesReader.hxx, line 478\n",
      "ImageSeriesReader (0x1023535f0): Non uniform sampling or missing slices detected,  maximum nonuniformity:0.000962146\n",
      "\n"
     ]
    },
    {
     "name": "stdout",
     "output_type": "stream",
     "text": [
      "60015160100ZSM transformation finished\n",
      "60015160100ZSM transformation finished\n",
      "60015160100ZSM transformation finished\n"
     ]
    },
    {
     "name": "stderr",
     "output_type": "stream",
     "text": [
      "WARNING: In /tmp/SimpleITK-build/ITK-prefix/include/ITK-5.3/itkImageSeriesReader.hxx, line 478\n",
      "ImageSeriesReader (0x1023535f0): Non uniform sampling or missing slices detected,  maximum nonuniformity:0.000974145\n",
      "\n"
     ]
    },
    {
     "name": "stdout",
     "output_type": "stream",
     "text": [
      "60015160100ZSM transformation finished\n",
      "60015160100ZSM transformation finished\n"
     ]
    },
    {
     "name": "stderr",
     "output_type": "stream",
     "text": [
      "WARNING: In /tmp/SimpleITK-build/ITK-prefix/include/ITK-5.3/itkImageSeriesReader.hxx, line 478\n",
      "ImageSeriesReader (0x105cc2bd0): Non uniform sampling or missing slices detected,  maximum nonuniformity:0.000974145\n",
      "\n"
     ]
    },
    {
     "name": "stdout",
     "output_type": "stream",
     "text": [
      "60015160100ZSM transformation finished\n"
     ]
    },
    {
     "name": "stderr",
     "output_type": "stream",
     "text": [
      "WARNING: In /tmp/SimpleITK-build/ITK-prefix/include/ITK-5.3/itkImageSeriesReader.hxx, line 478\n",
      "ImageSeriesReader (0x105ce2a90): Non uniform sampling or missing slices detected,  maximum nonuniformity:0.000974145\n",
      "\n"
     ]
    },
    {
     "name": "stdout",
     "output_type": "stream",
     "text": [
      "60015160100ZSM transformation finished\n"
     ]
    },
    {
     "name": "stderr",
     "output_type": "stream",
     "text": [
      "WARNING: In /tmp/SimpleITK-build/ITK-prefix/include/ITK-5.3/itkImageSeriesReader.hxx, line 478\n",
      "ImageSeriesReader (0x105ce2a90): Non uniform sampling or missing slices detected,  maximum nonuniformity:0.000974145\n",
      "\n"
     ]
    },
    {
     "name": "stdout",
     "output_type": "stream",
     "text": [
      "60015160100ZSM transformation finished\n"
     ]
    },
    {
     "name": "stderr",
     "output_type": "stream",
     "text": [
      "WARNING: In /tmp/SimpleITK-build/ITK-prefix/include/ITK-5.3/itkImageSeriesReader.hxx, line 478\n",
      "ImageSeriesReader (0x105ce2a90): Non uniform sampling or missing slices detected,  maximum nonuniformity:0.000974145\n",
      "\n"
     ]
    },
    {
     "name": "stdout",
     "output_type": "stream",
     "text": [
      "60015160100ZSM transformation finished\n"
     ]
    },
    {
     "name": "stderr",
     "output_type": "stream",
     "text": [
      "WARNING: In /tmp/SimpleITK-build/ITK-prefix/include/ITK-5.3/itkImageSeriesReader.hxx, line 478\n",
      "ImageSeriesReader (0x105cb5830): Non uniform sampling or missing slices detected,  maximum nonuniformity:0.000974145\n",
      "\n"
     ]
    },
    {
     "name": "stdout",
     "output_type": "stream",
     "text": [
      "60015160100ZSM transformation finished\n"
     ]
    },
    {
     "name": "stderr",
     "output_type": "stream",
     "text": [
      "WARNING: In /tmp/SimpleITK-build/ITK-prefix/include/ITK-5.3/itkImageSeriesReader.hxx, line 478\n",
      "ImageSeriesReader (0x105cb5830): Non uniform sampling or missing slices detected,  maximum nonuniformity:0.000974145\n",
      "\n"
     ]
    },
    {
     "name": "stdout",
     "output_type": "stream",
     "text": [
      "60015160100ZSM transformation finished\n",
      "60015160100ZSM transformation finished\n"
     ]
    },
    {
     "name": "stderr",
     "output_type": "stream",
     "text": [
      "WARNING: In /tmp/SimpleITK-build/ITK-prefix/include/ITK-5.3/itkImageSeriesReader.hxx, line 478\n",
      "ImageSeriesReader (0x105cf4660): Non uniform sampling or missing slices detected,  maximum nonuniformity:0.000974145\n",
      "\n"
     ]
    },
    {
     "name": "stdout",
     "output_type": "stream",
     "text": [
      "60015160100ZSM transformation finished\n",
      "60015160100ZSM transformation finished\n"
     ]
    },
    {
     "name": "stderr",
     "output_type": "stream",
     "text": [
      "WARNING: In /tmp/SimpleITK-build/ITK-prefix/include/ITK-5.3/itkImageSeriesReader.hxx, line 478\n",
      "ImageSeriesReader (0x102388590): Non uniform sampling or missing slices detected,  maximum nonuniformity:0.000974145\n",
      "\n"
     ]
    },
    {
     "name": "stdout",
     "output_type": "stream",
     "text": [
      "60015160100ZSM transformation finished\n"
     ]
    },
    {
     "name": "stderr",
     "output_type": "stream",
     "text": [
      "WARNING: In /tmp/SimpleITK-build/ITK-prefix/include/ITK-5.3/itkImageSeriesReader.hxx, line 478\n",
      "ImageSeriesReader (0x1023535f0): Non uniform sampling or missing slices detected,  maximum nonuniformity:0.000974145\n",
      "\n"
     ]
    },
    {
     "name": "stdout",
     "output_type": "stream",
     "text": [
      "60015160100ZSM transformation finished\n"
     ]
    },
    {
     "name": "stderr",
     "output_type": "stream",
     "text": [
      "WARNING: In /tmp/SimpleITK-build/ITK-prefix/include/ITK-5.3/itkImageSeriesReader.hxx, line 478\n",
      "ImageSeriesReader (0x1023535f0): Non uniform sampling or missing slices detected,  maximum nonuniformity:0.000974145\n",
      "\n"
     ]
    },
    {
     "name": "stdout",
     "output_type": "stream",
     "text": [
      "60015160100ZSM transformation finished\n"
     ]
    },
    {
     "name": "stderr",
     "output_type": "stream",
     "text": [
      "WARNING: In /tmp/SimpleITK-build/ITK-prefix/include/ITK-5.3/itkImageSeriesReader.hxx, line 478\n",
      "ImageSeriesReader (0x1023535f0): Non uniform sampling or missing slices detected,  maximum nonuniformity:0.000974145\n",
      "\n"
     ]
    },
    {
     "name": "stdout",
     "output_type": "stream",
     "text": [
      "60015160100ZSM transformation finished\n",
      "60015160100ZSM transformation finished\n",
      "60015160100ZSM transformation finished\n",
      "60015160100ZSM transformation finished\n",
      "60015160100ZSM transformation finished\n",
      "60015160100ZSM transformation finished\n"
     ]
    },
    {
     "name": "stderr",
     "output_type": "stream",
     "text": [
      "WARNING: In /tmp/SimpleITK-build/ITK-prefix/include/ITK-5.3/itkImageSeriesReader.hxx, line 478\n",
      "ImageSeriesReader (0x105ff1bb0): Non uniform sampling or missing slices detected,  maximum nonuniformity:0.000221567\n",
      "\n"
     ]
    },
    {
     "name": "stdout",
     "output_type": "stream",
     "text": [
      "60015160100ZSM transformation finished\n",
      "Skipped processing folder /Volumes/MR_analysis/MRCP_DICOM/60015160100ZSM/SE24 due to insufficient DICOM files (<5).\n",
      "60015160100ZSM transformation finished\n"
     ]
    },
    {
     "name": "stderr",
     "output_type": "stream",
     "text": [
      "WARNING: In /tmp/SimpleITK-build/ITK-prefix/include/ITK-5.3/itkImageSeriesReader.hxx, line 478\n",
      "ImageSeriesReader (0x105cc2bd0): Non uniform sampling or missing slices detected,  maximum nonuniformity:328.16\n",
      "\n",
      "WARNING: In /tmp/SimpleITK-build/ITK-prefix/include/ITK-5.3/itkImageSeriesReader.hxx, line 478\n",
      "ImageSeriesReader (0x105cbc5e0): Non uniform sampling or missing slices detected,  maximum nonuniformity:328.16\n",
      "\n"
     ]
    },
    {
     "name": "stdout",
     "output_type": "stream",
     "text": [
      "60015160100ZSM transformation finished\n",
      "Skipped processing folder /Volumes/MR_analysis/MRCP_DICOM/60015160100ZSM/SE7 due to insufficient DICOM files (<5).\n"
     ]
    },
    {
     "name": "stderr",
     "output_type": "stream",
     "text": [
      "WARNING: In /tmp/SimpleITK-build/ITK-prefix/include/ITK-5.3/itkImageSeriesReader.hxx, line 478\n",
      "ImageSeriesReader (0x105cb5830): Non uniform sampling or missing slices detected,  maximum nonuniformity:0.000280299\n",
      "\n"
     ]
    },
    {
     "name": "stdout",
     "output_type": "stream",
     "text": [
      "60015160100ZSM transformation finished\n",
      "60015160100ZSM transformation finished\n"
     ]
    },
    {
     "name": "stderr",
     "output_type": "stream",
     "text": [
      "WARNING: In /tmp/SimpleITK-build/ITK-prefix/include/ITK-5.3/itkImageSeriesReader.hxx, line 478\n",
      "ImageSeriesReader (0x105cbc5e0): Non uniform sampling or missing slices detected,  maximum nonuniformity:280.558\n",
      "\n",
      "WARNING: In /tmp/SimpleITK-build/ITK-prefix/include/ITK-5.3/itkImageSeriesReader.hxx, line 478\n",
      "ImageSeriesReader (0x105cbc5e0): Non uniform sampling or missing slices detected,  maximum nonuniformity:328.16\n",
      "\n"
     ]
    },
    {
     "name": "stdout",
     "output_type": "stream",
     "text": [
      "60015160100ZSM transformation finished\n"
     ]
    },
    {
     "name": "stderr",
     "output_type": "stream",
     "text": [
      "WARNING: In /tmp/SimpleITK-build/ITK-prefix/include/ITK-5.3/itkImageSeriesReader.hxx, line 478\n",
      "ImageSeriesReader (0x105cf15c0): Non uniform sampling or missing slices detected,  maximum nonuniformity:0.000974145\n",
      "\n"
     ]
    },
    {
     "name": "stdout",
     "output_type": "stream",
     "text": [
      "60015160100ZSM transformation finished\n"
     ]
    },
    {
     "name": "stderr",
     "output_type": "stream",
     "text": [
      "WARNING: In /tmp/SimpleITK-build/ITK-prefix/include/ITK-5.3/itkImageSeriesReader.hxx, line 478\n",
      "ImageSeriesReader (0x105cc2bd0): Non uniform sampling or missing slices detected,  maximum nonuniformity:0.000974145\n",
      "\n"
     ]
    },
    {
     "name": "stdout",
     "output_type": "stream",
     "text": [
      "60015160100ZSM transformation finished\n"
     ]
    },
    {
     "name": "stderr",
     "output_type": "stream",
     "text": [
      "WARNING: In /tmp/SimpleITK-build/ITK-prefix/include/ITK-5.3/itkImageSeriesReader.hxx, line 478\n",
      "ImageSeriesReader (0x105ce2a90): Non uniform sampling or missing slices detected,  maximum nonuniformity:0.000974145\n",
      "\n"
     ]
    },
    {
     "name": "stdout",
     "output_type": "stream",
     "text": [
      "60015160100ZSM transformation finished\n"
     ]
    },
    {
     "name": "stderr",
     "output_type": "stream",
     "text": [
      "WARNING: In /tmp/SimpleITK-build/ITK-prefix/include/ITK-5.3/itkImageSeriesReader.hxx, line 478\n",
      "ImageSeriesReader (0x105ce2a90): Non uniform sampling or missing slices detected,  maximum nonuniformity:0.000974145\n",
      "\n"
     ]
    },
    {
     "name": "stdout",
     "output_type": "stream",
     "text": [
      "60015160100ZSM transformation finished\n",
      "60015160100ZSM transformation finished\n",
      "60015160100ZSM transformation finished\n",
      "60015160100ZSM transformation finished\n",
      "60015160100ZSM transformation finished\n",
      "60015160100ZSM transformation finished\n"
     ]
    },
    {
     "name": "stderr",
     "output_type": "stream",
     "text": [
      "WARNING: In /tmp/SimpleITK-build/ITK-prefix/include/ITK-5.3/itkImageSeriesReader.hxx, line 478\n",
      "ImageSeriesReader (0x1023979a0): Non uniform sampling or missing slices detected,  maximum nonuniformity:337.371\n",
      "\n"
     ]
    },
    {
     "name": "stdout",
     "output_type": "stream",
     "text": [
      "60016226751YCL transformation finished\n"
     ]
    },
    {
     "name": "stderr",
     "output_type": "stream",
     "text": [
      "WARNING: In /tmp/SimpleITK-build/ITK-prefix/include/ITK-5.3/itkImageSeriesReader.hxx, line 478\n",
      "ImageSeriesReader (0x102388590): Non uniform sampling or missing slices detected,  maximum nonuniformity:543.784\n",
      "\n"
     ]
    },
    {
     "name": "stdout",
     "output_type": "stream",
     "text": [
      "60016226751YCL transformation finished\n",
      "60016226751YCL transformation finished\n",
      "60016226751YCL transformation finished\n"
     ]
    },
    {
     "name": "stderr",
     "output_type": "stream",
     "text": [
      "WARNING: In /tmp/SimpleITK-build/ITK-prefix/include/ITK-5.3/itkImageSeriesReader.hxx, line 478\n",
      "ImageSeriesReader (0x10239ccb0): Non uniform sampling or missing slices detected,  maximum nonuniformity:0.000793094\n",
      "\n"
     ]
    },
    {
     "name": "stdout",
     "output_type": "stream",
     "text": [
      "60016226751YCL transformation finished\n"
     ]
    },
    {
     "name": "stderr",
     "output_type": "stream",
     "text": [
      "WARNING: In /tmp/SimpleITK-build/ITK-prefix/include/ITK-5.3/itkImageSeriesReader.hxx, line 478\n",
      "ImageSeriesReader (0x10239f2a0): Non uniform sampling or missing slices detected,  maximum nonuniformity:0.000793094\n",
      "\n"
     ]
    },
    {
     "name": "stdout",
     "output_type": "stream",
     "text": [
      "60016226751YCL transformation finished\n"
     ]
    },
    {
     "name": "stderr",
     "output_type": "stream",
     "text": [
      "WARNING: In /tmp/SimpleITK-build/ITK-prefix/include/ITK-5.3/itkImageSeriesReader.hxx, line 478\n",
      "ImageSeriesReader (0x105cc2bd0): Non uniform sampling or missing slices detected,  maximum nonuniformity:0.000793094\n",
      "\n"
     ]
    },
    {
     "name": "stdout",
     "output_type": "stream",
     "text": [
      "60016226751YCL transformation finished\n"
     ]
    },
    {
     "name": "stderr",
     "output_type": "stream",
     "text": [
      "WARNING: In /tmp/SimpleITK-build/ITK-prefix/include/ITK-5.3/itkImageSeriesReader.hxx, line 478\n",
      "ImageSeriesReader (0x105cf4660): Non uniform sampling or missing slices detected,  maximum nonuniformity:0.000793094\n",
      "\n"
     ]
    },
    {
     "name": "stdout",
     "output_type": "stream",
     "text": [
      "60016226751YCL transformation finished\n"
     ]
    },
    {
     "name": "stderr",
     "output_type": "stream",
     "text": [
      "WARNING: In /tmp/SimpleITK-build/ITK-prefix/include/ITK-5.3/itkImageSeriesReader.hxx, line 478\n",
      "ImageSeriesReader (0x105ce7f80): Non uniform sampling or missing slices detected,  maximum nonuniformity:0.000157994\n",
      "\n"
     ]
    },
    {
     "name": "stdout",
     "output_type": "stream",
     "text": [
      "60016226751YCL transformation finished\n",
      "Skipped processing folder /Volumes/MR_analysis/MRCP_DICOM/60016226751YCL/SE31 due to insufficient DICOM files (<5).\n",
      "60016226751YCL transformation finished\n"
     ]
    },
    {
     "name": "stderr",
     "output_type": "stream",
     "text": [
      "WARNING: In /tmp/SimpleITK-build/ITK-prefix/include/ITK-5.3/itkImageSeriesReader.hxx, line 478\n",
      "ImageSeriesReader (0x105cbc5e0): Non uniform sampling or missing slices detected,  maximum nonuniformity:328.153\n",
      "\n",
      "WARNING: In /tmp/SimpleITK-build/ITK-prefix/include/ITK-5.3/itkImageSeriesReader.hxx, line 478\n",
      "ImageSeriesReader (0x105cfe470): Non uniform sampling or missing slices detected,  maximum nonuniformity:328.153\n",
      "\n"
     ]
    },
    {
     "name": "stdout",
     "output_type": "stream",
     "text": [
      "60016226751YCL transformation finished\n",
      "Skipped processing folder /Volumes/MR_analysis/MRCP_DICOM/60016226751YCL/SE30 due to insufficient DICOM files (<5).\n"
     ]
    },
    {
     "name": "stderr",
     "output_type": "stream",
     "text": [
      "WARNING: In /tmp/SimpleITK-build/ITK-prefix/include/ITK-5.3/itkImageSeriesReader.hxx, line 478\n",
      "ImageSeriesReader (0x105cc2bd0): Non uniform sampling or missing slices detected,  maximum nonuniformity:0.000157994\n",
      "\n"
     ]
    },
    {
     "name": "stdout",
     "output_type": "stream",
     "text": [
      "60016226751YCL transformation finished\n",
      "60016226751YCL transformation finished\n"
     ]
    },
    {
     "name": "stderr",
     "output_type": "stream",
     "text": [
      "WARNING: In /tmp/SimpleITK-build/ITK-prefix/include/ITK-5.3/itkImageSeriesReader.hxx, line 478\n",
      "ImageSeriesReader (0x105cf4660): Non uniform sampling or missing slices detected,  maximum nonuniformity:328.16\n",
      "\n",
      "WARNING: In /tmp/SimpleITK-build/ITK-prefix/include/ITK-5.3/itkImageSeriesReader.hxx, line 478\n",
      "ImageSeriesReader (0x105cf7c30): Non uniform sampling or missing slices detected,  maximum nonuniformity:328.16\n",
      "\n"
     ]
    },
    {
     "name": "stdout",
     "output_type": "stream",
     "text": [
      "60016226751YCL transformation finished\n"
     ]
    },
    {
     "name": "stderr",
     "output_type": "stream",
     "text": [
      "WARNING: In /tmp/SimpleITK-build/ITK-prefix/include/ITK-5.3/itkImageSeriesReader.hxx, line 478\n",
      "ImageSeriesReader (0x105ce2a90): Non uniform sampling or missing slices detected,  maximum nonuniformity:183.048\n",
      "\n"
     ]
    },
    {
     "name": "stdout",
     "output_type": "stream",
     "text": [
      "60016226751YCL transformation finished\n",
      "60016226751YCL transformation finished\n",
      "60016226751YCL transformation finished\n",
      "60016226751YCL transformation finished\n"
     ]
    },
    {
     "name": "stderr",
     "output_type": "stream",
     "text": [
      "WARNING: In /tmp/SimpleITK-build/ITK-prefix/include/ITK-5.3/itkImageSeriesReader.hxx, line 478\n",
      "ImageSeriesReader (0x105ce7f80): Non uniform sampling or missing slices detected,  maximum nonuniformity:0.000782092\n",
      "\n"
     ]
    },
    {
     "name": "stdout",
     "output_type": "stream",
     "text": [
      "60016226751YCL transformation finished\n",
      "60016226751YCL transformation finished\n"
     ]
    },
    {
     "name": "stderr",
     "output_type": "stream",
     "text": [
      "WARNING: In /tmp/SimpleITK-build/ITK-prefix/include/ITK-5.3/itkImageSeriesReader.hxx, line 478\n",
      "ImageSeriesReader (0x102388590): Non uniform sampling or missing slices detected,  maximum nonuniformity:0.000782092\n",
      "\n"
     ]
    },
    {
     "name": "stdout",
     "output_type": "stream",
     "text": [
      "60016226751YCL transformation finished\n"
     ]
    },
    {
     "name": "stderr",
     "output_type": "stream",
     "text": [
      "WARNING: In /tmp/SimpleITK-build/ITK-prefix/include/ITK-5.3/itkImageSeriesReader.hxx, line 478\n",
      "ImageSeriesReader (0x10239ccb0): Non uniform sampling or missing slices detected,  maximum nonuniformity:0.000782092\n",
      "\n"
     ]
    },
    {
     "name": "stdout",
     "output_type": "stream",
     "text": [
      "60016226751YCL transformation finished\n"
     ]
    },
    {
     "name": "stderr",
     "output_type": "stream",
     "text": [
      "WARNING: In /tmp/SimpleITK-build/ITK-prefix/include/ITK-5.3/itkImageSeriesReader.hxx, line 478\n",
      "ImageSeriesReader (0x10239ccb0): Non uniform sampling or missing slices detected,  maximum nonuniformity:0.000782092\n",
      "\n"
     ]
    },
    {
     "name": "stdout",
     "output_type": "stream",
     "text": [
      "60016226751YCL transformation finished\n"
     ]
    },
    {
     "name": "stderr",
     "output_type": "stream",
     "text": [
      "WARNING: In /tmp/SimpleITK-build/ITK-prefix/include/ITK-5.3/itkImageSeriesReader.hxx, line 478\n",
      "ImageSeriesReader (0x10239f2a0): Non uniform sampling or missing slices detected,  maximum nonuniformity:0.000782092\n",
      "\n"
     ]
    },
    {
     "name": "stdout",
     "output_type": "stream",
     "text": [
      "60016226751YCL transformation finished\n"
     ]
    },
    {
     "name": "stderr",
     "output_type": "stream",
     "text": [
      "WARNING: In /tmp/SimpleITK-build/ITK-prefix/include/ITK-5.3/itkImageSeriesReader.hxx, line 478\n",
      "ImageSeriesReader (0x102388590): Non uniform sampling or missing slices detected,  maximum nonuniformity:0.000782092\n",
      "\n"
     ]
    },
    {
     "name": "stdout",
     "output_type": "stream",
     "text": [
      "60016226751YCL transformation finished\n",
      "60016226751YCL transformation finished\n"
     ]
    },
    {
     "name": "stderr",
     "output_type": "stream",
     "text": [
      "WARNING: In /tmp/SimpleITK-build/ITK-prefix/include/ITK-5.3/itkImageSeriesReader.hxx, line 478\n",
      "ImageSeriesReader (0x10239bee0): Non uniform sampling or missing slices detected,  maximum nonuniformity:0.000782092\n",
      "\n"
     ]
    },
    {
     "name": "stdout",
     "output_type": "stream",
     "text": [
      "60016226751YCL transformation finished\n"
     ]
    },
    {
     "name": "stderr",
     "output_type": "stream",
     "text": [
      "WARNING: In /tmp/SimpleITK-build/ITK-prefix/include/ITK-5.3/itkImageSeriesReader.hxx, line 478\n",
      "ImageSeriesReader (0x10239b8e0): Non uniform sampling or missing slices detected,  maximum nonuniformity:0.000782092\n",
      "\n"
     ]
    },
    {
     "name": "stdout",
     "output_type": "stream",
     "text": [
      "60016226751YCL transformation finished\n"
     ]
    },
    {
     "name": "stderr",
     "output_type": "stream",
     "text": [
      "WARNING: In /tmp/SimpleITK-build/ITK-prefix/include/ITK-5.3/itkImageSeriesReader.hxx, line 478\n",
      "ImageSeriesReader (0x1023979a0): Non uniform sampling or missing slices detected,  maximum nonuniformity:0.000782092\n",
      "\n"
     ]
    },
    {
     "name": "stdout",
     "output_type": "stream",
     "text": [
      "60016226751YCL transformation finished\n"
     ]
    },
    {
     "name": "stderr",
     "output_type": "stream",
     "text": [
      "WARNING: In /tmp/SimpleITK-build/ITK-prefix/include/ITK-5.3/itkImageSeriesReader.hxx, line 478\n",
      "ImageSeriesReader (0x105ce7f80): Non uniform sampling or missing slices detected,  maximum nonuniformity:0.000782092\n",
      "\n"
     ]
    },
    {
     "name": "stdout",
     "output_type": "stream",
     "text": [
      "60016226751YCL transformation finished\n"
     ]
    },
    {
     "name": "stderr",
     "output_type": "stream",
     "text": [
      "WARNING: In /tmp/SimpleITK-build/ITK-prefix/include/ITK-5.3/itkImageSeriesReader.hxx, line 478\n",
      "ImageSeriesReader (0x105ce7f80): Non uniform sampling or missing slices detected,  maximum nonuniformity:0.000782092\n",
      "\n"
     ]
    },
    {
     "name": "stdout",
     "output_type": "stream",
     "text": [
      "60016226751YCL transformation finished\n",
      "60016226751YCL transformation finished\n"
     ]
    },
    {
     "name": "stderr",
     "output_type": "stream",
     "text": [
      "WARNING: In /tmp/SimpleITK-build/ITK-prefix/include/ITK-5.3/itkImageSeriesReader.hxx, line 478\n",
      "ImageSeriesReader (0x105cc2bd0): Non uniform sampling or missing slices detected,  maximum nonuniformity:0.000782092\n",
      "\n"
     ]
    },
    {
     "name": "stdout",
     "output_type": "stream",
     "text": [
      "60016226751YCL transformation finished\n"
     ]
    },
    {
     "name": "stderr",
     "output_type": "stream",
     "text": [
      "WARNING: In /tmp/SimpleITK-build/ITK-prefix/include/ITK-5.3/itkImageSeriesReader.hxx, line 478\n",
      "ImageSeriesReader (0x105cc2bd0): Non uniform sampling or missing slices detected,  maximum nonuniformity:0.000911627\n",
      "\n"
     ]
    },
    {
     "name": "stdout",
     "output_type": "stream",
     "text": [
      "60016226751YCL transformation finished\n"
     ]
    },
    {
     "name": "stderr",
     "output_type": "stream",
     "text": [
      "WARNING: In /tmp/SimpleITK-build/ITK-prefix/include/ITK-5.3/itkImageSeriesReader.hxx, line 478\n",
      "ImageSeriesReader (0x105cc2bd0): Non uniform sampling or missing slices detected,  maximum nonuniformity:0.000911627\n",
      "\n"
     ]
    },
    {
     "name": "stdout",
     "output_type": "stream",
     "text": [
      "60016226751YCL transformation finished\n",
      "60016226751YCL transformation finished\n"
     ]
    },
    {
     "name": "stderr",
     "output_type": "stream",
     "text": [
      "WARNING: In /tmp/SimpleITK-build/ITK-prefix/include/ITK-5.3/itkImageSeriesReader.hxx, line 478\n",
      "ImageSeriesReader (0x105ce24b0): Non uniform sampling or missing slices detected,  maximum nonuniformity:0.000911627\n",
      "\n"
     ]
    },
    {
     "name": "stdout",
     "output_type": "stream",
     "text": [
      "60016226751YCL transformation finished\n"
     ]
    },
    {
     "name": "stderr",
     "output_type": "stream",
     "text": [
      "WARNING: In /tmp/SimpleITK-build/ITK-prefix/include/ITK-5.3/itkImageSeriesReader.hxx, line 478\n",
      "ImageSeriesReader (0x105ce97f0): Non uniform sampling or missing slices detected,  maximum nonuniformity:0.000911627\n",
      "\n"
     ]
    },
    {
     "name": "stdout",
     "output_type": "stream",
     "text": [
      "60016226751YCL transformation finished\n"
     ]
    },
    {
     "name": "stderr",
     "output_type": "stream",
     "text": [
      "WARNING: In /tmp/SimpleITK-build/ITK-prefix/include/ITK-5.3/itkImageSeriesReader.hxx, line 478\n",
      "ImageSeriesReader (0x105ce2a90): Non uniform sampling or missing slices detected,  maximum nonuniformity:183.048\n",
      "\n"
     ]
    },
    {
     "name": "stdout",
     "output_type": "stream",
     "text": [
      "60016226751YCL transformation finished\n"
     ]
    },
    {
     "name": "stderr",
     "output_type": "stream",
     "text": [
      "WARNING: In /tmp/SimpleITK-build/ITK-prefix/include/ITK-5.3/itkImageSeriesReader.hxx, line 478\n",
      "ImageSeriesReader (0x10239ccb0): Non uniform sampling or missing slices detected,  maximum nonuniformity:0.000157994\n",
      "\n"
     ]
    },
    {
     "name": "stdout",
     "output_type": "stream",
     "text": [
      "60016226751YCL transformation finished\n",
      "Skipped processing folder /Volumes/MR_analysis/MRCP_DICOM/60016226751YCL/SE8 due to insufficient DICOM files (<5).\n",
      "60016226751YCL transformation finished\n"
     ]
    },
    {
     "name": "stderr",
     "output_type": "stream",
     "text": [
      "WARNING: In /tmp/SimpleITK-build/ITK-prefix/include/ITK-5.3/itkImageSeriesReader.hxx, line 478\n",
      "ImageSeriesReader (0x102388590): Non uniform sampling or missing slices detected,  maximum nonuniformity:328.153\n",
      "\n",
      "WARNING: In /tmp/SimpleITK-build/ITK-prefix/include/ITK-5.3/itkImageSeriesReader.hxx, line 478\n",
      "ImageSeriesReader (0x10239ccb0): Non uniform sampling or missing slices detected,  maximum nonuniformity:328.153\n",
      "\n"
     ]
    },
    {
     "name": "stdout",
     "output_type": "stream",
     "text": [
      "60016226751YCL transformation finished\n",
      "60016226751YCL transformation finished\n",
      "60016226751YCL transformation finished\n",
      "Skipped processing folder /Volumes/MR_analysis/MRCP_DICOM/60016226751YCL/SE16 due to insufficient DICOM files (<5).\n",
      "60016226751YCL transformation finished\n",
      "60016226751YCL transformation finished\n"
     ]
    },
    {
     "name": "stderr",
     "output_type": "stream",
     "text": [
      "WARNING: In /tmp/SimpleITK-build/ITK-prefix/include/ITK-5.3/itkImageSeriesReader.hxx, line 478\n",
      "ImageSeriesReader (0x1023979a0): Non uniform sampling or missing slices detected,  maximum nonuniformity:328.153\n",
      "\n",
      "WARNING: In /tmp/SimpleITK-build/ITK-prefix/include/ITK-5.3/itkImageSeriesReader.hxx, line 478\n",
      "ImageSeriesReader (0x1023979a0): Non uniform sampling or missing slices detected,  maximum nonuniformity:328.153\n",
      "\n"
     ]
    },
    {
     "name": "stdout",
     "output_type": "stream",
     "text": [
      "60016226751YCL transformation finished\n"
     ]
    },
    {
     "name": "stderr",
     "output_type": "stream",
     "text": [
      "WARNING: In /tmp/SimpleITK-build/ITK-prefix/include/ITK-5.3/itkImageSeriesReader.hxx, line 478\n",
      "ImageSeriesReader (0x10239f2a0): Non uniform sampling or missing slices detected,  maximum nonuniformity:0.000782092\n",
      "\n"
     ]
    },
    {
     "name": "stdout",
     "output_type": "stream",
     "text": [
      "60016226751YCL transformation finished\n",
      "60016226751YCL transformation finished\n"
     ]
    },
    {
     "name": "stderr",
     "output_type": "stream",
     "text": [
      "WARNING: In /tmp/SimpleITK-build/ITK-prefix/include/ITK-5.3/itkImageSeriesReader.hxx, line 478\n",
      "ImageSeriesReader (0x10239bee0): Non uniform sampling or missing slices detected,  maximum nonuniformity:0.000782092\n",
      "\n"
     ]
    },
    {
     "name": "stdout",
     "output_type": "stream",
     "text": [
      "60016226751YCL transformation finished\n"
     ]
    },
    {
     "name": "stderr",
     "output_type": "stream",
     "text": [
      "WARNING: In /tmp/SimpleITK-build/ITK-prefix/include/ITK-5.3/itkImageSeriesReader.hxx, line 478\n",
      "ImageSeriesReader (0x120785a60): Non uniform sampling or missing slices detected,  maximum nonuniformity:0.000782092\n",
      "\n"
     ]
    },
    {
     "name": "stdout",
     "output_type": "stream",
     "text": [
      "60016226751YCL transformation finished\n"
     ]
    },
    {
     "name": "stderr",
     "output_type": "stream",
     "text": [
      "WARNING: In /tmp/SimpleITK-build/ITK-prefix/include/ITK-5.3/itkImageSeriesReader.hxx, line 478\n",
      "ImageSeriesReader (0x120784fb0): Non uniform sampling or missing slices detected,  maximum nonuniformity:0.000782092\n",
      "\n"
     ]
    },
    {
     "name": "stdout",
     "output_type": "stream",
     "text": [
      "60016226751YCL transformation finished\n"
     ]
    },
    {
     "name": "stderr",
     "output_type": "stream",
     "text": [
      "WARNING: In /tmp/SimpleITK-build/ITK-prefix/include/ITK-5.3/itkImageSeriesReader.hxx, line 478\n",
      "ImageSeriesReader (0x105ce24b0): Non uniform sampling or missing slices detected,  maximum nonuniformity:337.371\n",
      "\n"
     ]
    },
    {
     "name": "stdout",
     "output_type": "stream",
     "text": [
      "60016265246ZQS transformation finished\n"
     ]
    },
    {
     "name": "stderr",
     "output_type": "stream",
     "text": [
      "WARNING: In /tmp/SimpleITK-build/ITK-prefix/include/ITK-5.3/itkImageSeriesReader.hxx, line 478\n",
      "ImageSeriesReader (0x105cf7670): Non uniform sampling or missing slices detected,  maximum nonuniformity:543.784\n",
      "\n"
     ]
    },
    {
     "name": "stdout",
     "output_type": "stream",
     "text": [
      "60016265246ZQS transformation finished\n"
     ]
    },
    {
     "name": "stderr",
     "output_type": "stream",
     "text": [
      "WARNING: In /tmp/SimpleITK-build/ITK-prefix/include/ITK-5.3/itkImageSeriesReader.hxx, line 478\n",
      "ImageSeriesReader (0x105cf7670): Non uniform sampling or missing slices detected,  maximum nonuniformity:183.048\n",
      "\n"
     ]
    },
    {
     "name": "stdout",
     "output_type": "stream",
     "text": [
      "60016265246ZQS transformation finished\n"
     ]
    },
    {
     "name": "stderr",
     "output_type": "stream",
     "text": [
      "WARNING: In /tmp/SimpleITK-build/ITK-prefix/include/ITK-5.3/itkImageSeriesReader.hxx, line 478\n",
      "ImageSeriesReader (0x10239b8e0): Non uniform sampling or missing slices detected,  maximum nonuniformity:0.00060897\n",
      "\n"
     ]
    },
    {
     "name": "stdout",
     "output_type": "stream",
     "text": [
      "60016265246ZQS transformation finished\n",
      "60016265246ZQS transformation finished\n"
     ]
    },
    {
     "name": "stderr",
     "output_type": "stream",
     "text": [
      "WARNING: In /tmp/SimpleITK-build/ITK-prefix/include/ITK-5.3/itkImageSeriesReader.hxx, line 478\n",
      "ImageSeriesReader (0x105cb5830): Non uniform sampling or missing slices detected,  maximum nonuniformity:0.00060897\n",
      "\n",
      "WARNING: In /tmp/SimpleITK-build/ITK-prefix/include/ITK-5.3/itkImageSeriesReader.hxx, line 478\n",
      "ImageSeriesReader (0x105cb5830): Non uniform sampling or missing slices detected,  maximum nonuniformity:0.00060897\n",
      "\n"
     ]
    },
    {
     "name": "stdout",
     "output_type": "stream",
     "text": [
      "60016265246ZQS transformation finished\n"
     ]
    },
    {
     "name": "stderr",
     "output_type": "stream",
     "text": [
      "WARNING: In /tmp/SimpleITK-build/ITK-prefix/include/ITK-5.3/itkImageSeriesReader.hxx, line 478\n",
      "ImageSeriesReader (0x105ffcd50): Non uniform sampling or missing slices detected,  maximum nonuniformity:0.000173825\n",
      "\n"
     ]
    },
    {
     "name": "stdout",
     "output_type": "stream",
     "text": [
      "60016265246ZQS transformation finished\n",
      "Skipped processing folder /Volumes/MR_analysis/MRCP_DICOM/60016265246ZQS/SE34 due to insufficient DICOM files (<5).\n",
      "60016265246ZQS transformation finished\n"
     ]
    },
    {
     "name": "stderr",
     "output_type": "stream",
     "text": [
      "WARNING: In /tmp/SimpleITK-build/ITK-prefix/include/ITK-5.3/itkImageSeriesReader.hxx, line 478\n",
      "ImageSeriesReader (0x105cf7670): Non uniform sampling or missing slices detected,  maximum nonuniformity:323.233\n",
      "\n",
      "WARNING: In /tmp/SimpleITK-build/ITK-prefix/include/ITK-5.3/itkImageSeriesReader.hxx, line 478\n",
      "ImageSeriesReader (0x105cc2bd0): Non uniform sampling or missing slices detected,  maximum nonuniformity:323.233\n",
      "\n"
     ]
    },
    {
     "name": "stdout",
     "output_type": "stream",
     "text": [
      "60016265246ZQS transformation finished\n",
      "Skipped processing folder /Volumes/MR_analysis/MRCP_DICOM/60016265246ZQS/SE4 due to insufficient DICOM files (<5).\n"
     ]
    },
    {
     "name": "stderr",
     "output_type": "stream",
     "text": [
      "WARNING: In /tmp/SimpleITK-build/ITK-prefix/include/ITK-5.3/itkImageSeriesReader.hxx, line 478\n",
      "ImageSeriesReader (0x105cc2bd0): Non uniform sampling or missing slices detected,  maximum nonuniformity:0.000237011\n",
      "\n"
     ]
    },
    {
     "name": "stdout",
     "output_type": "stream",
     "text": [
      "60016265246ZQS transformation finished\n",
      "60016265246ZQS transformation finished\n"
     ]
    },
    {
     "name": "stderr",
     "output_type": "stream",
     "text": [
      "WARNING: In /tmp/SimpleITK-build/ITK-prefix/include/ITK-5.3/itkImageSeriesReader.hxx, line 478\n",
      "ImageSeriesReader (0x105cb5830): Non uniform sampling or missing slices detected,  maximum nonuniformity:328.153\n",
      "\n",
      "WARNING: In /tmp/SimpleITK-build/ITK-prefix/include/ITK-5.3/itkImageSeriesReader.hxx, line 478\n",
      "ImageSeriesReader (0x105cc2bd0): Non uniform sampling or missing slices detected,  maximum nonuniformity:328.153\n",
      "\n"
     ]
    },
    {
     "name": "stdout",
     "output_type": "stream",
     "text": [
      "60016265246ZQS transformation finished\n",
      "60016265246ZQS transformation finished\n"
     ]
    },
    {
     "name": "stderr",
     "output_type": "stream",
     "text": [
      "WARNING: In /tmp/SimpleITK-build/ITK-prefix/include/ITK-5.3/itkImageSeriesReader.hxx, line 478\n",
      "ImageSeriesReader (0x140338690): Non uniform sampling or missing slices detected,  maximum nonuniformity:0.000948586\n",
      "\n"
     ]
    },
    {
     "name": "stdout",
     "output_type": "stream",
     "text": [
      "60016265246ZQS transformation finished\n"
     ]
    },
    {
     "name": "stderr",
     "output_type": "stream",
     "text": [
      "WARNING: In /tmp/SimpleITK-build/ITK-prefix/include/ITK-5.3/itkImageSeriesReader.hxx, line 478\n",
      "ImageSeriesReader (0x105cc2bd0): Non uniform sampling or missing slices detected,  maximum nonuniformity:0.000948586\n",
      "\n"
     ]
    },
    {
     "name": "stdout",
     "output_type": "stream",
     "text": [
      "60016265246ZQS transformation finished\n"
     ]
    },
    {
     "name": "stderr",
     "output_type": "stream",
     "text": [
      "WARNING: In /tmp/SimpleITK-build/ITK-prefix/include/ITK-5.3/itkImageSeriesReader.hxx, line 478\n",
      "ImageSeriesReader (0x10239f2a0): Non uniform sampling or missing slices detected,  maximum nonuniformity:0.000948586\n",
      "\n"
     ]
    },
    {
     "name": "stdout",
     "output_type": "stream",
     "text": [
      "60016265246ZQS transformation finished\n",
      "60016265246ZQS transformation finished\n"
     ]
    },
    {
     "name": "stderr",
     "output_type": "stream",
     "text": [
      "WARNING: In /tmp/SimpleITK-build/ITK-prefix/include/ITK-5.3/itkImageSeriesReader.hxx, line 478\n",
      "ImageSeriesReader (0x10239f2a0): Non uniform sampling or missing slices detected,  maximum nonuniformity:0.000948586\n",
      "\n"
     ]
    },
    {
     "name": "stdout",
     "output_type": "stream",
     "text": [
      "60016265246ZQS transformation finished\n"
     ]
    },
    {
     "name": "stderr",
     "output_type": "stream",
     "text": [
      "WARNING: In /tmp/SimpleITK-build/ITK-prefix/include/ITK-5.3/itkImageSeriesReader.hxx, line 478\n",
      "ImageSeriesReader (0x10239f2a0): Non uniform sampling or missing slices detected,  maximum nonuniformity:0.000948586\n",
      "\n"
     ]
    },
    {
     "name": "stdout",
     "output_type": "stream",
     "text": [
      "60016265246ZQS transformation finished\n"
     ]
    },
    {
     "name": "stderr",
     "output_type": "stream",
     "text": [
      "WARNING: In /tmp/SimpleITK-build/ITK-prefix/include/ITK-5.3/itkImageSeriesReader.hxx, line 478\n",
      "ImageSeriesReader (0x102388590): Non uniform sampling or missing slices detected,  maximum nonuniformity:0.000948586\n",
      "\n"
     ]
    },
    {
     "name": "stdout",
     "output_type": "stream",
     "text": [
      "60016265246ZQS transformation finished\n"
     ]
    },
    {
     "name": "stderr",
     "output_type": "stream",
     "text": [
      "WARNING: In /tmp/SimpleITK-build/ITK-prefix/include/ITK-5.3/itkImageSeriesReader.hxx, line 478\n",
      "ImageSeriesReader (0x10239bee0): Non uniform sampling or missing slices detected,  maximum nonuniformity:0.000948586\n",
      "\n"
     ]
    },
    {
     "name": "stdout",
     "output_type": "stream",
     "text": [
      "60016265246ZQS transformation finished\n"
     ]
    },
    {
     "name": "stderr",
     "output_type": "stream",
     "text": [
      "WARNING: In /tmp/SimpleITK-build/ITK-prefix/include/ITK-5.3/itkImageSeriesReader.hxx, line 478\n",
      "ImageSeriesReader (0x1023979a0): Non uniform sampling or missing slices detected,  maximum nonuniformity:0.000948586\n",
      "\n"
     ]
    },
    {
     "name": "stdout",
     "output_type": "stream",
     "text": [
      "60016265246ZQS transformation finished\n",
      "60016265246ZQS transformation finished\n"
     ]
    },
    {
     "name": "stderr",
     "output_type": "stream",
     "text": [
      "WARNING: In /tmp/SimpleITK-build/ITK-prefix/include/ITK-5.3/itkImageSeriesReader.hxx, line 478\n",
      "ImageSeriesReader (0x105cf7670): Non uniform sampling or missing slices detected,  maximum nonuniformity:0.000948586\n",
      "\n"
     ]
    },
    {
     "name": "stdout",
     "output_type": "stream",
     "text": [
      "60016265246ZQS transformation finished\n"
     ]
    },
    {
     "name": "stderr",
     "output_type": "stream",
     "text": [
      "WARNING: In /tmp/SimpleITK-build/ITK-prefix/include/ITK-5.3/itkImageSeriesReader.hxx, line 478\n",
      "ImageSeriesReader (0x105cc2bd0): Non uniform sampling or missing slices detected,  maximum nonuniformity:0.000948586\n",
      "\n"
     ]
    },
    {
     "name": "stdout",
     "output_type": "stream",
     "text": [
      "60016265246ZQS transformation finished\n"
     ]
    },
    {
     "name": "stderr",
     "output_type": "stream",
     "text": [
      "WARNING: In /tmp/SimpleITK-build/ITK-prefix/include/ITK-5.3/itkImageSeriesReader.hxx, line 478\n",
      "ImageSeriesReader (0x105ce2a90): Non uniform sampling or missing slices detected,  maximum nonuniformity:0.000948586\n",
      "\n"
     ]
    },
    {
     "name": "stdout",
     "output_type": "stream",
     "text": [
      "60016265246ZQS transformation finished\n"
     ]
    },
    {
     "name": "stderr",
     "output_type": "stream",
     "text": [
      "WARNING: In /tmp/SimpleITK-build/ITK-prefix/include/ITK-5.3/itkImageSeriesReader.hxx, line 478\n",
      "ImageSeriesReader (0x105ce2a90): Non uniform sampling or missing slices detected,  maximum nonuniformity:0.000948586\n",
      "\n"
     ]
    },
    {
     "name": "stdout",
     "output_type": "stream",
     "text": [
      "60016265246ZQS transformation finished\n",
      "60016265246ZQS transformation finished\n",
      "60016265246ZQS transformation finished\n"
     ]
    },
    {
     "name": "stderr",
     "output_type": "stream",
     "text": [
      "WARNING: In /tmp/SimpleITK-build/ITK-prefix/include/ITK-5.3/itkImageSeriesReader.hxx, line 478\n",
      "ImageSeriesReader (0x105cb5830): Non uniform sampling or missing slices detected,  maximum nonuniformity:0.000948586\n",
      "\n"
     ]
    },
    {
     "name": "stdout",
     "output_type": "stream",
     "text": [
      "60016265246ZQS transformation finished\n"
     ]
    },
    {
     "name": "stderr",
     "output_type": "stream",
     "text": [
      "WARNING: In /tmp/SimpleITK-build/ITK-prefix/include/ITK-5.3/itkImageSeriesReader.hxx, line 478\n",
      "ImageSeriesReader (0x105cc2bd0): Non uniform sampling or missing slices detected,  maximum nonuniformity:0.000948586\n",
      "\n"
     ]
    },
    {
     "name": "stdout",
     "output_type": "stream",
     "text": [
      "60016265246ZQS transformation finished\n"
     ]
    },
    {
     "name": "stderr",
     "output_type": "stream",
     "text": [
      "WARNING: In /tmp/SimpleITK-build/ITK-prefix/include/ITK-5.3/itkImageSeriesReader.hxx, line 478\n",
      "ImageSeriesReader (0x102388590): Non uniform sampling or missing slices detected,  maximum nonuniformity:0.000948586\n",
      "\n"
     ]
    },
    {
     "name": "stdout",
     "output_type": "stream",
     "text": [
      "60016265246ZQS transformation finished\n"
     ]
    },
    {
     "name": "stderr",
     "output_type": "stream",
     "text": [
      "WARNING: In /tmp/SimpleITK-build/ITK-prefix/include/ITK-5.3/itkImageSeriesReader.hxx, line 478\n",
      "ImageSeriesReader (0x10239ccb0): Non uniform sampling or missing slices detected,  maximum nonuniformity:0.000948586\n",
      "\n"
     ]
    },
    {
     "name": "stdout",
     "output_type": "stream",
     "text": [
      "60016265246ZQS transformation finished\n"
     ]
    },
    {
     "name": "stderr",
     "output_type": "stream",
     "text": [
      "WARNING: In /tmp/SimpleITK-build/ITK-prefix/include/ITK-5.3/itkImageSeriesReader.hxx, line 478\n",
      "ImageSeriesReader (0x10239ccb0): Non uniform sampling or missing slices detected,  maximum nonuniformity:0.000661354\n",
      "\n"
     ]
    },
    {
     "name": "stdout",
     "output_type": "stream",
     "text": [
      "60016265246ZQS transformation finished\n"
     ]
    },
    {
     "name": "stderr",
     "output_type": "stream",
     "text": [
      "WARNING: In /tmp/SimpleITK-build/ITK-prefix/include/ITK-5.3/itkImageSeriesReader.hxx, line 478\n",
      "ImageSeriesReader (0x10239bee0): Non uniform sampling or missing slices detected,  maximum nonuniformity:0.000661354\n",
      "\n"
     ]
    },
    {
     "name": "stdout",
     "output_type": "stream",
     "text": [
      "60016265246ZQS transformation finished\n"
     ]
    },
    {
     "name": "stderr",
     "output_type": "stream",
     "text": [
      "WARNING: In /tmp/SimpleITK-build/ITK-prefix/include/ITK-5.3/itkImageSeriesReader.hxx, line 478\n",
      "ImageSeriesReader (0x10239bee0): Non uniform sampling or missing slices detected,  maximum nonuniformity:0.000661354\n",
      "\n"
     ]
    },
    {
     "name": "stdout",
     "output_type": "stream",
     "text": [
      "60016265246ZQS transformation finished\n"
     ]
    },
    {
     "name": "stderr",
     "output_type": "stream",
     "text": [
      "WARNING: In /tmp/SimpleITK-build/ITK-prefix/include/ITK-5.3/itkImageSeriesReader.hxx, line 478\n",
      "ImageSeriesReader (0x10239b8e0): Non uniform sampling or missing slices detected,  maximum nonuniformity:0.000661354\n",
      "\n"
     ]
    },
    {
     "name": "stdout",
     "output_type": "stream",
     "text": [
      "60016265246ZQS transformation finished\n",
      "60016265246ZQS transformation finished\n"
     ]
    },
    {
     "name": "stderr",
     "output_type": "stream",
     "text": [
      "WARNING: In /tmp/SimpleITK-build/ITK-prefix/include/ITK-5.3/itkImageSeriesReader.hxx, line 478\n",
      "ImageSeriesReader (0x10239bee0): Non uniform sampling or missing slices detected,  maximum nonuniformity:183.048\n",
      "\n"
     ]
    },
    {
     "name": "stdout",
     "output_type": "stream",
     "text": [
      "60016265246ZQS transformation finished\n"
     ]
    },
    {
     "name": "stderr",
     "output_type": "stream",
     "text": [
      "WARNING: In /tmp/SimpleITK-build/ITK-prefix/include/ITK-5.3/itkImageSeriesReader.hxx, line 478\n",
      "ImageSeriesReader (0x10239bee0): Non uniform sampling or missing slices detected,  maximum nonuniformity:0.000173825\n",
      "\n"
     ]
    },
    {
     "name": "stdout",
     "output_type": "stream",
     "text": [
      "60016265246ZQS transformation finished\n",
      "Skipped processing folder /Volumes/MR_analysis/MRCP_DICOM/60016265246ZQS/SE40 due to insufficient DICOM files (<5).\n",
      "60016265246ZQS transformation finished\n"
     ]
    },
    {
     "name": "stderr",
     "output_type": "stream",
     "text": [
      "WARNING: In /tmp/SimpleITK-build/ITK-prefix/include/ITK-5.3/itkImageSeriesReader.hxx, line 478\n",
      "ImageSeriesReader (0x105ce2a90): Non uniform sampling or missing slices detected,  maximum nonuniformity:280.558\n",
      "\n",
      "WARNING: In /tmp/SimpleITK-build/ITK-prefix/include/ITK-5.3/itkImageSeriesReader.hxx, line 478\n",
      "ImageSeriesReader (0x105cb5830): Non uniform sampling or missing slices detected,  maximum nonuniformity:328.153\n",
      "\n"
     ]
    },
    {
     "name": "stdout",
     "output_type": "stream",
     "text": [
      "60016265246ZQS transformation finished\n",
      "60016265246ZQS transformation finished\n"
     ]
    },
    {
     "name": "stderr",
     "output_type": "stream",
     "text": [
      "WARNING: In /tmp/SimpleITK-build/ITK-prefix/include/ITK-5.3/itkImageSeriesReader.hxx, line 478\n",
      "ImageSeriesReader (0x105cfe190): Non uniform sampling or missing slices detected,  maximum nonuniformity:0.00060897\n",
      "\n",
      "WARNING: In /tmp/SimpleITK-build/ITK-prefix/include/ITK-5.3/itkImageSeriesReader.hxx, line 478\n",
      "ImageSeriesReader (0x105cf84c0): Non uniform sampling or missing slices detected,  maximum nonuniformity:0.00060897\n",
      "\n"
     ]
    },
    {
     "name": "stdout",
     "output_type": "stream",
     "text": [
      "60016265246ZQS transformation finished\n",
      "Skipped processing folder /Volumes/MR_analysis/MRCP_DICOM/60016265246ZQS/SE5 due to insufficient DICOM files (<5).\n"
     ]
    },
    {
     "name": "stderr",
     "output_type": "stream",
     "text": [
      "WARNING: In /tmp/SimpleITK-build/ITK-prefix/include/ITK-5.3/itkImageSeriesReader.hxx, line 478\n",
      "ImageSeriesReader (0x105cc2bd0): Non uniform sampling or missing slices detected,  maximum nonuniformity:0.000237011\n",
      "\n"
     ]
    },
    {
     "name": "stdout",
     "output_type": "stream",
     "text": [
      "60016265246ZQS transformation finished\n",
      "60016265246ZQS transformation finished\n"
     ]
    },
    {
     "name": "stderr",
     "output_type": "stream",
     "text": [
      "WARNING: In /tmp/SimpleITK-build/ITK-prefix/include/ITK-5.3/itkImageSeriesReader.hxx, line 478\n",
      "ImageSeriesReader (0x105ce2a90): Non uniform sampling or missing slices detected,  maximum nonuniformity:328.153\n",
      "\n",
      "WARNING: In /tmp/SimpleITK-build/ITK-prefix/include/ITK-5.3/itkImageSeriesReader.hxx, line 478\n",
      "ImageSeriesReader (0x105ce2a90): Non uniform sampling or missing slices detected,  maximum nonuniformity:328.153\n",
      "\n"
     ]
    },
    {
     "name": "stdout",
     "output_type": "stream",
     "text": [
      "60016265246ZQS transformation finished\n"
     ]
    },
    {
     "name": "stderr",
     "output_type": "stream",
     "text": [
      "WARNING: In /tmp/SimpleITK-build/ITK-prefix/include/ITK-5.3/itkImageSeriesReader.hxx, line 478\n",
      "ImageSeriesReader (0x105cb5830): Non uniform sampling or missing slices detected,  maximum nonuniformity:0.000948586\n",
      "\n"
     ]
    },
    {
     "name": "stdout",
     "output_type": "stream",
     "text": [
      "60016265246ZQS transformation finished\n"
     ]
    },
    {
     "name": "stderr",
     "output_type": "stream",
     "text": [
      "WARNING: In /tmp/SimpleITK-build/ITK-prefix/include/ITK-5.3/itkImageSeriesReader.hxx, line 478\n",
      "ImageSeriesReader (0x105cb5830): Non uniform sampling or missing slices detected,  maximum nonuniformity:0.000948586\n",
      "\n"
     ]
    },
    {
     "name": "stdout",
     "output_type": "stream",
     "text": [
      "60016265246ZQS transformation finished\n"
     ]
    },
    {
     "name": "stderr",
     "output_type": "stream",
     "text": [
      "WARNING: In /tmp/SimpleITK-build/ITK-prefix/include/ITK-5.3/itkImageSeriesReader.hxx, line 478\n",
      "ImageSeriesReader (0x105cf7670): Non uniform sampling or missing slices detected,  maximum nonuniformity:0.000948586\n",
      "\n"
     ]
    },
    {
     "name": "stdout",
     "output_type": "stream",
     "text": [
      "60016265246ZQS transformation finished\n",
      "60016265246ZQS transformation finished\n"
     ]
    },
    {
     "name": "stderr",
     "output_type": "stream",
     "text": [
      "WARNING: In /tmp/SimpleITK-build/ITK-prefix/include/ITK-5.3/itkImageSeriesReader.hxx, line 478\n",
      "ImageSeriesReader (0x105cb5830): Non uniform sampling or missing slices detected,  maximum nonuniformity:0.000948586\n",
      "\n"
     ]
    },
    {
     "name": "stdout",
     "output_type": "stream",
     "text": [
      "60016265246ZQS transformation finished\n"
     ]
    },
    {
     "name": "stderr",
     "output_type": "stream",
     "text": [
      "WARNING: In /tmp/SimpleITK-build/ITK-prefix/include/ITK-5.3/itkImageSeriesReader.hxx, line 478\n",
      "ImageSeriesReader (0x102388590): Non uniform sampling or missing slices detected,  maximum nonuniformity:337.371\n",
      "\n"
     ]
    },
    {
     "name": "stdout",
     "output_type": "stream",
     "text": [
      "60016332591ZSH transformation finished\n"
     ]
    },
    {
     "name": "stderr",
     "output_type": "stream",
     "text": [
      "WARNING: In /tmp/SimpleITK-build/ITK-prefix/include/ITK-5.3/itkImageSeriesReader.hxx, line 478\n",
      "ImageSeriesReader (0x105cc2bd0): Non uniform sampling or missing slices detected,  maximum nonuniformity:543.784\n",
      "\n"
     ]
    },
    {
     "name": "stdout",
     "output_type": "stream",
     "text": [
      "60016332591ZSH transformation finished\n"
     ]
    },
    {
     "name": "stderr",
     "output_type": "stream",
     "text": [
      "WARNING: In /tmp/SimpleITK-build/ITK-prefix/include/ITK-5.3/itkImageSeriesReader.hxx, line 478\n",
      "ImageSeriesReader (0x137eb7b10): Non uniform sampling or missing slices detected,  maximum nonuniformity:183.048\n",
      "\n"
     ]
    },
    {
     "name": "stdout",
     "output_type": "stream",
     "text": [
      "60016332591ZSH transformation finished\n",
      "60016332591ZSH transformation finished\n",
      "60016332591ZSH transformation finished\n",
      "60016332591ZSH transformation finished\n",
      "Skipped processing folder /Volumes/MR_analysis/MRCP_DICOM/60016332591ZSH/SE4 due to insufficient DICOM files (<5).\n"
     ]
    },
    {
     "name": "stderr",
     "output_type": "stream",
     "text": [
      "WARNING: In /tmp/SimpleITK-build/ITK-prefix/include/ITK-5.3/itkImageSeriesReader.hxx, line 478\n",
      "ImageSeriesReader (0x10239b8e0): Non uniform sampling or missing slices detected,  maximum nonuniformity:0.000217867\n",
      "\n"
     ]
    },
    {
     "name": "stdout",
     "output_type": "stream",
     "text": [
      "60016332591ZSH transformation finished\n",
      "60016332591ZSH transformation finished\n"
     ]
    },
    {
     "name": "stderr",
     "output_type": "stream",
     "text": [
      "WARNING: In /tmp/SimpleITK-build/ITK-prefix/include/ITK-5.3/itkImageSeriesReader.hxx, line 478\n",
      "ImageSeriesReader (0x10239ccb0): Non uniform sampling or missing slices detected,  maximum nonuniformity:328.16\n",
      "\n",
      "WARNING: In /tmp/SimpleITK-build/ITK-prefix/include/ITK-5.3/itkImageSeriesReader.hxx, line 478\n",
      "ImageSeriesReader (0x10239ccb0): Non uniform sampling or missing slices detected,  maximum nonuniformity:323.24\n",
      "\n"
     ]
    },
    {
     "name": "stdout",
     "output_type": "stream",
     "text": [
      "60016332591ZSH transformation finished\n"
     ]
    },
    {
     "name": "stderr",
     "output_type": "stream",
     "text": [
      "WARNING: In /tmp/SimpleITK-build/ITK-prefix/include/ITK-5.3/itkImageSeriesReader.hxx, line 478\n",
      "ImageSeriesReader (0x1023979a0): Non uniform sampling or missing slices detected,  maximum nonuniformity:0.000264279\n",
      "\n"
     ]
    },
    {
     "name": "stdout",
     "output_type": "stream",
     "text": [
      "60016332591ZSH transformation finished\n",
      "Skipped processing folder /Volumes/MR_analysis/MRCP_DICOM/60016332591ZSH/SE38 due to insufficient DICOM files (<5).\n",
      "60016332591ZSH transformation finished\n"
     ]
    },
    {
     "name": "stderr",
     "output_type": "stream",
     "text": [
      "WARNING: In /tmp/SimpleITK-build/ITK-prefix/include/ITK-5.3/itkImageSeriesReader.hxx, line 478\n",
      "ImageSeriesReader (0x1207808a0): Non uniform sampling or missing slices detected,  maximum nonuniformity:328.153\n",
      "\n",
      "WARNING: In /tmp/SimpleITK-build/ITK-prefix/include/ITK-5.3/itkImageSeriesReader.hxx, line 478\n",
      "ImageSeriesReader (0x1023979a0): Non uniform sampling or missing slices detected,  maximum nonuniformity:328.153\n",
      "\n"
     ]
    },
    {
     "name": "stdout",
     "output_type": "stream",
     "text": [
      "60016332591ZSH transformation finished\n",
      "60016332591ZSH transformation finished\n",
      "60016332591ZSH transformation finished\n",
      "60016332591ZSH transformation finished\n",
      "60016332591ZSH transformation finished\n",
      "60016332591ZSH transformation finished\n",
      "60016332591ZSH transformation finished\n",
      "60016332591ZSH transformation finished\n",
      "60016332591ZSH transformation finished\n",
      "60016332591ZSH transformation finished\n",
      "60016332591ZSH transformation finished\n",
      "60016332591ZSH transformation finished\n",
      "60016332591ZSH transformation finished\n",
      "60016332591ZSH transformation finished\n",
      "60016332591ZSH transformation finished\n",
      "60016332591ZSH transformation finished\n",
      "60016332591ZSH transformation finished\n",
      "60016332591ZSH transformation finished\n",
      "60016332591ZSH transformation finished\n",
      "60016332591ZSH transformation finished\n",
      "60016332591ZSH transformation finished\n",
      "60016332591ZSH transformation finished\n"
     ]
    },
    {
     "name": "stderr",
     "output_type": "stream",
     "text": [
      "WARNING: In /tmp/SimpleITK-build/ITK-prefix/include/ITK-5.3/itkImageSeriesReader.hxx, line 478\n",
      "ImageSeriesReader (0x10239b8e0): Non uniform sampling or missing slices detected,  maximum nonuniformity:0.000311025\n",
      "\n"
     ]
    },
    {
     "name": "stdout",
     "output_type": "stream",
     "text": [
      "60016332591ZSH transformation finished\n"
     ]
    },
    {
     "name": "stderr",
     "output_type": "stream",
     "text": [
      "WARNING: In /tmp/SimpleITK-build/ITK-prefix/include/ITK-5.3/itkImageSeriesReader.hxx, line 478\n",
      "ImageSeriesReader (0x105cc2bd0): Non uniform sampling or missing slices detected,  maximum nonuniformity:0.000311025\n",
      "\n"
     ]
    },
    {
     "name": "stdout",
     "output_type": "stream",
     "text": [
      "60016332591ZSH transformation finished\n",
      "60016332591ZSH transformation finished\n"
     ]
    },
    {
     "name": "stderr",
     "output_type": "stream",
     "text": [
      "WARNING: In /tmp/SimpleITK-build/ITK-prefix/include/ITK-5.3/itkImageSeriesReader.hxx, line 478\n",
      "ImageSeriesReader (0x105cf7670): Non uniform sampling or missing slices detected,  maximum nonuniformity:0.000311025\n",
      "\n"
     ]
    },
    {
     "name": "stdout",
     "output_type": "stream",
     "text": [
      "60016332591ZSH transformation finished\n"
     ]
    },
    {
     "name": "stderr",
     "output_type": "stream",
     "text": [
      "WARNING: In /tmp/SimpleITK-build/ITK-prefix/include/ITK-5.3/itkImageSeriesReader.hxx, line 478\n",
      "ImageSeriesReader (0x105cb5830): Non uniform sampling or missing slices detected,  maximum nonuniformity:0.000311025\n",
      "\n"
     ]
    },
    {
     "name": "stdout",
     "output_type": "stream",
     "text": [
      "60016332591ZSH transformation finished\n"
     ]
    },
    {
     "name": "stderr",
     "output_type": "stream",
     "text": [
      "WARNING: In /tmp/SimpleITK-build/ITK-prefix/include/ITK-5.3/itkImageSeriesReader.hxx, line 478\n",
      "ImageSeriesReader (0x105cb5830): Non uniform sampling or missing slices detected,  maximum nonuniformity:183.047\n",
      "\n"
     ]
    },
    {
     "name": "stdout",
     "output_type": "stream",
     "text": [
      "60016332591ZSH transformation finished\n"
     ]
    },
    {
     "name": "stderr",
     "output_type": "stream",
     "text": [
      "WARNING: In /tmp/SimpleITK-build/ITK-prefix/include/ITK-5.3/itkImageSeriesReader.hxx, line 478\n",
      "ImageSeriesReader (0x105cf7670): Non uniform sampling or missing slices detected,  maximum nonuniformity:0.000217867\n",
      "\n"
     ]
    },
    {
     "name": "stdout",
     "output_type": "stream",
     "text": [
      "60016332591ZSH transformation finished\n",
      "Skipped processing folder /Volumes/MR_analysis/MRCP_DICOM/60016332591ZSH/SE41 due to insufficient DICOM files (<5).\n",
      "60016332591ZSH transformation finished\n"
     ]
    },
    {
     "name": "stderr",
     "output_type": "stream",
     "text": [
      "WARNING: In /tmp/SimpleITK-build/ITK-prefix/include/ITK-5.3/itkImageSeriesReader.hxx, line 478\n",
      "ImageSeriesReader (0x105cb5830): Non uniform sampling or missing slices detected,  maximum nonuniformity:280.558\n",
      "\n",
      "WARNING: In /tmp/SimpleITK-build/ITK-prefix/include/ITK-5.3/itkImageSeriesReader.hxx, line 478\n",
      "ImageSeriesReader (0x105cc2bd0): Non uniform sampling or missing slices detected,  maximum nonuniformity:328.16\n",
      "\n"
     ]
    },
    {
     "name": "stdout",
     "output_type": "stream",
     "text": [
      "60016332591ZSH transformation finished\n",
      "60016332591ZSH transformation finished\n",
      "60016332591ZSH transformation finished\n",
      "Skipped processing folder /Volumes/MR_analysis/MRCP_DICOM/60016332591ZSH/SE26 due to insufficient DICOM files (<5).\n"
     ]
    },
    {
     "name": "stderr",
     "output_type": "stream",
     "text": [
      "WARNING: In /tmp/SimpleITK-build/ITK-prefix/include/ITK-5.3/itkImageSeriesReader.hxx, line 478\n",
      "ImageSeriesReader (0x105ff1bb0): Non uniform sampling or missing slices detected,  maximum nonuniformity:0.000264279\n",
      "\n"
     ]
    },
    {
     "name": "stdout",
     "output_type": "stream",
     "text": [
      "60016332591ZSH transformation finished\n",
      "60016332591ZSH transformation finished\n"
     ]
    },
    {
     "name": "stderr",
     "output_type": "stream",
     "text": [
      "WARNING: In /tmp/SimpleITK-build/ITK-prefix/include/ITK-5.3/itkImageSeriesReader.hxx, line 478\n",
      "ImageSeriesReader (0x105cc2bd0): Non uniform sampling or missing slices detected,  maximum nonuniformity:276.567\n",
      "\n",
      "WARNING: In /tmp/SimpleITK-build/ITK-prefix/include/ITK-5.3/itkImageSeriesReader.hxx, line 478\n",
      "ImageSeriesReader (0x105cc2bd0): Non uniform sampling or missing slices detected,  maximum nonuniformity:328.16\n",
      "\n"
     ]
    },
    {
     "name": "stdout",
     "output_type": "stream",
     "text": [
      "60016332591ZSH transformation finished\n",
      "60016332591ZSH transformation finished\n",
      "60016332591ZSH transformation finished\n",
      "60016332591ZSH transformation finished\n",
      "60016332591ZSH transformation finished\n",
      "60016332591ZSH transformation finished\n"
     ]
    },
    {
     "name": "stderr",
     "output_type": "stream",
     "text": [
      "WARNING: In /tmp/SimpleITK-build/ITK-prefix/include/ITK-5.3/itkImageSeriesReader.hxx, line 478\n",
      "ImageSeriesReader (0x105ce2a90): Non uniform sampling or missing slices detected,  maximum nonuniformity:337.371\n",
      "\n"
     ]
    },
    {
     "name": "stdout",
     "output_type": "stream",
     "text": [
      "60016466622ZYM transformation finished\n"
     ]
    },
    {
     "name": "stderr",
     "output_type": "stream",
     "text": [
      "WARNING: In /tmp/SimpleITK-build/ITK-prefix/include/ITK-5.3/itkImageSeriesReader.hxx, line 478\n",
      "ImageSeriesReader (0x105ce2a90): Non uniform sampling or missing slices detected,  maximum nonuniformity:543.784\n",
      "\n"
     ]
    },
    {
     "name": "stdout",
     "output_type": "stream",
     "text": [
      "60016466622ZYM transformation finished\n"
     ]
    },
    {
     "name": "stderr",
     "output_type": "stream",
     "text": [
      "WARNING: In /tmp/SimpleITK-build/ITK-prefix/include/ITK-5.3/itkImageSeriesReader.hxx, line 478\n",
      "ImageSeriesReader (0x137ea6c10): Non uniform sampling or missing slices detected,  maximum nonuniformity:173.279\n",
      "\n"
     ]
    },
    {
     "name": "stdout",
     "output_type": "stream",
     "text": [
      "60016466622ZYM transformation finished\n",
      "60016466622ZYM transformation finished\n",
      "60016466622ZYM transformation finished\n",
      "60016466622ZYM transformation finished\n",
      "Skipped processing folder /Volumes/MR_analysis/MRCP_DICOM/60016466622ZYM/SE6 due to insufficient DICOM files (<5).\n"
     ]
    },
    {
     "name": "stderr",
     "output_type": "stream",
     "text": [
      "WARNING: In /tmp/SimpleITK-build/ITK-prefix/include/ITK-5.3/itkImageSeriesReader.hxx, line 478\n",
      "ImageSeriesReader (0x105cc2bd0): Non uniform sampling or missing slices detected,  maximum nonuniformity:0.000771335\n",
      "\n"
     ]
    },
    {
     "name": "stdout",
     "output_type": "stream",
     "text": [
      "60016466622ZYM transformation finished\n",
      "60016466622ZYM transformation finished\n"
     ]
    },
    {
     "name": "stderr",
     "output_type": "stream",
     "text": [
      "WARNING: In /tmp/SimpleITK-build/ITK-prefix/include/ITK-5.3/itkImageSeriesReader.hxx, line 478\n",
      "ImageSeriesReader (0x105cb5830): Non uniform sampling or missing slices detected,  maximum nonuniformity:328.16\n",
      "\n",
      "WARNING: In /tmp/SimpleITK-build/ITK-prefix/include/ITK-5.3/itkImageSeriesReader.hxx, line 478\n",
      "ImageSeriesReader (0x105cefe40): Non uniform sampling or missing slices detected,  maximum nonuniformity:328.16\n",
      "\n"
     ]
    },
    {
     "name": "stdout",
     "output_type": "stream",
     "text": [
      "60016466622ZYM transformation finished\n",
      "Skipped processing folder /Volumes/MR_analysis/MRCP_DICOM/60016466622ZYM/SE10 due to insufficient DICOM files (<5).\n"
     ]
    },
    {
     "name": "stderr",
     "output_type": "stream",
     "text": [
      "WARNING: In /tmp/SimpleITK-build/ITK-prefix/include/ITK-5.3/itkImageSeriesReader.hxx, line 478\n",
      "ImageSeriesReader (0x105ce2a90): Non uniform sampling or missing slices detected,  maximum nonuniformity:0.000458514\n",
      "\n"
     ]
    },
    {
     "name": "stdout",
     "output_type": "stream",
     "text": [
      "60016466622ZYM transformation finished\n",
      "60016466622ZYM transformation finished\n"
     ]
    },
    {
     "name": "stderr",
     "output_type": "stream",
     "text": [
      "WARNING: In /tmp/SimpleITK-build/ITK-prefix/include/ITK-5.3/itkImageSeriesReader.hxx, line 478\n",
      "ImageSeriesReader (0x105ce2a90): Non uniform sampling or missing slices detected,  maximum nonuniformity:280.558\n",
      "\n",
      "WARNING: In /tmp/SimpleITK-build/ITK-prefix/include/ITK-5.3/itkImageSeriesReader.hxx, line 478\n",
      "ImageSeriesReader (0x105cc2bd0): Non uniform sampling or missing slices detected,  maximum nonuniformity:328.153\n",
      "\n"
     ]
    },
    {
     "name": "stdout",
     "output_type": "stream",
     "text": [
      "60016466622ZYM transformation finished\n",
      "60016466622ZYM transformation finished\n",
      "60016466622ZYM transformation finished\n",
      "60016466622ZYM transformation finished\n",
      "60016466622ZYM transformation finished\n",
      "60016466622ZYM transformation finished\n",
      "60016466622ZYM transformation finished\n",
      "60016466622ZYM transformation finished\n",
      "60016466622ZYM transformation finished\n",
      "60016466622ZYM transformation finished\n",
      "60016466622ZYM transformation finished\n",
      "60016466622ZYM transformation finished\n",
      "60016466622ZYM transformation finished\n",
      "60016466622ZYM transformation finished\n",
      "60016466622ZYM transformation finished\n",
      "60016466622ZYM transformation finished\n",
      "60016466622ZYM transformation finished\n",
      "60016466622ZYM transformation finished\n",
      "60016466622ZYM transformation finished\n",
      "60016466622ZYM transformation finished\n",
      "60016466622ZYM transformation finished\n",
      "60016466622ZYM transformation finished\n",
      "60016466622ZYM transformation finished\n",
      "60016466622ZYM transformation finished\n",
      "60016466622ZYM transformation finished\n",
      "60016466622ZYM transformation finished\n",
      "60016466622ZYM transformation finished\n"
     ]
    },
    {
     "name": "stderr",
     "output_type": "stream",
     "text": [
      "WARNING: In /tmp/SimpleITK-build/ITK-prefix/include/ITK-5.3/itkImageSeriesReader.hxx, line 478\n",
      "ImageSeriesReader (0x10239ccb0): Non uniform sampling or missing slices detected,  maximum nonuniformity:173.279\n",
      "\n"
     ]
    },
    {
     "name": "stdout",
     "output_type": "stream",
     "text": [
      "60016466622ZYM transformation finished\n",
      "Skipped processing folder /Volumes/MR_analysis/MRCP_DICOM/60016466622ZYM/SE1 due to insufficient DICOM files (<5).\n"
     ]
    },
    {
     "name": "stderr",
     "output_type": "stream",
     "text": [
      "WARNING: In /tmp/SimpleITK-build/ITK-prefix/include/ITK-5.3/itkImageSeriesReader.hxx, line 478\n",
      "ImageSeriesReader (0x1023979a0): Non uniform sampling or missing slices detected,  maximum nonuniformity:0.000771335\n",
      "\n"
     ]
    },
    {
     "name": "stdout",
     "output_type": "stream",
     "text": [
      "60016466622ZYM transformation finished\n",
      "60016466622ZYM transformation finished\n"
     ]
    },
    {
     "name": "stderr",
     "output_type": "stream",
     "text": [
      "WARNING: In /tmp/SimpleITK-build/ITK-prefix/include/ITK-5.3/itkImageSeriesReader.hxx, line 478\n",
      "ImageSeriesReader (0x102388590): Non uniform sampling or missing slices detected,  maximum nonuniformity:328.16\n",
      "\n",
      "WARNING: In /tmp/SimpleITK-build/ITK-prefix/include/ITK-5.3/itkImageSeriesReader.hxx, line 478\n",
      "ImageSeriesReader (0x102388590): Non uniform sampling or missing slices detected,  maximum nonuniformity:328.16\n",
      "\n"
     ]
    },
    {
     "name": "stdout",
     "output_type": "stream",
     "text": [
      "60016466622ZYM transformation finished\n",
      "60016466622ZYM transformation finished\n",
      "60016466622ZYM transformation finished\n"
     ]
    },
    {
     "name": "stderr",
     "output_type": "stream",
     "text": [
      "WARNING: In /tmp/SimpleITK-build/ITK-prefix/include/ITK-5.3/itkImageSeriesReader.hxx, line 478\n",
      "ImageSeriesReader (0x105cc2bd0): Non uniform sampling or missing slices detected,  maximum nonuniformity:0.000458514\n",
      "\n"
     ]
    },
    {
     "name": "stdout",
     "output_type": "stream",
     "text": [
      "60016466622ZYM transformation finished\n",
      "Skipped processing folder /Volumes/MR_analysis/MRCP_DICOM/60016466622ZYM/SE46 due to insufficient DICOM files (<5).\n",
      "60016466622ZYM transformation finished\n"
     ]
    },
    {
     "name": "stderr",
     "output_type": "stream",
     "text": [
      "WARNING: In /tmp/SimpleITK-build/ITK-prefix/include/ITK-5.3/itkImageSeriesReader.hxx, line 478\n",
      "ImageSeriesReader (0x105cb5830): Non uniform sampling or missing slices detected,  maximum nonuniformity:328.153\n",
      "\n",
      "WARNING: In /tmp/SimpleITK-build/ITK-prefix/include/ITK-5.3/itkImageSeriesReader.hxx, line 478\n",
      "ImageSeriesReader (0x105cc2bd0): Non uniform sampling or missing slices detected,  maximum nonuniformity:328.153\n",
      "\n"
     ]
    },
    {
     "name": "stdout",
     "output_type": "stream",
     "text": [
      "60016466622ZYM transformation finished\n",
      "60016466622ZYM transformation finished\n",
      "60016466622ZYM transformation finished\n",
      "60016466622ZYM transformation finished\n",
      "60016466622ZYM transformation finished\n",
      "60016466622ZYM transformation finished\n",
      "60016466622ZYM transformation finished\n",
      "60016466622ZYM transformation finished\n",
      "60016466622ZYM transformation finished\n",
      "60016466622ZYM transformation finished\n",
      "60016466622ZYM transformation finished\n"
     ]
    },
    {
     "name": "stderr",
     "output_type": "stream",
     "text": [
      "WARNING: In /tmp/SimpleITK-build/ITK-prefix/include/ITK-5.3/itkImageSeriesReader.hxx, line 478\n",
      "ImageSeriesReader (0x102388590): Non uniform sampling or missing slices detected,  maximum nonuniformity:337.371\n",
      "\n"
     ]
    },
    {
     "name": "stdout",
     "output_type": "stream",
     "text": [
      "60016488911HYL transformation finished\n"
     ]
    },
    {
     "name": "stderr",
     "output_type": "stream",
     "text": [
      "WARNING: In /tmp/SimpleITK-build/ITK-prefix/include/ITK-5.3/itkImageSeriesReader.hxx, line 478\n",
      "ImageSeriesReader (0x1023979a0): Non uniform sampling or missing slices detected,  maximum nonuniformity:543.784\n",
      "\n"
     ]
    },
    {
     "name": "stdout",
     "output_type": "stream",
     "text": [
      "60016488911HYL transformation finished\n"
     ]
    },
    {
     "name": "stderr",
     "output_type": "stream",
     "text": [
      "WARNING: In /tmp/SimpleITK-build/ITK-prefix/include/ITK-5.3/itkImageSeriesReader.hxx, line 478\n",
      "ImageSeriesReader (0x10239f2a0): Non uniform sampling or missing slices detected,  maximum nonuniformity:218.273\n",
      "\n"
     ]
    },
    {
     "name": "stdout",
     "output_type": "stream",
     "text": [
      "60016488911HYL transformation finished\n",
      "60016488911HYL transformation finished\n",
      "60016488911HYL transformation finished\n",
      "60016488911HYL transformation finished\n"
     ]
    },
    {
     "name": "stderr",
     "output_type": "stream",
     "text": [
      "WARNING: In /tmp/SimpleITK-build/ITK-prefix/include/ITK-5.3/itkImageSeriesReader.hxx, line 478\n",
      "ImageSeriesReader (0x10239b8e0): Non uniform sampling or missing slices detected,  maximum nonuniformity:0.000153144\n",
      "\n"
     ]
    },
    {
     "name": "stdout",
     "output_type": "stream",
     "text": [
      "60016488911HYL transformation finished\n",
      "Skipped processing folder /Volumes/MR_analysis/MRCP_DICOM/60016488911HYL/SE34 due to insufficient DICOM files (<5).\n",
      "60016488911HYL transformation finished\n"
     ]
    },
    {
     "name": "stderr",
     "output_type": "stream",
     "text": [
      "WARNING: In /tmp/SimpleITK-build/ITK-prefix/include/ITK-5.3/itkImageSeriesReader.hxx, line 478\n",
      "ImageSeriesReader (0x102388590): Non uniform sampling or missing slices detected,  maximum nonuniformity:328.153\n",
      "\n",
      "WARNING: In /tmp/SimpleITK-build/ITK-prefix/include/ITK-5.3/itkImageSeriesReader.hxx, line 478\n",
      "ImageSeriesReader (0x102388590): Non uniform sampling or missing slices detected,  maximum nonuniformity:328.153\n",
      "\n"
     ]
    },
    {
     "name": "stdout",
     "output_type": "stream",
     "text": [
      "60016488911HYL transformation finished\n",
      "60016488911HYL transformation finished\n",
      "Skipped processing folder /Volumes/MR_analysis/MRCP_DICOM/60016488911HYL/SE28 due to insufficient DICOM files (<5).\n",
      "60016488911HYL transformation finished\n"
     ]
    },
    {
     "name": "stderr",
     "output_type": "stream",
     "text": [
      "WARNING: In /tmp/SimpleITK-build/ITK-prefix/include/ITK-5.3/itkImageSeriesReader.hxx, line 478\n",
      "ImageSeriesReader (0x10239ccb0): Non uniform sampling or missing slices detected,  maximum nonuniformity:276.567\n",
      "\n",
      "WARNING: In /tmp/SimpleITK-build/ITK-prefix/include/ITK-5.3/itkImageSeriesReader.hxx, line 478\n",
      "ImageSeriesReader (0x10239ccb0): Non uniform sampling or missing slices detected,  maximum nonuniformity:323.233\n",
      "\n"
     ]
    },
    {
     "name": "stdout",
     "output_type": "stream",
     "text": [
      "60016488911HYL transformation finished\n",
      "60016488911HYL transformation finished\n"
     ]
    },
    {
     "name": "stderr",
     "output_type": "stream",
     "text": [
      "WARNING: In /tmp/SimpleITK-build/ITK-prefix/include/ITK-5.3/itkImageSeriesReader.hxx, line 478\n",
      "ImageSeriesReader (0x1023979a0): Non uniform sampling or missing slices detected,  maximum nonuniformity:0.000942955\n",
      "\n"
     ]
    },
    {
     "name": "stdout",
     "output_type": "stream",
     "text": [
      "60016488911HYL transformation finished\n"
     ]
    },
    {
     "name": "stderr",
     "output_type": "stream",
     "text": [
      "WARNING: In /tmp/SimpleITK-build/ITK-prefix/include/ITK-5.3/itkImageSeriesReader.hxx, line 478\n",
      "ImageSeriesReader (0x105cf7670): Non uniform sampling or missing slices detected,  maximum nonuniformity:0.000942955\n",
      "\n"
     ]
    },
    {
     "name": "stdout",
     "output_type": "stream",
     "text": [
      "60016488911HYL transformation finished\n"
     ]
    },
    {
     "name": "stderr",
     "output_type": "stream",
     "text": [
      "WARNING: In /tmp/SimpleITK-build/ITK-prefix/include/ITK-5.3/itkImageSeriesReader.hxx, line 478\n",
      "ImageSeriesReader (0x105ce2a90): Non uniform sampling or missing slices detected,  maximum nonuniformity:0.000942955\n",
      "\n"
     ]
    },
    {
     "name": "stdout",
     "output_type": "stream",
     "text": [
      "60016488911HYL transformation finished\n",
      "60016488911HYL transformation finished\n"
     ]
    },
    {
     "name": "stderr",
     "output_type": "stream",
     "text": [
      "WARNING: In /tmp/SimpleITK-build/ITK-prefix/include/ITK-5.3/itkImageSeriesReader.hxx, line 478\n",
      "ImageSeriesReader (0x105ce2a90): Non uniform sampling or missing slices detected,  maximum nonuniformity:0.000942955\n",
      "\n"
     ]
    },
    {
     "name": "stdout",
     "output_type": "stream",
     "text": [
      "60016488911HYL transformation finished\n"
     ]
    },
    {
     "name": "stderr",
     "output_type": "stream",
     "text": [
      "WARNING: In /tmp/SimpleITK-build/ITK-prefix/include/ITK-5.3/itkImageSeriesReader.hxx, line 478\n",
      "ImageSeriesReader (0x105cd92d0): Non uniform sampling or missing slices detected,  maximum nonuniformity:0.000942955\n",
      "\n"
     ]
    },
    {
     "name": "stdout",
     "output_type": "stream",
     "text": [
      "60016488911HYL transformation finished\n"
     ]
    },
    {
     "name": "stderr",
     "output_type": "stream",
     "text": [
      "WARNING: In /tmp/SimpleITK-build/ITK-prefix/include/ITK-5.3/itkImageSeriesReader.hxx, line 478\n",
      "ImageSeriesReader (0x105cb5830): Non uniform sampling or missing slices detected,  maximum nonuniformity:0.000942955\n",
      "\n"
     ]
    },
    {
     "name": "stdout",
     "output_type": "stream",
     "text": [
      "60016488911HYL transformation finished\n"
     ]
    },
    {
     "name": "stderr",
     "output_type": "stream",
     "text": [
      "WARNING: In /tmp/SimpleITK-build/ITK-prefix/include/ITK-5.3/itkImageSeriesReader.hxx, line 478\n",
      "ImageSeriesReader (0x105cf7670): Non uniform sampling or missing slices detected,  maximum nonuniformity:0.000942955\n",
      "\n"
     ]
    },
    {
     "name": "stdout",
     "output_type": "stream",
     "text": [
      "60016488911HYL transformation finished\n",
      "60016488911HYL transformation finished\n"
     ]
    },
    {
     "name": "stderr",
     "output_type": "stream",
     "text": [
      "WARNING: In /tmp/SimpleITK-build/ITK-prefix/include/ITK-5.3/itkImageSeriesReader.hxx, line 478\n",
      "ImageSeriesReader (0x105cb5830): Non uniform sampling or missing slices detected,  maximum nonuniformity:0.000942955\n",
      "\n"
     ]
    },
    {
     "name": "stdout",
     "output_type": "stream",
     "text": [
      "60016488911HYL transformation finished\n"
     ]
    },
    {
     "name": "stderr",
     "output_type": "stream",
     "text": [
      "WARNING: In /tmp/SimpleITK-build/ITK-prefix/include/ITK-5.3/itkImageSeriesReader.hxx, line 478\n",
      "ImageSeriesReader (0x102388590): Non uniform sampling or missing slices detected,  maximum nonuniformity:0.000942955\n",
      "\n"
     ]
    },
    {
     "name": "stdout",
     "output_type": "stream",
     "text": [
      "60016488911HYL transformation finished\n"
     ]
    },
    {
     "name": "stderr",
     "output_type": "stream",
     "text": [
      "WARNING: In /tmp/SimpleITK-build/ITK-prefix/include/ITK-5.3/itkImageSeriesReader.hxx, line 478\n",
      "ImageSeriesReader (0x1023979a0): Non uniform sampling or missing slices detected,  maximum nonuniformity:0.000942955\n",
      "\n"
     ]
    },
    {
     "name": "stdout",
     "output_type": "stream",
     "text": [
      "60016488911HYL transformation finished\n"
     ]
    },
    {
     "name": "stderr",
     "output_type": "stream",
     "text": [
      "WARNING: In /tmp/SimpleITK-build/ITK-prefix/include/ITK-5.3/itkImageSeriesReader.hxx, line 478\n",
      "ImageSeriesReader (0x102388590): Non uniform sampling or missing slices detected,  maximum nonuniformity:0.000942955\n",
      "\n"
     ]
    },
    {
     "name": "stdout",
     "output_type": "stream",
     "text": [
      "60016488911HYL transformation finished\n"
     ]
    },
    {
     "name": "stderr",
     "output_type": "stream",
     "text": [
      "WARNING: In /tmp/SimpleITK-build/ITK-prefix/include/ITK-5.3/itkImageSeriesReader.hxx, line 478\n",
      "ImageSeriesReader (0x10239b8e0): Non uniform sampling or missing slices detected,  maximum nonuniformity:0.000942955\n",
      "\n"
     ]
    },
    {
     "name": "stdout",
     "output_type": "stream",
     "text": [
      "60016488911HYL transformation finished\n",
      "60016488911HYL transformation finished\n"
     ]
    },
    {
     "name": "stderr",
     "output_type": "stream",
     "text": [
      "WARNING: In /tmp/SimpleITK-build/ITK-prefix/include/ITK-5.3/itkImageSeriesReader.hxx, line 478\n",
      "ImageSeriesReader (0x10239bee0): Non uniform sampling or missing slices detected,  maximum nonuniformity:0.000942955\n",
      "\n"
     ]
    },
    {
     "name": "stdout",
     "output_type": "stream",
     "text": [
      "60016488911HYL transformation finished\n",
      "60016488911HYL transformation finished\n"
     ]
    },
    {
     "name": "stderr",
     "output_type": "stream",
     "text": [
      "WARNING: In /tmp/SimpleITK-build/ITK-prefix/include/ITK-5.3/itkImageSeriesReader.hxx, line 478\n",
      "ImageSeriesReader (0x105ce2a90): Non uniform sampling or missing slices detected,  maximum nonuniformity:0.000942955\n",
      "\n"
     ]
    },
    {
     "name": "stdout",
     "output_type": "stream",
     "text": [
      "60016488911HYL transformation finished\n"
     ]
    },
    {
     "name": "stderr",
     "output_type": "stream",
     "text": [
      "WARNING: In /tmp/SimpleITK-build/ITK-prefix/include/ITK-5.3/itkImageSeriesReader.hxx, line 478\n",
      "ImageSeriesReader (0x105ce2a90): Non uniform sampling or missing slices detected,  maximum nonuniformity:0.000942955\n",
      "\n"
     ]
    },
    {
     "name": "stdout",
     "output_type": "stream",
     "text": [
      "60016488911HYL transformation finished\n"
     ]
    },
    {
     "name": "stderr",
     "output_type": "stream",
     "text": [
      "WARNING: In /tmp/SimpleITK-build/ITK-prefix/include/ITK-5.3/itkImageSeriesReader.hxx, line 478\n",
      "ImageSeriesReader (0x105cf7670): Non uniform sampling or missing slices detected,  maximum nonuniformity:0.000942955\n",
      "\n"
     ]
    },
    {
     "name": "stdout",
     "output_type": "stream",
     "text": [
      "60016488911HYL transformation finished\n",
      "60016488911HYL transformation finished\n",
      "60016488911HYL transformation finished\n",
      "60016488911HYL transformation finished\n",
      "60016488911HYL transformation finished\n",
      "60016488911HYL transformation finished\n"
     ]
    },
    {
     "name": "stderr",
     "output_type": "stream",
     "text": [
      "WARNING: In /tmp/SimpleITK-build/ITK-prefix/include/ITK-5.3/itkImageSeriesReader.hxx, line 478\n",
      "ImageSeriesReader (0x105cc2bd0): Non uniform sampling or missing slices detected,  maximum nonuniformity:218.273\n",
      "\n"
     ]
    },
    {
     "name": "stdout",
     "output_type": "stream",
     "text": [
      "60016488911HYL transformation finished\n"
     ]
    },
    {
     "name": "stderr",
     "output_type": "stream",
     "text": [
      "WARNING: In /tmp/SimpleITK-build/ITK-prefix/include/ITK-5.3/itkImageSeriesReader.hxx, line 478\n",
      "ImageSeriesReader (0x1023a2a60): Non uniform sampling or missing slices detected,  maximum nonuniformity:0.000153144\n",
      "\n"
     ]
    },
    {
     "name": "stdout",
     "output_type": "stream",
     "text": [
      "60016488911HYL transformation finished\n",
      "Skipped processing folder /Volumes/MR_analysis/MRCP_DICOM/60016488911HYL/SE18 due to insufficient DICOM files (<5).\n",
      "60016488911HYL transformation finished\n"
     ]
    },
    {
     "name": "stderr",
     "output_type": "stream",
     "text": [
      "WARNING: In /tmp/SimpleITK-build/ITK-prefix/include/ITK-5.3/itkImageSeriesReader.hxx, line 478\n",
      "ImageSeriesReader (0x1023979a0): Non uniform sampling or missing slices detected,  maximum nonuniformity:328.153\n",
      "\n",
      "WARNING: In /tmp/SimpleITK-build/ITK-prefix/include/ITK-5.3/itkImageSeriesReader.hxx, line 478\n",
      "ImageSeriesReader (0x102388590): Non uniform sampling or missing slices detected,  maximum nonuniformity:328.153\n",
      "\n"
     ]
    },
    {
     "name": "stdout",
     "output_type": "stream",
     "text": [
      "60016488911HYL transformation finished\n",
      "60016488911HYL transformation finished\n",
      "60016488911HYL transformation finished\n",
      "Skipped processing folder /Volumes/MR_analysis/MRCP_DICOM/60016488911HYL/SE3 due to insufficient DICOM files (<5).\n",
      "Skipped processing folder /Volumes/MR_analysis/MRCP_DICOM/60016488911HYL/SE24 due to insufficient DICOM files (<5).\n",
      "60016488911HYL transformation finished\n",
      "60016488911HYL transformation finished\n"
     ]
    },
    {
     "name": "stderr",
     "output_type": "stream",
     "text": [
      "WARNING: In /tmp/SimpleITK-build/ITK-prefix/include/ITK-5.3/itkImageSeriesReader.hxx, line 478\n",
      "ImageSeriesReader (0x1023979a0): Non uniform sampling or missing slices detected,  maximum nonuniformity:276.567\n",
      "\n",
      "WARNING: In /tmp/SimpleITK-build/ITK-prefix/include/ITK-5.3/itkImageSeriesReader.hxx, line 478\n",
      "ImageSeriesReader (0x1023979a0): Non uniform sampling or missing slices detected,  maximum nonuniformity:323.233\n",
      "\n"
     ]
    },
    {
     "name": "stdout",
     "output_type": "stream",
     "text": [
      "60016488911HYL transformation finished\n"
     ]
    },
    {
     "name": "stderr",
     "output_type": "stream",
     "text": [
      "WARNING: In /tmp/SimpleITK-build/ITK-prefix/include/ITK-5.3/itkImageSeriesReader.hxx, line 478\n",
      "ImageSeriesReader (0x1023979a0): Non uniform sampling or missing slices detected,  maximum nonuniformity:0.000942955\n",
      "\n"
     ]
    },
    {
     "name": "stdout",
     "output_type": "stream",
     "text": [
      "60016488911HYL transformation finished\n"
     ]
    },
    {
     "name": "stderr",
     "output_type": "stream",
     "text": [
      "WARNING: In /tmp/SimpleITK-build/ITK-prefix/include/ITK-5.3/itkImageSeriesReader.hxx, line 478\n",
      "ImageSeriesReader (0x10239bee0): Non uniform sampling or missing slices detected,  maximum nonuniformity:0.000942955\n",
      "\n"
     ]
    },
    {
     "name": "stdout",
     "output_type": "stream",
     "text": [
      "60016488911HYL transformation finished\n"
     ]
    },
    {
     "name": "stderr",
     "output_type": "stream",
     "text": [
      "WARNING: In /tmp/SimpleITK-build/ITK-prefix/include/ITK-5.3/itkImageSeriesReader.hxx, line 478\n",
      "ImageSeriesReader (0x10239ccb0): Non uniform sampling or missing slices detected,  maximum nonuniformity:0.000942955\n",
      "\n"
     ]
    },
    {
     "name": "stdout",
     "output_type": "stream",
     "text": [
      "60016488911HYL transformation finished\n"
     ]
    },
    {
     "name": "stderr",
     "output_type": "stream",
     "text": [
      "WARNING: In /tmp/SimpleITK-build/ITK-prefix/include/ITK-5.3/itkImageSeriesReader.hxx, line 478\n",
      "ImageSeriesReader (0x10239f2a0): Non uniform sampling or missing slices detected,  maximum nonuniformity:0.000942955\n",
      "\n"
     ]
    },
    {
     "name": "stdout",
     "output_type": "stream",
     "text": [
      "60016488911HYL transformation finished\n",
      "60016488911HYL transformation finished\n"
     ]
    },
    {
     "name": "stderr",
     "output_type": "stream",
     "text": [
      "WARNING: In /tmp/SimpleITK-build/ITK-prefix/include/ITK-5.3/itkImageSeriesReader.hxx, line 478\n",
      "ImageSeriesReader (0x10239ccb0): Non uniform sampling or missing slices detected,  maximum nonuniformity:337.371\n",
      "\n"
     ]
    },
    {
     "name": "stdout",
     "output_type": "stream",
     "text": [
      "60016498568ZCR transformation finished\n"
     ]
    },
    {
     "name": "stderr",
     "output_type": "stream",
     "text": [
      "WARNING: In /tmp/SimpleITK-build/ITK-prefix/include/ITK-5.3/itkImageSeriesReader.hxx, line 478\n",
      "ImageSeriesReader (0x105cf15c0): Non uniform sampling or missing slices detected,  maximum nonuniformity:543.784\n",
      "\n"
     ]
    },
    {
     "name": "stdout",
     "output_type": "stream",
     "text": [
      "60016498568ZCR transformation finished\n"
     ]
    },
    {
     "name": "stderr",
     "output_type": "stream",
     "text": [
      "WARNING: In /tmp/SimpleITK-build/ITK-prefix/include/ITK-5.3/itkImageSeriesReader.hxx, line 478\n",
      "ImageSeriesReader (0x105cf7670): Non uniform sampling or missing slices detected,  maximum nonuniformity:183.047\n",
      "\n"
     ]
    },
    {
     "name": "stdout",
     "output_type": "stream",
     "text": [
      "60016498568ZCR transformation finished\n",
      "60016498568ZCR transformation finished\n",
      "60016498568ZCR transformation finished\n"
     ]
    },
    {
     "name": "stderr",
     "output_type": "stream",
     "text": [
      "WARNING: In /tmp/SimpleITK-build/ITK-prefix/include/ITK-5.3/itkImageSeriesReader.hxx, line 478\n",
      "ImageSeriesReader (0x105cbc5e0): Non uniform sampling or missing slices detected,  maximum nonuniformity:0.000936036\n",
      "\n",
      "WARNING: In /tmp/SimpleITK-build/ITK-prefix/include/ITK-5.3/itkImageSeriesReader.hxx, line 478\n",
      "ImageSeriesReader (0x105cfd040): Non uniform sampling or missing slices detected,  maximum nonuniformity:0.000936036\n",
      "\n"
     ]
    },
    {
     "name": "stdout",
     "output_type": "stream",
     "text": [
      "60016498568ZCR transformation finished\n"
     ]
    },
    {
     "name": "stderr",
     "output_type": "stream",
     "text": [
      "WARNING: In /tmp/SimpleITK-build/ITK-prefix/include/ITK-5.3/itkImageSeriesReader.hxx, line 478\n",
      "ImageSeriesReader (0x105cf7670): Non uniform sampling or missing slices detected,  maximum nonuniformity:0.000194567\n",
      "\n"
     ]
    },
    {
     "name": "stdout",
     "output_type": "stream",
     "text": [
      "60016498568ZCR transformation finished\n",
      "Skipped processing folder /Volumes/MR_analysis/MRCP_DICOM/60016498568ZCR/SE34 due to insufficient DICOM files (<5).\n",
      "60016498568ZCR transformation finished\n"
     ]
    },
    {
     "name": "stderr",
     "output_type": "stream",
     "text": [
      "WARNING: In /tmp/SimpleITK-build/ITK-prefix/include/ITK-5.3/itkImageSeriesReader.hxx, line 478\n",
      "ImageSeriesReader (0x105cc2bd0): Non uniform sampling or missing slices detected,  maximum nonuniformity:328.153\n",
      "\n",
      "WARNING: In /tmp/SimpleITK-build/ITK-prefix/include/ITK-5.3/itkImageSeriesReader.hxx, line 478\n",
      "ImageSeriesReader (0x105cb5830): Non uniform sampling or missing slices detected,  maximum nonuniformity:328.153\n",
      "\n"
     ]
    },
    {
     "name": "stdout",
     "output_type": "stream",
     "text": [
      "60016498568ZCR transformation finished\n",
      "Skipped processing folder /Volumes/MR_analysis/MRCP_DICOM/60016498568ZCR/SE11 due to insufficient DICOM files (<5).\n",
      "60016498568ZCR transformation finished\n",
      "60016498568ZCR transformation finished\n"
     ]
    },
    {
     "name": "stderr",
     "output_type": "stream",
     "text": [
      "WARNING: In /tmp/SimpleITK-build/ITK-prefix/include/ITK-5.3/itkImageSeriesReader.hxx, line 478\n",
      "ImageSeriesReader (0x1023979a0): Non uniform sampling or missing slices detected,  maximum nonuniformity:276.567\n",
      "\n",
      "WARNING: In /tmp/SimpleITK-build/ITK-prefix/include/ITK-5.3/itkImageSeriesReader.hxx, line 478\n",
      "ImageSeriesReader (0x105ff1bb0): Non uniform sampling or missing slices detected,  maximum nonuniformity:328.16\n",
      "\n"
     ]
    },
    {
     "name": "stdout",
     "output_type": "stream",
     "text": [
      "60016498568ZCR transformation finished\n",
      "60016498568ZCR transformation finished\n"
     ]
    },
    {
     "name": "stderr",
     "output_type": "stream",
     "text": [
      "WARNING: In /tmp/SimpleITK-build/ITK-prefix/include/ITK-5.3/itkImageSeriesReader.hxx, line 478\n",
      "ImageSeriesReader (0x102388590): Non uniform sampling or missing slices detected,  maximum nonuniformity:0.000951914\n",
      "\n"
     ]
    },
    {
     "name": "stdout",
     "output_type": "stream",
     "text": [
      "60016498568ZCR transformation finished\n"
     ]
    },
    {
     "name": "stderr",
     "output_type": "stream",
     "text": [
      "WARNING: In /tmp/SimpleITK-build/ITK-prefix/include/ITK-5.3/itkImageSeriesReader.hxx, line 478\n",
      "ImageSeriesReader (0x105cf7670): Non uniform sampling or missing slices detected,  maximum nonuniformity:0.000951914\n",
      "\n"
     ]
    },
    {
     "name": "stdout",
     "output_type": "stream",
     "text": [
      "60016498568ZCR transformation finished\n"
     ]
    },
    {
     "name": "stderr",
     "output_type": "stream",
     "text": [
      "WARNING: In /tmp/SimpleITK-build/ITK-prefix/include/ITK-5.3/itkImageSeriesReader.hxx, line 478\n",
      "ImageSeriesReader (0x105ff4a00): Non uniform sampling or missing slices detected,  maximum nonuniformity:0.000951914\n",
      "\n"
     ]
    },
    {
     "name": "stdout",
     "output_type": "stream",
     "text": [
      "60016498568ZCR transformation finished\n"
     ]
    },
    {
     "name": "stderr",
     "output_type": "stream",
     "text": [
      "WARNING: In /tmp/SimpleITK-build/ITK-prefix/include/ITK-5.3/itkImageSeriesReader.hxx, line 478\n",
      "ImageSeriesReader (0x102388590): Non uniform sampling or missing slices detected,  maximum nonuniformity:0.000951914\n",
      "\n"
     ]
    },
    {
     "name": "stdout",
     "output_type": "stream",
     "text": [
      "60016498568ZCR transformation finished\n",
      "60016498568ZCR transformation finished\n",
      "60016498568ZCR transformation finished\n"
     ]
    },
    {
     "name": "stderr",
     "output_type": "stream",
     "text": [
      "WARNING: In /tmp/SimpleITK-build/ITK-prefix/include/ITK-5.3/itkImageSeriesReader.hxx, line 478\n",
      "ImageSeriesReader (0x10239ccb0): Non uniform sampling or missing slices detected,  maximum nonuniformity:0.000951914\n",
      "\n"
     ]
    },
    {
     "name": "stdout",
     "output_type": "stream",
     "text": [
      "60016498568ZCR transformation finished\n"
     ]
    },
    {
     "name": "stderr",
     "output_type": "stream",
     "text": [
      "WARNING: In /tmp/SimpleITK-build/ITK-prefix/include/ITK-5.3/itkImageSeriesReader.hxx, line 478\n",
      "ImageSeriesReader (0x1023979a0): Non uniform sampling or missing slices detected,  maximum nonuniformity:0.000951914\n",
      "\n"
     ]
    },
    {
     "name": "stdout",
     "output_type": "stream",
     "text": [
      "60016498568ZCR transformation finished\n"
     ]
    },
    {
     "name": "stderr",
     "output_type": "stream",
     "text": [
      "WARNING: In /tmp/SimpleITK-build/ITK-prefix/include/ITK-5.3/itkImageSeriesReader.hxx, line 478\n",
      "ImageSeriesReader (0x10239b8e0): Non uniform sampling or missing slices detected,  maximum nonuniformity:0.000951914\n",
      "\n"
     ]
    },
    {
     "name": "stdout",
     "output_type": "stream",
     "text": [
      "60016498568ZCR transformation finished\n"
     ]
    },
    {
     "name": "stderr",
     "output_type": "stream",
     "text": [
      "WARNING: In /tmp/SimpleITK-build/ITK-prefix/include/ITK-5.3/itkImageSeriesReader.hxx, line 478\n",
      "ImageSeriesReader (0x1023979a0): Non uniform sampling or missing slices detected,  maximum nonuniformity:0.000951914\n",
      "\n"
     ]
    },
    {
     "name": "stdout",
     "output_type": "stream",
     "text": [
      "60016498568ZCR transformation finished\n",
      "60016498568ZCR transformation finished\n"
     ]
    },
    {
     "name": "stderr",
     "output_type": "stream",
     "text": [
      "WARNING: In /tmp/SimpleITK-build/ITK-prefix/include/ITK-5.3/itkImageSeriesReader.hxx, line 478\n",
      "ImageSeriesReader (0x105cf7670): Non uniform sampling or missing slices detected,  maximum nonuniformity:0.000951914\n",
      "\n"
     ]
    },
    {
     "name": "stdout",
     "output_type": "stream",
     "text": [
      "60016498568ZCR transformation finished\n"
     ]
    },
    {
     "name": "stderr",
     "output_type": "stream",
     "text": [
      "WARNING: In /tmp/SimpleITK-build/ITK-prefix/include/ITK-5.3/itkImageSeriesReader.hxx, line 478\n",
      "ImageSeriesReader (0x105cc2bd0): Non uniform sampling or missing slices detected,  maximum nonuniformity:0.000951914\n",
      "\n"
     ]
    },
    {
     "name": "stdout",
     "output_type": "stream",
     "text": [
      "60016498568ZCR transformation finished\n"
     ]
    },
    {
     "name": "stderr",
     "output_type": "stream",
     "text": [
      "WARNING: In /tmp/SimpleITK-build/ITK-prefix/include/ITK-5.3/itkImageSeriesReader.hxx, line 478\n",
      "ImageSeriesReader (0x105ce2a90): Non uniform sampling or missing slices detected,  maximum nonuniformity:0.000951914\n",
      "\n"
     ]
    },
    {
     "name": "stdout",
     "output_type": "stream",
     "text": [
      "60016498568ZCR transformation finished\n"
     ]
    },
    {
     "name": "stderr",
     "output_type": "stream",
     "text": [
      "WARNING: In /tmp/SimpleITK-build/ITK-prefix/include/ITK-5.3/itkImageSeriesReader.hxx, line 478\n",
      "ImageSeriesReader (0x105cb5830): Non uniform sampling or missing slices detected,  maximum nonuniformity:0.000951914\n",
      "\n"
     ]
    },
    {
     "name": "stdout",
     "output_type": "stream",
     "text": [
      "60016498568ZCR transformation finished\n"
     ]
    },
    {
     "name": "stderr",
     "output_type": "stream",
     "text": [
      "WARNING: In /tmp/SimpleITK-build/ITK-prefix/include/ITK-5.3/itkImageSeriesReader.hxx, line 478\n",
      "ImageSeriesReader (0x105ce2a90): Non uniform sampling or missing slices detected,  maximum nonuniformity:0.000951914\n",
      "\n"
     ]
    },
    {
     "name": "stdout",
     "output_type": "stream",
     "text": [
      "60016498568ZCR transformation finished\n"
     ]
    },
    {
     "name": "stderr",
     "output_type": "stream",
     "text": [
      "WARNING: In /tmp/SimpleITK-build/ITK-prefix/include/ITK-5.3/itkImageSeriesReader.hxx, line 478\n",
      "ImageSeriesReader (0x310505040): Non uniform sampling or missing slices detected,  maximum nonuniformity:0.000951914\n",
      "\n"
     ]
    },
    {
     "name": "stdout",
     "output_type": "stream",
     "text": [
      "60016498568ZCR transformation finished\n"
     ]
    },
    {
     "name": "stderr",
     "output_type": "stream",
     "text": [
      "WARNING: In /tmp/SimpleITK-build/ITK-prefix/include/ITK-5.3/itkImageSeriesReader.hxx, line 478\n",
      "ImageSeriesReader (0x10239b8e0): Non uniform sampling or missing slices detected,  maximum nonuniformity:0.000951914\n",
      "\n"
     ]
    },
    {
     "name": "stdout",
     "output_type": "stream",
     "text": [
      "60016498568ZCR transformation finished\n",
      "60016498568ZCR transformation finished\n"
     ]
    },
    {
     "name": "stderr",
     "output_type": "stream",
     "text": [
      "WARNING: In /tmp/SimpleITK-build/ITK-prefix/include/ITK-5.3/itkImageSeriesReader.hxx, line 478\n",
      "ImageSeriesReader (0x10239b8e0): Non uniform sampling or missing slices detected,  maximum nonuniformity:0.000951914\n",
      "\n"
     ]
    },
    {
     "name": "stdout",
     "output_type": "stream",
     "text": [
      "60016498568ZCR transformation finished\n",
      "60016498568ZCR transformation finished\n",
      "60016498568ZCR transformation finished\n",
      "60016498568ZCR transformation finished\n",
      "60016498568ZCR transformation finished\n",
      "60016498568ZCR transformation finished\n"
     ]
    },
    {
     "name": "stderr",
     "output_type": "stream",
     "text": [
      "WARNING: In /tmp/SimpleITK-build/ITK-prefix/include/ITK-5.3/itkImageSeriesReader.hxx, line 478\n",
      "ImageSeriesReader (0x105cb5830): Non uniform sampling or missing slices detected,  maximum nonuniformity:183.047\n",
      "\n"
     ]
    },
    {
     "name": "stdout",
     "output_type": "stream",
     "text": [
      "60016498568ZCR transformation finished\n"
     ]
    },
    {
     "name": "stderr",
     "output_type": "stream",
     "text": [
      "WARNING: In /tmp/SimpleITK-build/ITK-prefix/include/ITK-5.3/itkImageSeriesReader.hxx, line 478\n",
      "ImageSeriesReader (0x105cf7670): Non uniform sampling or missing slices detected,  maximum nonuniformity:0.000194567\n",
      "\n"
     ]
    },
    {
     "name": "stdout",
     "output_type": "stream",
     "text": [
      "60016498568ZCR transformation finished\n",
      "Skipped processing folder /Volumes/MR_analysis/MRCP_DICOM/60016498568ZCR/SE44 due to insufficient DICOM files (<5).\n",
      "60016498568ZCR transformation finished\n"
     ]
    },
    {
     "name": "stderr",
     "output_type": "stream",
     "text": [
      "WARNING: In /tmp/SimpleITK-build/ITK-prefix/include/ITK-5.3/itkImageSeriesReader.hxx, line 478\n",
      "ImageSeriesReader (0x105cf7670): Non uniform sampling or missing slices detected,  maximum nonuniformity:328.153\n",
      "\n",
      "WARNING: In /tmp/SimpleITK-build/ITK-prefix/include/ITK-5.3/itkImageSeriesReader.hxx, line 478\n",
      "ImageSeriesReader (0x105ce2a90): Non uniform sampling or missing slices detected,  maximum nonuniformity:328.153\n",
      "\n"
     ]
    },
    {
     "name": "stdout",
     "output_type": "stream",
     "text": [
      "60016498568ZCR transformation finished\n",
      "60016498568ZCR transformation finished\n"
     ]
    },
    {
     "name": "stderr",
     "output_type": "stream",
     "text": [
      "WARNING: In /tmp/SimpleITK-build/ITK-prefix/include/ITK-5.3/itkImageSeriesReader.hxx, line 478\n",
      "ImageSeriesReader (0x105cf4660): Non uniform sampling or missing slices detected,  maximum nonuniformity:0.000936036\n",
      "\n",
      "WARNING: In /tmp/SimpleITK-build/ITK-prefix/include/ITK-5.3/itkImageSeriesReader.hxx, line 478\n",
      "ImageSeriesReader (0x105cf84c0): Non uniform sampling or missing slices detected,  maximum nonuniformity:0.000936036\n",
      "\n"
     ]
    },
    {
     "name": "stdout",
     "output_type": "stream",
     "text": [
      "60016498568ZCR transformation finished\n",
      "Skipped processing folder /Volumes/MR_analysis/MRCP_DICOM/60016498568ZCR/SE13 due to insufficient DICOM files (<5).\n",
      "60016498568ZCR transformation finished\n",
      "60016498568ZCR transformation finished\n"
     ]
    },
    {
     "name": "stderr",
     "output_type": "stream",
     "text": [
      "WARNING: In /tmp/SimpleITK-build/ITK-prefix/include/ITK-5.3/itkImageSeriesReader.hxx, line 478\n",
      "ImageSeriesReader (0x105ce2a90): Non uniform sampling or missing slices detected,  maximum nonuniformity:328.16\n",
      "\n",
      "WARNING: In /tmp/SimpleITK-build/ITK-prefix/include/ITK-5.3/itkImageSeriesReader.hxx, line 478\n",
      "ImageSeriesReader (0x105cb5830): Non uniform sampling or missing slices detected,  maximum nonuniformity:328.16\n",
      "\n"
     ]
    },
    {
     "name": "stdout",
     "output_type": "stream",
     "text": [
      "60016498568ZCR transformation finished\n"
     ]
    },
    {
     "name": "stderr",
     "output_type": "stream",
     "text": [
      "WARNING: In /tmp/SimpleITK-build/ITK-prefix/include/ITK-5.3/itkImageSeriesReader.hxx, line 478\n",
      "ImageSeriesReader (0x105cfba60): Non uniform sampling or missing slices detected,  maximum nonuniformity:0.000951914\n",
      "\n"
     ]
    },
    {
     "name": "stdout",
     "output_type": "stream",
     "text": [
      "60016498568ZCR transformation finished\n"
     ]
    },
    {
     "name": "stderr",
     "output_type": "stream",
     "text": [
      "WARNING: In /tmp/SimpleITK-build/ITK-prefix/include/ITK-5.3/itkImageSeriesReader.hxx, line 478\n",
      "ImageSeriesReader (0x10239b8e0): Non uniform sampling or missing slices detected,  maximum nonuniformity:0.000951914\n",
      "\n"
     ]
    },
    {
     "name": "stdout",
     "output_type": "stream",
     "text": [
      "60016498568ZCR transformation finished\n"
     ]
    },
    {
     "name": "stderr",
     "output_type": "stream",
     "text": [
      "WARNING: In /tmp/SimpleITK-build/ITK-prefix/include/ITK-5.3/itkImageSeriesReader.hxx, line 478\n",
      "ImageSeriesReader (0x105cb5830): Non uniform sampling or missing slices detected,  maximum nonuniformity:0.000951914\n",
      "\n"
     ]
    },
    {
     "name": "stdout",
     "output_type": "stream",
     "text": [
      "60016498568ZCR transformation finished\n",
      "60016498568ZCR transformation finished\n"
     ]
    },
    {
     "name": "stderr",
     "output_type": "stream",
     "text": [
      "WARNING: In /tmp/SimpleITK-build/ITK-prefix/include/ITK-5.3/itkImageSeriesReader.hxx, line 478\n",
      "ImageSeriesReader (0x105ce2a90): Non uniform sampling or missing slices detected,  maximum nonuniformity:0.000951914\n",
      "\n"
     ]
    },
    {
     "name": "stdout",
     "output_type": "stream",
     "text": [
      "60016498568ZCR transformation finished\n"
     ]
    },
    {
     "name": "stderr",
     "output_type": "stream",
     "text": [
      "WARNING: In /tmp/SimpleITK-build/ITK-prefix/include/ITK-5.3/itkImageSeriesReader.hxx, line 478\n",
      "ImageSeriesReader (0x105cf7670): Non uniform sampling or missing slices detected,  maximum nonuniformity:337.371\n",
      "\n"
     ]
    },
    {
     "name": "stdout",
     "output_type": "stream",
     "text": [
      "60016507423WH transformation finished\n"
     ]
    },
    {
     "name": "stderr",
     "output_type": "stream",
     "text": [
      "WARNING: In /tmp/SimpleITK-build/ITK-prefix/include/ITK-5.3/itkImageSeriesReader.hxx, line 478\n",
      "ImageSeriesReader (0x10239ccb0): Non uniform sampling or missing slices detected,  maximum nonuniformity:543.784\n",
      "\n"
     ]
    },
    {
     "name": "stdout",
     "output_type": "stream",
     "text": [
      "60016507423WH transformation finished\n"
     ]
    },
    {
     "name": "stderr",
     "output_type": "stream",
     "text": [
      "WARNING: In /tmp/SimpleITK-build/ITK-prefix/include/ITK-5.3/itkImageSeriesReader.hxx, line 478\n",
      "ImageSeriesReader (0x10239f2a0): Non uniform sampling or missing slices detected,  maximum nonuniformity:222.528\n",
      "\n"
     ]
    },
    {
     "name": "stdout",
     "output_type": "stream",
     "text": [
      "60016507423WH transformation finished\n",
      "60016507423WH transformation finished\n",
      "60016507423WH transformation finished\n",
      "60016507423WH transformation finished\n",
      "Skipped processing folder /Volumes/MR_analysis/MRCP_DICOM/60016507423WH/SE18 due to insufficient DICOM files (<5).\n"
     ]
    },
    {
     "name": "stderr",
     "output_type": "stream",
     "text": [
      "WARNING: In /tmp/SimpleITK-build/ITK-prefix/include/ITK-5.3/itkImageSeriesReader.hxx, line 478\n",
      "ImageSeriesReader (0x10239f2a0): Non uniform sampling or missing slices detected,  maximum nonuniformity:0.000225852\n",
      "\n"
     ]
    },
    {
     "name": "stdout",
     "output_type": "stream",
     "text": [
      "60016507423WH transformation finished\n",
      "60016507423WH transformation finished\n"
     ]
    },
    {
     "name": "stderr",
     "output_type": "stream",
     "text": [
      "WARNING: In /tmp/SimpleITK-build/ITK-prefix/include/ITK-5.3/itkImageSeriesReader.hxx, line 478\n",
      "ImageSeriesReader (0x102388590): Non uniform sampling or missing slices detected,  maximum nonuniformity:328.16\n",
      "\n",
      "WARNING: In /tmp/SimpleITK-build/ITK-prefix/include/ITK-5.3/itkImageSeriesReader.hxx, line 478\n",
      "ImageSeriesReader (0x10239ccb0): Non uniform sampling or missing slices detected,  maximum nonuniformity:328.16\n",
      "\n"
     ]
    },
    {
     "name": "stdout",
     "output_type": "stream",
     "text": [
      "60016507423WH transformation finished\n",
      "60016507423WH transformation finished\n",
      "Skipped processing folder /Volumes/MR_analysis/MRCP_DICOM/60016507423WH/SE11 due to insufficient DICOM files (<5).\n",
      "60016507423WH transformation finished\n"
     ]
    },
    {
     "name": "stderr",
     "output_type": "stream",
     "text": [
      "WARNING: In /tmp/SimpleITK-build/ITK-prefix/include/ITK-5.3/itkImageSeriesReader.hxx, line 478\n",
      "ImageSeriesReader (0x1023979a0): Non uniform sampling or missing slices detected,  maximum nonuniformity:328.153\n",
      "\n",
      "WARNING: In /tmp/SimpleITK-build/ITK-prefix/include/ITK-5.3/itkImageSeriesReader.hxx, line 478\n",
      "ImageSeriesReader (0x10239ccb0): Non uniform sampling or missing slices detected,  maximum nonuniformity:323.233\n",
      "\n"
     ]
    },
    {
     "name": "stdout",
     "output_type": "stream",
     "text": [
      "60016507423WH transformation finished\n",
      "60016507423WH transformation finished\n"
     ]
    },
    {
     "name": "stderr",
     "output_type": "stream",
     "text": [
      "WARNING: In /tmp/SimpleITK-build/ITK-prefix/include/ITK-5.3/itkImageSeriesReader.hxx, line 478\n",
      "ImageSeriesReader (0x102388590): Non uniform sampling or missing slices detected,  maximum nonuniformity:0.000810442\n",
      "\n"
     ]
    },
    {
     "name": "stdout",
     "output_type": "stream",
     "text": [
      "60016507423WH transformation finished\n",
      "60016507423WH transformation finished\n"
     ]
    },
    {
     "name": "stderr",
     "output_type": "stream",
     "text": [
      "WARNING: In /tmp/SimpleITK-build/ITK-prefix/include/ITK-5.3/itkImageSeriesReader.hxx, line 478\n",
      "ImageSeriesReader (0x1023979a0): Non uniform sampling or missing slices detected,  maximum nonuniformity:0.000810442\n",
      "\n"
     ]
    },
    {
     "name": "stdout",
     "output_type": "stream",
     "text": [
      "60016507423WH transformation finished\n"
     ]
    },
    {
     "name": "stderr",
     "output_type": "stream",
     "text": [
      "WARNING: In /tmp/SimpleITK-build/ITK-prefix/include/ITK-5.3/itkImageSeriesReader.hxx, line 478\n",
      "ImageSeriesReader (0x105cb5830): Non uniform sampling or missing slices detected,  maximum nonuniformity:0.000810442\n",
      "\n"
     ]
    },
    {
     "name": "stdout",
     "output_type": "stream",
     "text": [
      "60016507423WH transformation finished\n"
     ]
    },
    {
     "name": "stderr",
     "output_type": "stream",
     "text": [
      "WARNING: In /tmp/SimpleITK-build/ITK-prefix/include/ITK-5.3/itkImageSeriesReader.hxx, line 478\n",
      "ImageSeriesReader (0x105cc2bd0): Non uniform sampling or missing slices detected,  maximum nonuniformity:0.000810442\n",
      "\n"
     ]
    },
    {
     "name": "stdout",
     "output_type": "stream",
     "text": [
      "60016507423WH transformation finished\n"
     ]
    },
    {
     "name": "stderr",
     "output_type": "stream",
     "text": [
      "WARNING: In /tmp/SimpleITK-build/ITK-prefix/include/ITK-5.3/itkImageSeriesReader.hxx, line 478\n",
      "ImageSeriesReader (0x105ce2a90): Non uniform sampling or missing slices detected,  maximum nonuniformity:0.000784293\n",
      "\n"
     ]
    },
    {
     "name": "stdout",
     "output_type": "stream",
     "text": [
      "60016507423WH transformation finished\n"
     ]
    },
    {
     "name": "stderr",
     "output_type": "stream",
     "text": [
      "WARNING: In /tmp/SimpleITK-build/ITK-prefix/include/ITK-5.3/itkImageSeriesReader.hxx, line 478\n",
      "ImageSeriesReader (0x105ce2a90): Non uniform sampling or missing slices detected,  maximum nonuniformity:0.000784293\n",
      "\n"
     ]
    },
    {
     "name": "stdout",
     "output_type": "stream",
     "text": [
      "60016507423WH transformation finished\n"
     ]
    },
    {
     "name": "stderr",
     "output_type": "stream",
     "text": [
      "WARNING: In /tmp/SimpleITK-build/ITK-prefix/include/ITK-5.3/itkImageSeriesReader.hxx, line 478\n",
      "ImageSeriesReader (0x10239b8e0): Non uniform sampling or missing slices detected,  maximum nonuniformity:0.000784293\n",
      "\n"
     ]
    },
    {
     "name": "stdout",
     "output_type": "stream",
     "text": [
      "60016507423WH transformation finished\n",
      "60016507423WH transformation finished\n"
     ]
    },
    {
     "name": "stderr",
     "output_type": "stream",
     "text": [
      "WARNING: In /tmp/SimpleITK-build/ITK-prefix/include/ITK-5.3/itkImageSeriesReader.hxx, line 478\n",
      "ImageSeriesReader (0x10239b8e0): Non uniform sampling or missing slices detected,  maximum nonuniformity:0.000784293\n",
      "\n"
     ]
    },
    {
     "name": "stdout",
     "output_type": "stream",
     "text": [
      "60016507423WH transformation finished\n"
     ]
    },
    {
     "name": "stderr",
     "output_type": "stream",
     "text": [
      "WARNING: In /tmp/SimpleITK-build/ITK-prefix/include/ITK-5.3/itkImageSeriesReader.hxx, line 478\n",
      "ImageSeriesReader (0x105cb5830): Non uniform sampling or missing slices detected,  maximum nonuniformity:0.000784293\n",
      "\n"
     ]
    },
    {
     "name": "stdout",
     "output_type": "stream",
     "text": [
      "60016507423WH transformation finished\n",
      "60016507423WH transformation finished\n"
     ]
    },
    {
     "name": "stderr",
     "output_type": "stream",
     "text": [
      "WARNING: In /tmp/SimpleITK-build/ITK-prefix/include/ITK-5.3/itkImageSeriesReader.hxx, line 478\n",
      "ImageSeriesReader (0x10239f2a0): Non uniform sampling or missing slices detected,  maximum nonuniformity:0.000784293\n",
      "\n"
     ]
    },
    {
     "name": "stdout",
     "output_type": "stream",
     "text": [
      "60016507423WH transformation finished\n"
     ]
    },
    {
     "name": "stderr",
     "output_type": "stream",
     "text": [
      "WARNING: In /tmp/SimpleITK-build/ITK-prefix/include/ITK-5.3/itkImageSeriesReader.hxx, line 478\n",
      "ImageSeriesReader (0x10239f2a0): Non uniform sampling or missing slices detected,  maximum nonuniformity:0.000784293\n",
      "\n"
     ]
    },
    {
     "name": "stdout",
     "output_type": "stream",
     "text": [
      "60016507423WH transformation finished\n"
     ]
    },
    {
     "name": "stderr",
     "output_type": "stream",
     "text": [
      "WARNING: In /tmp/SimpleITK-build/ITK-prefix/include/ITK-5.3/itkImageSeriesReader.hxx, line 478\n",
      "ImageSeriesReader (0x1023979a0): Non uniform sampling or missing slices detected,  maximum nonuniformity:0.000784293\n",
      "\n"
     ]
    },
    {
     "name": "stdout",
     "output_type": "stream",
     "text": [
      "60016507423WH transformation finished\n",
      "60016507423WH transformation finished\n"
     ]
    },
    {
     "name": "stderr",
     "output_type": "stream",
     "text": [
      "WARNING: In /tmp/SimpleITK-build/ITK-prefix/include/ITK-5.3/itkImageSeriesReader.hxx, line 478\n",
      "ImageSeriesReader (0x105cb5830): Non uniform sampling or missing slices detected,  maximum nonuniformity:0.000784293\n",
      "\n"
     ]
    },
    {
     "name": "stdout",
     "output_type": "stream",
     "text": [
      "60016507423WH transformation finished\n"
     ]
    },
    {
     "name": "stderr",
     "output_type": "stream",
     "text": [
      "WARNING: In /tmp/SimpleITK-build/ITK-prefix/include/ITK-5.3/itkImageSeriesReader.hxx, line 478\n",
      "ImageSeriesReader (0x105cb5830): Non uniform sampling or missing slices detected,  maximum nonuniformity:0.000784293\n",
      "\n"
     ]
    },
    {
     "name": "stdout",
     "output_type": "stream",
     "text": [
      "60016507423WH transformation finished\n"
     ]
    },
    {
     "name": "stderr",
     "output_type": "stream",
     "text": [
      "WARNING: In /tmp/SimpleITK-build/ITK-prefix/include/ITK-5.3/itkImageSeriesReader.hxx, line 478\n",
      "ImageSeriesReader (0x105cb5830): Non uniform sampling or missing slices detected,  maximum nonuniformity:0.000784293\n",
      "\n"
     ]
    },
    {
     "name": "stdout",
     "output_type": "stream",
     "text": [
      "60016507423WH transformation finished\n"
     ]
    },
    {
     "name": "stderr",
     "output_type": "stream",
     "text": [
      "WARNING: In /tmp/SimpleITK-build/ITK-prefix/include/ITK-5.3/itkImageSeriesReader.hxx, line 478\n",
      "ImageSeriesReader (0x105ce2a90): Non uniform sampling or missing slices detected,  maximum nonuniformity:0.000784293\n",
      "\n"
     ]
    },
    {
     "name": "stdout",
     "output_type": "stream",
     "text": [
      "60016507423WH transformation finished\n",
      "60016507423WH transformation finished\n",
      "60016507423WH transformation finished\n",
      "60016507423WH transformation finished\n",
      "60016507423WH transformation finished\n",
      "60016507423WH transformation finished\n"
     ]
    },
    {
     "name": "stderr",
     "output_type": "stream",
     "text": [
      "WARNING: In /tmp/SimpleITK-build/ITK-prefix/include/ITK-5.3/itkImageSeriesReader.hxx, line 478\n",
      "ImageSeriesReader (0x10239f2a0): Non uniform sampling or missing slices detected,  maximum nonuniformity:222.528\n",
      "\n"
     ]
    },
    {
     "name": "stdout",
     "output_type": "stream",
     "text": [
      "60016507423WH transformation finished\n"
     ]
    },
    {
     "name": "stderr",
     "output_type": "stream",
     "text": [
      "WARNING: In /tmp/SimpleITK-build/ITK-prefix/include/ITK-5.3/itkImageSeriesReader.hxx, line 478\n",
      "ImageSeriesReader (0x10239bee0): Non uniform sampling or missing slices detected,  maximum nonuniformity:0.000225852\n",
      "\n"
     ]
    },
    {
     "name": "stdout",
     "output_type": "stream",
     "text": [
      "60016507423WH transformation finished\n",
      "Skipped processing folder /Volumes/MR_analysis/MRCP_DICOM/60016507423WH/SE47 due to insufficient DICOM files (<5).\n",
      "60016507423WH transformation finished\n"
     ]
    },
    {
     "name": "stderr",
     "output_type": "stream",
     "text": [
      "WARNING: In /tmp/SimpleITK-build/ITK-prefix/include/ITK-5.3/itkImageSeriesReader.hxx, line 478\n",
      "ImageSeriesReader (0x10239ccb0): Non uniform sampling or missing slices detected,  maximum nonuniformity:323.233\n",
      "\n",
      "WARNING: In /tmp/SimpleITK-build/ITK-prefix/include/ITK-5.3/itkImageSeriesReader.hxx, line 478\n",
      "ImageSeriesReader (0x10239b8e0): Non uniform sampling or missing slices detected,  maximum nonuniformity:323.233\n",
      "\n"
     ]
    },
    {
     "name": "stdout",
     "output_type": "stream",
     "text": [
      "60016507423WH transformation finished\n",
      "60016507423WH transformation finished\n",
      "60016507423WH transformation finished\n",
      "Skipped processing folder /Volumes/MR_analysis/MRCP_DICOM/60016507423WH/SE5 due to insufficient DICOM files (<5).\n",
      "60016507423WH transformation finished\n",
      "60016507423WH transformation finished\n"
     ]
    },
    {
     "name": "stderr",
     "output_type": "stream",
     "text": [
      "WARNING: In /tmp/SimpleITK-build/ITK-prefix/include/ITK-5.3/itkImageSeriesReader.hxx, line 478\n",
      "ImageSeriesReader (0x1023979a0): Non uniform sampling or missing slices detected,  maximum nonuniformity:328.153\n",
      "\n",
      "WARNING: In /tmp/SimpleITK-build/ITK-prefix/include/ITK-5.3/itkImageSeriesReader.hxx, line 478\n",
      "ImageSeriesReader (0x10239b8e0): Non uniform sampling or missing slices detected,  maximum nonuniformity:323.233\n",
      "\n"
     ]
    },
    {
     "name": "stdout",
     "output_type": "stream",
     "text": [
      "60016507423WH transformation finished\n"
     ]
    },
    {
     "name": "stderr",
     "output_type": "stream",
     "text": [
      "WARNING: In /tmp/SimpleITK-build/ITK-prefix/include/ITK-5.3/itkImageSeriesReader.hxx, line 478\n",
      "ImageSeriesReader (0x1023979a0): Non uniform sampling or missing slices detected,  maximum nonuniformity:0.000784293\n",
      "\n"
     ]
    },
    {
     "name": "stdout",
     "output_type": "stream",
     "text": [
      "60016507423WH transformation finished\n"
     ]
    },
    {
     "name": "stderr",
     "output_type": "stream",
     "text": [
      "WARNING: In /tmp/SimpleITK-build/ITK-prefix/include/ITK-5.3/itkImageSeriesReader.hxx, line 478\n",
      "ImageSeriesReader (0x105cb5830): Non uniform sampling or missing slices detected,  maximum nonuniformity:0.000784293\n",
      "\n"
     ]
    },
    {
     "name": "stdout",
     "output_type": "stream",
     "text": [
      "60016507423WH transformation finished\n"
     ]
    },
    {
     "name": "stderr",
     "output_type": "stream",
     "text": [
      "WARNING: In /tmp/SimpleITK-build/ITK-prefix/include/ITK-5.3/itkImageSeriesReader.hxx, line 478\n",
      "ImageSeriesReader (0x10239f2a0): Non uniform sampling or missing slices detected,  maximum nonuniformity:0.000784293\n",
      "\n"
     ]
    },
    {
     "name": "stdout",
     "output_type": "stream",
     "text": [
      "60016507423WH transformation finished\n"
     ]
    },
    {
     "name": "stderr",
     "output_type": "stream",
     "text": [
      "WARNING: In /tmp/SimpleITK-build/ITK-prefix/include/ITK-5.3/itkImageSeriesReader.hxx, line 478\n",
      "ImageSeriesReader (0x10239f2a0): Non uniform sampling or missing slices detected,  maximum nonuniformity:0.000784293\n",
      "\n"
     ]
    },
    {
     "name": "stdout",
     "output_type": "stream",
     "text": [
      "60016507423WH transformation finished\n",
      "60016507423WH transformation finished\n"
     ]
    },
    {
     "name": "stderr",
     "output_type": "stream",
     "text": [
      "WARNING: In /tmp/SimpleITK-build/ITK-prefix/include/ITK-5.3/itkImageSeriesReader.hxx, line 478\n",
      "ImageSeriesReader (0x105ce2a90): Non uniform sampling or missing slices detected,  maximum nonuniformity:337.371\n",
      "\n"
     ]
    },
    {
     "name": "stdout",
     "output_type": "stream",
     "text": [
      "1007111203YJG transformation finished\n"
     ]
    },
    {
     "name": "stderr",
     "output_type": "stream",
     "text": [
      "WARNING: In /tmp/SimpleITK-build/ITK-prefix/include/ITK-5.3/itkImageSeriesReader.hxx, line 478\n",
      "ImageSeriesReader (0x105cc2bd0): Non uniform sampling or missing slices detected,  maximum nonuniformity:543.784\n",
      "\n"
     ]
    },
    {
     "name": "stdout",
     "output_type": "stream",
     "text": [
      "1007111203YJG transformation finished\n"
     ]
    },
    {
     "name": "stderr",
     "output_type": "stream",
     "text": [
      "WARNING: In /tmp/SimpleITK-build/ITK-prefix/include/ITK-5.3/itkImageSeriesReader.hxx, line 478\n",
      "ImageSeriesReader (0x105cb5830): Non uniform sampling or missing slices detected,  maximum nonuniformity:183.048\n",
      "\n"
     ]
    },
    {
     "name": "stdout",
     "output_type": "stream",
     "text": [
      "1007111203YJG transformation finished\n",
      "1007111203YJG transformation finished\n",
      "1007111203YJG transformation finished\n",
      "1007111203YJG transformation finished\n",
      "1007111203YJG transformation finished\n",
      "1007111203YJG transformation finished\n",
      "Skipped processing folder /Volumes/MR_analysis/MRCP_DICOM/1007111203YJG/SE32 due to insufficient DICOM files (<5).\n",
      "1007111203YJG transformation finished\n"
     ]
    },
    {
     "name": "stderr",
     "output_type": "stream",
     "text": [
      "WARNING: In /tmp/SimpleITK-build/ITK-prefix/include/ITK-5.3/itkImageSeriesReader.hxx, line 478\n",
      "ImageSeriesReader (0x105cf7670): Non uniform sampling or missing slices detected,  maximum nonuniformity:276.567\n",
      "\n",
      "WARNING: In /tmp/SimpleITK-build/ITK-prefix/include/ITK-5.3/itkImageSeriesReader.hxx, line 478\n",
      "ImageSeriesReader (0x105cf7670): Non uniform sampling or missing slices detected,  maximum nonuniformity:328.16\n",
      "\n"
     ]
    },
    {
     "name": "stdout",
     "output_type": "stream",
     "text": [
      "1007111203YJG transformation finished\n",
      "1007111203YJG transformation finished\n",
      "1007111203YJG transformation finished\n",
      "1007111203YJG transformation finished\n",
      "1007111203YJG transformation finished\n",
      "1007111203YJG transformation finished\n",
      "1007111203YJG transformation finished\n",
      "Skipped processing folder /Volumes/MR_analysis/MRCP_DICOM/1007111203YJG/SE21 due to insufficient DICOM files (<5).\n",
      "1007111203YJG transformation finished\n",
      "1007111203YJG transformation finished\n"
     ]
    },
    {
     "name": "stderr",
     "output_type": "stream",
     "text": [
      "WARNING: In /tmp/SimpleITK-build/ITK-prefix/include/ITK-5.3/itkImageSeriesReader.hxx, line 478\n",
      "ImageSeriesReader (0x10239b8e0): Non uniform sampling or missing slices detected,  maximum nonuniformity:328.153\n",
      "\n",
      "WARNING: In /tmp/SimpleITK-build/ITK-prefix/include/ITK-5.3/itkImageSeriesReader.hxx, line 478\n",
      "ImageSeriesReader (0x10239b8e0): Non uniform sampling or missing slices detected,  maximum nonuniformity:328.153\n",
      "\n"
     ]
    },
    {
     "name": "stdout",
     "output_type": "stream",
     "text": [
      "1007111203YJG transformation finished\n"
     ]
    },
    {
     "name": "stderr",
     "output_type": "stream",
     "text": [
      "WARNING: In /tmp/SimpleITK-build/ITK-prefix/include/ITK-5.3/itkImageSeriesReader.hxx, line 478\n",
      "ImageSeriesReader (0x10239f2a0): Non uniform sampling or missing slices detected,  maximum nonuniformity:0.000949919\n",
      "\n"
     ]
    },
    {
     "name": "stdout",
     "output_type": "stream",
     "text": [
      "1007111203YJG transformation finished\n"
     ]
    },
    {
     "name": "stderr",
     "output_type": "stream",
     "text": [
      "WARNING: In /tmp/SimpleITK-build/ITK-prefix/include/ITK-5.3/itkImageSeriesReader.hxx, line 478\n",
      "ImageSeriesReader (0x10239b8e0): Non uniform sampling or missing slices detected,  maximum nonuniformity:0.000949919\n",
      "\n"
     ]
    },
    {
     "name": "stdout",
     "output_type": "stream",
     "text": [
      "1007111203YJG transformation finished\n"
     ]
    },
    {
     "name": "stderr",
     "output_type": "stream",
     "text": [
      "WARNING: In /tmp/SimpleITK-build/ITK-prefix/include/ITK-5.3/itkImageSeriesReader.hxx, line 478\n",
      "ImageSeriesReader (0x10239bee0): Non uniform sampling or missing slices detected,  maximum nonuniformity:0.000949919\n",
      "\n"
     ]
    },
    {
     "name": "stdout",
     "output_type": "stream",
     "text": [
      "1007111203YJG transformation finished\n",
      "1007111203YJG transformation finished\n"
     ]
    },
    {
     "name": "stderr",
     "output_type": "stream",
     "text": [
      "WARNING: In /tmp/SimpleITK-build/ITK-prefix/include/ITK-5.3/itkImageSeriesReader.hxx, line 478\n",
      "ImageSeriesReader (0x10239ccb0): Non uniform sampling or missing slices detected,  maximum nonuniformity:0.000949919\n",
      "\n"
     ]
    },
    {
     "name": "stdout",
     "output_type": "stream",
     "text": [
      "1007111203YJG transformation finished\n"
     ]
    },
    {
     "name": "stderr",
     "output_type": "stream",
     "text": [
      "WARNING: In /tmp/SimpleITK-build/ITK-prefix/include/ITK-5.3/itkImageSeriesReader.hxx, line 478\n",
      "ImageSeriesReader (0x105cb5830): Non uniform sampling or missing slices detected,  maximum nonuniformity:0.000949919\n",
      "\n"
     ]
    },
    {
     "name": "stdout",
     "output_type": "stream",
     "text": [
      "1007111203YJG transformation finished\n"
     ]
    },
    {
     "name": "stderr",
     "output_type": "stream",
     "text": [
      "WARNING: In /tmp/SimpleITK-build/ITK-prefix/include/ITK-5.3/itkImageSeriesReader.hxx, line 478\n",
      "ImageSeriesReader (0x105ce2a90): Non uniform sampling or missing slices detected,  maximum nonuniformity:0.000949919\n",
      "\n"
     ]
    },
    {
     "name": "stdout",
     "output_type": "stream",
     "text": [
      "1007111203YJG transformation finished\n",
      "1007111203YJG transformation finished\n"
     ]
    },
    {
     "name": "stderr",
     "output_type": "stream",
     "text": [
      "WARNING: In /tmp/SimpleITK-build/ITK-prefix/include/ITK-5.3/itkImageSeriesReader.hxx, line 478\n",
      "ImageSeriesReader (0x105cb5830): Non uniform sampling or missing slices detected,  maximum nonuniformity:0.000949919\n",
      "\n"
     ]
    },
    {
     "name": "stdout",
     "output_type": "stream",
     "text": [
      "1007111203YJG transformation finished\n"
     ]
    },
    {
     "name": "stderr",
     "output_type": "stream",
     "text": [
      "WARNING: In /tmp/SimpleITK-build/ITK-prefix/include/ITK-5.3/itkImageSeriesReader.hxx, line 478\n",
      "ImageSeriesReader (0x105cf7670): Non uniform sampling or missing slices detected,  maximum nonuniformity:0.000949919\n",
      "\n"
     ]
    },
    {
     "name": "stdout",
     "output_type": "stream",
     "text": [
      "1007111203YJG transformation finished\n"
     ]
    },
    {
     "name": "stderr",
     "output_type": "stream",
     "text": [
      "WARNING: In /tmp/SimpleITK-build/ITK-prefix/include/ITK-5.3/itkImageSeriesReader.hxx, line 478\n",
      "ImageSeriesReader (0x105cb5830): Non uniform sampling or missing slices detected,  maximum nonuniformity:0.000949919\n",
      "\n"
     ]
    },
    {
     "name": "stdout",
     "output_type": "stream",
     "text": [
      "1007111203YJG transformation finished\n"
     ]
    },
    {
     "name": "stderr",
     "output_type": "stream",
     "text": [
      "WARNING: In /tmp/SimpleITK-build/ITK-prefix/include/ITK-5.3/itkImageSeriesReader.hxx, line 478\n",
      "ImageSeriesReader (0x105cb5830): Non uniform sampling or missing slices detected,  maximum nonuniformity:0.000949919\n",
      "\n"
     ]
    },
    {
     "name": "stdout",
     "output_type": "stream",
     "text": [
      "1007111203YJG transformation finished\n",
      "1007111203YJG transformation finished\n"
     ]
    },
    {
     "name": "stderr",
     "output_type": "stream",
     "text": [
      "WARNING: In /tmp/SimpleITK-build/ITK-prefix/include/ITK-5.3/itkImageSeriesReader.hxx, line 478\n",
      "ImageSeriesReader (0x105cb5830): Non uniform sampling or missing slices detected,  maximum nonuniformity:0.000949919\n",
      "\n"
     ]
    },
    {
     "name": "stdout",
     "output_type": "stream",
     "text": [
      "1007111203YJG transformation finished\n"
     ]
    },
    {
     "name": "stderr",
     "output_type": "stream",
     "text": [
      "WARNING: In /tmp/SimpleITK-build/ITK-prefix/include/ITK-5.3/itkImageSeriesReader.hxx, line 478\n",
      "ImageSeriesReader (0x105ce2a90): Non uniform sampling or missing slices detected,  maximum nonuniformity:0.000949919\n",
      "\n"
     ]
    },
    {
     "name": "stdout",
     "output_type": "stream",
     "text": [
      "1007111203YJG transformation finished\n"
     ]
    },
    {
     "name": "stderr",
     "output_type": "stream",
     "text": [
      "WARNING: In /tmp/SimpleITK-build/ITK-prefix/include/ITK-5.3/itkImageSeriesReader.hxx, line 478\n",
      "ImageSeriesReader (0x10239ccb0): Non uniform sampling or missing slices detected,  maximum nonuniformity:0.000949919\n",
      "\n"
     ]
    },
    {
     "name": "stdout",
     "output_type": "stream",
     "text": [
      "1007111203YJG transformation finished\n"
     ]
    },
    {
     "name": "stderr",
     "output_type": "stream",
     "text": [
      "WARNING: In /tmp/SimpleITK-build/ITK-prefix/include/ITK-5.3/itkImageSeriesReader.hxx, line 478\n",
      "ImageSeriesReader (0x10239bee0): Non uniform sampling or missing slices detected,  maximum nonuniformity:0.000949919\n",
      "\n"
     ]
    },
    {
     "name": "stdout",
     "output_type": "stream",
     "text": [
      "1007111203YJG transformation finished\n"
     ]
    },
    {
     "name": "stderr",
     "output_type": "stream",
     "text": [
      "WARNING: In /tmp/SimpleITK-build/ITK-prefix/include/ITK-5.3/itkImageSeriesReader.hxx, line 478\n",
      "ImageSeriesReader (0x10239ccb0): Non uniform sampling or missing slices detected,  maximum nonuniformity:0.000949919\n",
      "\n"
     ]
    },
    {
     "name": "stdout",
     "output_type": "stream",
     "text": [
      "1007111203YJG transformation finished\n",
      "1007111203YJG transformation finished\n"
     ]
    },
    {
     "name": "stderr",
     "output_type": "stream",
     "text": [
      "WARNING: In /tmp/SimpleITK-build/ITK-prefix/include/ITK-5.3/itkImageSeriesReader.hxx, line 478\n",
      "ImageSeriesReader (0x1023979a0): Non uniform sampling or missing slices detected,  maximum nonuniformity:0.000949919\n",
      "\n"
     ]
    },
    {
     "name": "stdout",
     "output_type": "stream",
     "text": [
      "1007111203YJG transformation finished\n",
      "1007111203YJG transformation finished\n",
      "1007111203YJG transformation finished\n",
      "1007111203YJG transformation finished\n",
      "1007111203YJG transformation finished\n",
      "1007111203YJG transformation finished\n"
     ]
    },
    {
     "name": "stderr",
     "output_type": "stream",
     "text": [
      "WARNING: In /tmp/SimpleITK-build/ITK-prefix/include/ITK-5.3/itkImageSeriesReader.hxx, line 478\n",
      "ImageSeriesReader (0x105ce2a90): Non uniform sampling or missing slices detected,  maximum nonuniformity:183.048\n",
      "\n"
     ]
    },
    {
     "name": "stdout",
     "output_type": "stream",
     "text": [
      "1007111203YJG transformation finished\n",
      "Skipped processing folder /Volumes/MR_analysis/MRCP_DICOM/1007111203YJG/SE18 due to insufficient DICOM files (<5).\n",
      "1007111203YJG transformation finished\n",
      "1007111203YJG transformation finished\n"
     ]
    },
    {
     "name": "stderr",
     "output_type": "stream",
     "text": [
      "WARNING: In /tmp/SimpleITK-build/ITK-prefix/include/ITK-5.3/itkImageSeriesReader.hxx, line 478\n",
      "ImageSeriesReader (0x105cb5830): Non uniform sampling or missing slices detected,  maximum nonuniformity:323.24\n",
      "\n",
      "WARNING: In /tmp/SimpleITK-build/ITK-prefix/include/ITK-5.3/itkImageSeriesReader.hxx, line 478\n",
      "ImageSeriesReader (0x105cc2bd0): Non uniform sampling or missing slices detected,  maximum nonuniformity:323.24\n",
      "\n"
     ]
    },
    {
     "name": "stdout",
     "output_type": "stream",
     "text": [
      "1007111203YJG transformation finished\n",
      "1007111203YJG transformation finished\n",
      "1007111203YJG transformation finished\n",
      "1007111203YJG transformation finished\n",
      "Skipped processing folder /Volumes/MR_analysis/MRCP_DICOM/1007111203YJG/SE42 due to insufficient DICOM files (<5).\n",
      "1007111203YJG transformation finished\n"
     ]
    },
    {
     "name": "stderr",
     "output_type": "stream",
     "text": [
      "WARNING: In /tmp/SimpleITK-build/ITK-prefix/include/ITK-5.3/itkImageSeriesReader.hxx, line 478\n",
      "ImageSeriesReader (0x105cb5830): Non uniform sampling or missing slices detected,  maximum nonuniformity:280.558\n",
      "\n",
      "WARNING: In /tmp/SimpleITK-build/ITK-prefix/include/ITK-5.3/itkImageSeriesReader.hxx, line 478\n",
      "ImageSeriesReader (0x105cf7670): Non uniform sampling or missing slices detected,  maximum nonuniformity:328.153\n",
      "\n"
     ]
    },
    {
     "name": "stdout",
     "output_type": "stream",
     "text": [
      "1007111203YJG transformation finished\n"
     ]
    },
    {
     "name": "stderr",
     "output_type": "stream",
     "text": [
      "WARNING: In /tmp/SimpleITK-build/ITK-prefix/include/ITK-5.3/itkImageSeriesReader.hxx, line 478\n",
      "ImageSeriesReader (0x105ff1bb0): Non uniform sampling or missing slices detected,  maximum nonuniformity:0.000949919\n",
      "\n"
     ]
    },
    {
     "name": "stdout",
     "output_type": "stream",
     "text": [
      "1007111203YJG transformation finished\n"
     ]
    },
    {
     "name": "stderr",
     "output_type": "stream",
     "text": [
      "WARNING: In /tmp/SimpleITK-build/ITK-prefix/include/ITK-5.3/itkImageSeriesReader.hxx, line 478\n",
      "ImageSeriesReader (0x105cf7670): Non uniform sampling or missing slices detected,  maximum nonuniformity:0.000949919\n",
      "\n"
     ]
    },
    {
     "name": "stdout",
     "output_type": "stream",
     "text": [
      "1007111203YJG transformation finished\n"
     ]
    },
    {
     "name": "stderr",
     "output_type": "stream",
     "text": [
      "WARNING: In /tmp/SimpleITK-build/ITK-prefix/include/ITK-5.3/itkImageSeriesReader.hxx, line 478\n",
      "ImageSeriesReader (0x105ce2a90): Non uniform sampling or missing slices detected,  maximum nonuniformity:0.000949919\n",
      "\n"
     ]
    },
    {
     "name": "stdout",
     "output_type": "stream",
     "text": [
      "1007111203YJG transformation finished\n"
     ]
    },
    {
     "name": "stderr",
     "output_type": "stream",
     "text": [
      "WARNING: In /tmp/SimpleITK-build/ITK-prefix/include/ITK-5.3/itkImageSeriesReader.hxx, line 478\n",
      "ImageSeriesReader (0x105cf7670): Non uniform sampling or missing slices detected,  maximum nonuniformity:0.000949919\n",
      "\n"
     ]
    },
    {
     "name": "stdout",
     "output_type": "stream",
     "text": [
      "1007111203YJG transformation finished\n",
      "1007111203YJG transformation finished\n"
     ]
    },
    {
     "name": "stderr",
     "output_type": "stream",
     "text": [
      "WARNING: In /tmp/SimpleITK-build/ITK-prefix/include/ITK-5.3/itkImageSeriesReader.hxx, line 478\n",
      "ImageSeriesReader (0x105ce2a90): Non uniform sampling or missing slices detected,  maximum nonuniformity:337.371\n",
      "\n"
     ]
    },
    {
     "name": "stdout",
     "output_type": "stream",
     "text": [
      "60012423400PZS transformation finished\n"
     ]
    },
    {
     "name": "stderr",
     "output_type": "stream",
     "text": [
      "WARNING: In /tmp/SimpleITK-build/ITK-prefix/include/ITK-5.3/itkImageSeriesReader.hxx, line 478\n",
      "ImageSeriesReader (0x1023979a0): Non uniform sampling or missing slices detected,  maximum nonuniformity:543.784\n",
      "\n"
     ]
    },
    {
     "name": "stdout",
     "output_type": "stream",
     "text": [
      "60012423400PZS transformation finished\n"
     ]
    },
    {
     "name": "stderr",
     "output_type": "stream",
     "text": [
      "WARNING: In /tmp/SimpleITK-build/ITK-prefix/include/ITK-5.3/itkImageSeriesReader.hxx, line 478\n",
      "ImageSeriesReader (0x10239b8e0): Non uniform sampling or missing slices detected,  maximum nonuniformity:171.051\n",
      "\n"
     ]
    },
    {
     "name": "stdout",
     "output_type": "stream",
     "text": [
      "60012423400PZS transformation finished\n",
      "60012423400PZS transformation finished\n",
      "60012423400PZS transformation finished\n",
      "60012423400PZS transformation finished\n",
      "Skipped processing folder /Volumes/MR_analysis/MRCP_DICOM/60012423400PZS/SE37 due to insufficient DICOM files (<5).\n"
     ]
    },
    {
     "name": "stderr",
     "output_type": "stream",
     "text": [
      "WARNING: In /tmp/SimpleITK-build/ITK-prefix/include/ITK-5.3/itkImageSeriesReader.hxx, line 478\n",
      "ImageSeriesReader (0x10239b8e0): Non uniform sampling or missing slices detected,  maximum nonuniformity:0.000155003\n",
      "\n"
     ]
    },
    {
     "name": "stdout",
     "output_type": "stream",
     "text": [
      "60012423400PZS transformation finished\n",
      "60012423400PZS transformation finished\n"
     ]
    },
    {
     "name": "stderr",
     "output_type": "stream",
     "text": [
      "WARNING: In /tmp/SimpleITK-build/ITK-prefix/include/ITK-5.3/itkImageSeriesReader.hxx, line 478\n",
      "ImageSeriesReader (0x1023979a0): Non uniform sampling or missing slices detected,  maximum nonuniformity:328.153\n",
      "\n",
      "WARNING: In /tmp/SimpleITK-build/ITK-prefix/include/ITK-5.3/itkImageSeriesReader.hxx, line 478\n",
      "ImageSeriesReader (0x1023979a0): Non uniform sampling or missing slices detected,  maximum nonuniformity:328.153\n",
      "\n"
     ]
    },
    {
     "name": "stdout",
     "output_type": "stream",
     "text": [
      "60012423400PZS transformation finished\n",
      "Skipped processing folder /Volumes/MR_analysis/MRCP_DICOM/60012423400PZS/SE30 due to insufficient DICOM files (<5).\n",
      "Skipped processing folder /Volumes/MR_analysis/MRCP_DICOM/60012423400PZS/SE29 due to insufficient DICOM files (<5).\n",
      "60012423400PZS transformation finished\n",
      "60012423400PZS transformation finished\n"
     ]
    },
    {
     "name": "stderr",
     "output_type": "stream",
     "text": [
      "WARNING: In /tmp/SimpleITK-build/ITK-prefix/include/ITK-5.3/itkImageSeriesReader.hxx, line 478\n",
      "ImageSeriesReader (0x105cb5830): Non uniform sampling or missing slices detected,  maximum nonuniformity:280.558\n",
      "\n",
      "WARNING: In /tmp/SimpleITK-build/ITK-prefix/include/ITK-5.3/itkImageSeriesReader.hxx, line 478\n",
      "ImageSeriesReader (0x1023979a0): Non uniform sampling or missing slices detected,  maximum nonuniformity:328.153\n",
      "\n"
     ]
    },
    {
     "name": "stdout",
     "output_type": "stream",
     "text": [
      "60012423400PZS transformation finished\n",
      "60012423400PZS transformation finished\n"
     ]
    },
    {
     "name": "stderr",
     "output_type": "stream",
     "text": [
      "WARNING: In /tmp/SimpleITK-build/ITK-prefix/include/ITK-5.3/itkImageSeriesReader.hxx, line 478\n",
      "ImageSeriesReader (0x102388590): Non uniform sampling or missing slices detected,  maximum nonuniformity:0.000948586\n",
      "\n"
     ]
    },
    {
     "name": "stdout",
     "output_type": "stream",
     "text": [
      "60012423400PZS transformation finished\n",
      "60012423400PZS transformation finished\n"
     ]
    },
    {
     "name": "stderr",
     "output_type": "stream",
     "text": [
      "WARNING: In /tmp/SimpleITK-build/ITK-prefix/include/ITK-5.3/itkImageSeriesReader.hxx, line 478\n",
      "ImageSeriesReader (0x102388590): Non uniform sampling or missing slices detected,  maximum nonuniformity:0.000948586\n",
      "\n"
     ]
    },
    {
     "name": "stdout",
     "output_type": "stream",
     "text": [
      "60012423400PZS transformation finished\n"
     ]
    },
    {
     "name": "stderr",
     "output_type": "stream",
     "text": [
      "WARNING: In /tmp/SimpleITK-build/ITK-prefix/include/ITK-5.3/itkImageSeriesReader.hxx, line 478\n",
      "ImageSeriesReader (0x10239b8e0): Non uniform sampling or missing slices detected,  maximum nonuniformity:0.000948586\n",
      "\n"
     ]
    },
    {
     "name": "stdout",
     "output_type": "stream",
     "text": [
      "60012423400PZS transformation finished\n"
     ]
    },
    {
     "name": "stderr",
     "output_type": "stream",
     "text": [
      "WARNING: In /tmp/SimpleITK-build/ITK-prefix/include/ITK-5.3/itkImageSeriesReader.hxx, line 478\n",
      "ImageSeriesReader (0x1023979a0): Non uniform sampling or missing slices detected,  maximum nonuniformity:0.000948586\n",
      "\n"
     ]
    },
    {
     "name": "stdout",
     "output_type": "stream",
     "text": [
      "60012423400PZS transformation finished\n",
      "60012423400PZS transformation finished\n"
     ]
    },
    {
     "name": "stderr",
     "output_type": "stream",
     "text": [
      "WARNING: In /tmp/SimpleITK-build/ITK-prefix/include/ITK-5.3/itkImageSeriesReader.hxx, line 478\n",
      "ImageSeriesReader (0x105cb5830): Non uniform sampling or missing slices detected,  maximum nonuniformity:0.000948586\n",
      "\n"
     ]
    },
    {
     "name": "stdout",
     "output_type": "stream",
     "text": [
      "60012423400PZS transformation finished\n"
     ]
    },
    {
     "name": "stderr",
     "output_type": "stream",
     "text": [
      "WARNING: In /tmp/SimpleITK-build/ITK-prefix/include/ITK-5.3/itkImageSeriesReader.hxx, line 478\n",
      "ImageSeriesReader (0x1023979a0): Non uniform sampling or missing slices detected,  maximum nonuniformity:0.000948586\n",
      "\n"
     ]
    },
    {
     "name": "stdout",
     "output_type": "stream",
     "text": [
      "60012423400PZS transformation finished\n"
     ]
    },
    {
     "name": "stderr",
     "output_type": "stream",
     "text": [
      "WARNING: In /tmp/SimpleITK-build/ITK-prefix/include/ITK-5.3/itkImageSeriesReader.hxx, line 478\n",
      "ImageSeriesReader (0x105cf7670): Non uniform sampling or missing slices detected,  maximum nonuniformity:0.000948586\n",
      "\n"
     ]
    },
    {
     "name": "stdout",
     "output_type": "stream",
     "text": [
      "60012423400PZS transformation finished\n"
     ]
    },
    {
     "name": "stderr",
     "output_type": "stream",
     "text": [
      "WARNING: In /tmp/SimpleITK-build/ITK-prefix/include/ITK-5.3/itkImageSeriesReader.hxx, line 478\n",
      "ImageSeriesReader (0x105cf7670): Non uniform sampling or missing slices detected,  maximum nonuniformity:0.000948586\n",
      "\n"
     ]
    },
    {
     "name": "stdout",
     "output_type": "stream",
     "text": [
      "60012423400PZS transformation finished\n"
     ]
    },
    {
     "name": "stderr",
     "output_type": "stream",
     "text": [
      "WARNING: In /tmp/SimpleITK-build/ITK-prefix/include/ITK-5.3/itkImageSeriesReader.hxx, line 478\n",
      "ImageSeriesReader (0x105cc2bd0): Non uniform sampling or missing slices detected,  maximum nonuniformity:0.000948586\n",
      "\n"
     ]
    },
    {
     "name": "stdout",
     "output_type": "stream",
     "text": [
      "60012423400PZS transformation finished\n"
     ]
    },
    {
     "name": "stderr",
     "output_type": "stream",
     "text": [
      "WARNING: In /tmp/SimpleITK-build/ITK-prefix/include/ITK-5.3/itkImageSeriesReader.hxx, line 478\n",
      "ImageSeriesReader (0x105cb5830): Non uniform sampling or missing slices detected,  maximum nonuniformity:0.000948586\n",
      "\n"
     ]
    },
    {
     "name": "stdout",
     "output_type": "stream",
     "text": [
      "60012423400PZS transformation finished\n"
     ]
    },
    {
     "name": "stderr",
     "output_type": "stream",
     "text": [
      "WARNING: In /tmp/SimpleITK-build/ITK-prefix/include/ITK-5.3/itkImageSeriesReader.hxx, line 478\n",
      "ImageSeriesReader (0x102388590): Non uniform sampling or missing slices detected,  maximum nonuniformity:0.000948586\n",
      "\n"
     ]
    },
    {
     "name": "stdout",
     "output_type": "stream",
     "text": [
      "60012423400PZS transformation finished\n"
     ]
    },
    {
     "name": "stderr",
     "output_type": "stream",
     "text": [
      "WARNING: In /tmp/SimpleITK-build/ITK-prefix/include/ITK-5.3/itkImageSeriesReader.hxx, line 478\n",
      "ImageSeriesReader (0x10239ccb0): Non uniform sampling or missing slices detected,  maximum nonuniformity:0.000948586\n",
      "\n"
     ]
    },
    {
     "name": "stdout",
     "output_type": "stream",
     "text": [
      "60012423400PZS transformation finished\n",
      "60012423400PZS transformation finished\n"
     ]
    },
    {
     "name": "stderr",
     "output_type": "stream",
     "text": [
      "WARNING: In /tmp/SimpleITK-build/ITK-prefix/include/ITK-5.3/itkImageSeriesReader.hxx, line 478\n",
      "ImageSeriesReader (0x1023979a0): Non uniform sampling or missing slices detected,  maximum nonuniformity:0.000948586\n",
      "\n"
     ]
    },
    {
     "name": "stdout",
     "output_type": "stream",
     "text": [
      "60012423400PZS transformation finished\n"
     ]
    },
    {
     "name": "stderr",
     "output_type": "stream",
     "text": [
      "WARNING: In /tmp/SimpleITK-build/ITK-prefix/include/ITK-5.3/itkImageSeriesReader.hxx, line 478\n",
      "ImageSeriesReader (0x10239ccb0): Non uniform sampling or missing slices detected,  maximum nonuniformity:0.000948586\n",
      "\n"
     ]
    },
    {
     "name": "stdout",
     "output_type": "stream",
     "text": [
      "60012423400PZS transformation finished\n"
     ]
    },
    {
     "name": "stderr",
     "output_type": "stream",
     "text": [
      "WARNING: In /tmp/SimpleITK-build/ITK-prefix/include/ITK-5.3/itkImageSeriesReader.hxx, line 478\n",
      "ImageSeriesReader (0x10239bee0): Non uniform sampling or missing slices detected,  maximum nonuniformity:0.000948586\n",
      "\n"
     ]
    },
    {
     "name": "stdout",
     "output_type": "stream",
     "text": [
      "60012423400PZS transformation finished\n",
      "60012423400PZS transformation finished\n"
     ]
    },
    {
     "name": "stderr",
     "output_type": "stream",
     "text": [
      "WARNING: In /tmp/SimpleITK-build/ITK-prefix/include/ITK-5.3/itkImageSeriesReader.hxx, line 478\n",
      "ImageSeriesReader (0x1207808a0): Non uniform sampling or missing slices detected,  maximum nonuniformity:0.000948586\n",
      "\n"
     ]
    },
    {
     "name": "stdout",
     "output_type": "stream",
     "text": [
      "60012423400PZS transformation finished\n"
     ]
    },
    {
     "name": "stderr",
     "output_type": "stream",
     "text": [
      "WARNING: In /tmp/SimpleITK-build/ITK-prefix/include/ITK-5.3/itkImageSeriesReader.hxx, line 478\n",
      "ImageSeriesReader (0x102388590): Non uniform sampling or missing slices detected,  maximum nonuniformity:0.000445396\n",
      "\n"
     ]
    },
    {
     "name": "stdout",
     "output_type": "stream",
     "text": [
      "60012423400PZS transformation finished\n"
     ]
    },
    {
     "name": "stderr",
     "output_type": "stream",
     "text": [
      "WARNING: In /tmp/SimpleITK-build/ITK-prefix/include/ITK-5.3/itkImageSeriesReader.hxx, line 478\n",
      "ImageSeriesReader (0x105cf7670): Non uniform sampling or missing slices detected,  maximum nonuniformity:0.000445396\n",
      "\n"
     ]
    },
    {
     "name": "stdout",
     "output_type": "stream",
     "text": [
      "60012423400PZS transformation finished\n"
     ]
    },
    {
     "name": "stderr",
     "output_type": "stream",
     "text": [
      "WARNING: In /tmp/SimpleITK-build/ITK-prefix/include/ITK-5.3/itkImageSeriesReader.hxx, line 478\n",
      "ImageSeriesReader (0x105cf7670): Non uniform sampling or missing slices detected,  maximum nonuniformity:0.000445396\n",
      "\n"
     ]
    },
    {
     "name": "stdout",
     "output_type": "stream",
     "text": [
      "60012423400PZS transformation finished\n",
      "60012423400PZS transformation finished\n"
     ]
    },
    {
     "name": "stderr",
     "output_type": "stream",
     "text": [
      "WARNING: In /tmp/SimpleITK-build/ITK-prefix/include/ITK-5.3/itkImageSeriesReader.hxx, line 478\n",
      "ImageSeriesReader (0x105ce2a90): Non uniform sampling or missing slices detected,  maximum nonuniformity:0.000445396\n",
      "\n"
     ]
    },
    {
     "name": "stdout",
     "output_type": "stream",
     "text": [
      "60012423400PZS transformation finished\n"
     ]
    },
    {
     "name": "stderr",
     "output_type": "stream",
     "text": [
      "WARNING: In /tmp/SimpleITK-build/ITK-prefix/include/ITK-5.3/itkImageSeriesReader.hxx, line 478\n",
      "ImageSeriesReader (0x310311740): Non uniform sampling or missing slices detected,  maximum nonuniformity:171.051\n",
      "\n"
     ]
    },
    {
     "name": "stdout",
     "output_type": "stream",
     "text": [
      "60012423400PZS transformation finished\n"
     ]
    },
    {
     "name": "stderr",
     "output_type": "stream",
     "text": [
      "WARNING: In /tmp/SimpleITK-build/ITK-prefix/include/ITK-5.3/itkImageSeriesReader.hxx, line 478\n",
      "ImageSeriesReader (0x105cf7670): Non uniform sampling or missing slices detected,  maximum nonuniformity:0.000155003\n",
      "\n"
     ]
    },
    {
     "name": "stdout",
     "output_type": "stream",
     "text": [
      "60012423400PZS transformation finished\n",
      "Skipped processing folder /Volumes/MR_analysis/MRCP_DICOM/60012423400PZS/SE45 due to insufficient DICOM files (<5).\n",
      "60012423400PZS transformation finished\n"
     ]
    },
    {
     "name": "stderr",
     "output_type": "stream",
     "text": [
      "WARNING: In /tmp/SimpleITK-build/ITK-prefix/include/ITK-5.3/itkImageSeriesReader.hxx, line 478\n",
      "ImageSeriesReader (0x105cc2bd0): Non uniform sampling or missing slices detected,  maximum nonuniformity:328.153\n",
      "\n",
      "WARNING: In /tmp/SimpleITK-build/ITK-prefix/include/ITK-5.3/itkImageSeriesReader.hxx, line 478\n",
      "ImageSeriesReader (0x105ce2a90): Non uniform sampling or missing slices detected,  maximum nonuniformity:323.233\n",
      "\n"
     ]
    },
    {
     "name": "stdout",
     "output_type": "stream",
     "text": [
      "60012423400PZS transformation finished\n",
      "60012423400PZS transformation finished\n",
      "60012423400PZS transformation finished\n",
      "Skipped processing folder /Volumes/MR_analysis/MRCP_DICOM/60012423400PZS/SE34 due to insufficient DICOM files (<5).\n",
      "60012423400PZS transformation finished\n",
      "60012423400PZS transformation finished\n"
     ]
    },
    {
     "name": "stderr",
     "output_type": "stream",
     "text": [
      "WARNING: In /tmp/SimpleITK-build/ITK-prefix/include/ITK-5.3/itkImageSeriesReader.hxx, line 478\n",
      "ImageSeriesReader (0x105cf7670): Non uniform sampling or missing slices detected,  maximum nonuniformity:328.16\n",
      "\n",
      "WARNING: In /tmp/SimpleITK-build/ITK-prefix/include/ITK-5.3/itkImageSeriesReader.hxx, line 478\n",
      "ImageSeriesReader (0x105cc2bd0): Non uniform sampling or missing slices detected,  maximum nonuniformity:328.16\n",
      "\n"
     ]
    },
    {
     "name": "stdout",
     "output_type": "stream",
     "text": [
      "60012423400PZS transformation finished\n"
     ]
    },
    {
     "name": "stderr",
     "output_type": "stream",
     "text": [
      "WARNING: In /tmp/SimpleITK-build/ITK-prefix/include/ITK-5.3/itkImageSeriesReader.hxx, line 478\n",
      "ImageSeriesReader (0x105cf7670): Non uniform sampling or missing slices detected,  maximum nonuniformity:0.000948586\n",
      "\n"
     ]
    },
    {
     "name": "stdout",
     "output_type": "stream",
     "text": [
      "60012423400PZS transformation finished\n"
     ]
    },
    {
     "name": "stderr",
     "output_type": "stream",
     "text": [
      "WARNING: In /tmp/SimpleITK-build/ITK-prefix/include/ITK-5.3/itkImageSeriesReader.hxx, line 478\n",
      "ImageSeriesReader (0x105ce2a90): Non uniform sampling or missing slices detected,  maximum nonuniformity:0.000948586\n",
      "\n"
     ]
    },
    {
     "name": "stdout",
     "output_type": "stream",
     "text": [
      "60012423400PZS transformation finished\n"
     ]
    },
    {
     "name": "stderr",
     "output_type": "stream",
     "text": [
      "WARNING: In /tmp/SimpleITK-build/ITK-prefix/include/ITK-5.3/itkImageSeriesReader.hxx, line 478\n",
      "ImageSeriesReader (0x10239ccb0): Non uniform sampling or missing slices detected,  maximum nonuniformity:0.000948586\n",
      "\n"
     ]
    },
    {
     "name": "stdout",
     "output_type": "stream",
     "text": [
      "60012423400PZS transformation finished\n"
     ]
    },
    {
     "name": "stderr",
     "output_type": "stream",
     "text": [
      "WARNING: In /tmp/SimpleITK-build/ITK-prefix/include/ITK-5.3/itkImageSeriesReader.hxx, line 478\n",
      "ImageSeriesReader (0x105cc2bd0): Non uniform sampling or missing slices detected,  maximum nonuniformity:0.000948586\n",
      "\n"
     ]
    },
    {
     "name": "stdout",
     "output_type": "stream",
     "text": [
      "60012423400PZS transformation finished\n",
      "60012423400PZS transformation finished\n"
     ]
    },
    {
     "name": "stderr",
     "output_type": "stream",
     "text": [
      "WARNING: In /tmp/SimpleITK-build/ITK-prefix/include/ITK-5.3/itkImageSeriesReader.hxx, line 478\n",
      "ImageSeriesReader (0x10239b8e0): Non uniform sampling or missing slices detected,  maximum nonuniformity:337.371\n",
      "\n"
     ]
    },
    {
     "name": "stdout",
     "output_type": "stream",
     "text": [
      "60013890111FY transformation finished\n"
     ]
    },
    {
     "name": "stderr",
     "output_type": "stream",
     "text": [
      "WARNING: In /tmp/SimpleITK-build/ITK-prefix/include/ITK-5.3/itkImageSeriesReader.hxx, line 478\n",
      "ImageSeriesReader (0x102388590): Non uniform sampling or missing slices detected,  maximum nonuniformity:543.784\n",
      "\n"
     ]
    },
    {
     "name": "stdout",
     "output_type": "stream",
     "text": [
      "60013890111FY transformation finished\n"
     ]
    },
    {
     "name": "stderr",
     "output_type": "stream",
     "text": [
      "WARNING: In /tmp/SimpleITK-build/ITK-prefix/include/ITK-5.3/itkImageSeriesReader.hxx, line 478\n",
      "ImageSeriesReader (0x10239ccb0): Non uniform sampling or missing slices detected,  maximum nonuniformity:219.04\n",
      "\n"
     ]
    },
    {
     "name": "stdout",
     "output_type": "stream",
     "text": [
      "60013890111FY transformation finished\n"
     ]
    },
    {
     "name": "stderr",
     "output_type": "stream",
     "text": [
      "WARNING: In /tmp/SimpleITK-build/ITK-prefix/include/ITK-5.3/itkImageSeriesReader.hxx, line 478\n",
      "ImageSeriesReader (0x10239e800): Non uniform sampling or missing slices detected,  maximum nonuniformity:0.000748962\n",
      "\n"
     ]
    },
    {
     "name": "stdout",
     "output_type": "stream",
     "text": [
      "60013890111FY transformation finished\n"
     ]
    },
    {
     "name": "stderr",
     "output_type": "stream",
     "text": [
      "WARNING: In /tmp/SimpleITK-build/ITK-prefix/include/ITK-5.3/itkImageSeriesReader.hxx, line 478\n",
      "ImageSeriesReader (0x1023a41e0): Non uniform sampling or missing slices detected,  maximum nonuniformity:0.000747403\n",
      "\n"
     ]
    },
    {
     "name": "stdout",
     "output_type": "stream",
     "text": [
      "60013890111FY transformation finished\n"
     ]
    },
    {
     "name": "stderr",
     "output_type": "stream",
     "text": [
      "WARNING: In /tmp/SimpleITK-build/ITK-prefix/include/ITK-5.3/itkImageSeriesReader.hxx, line 478\n",
      "ImageSeriesReader (0x102388590): Non uniform sampling or missing slices detected,  maximum nonuniformity:0.000747403\n",
      "\n",
      "WARNING: In /tmp/SimpleITK-build/ITK-prefix/include/ITK-5.3/itkImageSeriesReader.hxx, line 478\n",
      "ImageSeriesReader (0x10239ccb0): Non uniform sampling or missing slices detected,  maximum nonuniformity:328.154\n",
      "\n"
     ]
    },
    {
     "name": "stdout",
     "output_type": "stream",
     "text": [
      "60013890111FY transformation finished\n",
      "60013890111FY transformation finished\n",
      "Skipped processing folder /Volumes/MR_analysis/MRCP_DICOM/60013890111FY/SE22 due to insufficient DICOM files (<5).\n"
     ]
    },
    {
     "name": "stderr",
     "output_type": "stream",
     "text": [
      "WARNING: In /tmp/SimpleITK-build/ITK-prefix/include/ITK-5.3/itkImageSeriesReader.hxx, line 478\n",
      "ImageSeriesReader (0x10239bee0): Non uniform sampling or missing slices detected,  maximum nonuniformity:0.000588227\n",
      "\n"
     ]
    },
    {
     "name": "stdout",
     "output_type": "stream",
     "text": [
      "60013890111FY transformation finished\n",
      "60013890111FY transformation finished\n"
     ]
    },
    {
     "name": "stderr",
     "output_type": "stream",
     "text": [
      "WARNING: In /tmp/SimpleITK-build/ITK-prefix/include/ITK-5.3/itkImageSeriesReader.hxx, line 478\n",
      "ImageSeriesReader (0x105cc2bd0): Non uniform sampling or missing slices detected,  maximum nonuniformity:39.3042\n",
      "\n",
      "WARNING: In /tmp/SimpleITK-build/ITK-prefix/include/ITK-5.3/itkImageSeriesReader.hxx, line 478\n",
      "ImageSeriesReader (0x105cb5830): Non uniform sampling or missing slices detected,  maximum nonuniformity:39.3042\n",
      "\n"
     ]
    },
    {
     "name": "stdout",
     "output_type": "stream",
     "text": [
      "60013890111FY transformation finished\n"
     ]
    },
    {
     "name": "stderr",
     "output_type": "stream",
     "text": [
      "WARNING: In /tmp/SimpleITK-build/ITK-prefix/include/ITK-5.3/itkImageSeriesReader.hxx, line 478\n",
      "ImageSeriesReader (0x105cb5830): Non uniform sampling or missing slices detected,  maximum nonuniformity:0.00027545\n",
      "\n"
     ]
    },
    {
     "name": "stdout",
     "output_type": "stream",
     "text": [
      "60013890111FY transformation finished\n",
      "Skipped processing folder /Volumes/MR_analysis/MRCP_DICOM/60013890111FY/SE35 due to insufficient DICOM files (<5).\n",
      "60013890111FY transformation finished\n"
     ]
    },
    {
     "name": "stderr",
     "output_type": "stream",
     "text": [
      "WARNING: In /tmp/SimpleITK-build/ITK-prefix/include/ITK-5.3/itkImageSeriesReader.hxx, line 478\n",
      "ImageSeriesReader (0x105cf7670): Non uniform sampling or missing slices detected,  maximum nonuniformity:85.3658\n",
      "\n"
     ]
    },
    {
     "name": "stdout",
     "output_type": "stream",
     "text": [
      "60013890111FY transformation finished\n"
     ]
    },
    {
     "name": "stderr",
     "output_type": "stream",
     "text": [
      "WARNING: In /tmp/SimpleITK-build/ITK-prefix/include/ITK-5.3/itkImageSeriesReader.hxx, line 478\n",
      "ImageSeriesReader (0x10239b8e0): Non uniform sampling or missing slices detected,  maximum nonuniformity:0.000949284\n",
      "\n"
     ]
    },
    {
     "name": "stdout",
     "output_type": "stream",
     "text": [
      "60013890111FY transformation finished\n",
      "60013890111FY transformation finished\n"
     ]
    },
    {
     "name": "stderr",
     "output_type": "stream",
     "text": [
      "WARNING: In /tmp/SimpleITK-build/ITK-prefix/include/ITK-5.3/itkImageSeriesReader.hxx, line 478\n",
      "ImageSeriesReader (0x105cb5830): Non uniform sampling or missing slices detected,  maximum nonuniformity:0.000949284\n",
      "\n"
     ]
    },
    {
     "name": "stdout",
     "output_type": "stream",
     "text": [
      "60013890111FY transformation finished\n"
     ]
    },
    {
     "name": "stderr",
     "output_type": "stream",
     "text": [
      "WARNING: In /tmp/SimpleITK-build/ITK-prefix/include/ITK-5.3/itkImageSeriesReader.hxx, line 478\n",
      "ImageSeriesReader (0x105cf7670): Non uniform sampling or missing slices detected,  maximum nonuniformity:0.000949284\n",
      "\n"
     ]
    },
    {
     "name": "stdout",
     "output_type": "stream",
     "text": [
      "60013890111FY transformation finished\n"
     ]
    },
    {
     "name": "stderr",
     "output_type": "stream",
     "text": [
      "WARNING: In /tmp/SimpleITK-build/ITK-prefix/include/ITK-5.3/itkImageSeriesReader.hxx, line 478\n",
      "ImageSeriesReader (0x105cb5830): Non uniform sampling or missing slices detected,  maximum nonuniformity:0.000949284\n",
      "\n"
     ]
    },
    {
     "name": "stdout",
     "output_type": "stream",
     "text": [
      "60013890111FY transformation finished\n"
     ]
    },
    {
     "name": "stderr",
     "output_type": "stream",
     "text": [
      "WARNING: In /tmp/SimpleITK-build/ITK-prefix/include/ITK-5.3/itkImageSeriesReader.hxx, line 478\n",
      "ImageSeriesReader (0x105cf7670): Non uniform sampling or missing slices detected,  maximum nonuniformity:0.000949284\n",
      "\n"
     ]
    },
    {
     "name": "stdout",
     "output_type": "stream",
     "text": [
      "60013890111FY transformation finished\n",
      "60013890111FY transformation finished\n"
     ]
    },
    {
     "name": "stderr",
     "output_type": "stream",
     "text": [
      "WARNING: In /tmp/SimpleITK-build/ITK-prefix/include/ITK-5.3/itkImageSeriesReader.hxx, line 478\n",
      "ImageSeriesReader (0x1023979a0): Non uniform sampling or missing slices detected,  maximum nonuniformity:0.000949284\n",
      "\n"
     ]
    },
    {
     "name": "stdout",
     "output_type": "stream",
     "text": [
      "60013890111FY transformation finished\n"
     ]
    },
    {
     "name": "stderr",
     "output_type": "stream",
     "text": [
      "WARNING: In /tmp/SimpleITK-build/ITK-prefix/include/ITK-5.3/itkImageSeriesReader.hxx, line 478\n",
      "ImageSeriesReader (0x10239f2a0): Non uniform sampling or missing slices detected,  maximum nonuniformity:0.000949284\n",
      "\n"
     ]
    },
    {
     "name": "stdout",
     "output_type": "stream",
     "text": [
      "60013890111FY transformation finished\n"
     ]
    },
    {
     "name": "stderr",
     "output_type": "stream",
     "text": [
      "WARNING: In /tmp/SimpleITK-build/ITK-prefix/include/ITK-5.3/itkImageSeriesReader.hxx, line 478\n",
      "ImageSeriesReader (0x10239ccb0): Non uniform sampling or missing slices detected,  maximum nonuniformity:0.000949284\n",
      "\n"
     ]
    },
    {
     "name": "stdout",
     "output_type": "stream",
     "text": [
      "60013890111FY transformation finished\n"
     ]
    },
    {
     "name": "stderr",
     "output_type": "stream",
     "text": [
      "WARNING: In /tmp/SimpleITK-build/ITK-prefix/include/ITK-5.3/itkImageSeriesReader.hxx, line 478\n",
      "ImageSeriesReader (0x10239b8e0): Non uniform sampling or missing slices detected,  maximum nonuniformity:0.000949284\n",
      "\n"
     ]
    },
    {
     "name": "stdout",
     "output_type": "stream",
     "text": [
      "60013890111FY transformation finished\n"
     ]
    },
    {
     "name": "stderr",
     "output_type": "stream",
     "text": [
      "WARNING: In /tmp/SimpleITK-build/ITK-prefix/include/ITK-5.3/itkImageSeriesReader.hxx, line 478\n",
      "ImageSeriesReader (0x10239ccb0): Non uniform sampling or missing slices detected,  maximum nonuniformity:0.000949284\n",
      "\n"
     ]
    },
    {
     "name": "stdout",
     "output_type": "stream",
     "text": [
      "60013890111FY transformation finished\n",
      "60013890111FY transformation finished\n"
     ]
    },
    {
     "name": "stderr",
     "output_type": "stream",
     "text": [
      "WARNING: In /tmp/SimpleITK-build/ITK-prefix/include/ITK-5.3/itkImageSeriesReader.hxx, line 478\n",
      "ImageSeriesReader (0x10239ccb0): Non uniform sampling or missing slices detected,  maximum nonuniformity:0.000949284\n",
      "\n"
     ]
    },
    {
     "name": "stdout",
     "output_type": "stream",
     "text": [
      "60013890111FY transformation finished\n"
     ]
    },
    {
     "name": "stderr",
     "output_type": "stream",
     "text": [
      "WARNING: In /tmp/SimpleITK-build/ITK-prefix/include/ITK-5.3/itkImageSeriesReader.hxx, line 478\n",
      "ImageSeriesReader (0x105cc2bd0): Non uniform sampling or missing slices detected,  maximum nonuniformity:0.000949284\n",
      "\n"
     ]
    },
    {
     "name": "stdout",
     "output_type": "stream",
     "text": [
      "60013890111FY transformation finished\n"
     ]
    },
    {
     "name": "stderr",
     "output_type": "stream",
     "text": [
      "WARNING: In /tmp/SimpleITK-build/ITK-prefix/include/ITK-5.3/itkImageSeriesReader.hxx, line 478\n",
      "ImageSeriesReader (0x105cf7670): Non uniform sampling or missing slices detected,  maximum nonuniformity:0.000949284\n",
      "\n"
     ]
    },
    {
     "name": "stdout",
     "output_type": "stream",
     "text": [
      "60013890111FY transformation finished\n"
     ]
    },
    {
     "name": "stderr",
     "output_type": "stream",
     "text": [
      "WARNING: In /tmp/SimpleITK-build/ITK-prefix/include/ITK-5.3/itkImageSeriesReader.hxx, line 478\n",
      "ImageSeriesReader (0x105cb5830): Non uniform sampling or missing slices detected,  maximum nonuniformity:0.000949284\n",
      "\n"
     ]
    },
    {
     "name": "stdout",
     "output_type": "stream",
     "text": [
      "60013890111FY transformation finished\n",
      "60013890111FY transformation finished\n"
     ]
    },
    {
     "name": "stderr",
     "output_type": "stream",
     "text": [
      "WARNING: In /tmp/SimpleITK-build/ITK-prefix/include/ITK-5.3/itkImageSeriesReader.hxx, line 478\n",
      "ImageSeriesReader (0x105cb5830): Non uniform sampling or missing slices detected,  maximum nonuniformity:0.000949284\n",
      "\n"
     ]
    },
    {
     "name": "stdout",
     "output_type": "stream",
     "text": [
      "60013890111FY transformation finished\n"
     ]
    },
    {
     "name": "stderr",
     "output_type": "stream",
     "text": [
      "WARNING: In /tmp/SimpleITK-build/ITK-prefix/include/ITK-5.3/itkImageSeriesReader.hxx, line 478\n",
      "ImageSeriesReader (0x105ce2a90): Non uniform sampling or missing slices detected,  maximum nonuniformity:0.000949284\n",
      "\n"
     ]
    },
    {
     "name": "stdout",
     "output_type": "stream",
     "text": [
      "60013890111FY transformation finished\n"
     ]
    },
    {
     "name": "stderr",
     "output_type": "stream",
     "text": [
      "WARNING: In /tmp/SimpleITK-build/ITK-prefix/include/ITK-5.3/itkImageSeriesReader.hxx, line 478\n",
      "ImageSeriesReader (0x105cc2bd0): Non uniform sampling or missing slices detected,  maximum nonuniformity:0.000346974\n",
      "\n"
     ]
    },
    {
     "name": "stdout",
     "output_type": "stream",
     "text": [
      "60013890111FY transformation finished\n"
     ]
    },
    {
     "name": "stderr",
     "output_type": "stream",
     "text": [
      "WARNING: In /tmp/SimpleITK-build/ITK-prefix/include/ITK-5.3/itkImageSeriesReader.hxx, line 478\n",
      "ImageSeriesReader (0x105ce2a90): Non uniform sampling or missing slices detected,  maximum nonuniformity:0.000346974\n",
      "\n"
     ]
    },
    {
     "name": "stdout",
     "output_type": "stream",
     "text": [
      "60013890111FY transformation finished\n"
     ]
    },
    {
     "name": "stderr",
     "output_type": "stream",
     "text": [
      "WARNING: In /tmp/SimpleITK-build/ITK-prefix/include/ITK-5.3/itkImageSeriesReader.hxx, line 478\n",
      "ImageSeriesReader (0x105ce2a90): Non uniform sampling or missing slices detected,  maximum nonuniformity:0.000346974\n",
      "\n"
     ]
    },
    {
     "name": "stdout",
     "output_type": "stream",
     "text": [
      "60013890111FY transformation finished\n",
      "60013890111FY transformation finished\n"
     ]
    },
    {
     "name": "stderr",
     "output_type": "stream",
     "text": [
      "WARNING: In /tmp/SimpleITK-build/ITK-prefix/include/ITK-5.3/itkImageSeriesReader.hxx, line 478\n",
      "ImageSeriesReader (0x10239b8e0): Non uniform sampling or missing slices detected,  maximum nonuniformity:0.000346974\n",
      "\n"
     ]
    },
    {
     "name": "stdout",
     "output_type": "stream",
     "text": [
      "60013890111FY transformation finished\n"
     ]
    },
    {
     "name": "stderr",
     "output_type": "stream",
     "text": [
      "WARNING: In /tmp/SimpleITK-build/ITK-prefix/include/ITK-5.3/itkImageSeriesReader.hxx, line 478\n",
      "ImageSeriesReader (0x10239b8e0): Non uniform sampling or missing slices detected,  maximum nonuniformity:219.04\n",
      "\n"
     ]
    },
    {
     "name": "stdout",
     "output_type": "stream",
     "text": [
      "60013890111FY transformation finished\n",
      "Skipped processing folder /Volumes/MR_analysis/MRCP_DICOM/60013890111FY/SE15 due to insufficient DICOM files (<5).\n"
     ]
    },
    {
     "name": "stderr",
     "output_type": "stream",
     "text": [
      "WARNING: In /tmp/SimpleITK-build/ITK-prefix/include/ITK-5.3/itkImageSeriesReader.hxx, line 478\n",
      "ImageSeriesReader (0x10239f2a0): Non uniform sampling or missing slices detected,  maximum nonuniformity:0.000588227\n",
      "\n"
     ]
    },
    {
     "name": "stdout",
     "output_type": "stream",
     "text": [
      "60013890111FY transformation finished\n",
      "60013890111FY transformation finished\n"
     ]
    },
    {
     "name": "stderr",
     "output_type": "stream",
     "text": [
      "WARNING: In /tmp/SimpleITK-build/ITK-prefix/include/ITK-5.3/itkImageSeriesReader.hxx, line 478\n",
      "ImageSeriesReader (0x10239b8e0): Non uniform sampling or missing slices detected,  maximum nonuniformity:280.558\n",
      "\n",
      "WARNING: In /tmp/SimpleITK-build/ITK-prefix/include/ITK-5.3/itkImageSeriesReader.hxx, line 478\n",
      "ImageSeriesReader (0x1023979a0): Non uniform sampling or missing slices detected,  maximum nonuniformity:328.16\n",
      "\n"
     ]
    },
    {
     "name": "stdout",
     "output_type": "stream",
     "text": [
      "60013890111FY transformation finished\n",
      "60013890111FY transformation finished\n"
     ]
    },
    {
     "name": "stderr",
     "output_type": "stream",
     "text": [
      "WARNING: In /tmp/SimpleITK-build/ITK-prefix/include/ITK-5.3/itkImageSeriesReader.hxx, line 478\n",
      "ImageSeriesReader (0x102381940): Non uniform sampling or missing slices detected,  maximum nonuniformity:0.000744701\n",
      "\n",
      "WARNING: In /tmp/SimpleITK-build/ITK-prefix/include/ITK-5.3/itkImageSeriesReader.hxx, line 478\n",
      "ImageSeriesReader (0x1023ced10): Non uniform sampling or missing slices detected,  maximum nonuniformity:0.000744701\n",
      "\n"
     ]
    },
    {
     "name": "stdout",
     "output_type": "stream",
     "text": [
      "60013890111FY transformation finished\n",
      "Skipped processing folder /Volumes/MR_analysis/MRCP_DICOM/60013890111FY/SE31 due to insufficient DICOM files (<5).\n"
     ]
    },
    {
     "name": "stderr",
     "output_type": "stream",
     "text": [
      "WARNING: In /tmp/SimpleITK-build/ITK-prefix/include/ITK-5.3/itkImageSeriesReader.hxx, line 478\n",
      "ImageSeriesReader (0x10239b8e0): Non uniform sampling or missing slices detected,  maximum nonuniformity:0.00027545\n",
      "\n"
     ]
    },
    {
     "name": "stdout",
     "output_type": "stream",
     "text": [
      "60013890111FY transformation finished\n",
      "60013890111FY transformation finished\n"
     ]
    },
    {
     "name": "stderr",
     "output_type": "stream",
     "text": [
      "WARNING: In /tmp/SimpleITK-build/ITK-prefix/include/ITK-5.3/itkImageSeriesReader.hxx, line 478\n",
      "ImageSeriesReader (0x102388590): Non uniform sampling or missing slices detected,  maximum nonuniformity:280.558\n",
      "\n",
      "WARNING: In /tmp/SimpleITK-build/ITK-prefix/include/ITK-5.3/itkImageSeriesReader.hxx, line 478\n",
      "ImageSeriesReader (0x102388590): Non uniform sampling or missing slices detected,  maximum nonuniformity:328.153\n",
      "\n"
     ]
    },
    {
     "name": "stdout",
     "output_type": "stream",
     "text": [
      "60013890111FY transformation finished\n"
     ]
    },
    {
     "name": "stderr",
     "output_type": "stream",
     "text": [
      "WARNING: In /tmp/SimpleITK-build/ITK-prefix/include/ITK-5.3/itkImageSeriesReader.hxx, line 478\n",
      "ImageSeriesReader (0x10239b8e0): Non uniform sampling or missing slices detected,  maximum nonuniformity:0.000949284\n",
      "\n"
     ]
    },
    {
     "name": "stdout",
     "output_type": "stream",
     "text": [
      "60013890111FY transformation finished\n"
     ]
    },
    {
     "name": "stderr",
     "output_type": "stream",
     "text": [
      "WARNING: In /tmp/SimpleITK-build/ITK-prefix/include/ITK-5.3/itkImageSeriesReader.hxx, line 478\n",
      "ImageSeriesReader (0x10239b8e0): Non uniform sampling or missing slices detected,  maximum nonuniformity:0.000949284\n",
      "\n"
     ]
    },
    {
     "name": "stdout",
     "output_type": "stream",
     "text": [
      "60013890111FY transformation finished\n"
     ]
    },
    {
     "name": "stderr",
     "output_type": "stream",
     "text": [
      "WARNING: In /tmp/SimpleITK-build/ITK-prefix/include/ITK-5.3/itkImageSeriesReader.hxx, line 478\n",
      "ImageSeriesReader (0x1023979a0): Non uniform sampling or missing slices detected,  maximum nonuniformity:0.000949284\n",
      "\n"
     ]
    },
    {
     "name": "stdout",
     "output_type": "stream",
     "text": [
      "60013890111FY transformation finished\n",
      "60013890111FY transformation finished\n"
     ]
    },
    {
     "name": "stderr",
     "output_type": "stream",
     "text": [
      "WARNING: In /tmp/SimpleITK-build/ITK-prefix/include/ITK-5.3/itkImageSeriesReader.hxx, line 478\n",
      "ImageSeriesReader (0x10239b8e0): Non uniform sampling or missing slices detected,  maximum nonuniformity:0.000949284\n",
      "\n"
     ]
    },
    {
     "name": "stdout",
     "output_type": "stream",
     "text": [
      "60013890111FY transformation finished\n"
     ]
    },
    {
     "name": "stderr",
     "output_type": "stream",
     "text": [
      "WARNING: In /tmp/SimpleITK-build/ITK-prefix/include/ITK-5.3/itkImageSeriesReader.hxx, line 478\n",
      "ImageSeriesReader (0x105ce2a90): Non uniform sampling or missing slices detected,  maximum nonuniformity:337.371\n",
      "\n"
     ]
    },
    {
     "name": "stdout",
     "output_type": "stream",
     "text": [
      "60014529404YSF transformation finished\n"
     ]
    },
    {
     "name": "stderr",
     "output_type": "stream",
     "text": [
      "WARNING: In /tmp/SimpleITK-build/ITK-prefix/include/ITK-5.3/itkImageSeriesReader.hxx, line 478\n",
      "ImageSeriesReader (0x105cc2bd0): Non uniform sampling or missing slices detected,  maximum nonuniformity:543.784\n",
      "\n"
     ]
    },
    {
     "name": "stdout",
     "output_type": "stream",
     "text": [
      "60014529404YSF transformation finished\n",
      "60014529404YSF transformation finished\n"
     ]
    },
    {
     "name": "stderr",
     "output_type": "stream",
     "text": [
      "WARNING: In /tmp/SimpleITK-build/ITK-prefix/include/ITK-5.3/itkImageSeriesReader.hxx, line 478\n",
      "ImageSeriesReader (0x105cc2bd0): Non uniform sampling or missing slices detected,  maximum nonuniformity:137.286\n",
      "\n"
     ]
    },
    {
     "name": "stdout",
     "output_type": "stream",
     "text": [
      "60014529404YSF transformation finished\n",
      "60014529404YSF transformation finished\n",
      "60014529404YSF transformation finished\n",
      "60014529404YSF transformation finished\n"
     ]
    },
    {
     "name": "stderr",
     "output_type": "stream",
     "text": [
      "WARNING: In /tmp/SimpleITK-build/ITK-prefix/include/ITK-5.3/itkImageSeriesReader.hxx, line 478\n",
      "ImageSeriesReader (0x105cf7670): Non uniform sampling or missing slices detected,  maximum nonuniformity:0.00079834\n",
      "\n"
     ]
    },
    {
     "name": "stdout",
     "output_type": "stream",
     "text": [
      "60014529404YSF transformation finished\n",
      "Skipped processing folder /Volumes/MR_analysis/MRCP_DICOM/60014529404YSF/SE24 due to insufficient DICOM files (<5).\n",
      "60014529404YSF transformation finished\n"
     ]
    },
    {
     "name": "stderr",
     "output_type": "stream",
     "text": [
      "WARNING: In /tmp/SimpleITK-build/ITK-prefix/include/ITK-5.3/itkImageSeriesReader.hxx, line 478\n",
      "ImageSeriesReader (0x105cb5830): Non uniform sampling or missing slices detected,  maximum nonuniformity:328.16\n",
      "\n",
      "WARNING: In /tmp/SimpleITK-build/ITK-prefix/include/ITK-5.3/itkImageSeriesReader.hxx, line 478\n",
      "ImageSeriesReader (0x105cf7670): Non uniform sampling or missing slices detected,  maximum nonuniformity:328.16\n",
      "\n"
     ]
    },
    {
     "name": "stdout",
     "output_type": "stream",
     "text": [
      "60014529404YSF transformation finished\n"
     ]
    },
    {
     "name": "stderr",
     "output_type": "stream",
     "text": [
      "WARNING: In /tmp/SimpleITK-build/ITK-prefix/include/ITK-5.3/itkImageSeriesReader.hxx, line 478\n",
      "ImageSeriesReader (0x105ce7f80): Non uniform sampling or missing slices detected,  maximum nonuniformity:0.000462009\n",
      "\n"
     ]
    },
    {
     "name": "stdout",
     "output_type": "stream",
     "text": [
      "60014529404YSF transformation finished\n",
      "Skipped processing folder /Volumes/MR_analysis/MRCP_DICOM/60014529404YSF/SE44 due to insufficient DICOM files (<5).\n",
      "60014529404YSF transformation finished\n"
     ]
    },
    {
     "name": "stderr",
     "output_type": "stream",
     "text": [
      "WARNING: In /tmp/SimpleITK-build/ITK-prefix/include/ITK-5.3/itkImageSeriesReader.hxx, line 478\n",
      "ImageSeriesReader (0x105cc2bd0): Non uniform sampling or missing slices detected,  maximum nonuniformity:280.558\n",
      "\n",
      "WARNING: In /tmp/SimpleITK-build/ITK-prefix/include/ITK-5.3/itkImageSeriesReader.hxx, line 478\n",
      "ImageSeriesReader (0x105cb5830): Non uniform sampling or missing slices detected,  maximum nonuniformity:328.16\n",
      "\n"
     ]
    },
    {
     "name": "stdout",
     "output_type": "stream",
     "text": [
      "60014529404YSF transformation finished\n"
     ]
    },
    {
     "name": "stderr",
     "output_type": "stream",
     "text": [
      "WARNING: In /tmp/SimpleITK-build/ITK-prefix/include/ITK-5.3/itkImageSeriesReader.hxx, line 478\n",
      "ImageSeriesReader (0x105cc2bd0): Non uniform sampling or missing slices detected,  maximum nonuniformity:137.286\n",
      "\n"
     ]
    },
    {
     "name": "stdout",
     "output_type": "stream",
     "text": [
      "60014529404YSF transformation finished\n",
      "60014529404YSF transformation finished\n",
      "60014529404YSF transformation finished\n",
      "60014529404YSF transformation finished\n",
      "60014529404YSF transformation finished\n",
      "60014529404YSF transformation finished\n",
      "60014529404YSF transformation finished\n",
      "60014529404YSF transformation finished\n",
      "60014529404YSF transformation finished\n",
      "60014529404YSF transformation finished\n",
      "60014529404YSF transformation finished\n",
      "60014529404YSF transformation finished\n",
      "60014529404YSF transformation finished\n",
      "60014529404YSF transformation finished\n",
      "60014529404YSF transformation finished\n",
      "60014529404YSF transformation finished\n",
      "60014529404YSF transformation finished\n",
      "60014529404YSF transformation finished\n",
      "60014529404YSF transformation finished\n",
      "60014529404YSF transformation finished\n",
      "60014529404YSF transformation finished\n",
      "60014529404YSF transformation finished\n",
      "60014529404YSF transformation finished\n",
      "60014529404YSF transformation finished\n",
      "60014529404YSF transformation finished\n",
      "60014529404YSF transformation finished\n",
      "60014529404YSF transformation finished\n",
      "60014529404YSF transformation finished\n",
      "Skipped processing folder /Volumes/MR_analysis/MRCP_DICOM/60014529404YSF/SE19 due to insufficient DICOM files (<5).\n"
     ]
    },
    {
     "name": "stderr",
     "output_type": "stream",
     "text": [
      "WARNING: In /tmp/SimpleITK-build/ITK-prefix/include/ITK-5.3/itkImageSeriesReader.hxx, line 478\n",
      "ImageSeriesReader (0x1023979a0): Non uniform sampling or missing slices detected,  maximum nonuniformity:0.00079834\n",
      "\n"
     ]
    },
    {
     "name": "stdout",
     "output_type": "stream",
     "text": [
      "60014529404YSF transformation finished\n",
      "60014529404YSF transformation finished\n"
     ]
    },
    {
     "name": "stderr",
     "output_type": "stream",
     "text": [
      "WARNING: In /tmp/SimpleITK-build/ITK-prefix/include/ITK-5.3/itkImageSeriesReader.hxx, line 478\n",
      "ImageSeriesReader (0x102388590): Non uniform sampling or missing slices detected,  maximum nonuniformity:328.153\n",
      "\n",
      "WARNING: In /tmp/SimpleITK-build/ITK-prefix/include/ITK-5.3/itkImageSeriesReader.hxx, line 478\n",
      "ImageSeriesReader (0x10239b8e0): Non uniform sampling or missing slices detected,  maximum nonuniformity:328.153\n",
      "\n"
     ]
    },
    {
     "name": "stdout",
     "output_type": "stream",
     "text": [
      "60014529404YSF transformation finished\n"
     ]
    },
    {
     "name": "stderr",
     "output_type": "stream",
     "text": [
      "WARNING: In /tmp/SimpleITK-build/ITK-prefix/include/ITK-5.3/itkImageSeriesReader.hxx, line 478\n",
      "ImageSeriesReader (0x102388590): Non uniform sampling or missing slices detected,  maximum nonuniformity:0.000462009\n",
      "\n"
     ]
    },
    {
     "name": "stdout",
     "output_type": "stream",
     "text": [
      "60014529404YSF transformation finished\n",
      "Skipped processing folder /Volumes/MR_analysis/MRCP_DICOM/60014529404YSF/SE26 due to insufficient DICOM files (<5).\n",
      "60014529404YSF transformation finished\n"
     ]
    },
    {
     "name": "stderr",
     "output_type": "stream",
     "text": [
      "WARNING: In /tmp/SimpleITK-build/ITK-prefix/include/ITK-5.3/itkImageSeriesReader.hxx, line 478\n",
      "ImageSeriesReader (0x10239b8e0): Non uniform sampling or missing slices detected,  maximum nonuniformity:328.16\n",
      "\n",
      "WARNING: In /tmp/SimpleITK-build/ITK-prefix/include/ITK-5.3/itkImageSeriesReader.hxx, line 478\n",
      "ImageSeriesReader (0x102388590): Non uniform sampling or missing slices detected,  maximum nonuniformity:323.24\n",
      "\n"
     ]
    },
    {
     "name": "stdout",
     "output_type": "stream",
     "text": [
      "60014529404YSF transformation finished\n",
      "60014529404YSF transformation finished\n",
      "60014529404YSF transformation finished\n",
      "60014529404YSF transformation finished\n",
      "60014529404YSF transformation finished\n",
      "60014529404YSF transformation finished\n"
     ]
    },
    {
     "name": "stderr",
     "output_type": "stream",
     "text": [
      "WARNING: In /tmp/SimpleITK-build/ITK-prefix/include/ITK-5.3/itkImageSeriesReader.hxx, line 478\n",
      "ImageSeriesReader (0x105cc2bd0): Non uniform sampling or missing slices detected,  maximum nonuniformity:337.371\n",
      "\n"
     ]
    },
    {
     "name": "stdout",
     "output_type": "stream",
     "text": [
      "60014647206GAH transformation finished\n"
     ]
    },
    {
     "name": "stderr",
     "output_type": "stream",
     "text": [
      "WARNING: In /tmp/SimpleITK-build/ITK-prefix/include/ITK-5.3/itkImageSeriesReader.hxx, line 478\n",
      "ImageSeriesReader (0x105cc2bd0): Non uniform sampling or missing slices detected,  maximum nonuniformity:543.784\n",
      "\n"
     ]
    },
    {
     "name": "stdout",
     "output_type": "stream",
     "text": [
      "60014647206GAH transformation finished\n"
     ]
    },
    {
     "name": "stderr",
     "output_type": "stream",
     "text": [
      "WARNING: In /tmp/SimpleITK-build/ITK-prefix/include/ITK-5.3/itkImageSeriesReader.hxx, line 478\n",
      "ImageSeriesReader (0x105cf7670): Non uniform sampling or missing slices detected,  maximum nonuniformity:183.048\n",
      "\n"
     ]
    },
    {
     "name": "stdout",
     "output_type": "stream",
     "text": [
      "60014647206GAH transformation finished\n",
      "60014647206GAH transformation finished\n",
      "60014647206GAH transformation finished\n",
      "60014647206GAH transformation finished\n"
     ]
    },
    {
     "name": "stderr",
     "output_type": "stream",
     "text": [
      "WARNING: In /tmp/SimpleITK-build/ITK-prefix/include/ITK-5.3/itkImageSeriesReader.hxx, line 478\n",
      "ImageSeriesReader (0x14035bb30): Non uniform sampling or missing slices detected,  maximum nonuniformity:0.000199491\n",
      "\n"
     ]
    },
    {
     "name": "stdout",
     "output_type": "stream",
     "text": [
      "60014647206GAH transformation finished\n",
      "Skipped processing folder /Volumes/MR_analysis/MRCP_DICOM/60014647206GAH/SE27 due to insufficient DICOM files (<5).\n",
      "60014647206GAH transformation finished\n"
     ]
    },
    {
     "name": "stderr",
     "output_type": "stream",
     "text": [
      "WARNING: In /tmp/SimpleITK-build/ITK-prefix/include/ITK-5.3/itkImageSeriesReader.hxx, line 478\n",
      "ImageSeriesReader (0x3105042c0): Non uniform sampling or missing slices detected,  maximum nonuniformity:328.153\n",
      "\n",
      "WARNING: In /tmp/SimpleITK-build/ITK-prefix/include/ITK-5.3/itkImageSeriesReader.hxx, line 478\n",
      "ImageSeriesReader (0x105cf7670): Non uniform sampling or missing slices detected,  maximum nonuniformity:328.153\n",
      "\n"
     ]
    },
    {
     "name": "stdout",
     "output_type": "stream",
     "text": [
      "60014647206GAH transformation finished\n"
     ]
    },
    {
     "name": "stderr",
     "output_type": "stream",
     "text": [
      "WARNING: In /tmp/SimpleITK-build/ITK-prefix/include/ITK-5.3/itkImageSeriesReader.hxx, line 478\n",
      "ImageSeriesReader (0x310305670): Non uniform sampling or missing slices detected,  maximum nonuniformity:0.000229758\n",
      "\n"
     ]
    },
    {
     "name": "stdout",
     "output_type": "stream",
     "text": [
      "60014647206GAH transformation finished\n",
      "Skipped processing folder /Volumes/MR_analysis/MRCP_DICOM/60014647206GAH/SE26 due to insufficient DICOM files (<5).\n",
      "60014647206GAH transformation finished\n"
     ]
    },
    {
     "name": "stderr",
     "output_type": "stream",
     "text": [
      "WARNING: In /tmp/SimpleITK-build/ITK-prefix/include/ITK-5.3/itkImageSeriesReader.hxx, line 478\n",
      "ImageSeriesReader (0x105cc2bd0): Non uniform sampling or missing slices detected,  maximum nonuniformity:280.558\n",
      "\n",
      "WARNING: In /tmp/SimpleITK-build/ITK-prefix/include/ITK-5.3/itkImageSeriesReader.hxx, line 478\n",
      "ImageSeriesReader (0x105cf7670): Non uniform sampling or missing slices detected,  maximum nonuniformity:328.153\n",
      "\n"
     ]
    },
    {
     "name": "stdout",
     "output_type": "stream",
     "text": [
      "60014647206GAH transformation finished\n",
      "60014647206GAH transformation finished\n",
      "60014647206GAH transformation finished\n",
      "60014647206GAH transformation finished\n",
      "60014647206GAH transformation finished\n",
      "60014647206GAH transformation finished\n",
      "60014647206GAH transformation finished\n"
     ]
    },
    {
     "name": "stderr",
     "output_type": "stream",
     "text": [
      "WARNING: In /tmp/SimpleITK-build/ITK-prefix/include/ITK-5.3/itkImageSeriesReader.hxx, line 478\n",
      "ImageSeriesReader (0x310310430): Non uniform sampling or missing slices detected,  maximum nonuniformity:0.000970328\n",
      "\n"
     ]
    },
    {
     "name": "stdout",
     "output_type": "stream",
     "text": [
      "60014647206GAH transformation finished\n"
     ]
    },
    {
     "name": "stderr",
     "output_type": "stream",
     "text": [
      "WARNING: In /tmp/SimpleITK-build/ITK-prefix/include/ITK-5.3/itkImageSeriesReader.hxx, line 478\n",
      "ImageSeriesReader (0x31035b300): Non uniform sampling or missing slices detected,  maximum nonuniformity:0.000970328\n",
      "\n"
     ]
    },
    {
     "name": "stdout",
     "output_type": "stream",
     "text": [
      "60014647206GAH transformation finished\n",
      "60014647206GAH transformation finished\n"
     ]
    },
    {
     "name": "stderr",
     "output_type": "stream",
     "text": [
      "WARNING: In /tmp/SimpleITK-build/ITK-prefix/include/ITK-5.3/itkImageSeriesReader.hxx, line 478\n",
      "ImageSeriesReader (0x31035b300): Non uniform sampling or missing slices detected,  maximum nonuniformity:0.000970328\n",
      "\n"
     ]
    },
    {
     "name": "stdout",
     "output_type": "stream",
     "text": [
      "60014647206GAH transformation finished\n"
     ]
    },
    {
     "name": "stderr",
     "output_type": "stream",
     "text": [
      "WARNING: In /tmp/SimpleITK-build/ITK-prefix/include/ITK-5.3/itkImageSeriesReader.hxx, line 478\n",
      "ImageSeriesReader (0x105ff1bb0): Non uniform sampling or missing slices detected,  maximum nonuniformity:0.000970328\n",
      "\n"
     ]
    },
    {
     "name": "stdout",
     "output_type": "stream",
     "text": [
      "60014647206GAH transformation finished\n"
     ]
    },
    {
     "name": "stderr",
     "output_type": "stream",
     "text": [
      "WARNING: In /tmp/SimpleITK-build/ITK-prefix/include/ITK-5.3/itkImageSeriesReader.hxx, line 478\n",
      "ImageSeriesReader (0x310311740): Non uniform sampling or missing slices detected,  maximum nonuniformity:0.000970328\n",
      "\n"
     ]
    },
    {
     "name": "stdout",
     "output_type": "stream",
     "text": [
      "60014647206GAH transformation finished\n"
     ]
    },
    {
     "name": "stderr",
     "output_type": "stream",
     "text": [
      "WARNING: In /tmp/SimpleITK-build/ITK-prefix/include/ITK-5.3/itkImageSeriesReader.hxx, line 478\n",
      "ImageSeriesReader (0x105cf7670): Non uniform sampling or missing slices detected,  maximum nonuniformity:0.000970328\n",
      "\n"
     ]
    },
    {
     "name": "stdout",
     "output_type": "stream",
     "text": [
      "60014647206GAH transformation finished\n"
     ]
    },
    {
     "name": "stderr",
     "output_type": "stream",
     "text": [
      "WARNING: In /tmp/SimpleITK-build/ITK-prefix/include/ITK-5.3/itkImageSeriesReader.hxx, line 478\n",
      "ImageSeriesReader (0x31035aab0): Non uniform sampling or missing slices detected,  maximum nonuniformity:0.000970328\n",
      "\n"
     ]
    },
    {
     "name": "stdout",
     "output_type": "stream",
     "text": [
      "60014647206GAH transformation finished\n",
      "60014647206GAH transformation finished\n"
     ]
    },
    {
     "name": "stderr",
     "output_type": "stream",
     "text": [
      "WARNING: In /tmp/SimpleITK-build/ITK-prefix/include/ITK-5.3/itkImageSeriesReader.hxx, line 478\n",
      "ImageSeriesReader (0x10239b8e0): Non uniform sampling or missing slices detected,  maximum nonuniformity:0.000970328\n",
      "\n"
     ]
    },
    {
     "name": "stdout",
     "output_type": "stream",
     "text": [
      "60014647206GAH transformation finished\n"
     ]
    },
    {
     "name": "stderr",
     "output_type": "stream",
     "text": [
      "WARNING: In /tmp/SimpleITK-build/ITK-prefix/include/ITK-5.3/itkImageSeriesReader.hxx, line 478\n",
      "ImageSeriesReader (0x10239b8e0): Non uniform sampling or missing slices detected,  maximum nonuniformity:0.000970328\n",
      "\n"
     ]
    },
    {
     "name": "stdout",
     "output_type": "stream",
     "text": [
      "60014647206GAH transformation finished\n"
     ]
    },
    {
     "name": "stderr",
     "output_type": "stream",
     "text": [
      "WARNING: In /tmp/SimpleITK-build/ITK-prefix/include/ITK-5.3/itkImageSeriesReader.hxx, line 478\n",
      "ImageSeriesReader (0x1023979a0): Non uniform sampling or missing slices detected,  maximum nonuniformity:0.000970328\n",
      "\n"
     ]
    },
    {
     "name": "stdout",
     "output_type": "stream",
     "text": [
      "60014647206GAH transformation finished\n"
     ]
    },
    {
     "name": "stderr",
     "output_type": "stream",
     "text": [
      "WARNING: In /tmp/SimpleITK-build/ITK-prefix/include/ITK-5.3/itkImageSeriesReader.hxx, line 478\n",
      "ImageSeriesReader (0x102388590): Non uniform sampling or missing slices detected,  maximum nonuniformity:0.000970328\n",
      "\n"
     ]
    },
    {
     "name": "stdout",
     "output_type": "stream",
     "text": [
      "60014647206GAH transformation finished\n"
     ]
    },
    {
     "name": "stderr",
     "output_type": "stream",
     "text": [
      "WARNING: In /tmp/SimpleITK-build/ITK-prefix/include/ITK-5.3/itkImageSeriesReader.hxx, line 478\n",
      "ImageSeriesReader (0x10239bee0): Non uniform sampling or missing slices detected,  maximum nonuniformity:0.000970328\n",
      "\n"
     ]
    },
    {
     "name": "stdout",
     "output_type": "stream",
     "text": [
      "60014647206GAH transformation finished\n",
      "60014647206GAH transformation finished\n",
      "60014647206GAH transformation finished\n",
      "60014647206GAH transformation finished\n",
      "60014647206GAH transformation finished\n",
      "60014647206GAH transformation finished\n",
      "60014647206GAH transformation finished\n"
     ]
    },
    {
     "name": "stderr",
     "output_type": "stream",
     "text": [
      "WARNING: In /tmp/SimpleITK-build/ITK-prefix/include/ITK-5.3/itkImageSeriesReader.hxx, line 478\n",
      "ImageSeriesReader (0x105ce7f80): Non uniform sampling or missing slices detected,  maximum nonuniformity:165.053\n",
      "\n"
     ]
    },
    {
     "name": "stdout",
     "output_type": "stream",
     "text": [
      "60014647206GAH transformation finished\n"
     ]
    },
    {
     "name": "stderr",
     "output_type": "stream",
     "text": [
      "WARNING: In /tmp/SimpleITK-build/ITK-prefix/include/ITK-5.3/itkImageSeriesReader.hxx, line 478\n",
      "ImageSeriesReader (0x105cc2bd0): Non uniform sampling or missing slices detected,  maximum nonuniformity:0.000199491\n",
      "\n"
     ]
    },
    {
     "name": "stdout",
     "output_type": "stream",
     "text": [
      "60014647206GAH transformation finished\n",
      "Skipped processing folder /Volumes/MR_analysis/MRCP_DICOM/60014647206GAH/SE47 due to insufficient DICOM files (<5).\n",
      "60014647206GAH transformation finished\n"
     ]
    },
    {
     "name": "stderr",
     "output_type": "stream",
     "text": [
      "WARNING: In /tmp/SimpleITK-build/ITK-prefix/include/ITK-5.3/itkImageSeriesReader.hxx, line 478\n",
      "ImageSeriesReader (0x105ce2a90): Non uniform sampling or missing slices detected,  maximum nonuniformity:280.558\n",
      "\n",
      "WARNING: In /tmp/SimpleITK-build/ITK-prefix/include/ITK-5.3/itkImageSeriesReader.hxx, line 478\n",
      "ImageSeriesReader (0x105ce2a90): Non uniform sampling or missing slices detected,  maximum nonuniformity:328.153\n",
      "\n"
     ]
    },
    {
     "name": "stdout",
     "output_type": "stream",
     "text": [
      "60014647206GAH transformation finished\n",
      "60014647206GAH transformation finished\n",
      "60014647206GAH transformation finished\n"
     ]
    },
    {
     "name": "stderr",
     "output_type": "stream",
     "text": [
      "WARNING: In /tmp/SimpleITK-build/ITK-prefix/include/ITK-5.3/itkImageSeriesReader.hxx, line 478\n",
      "ImageSeriesReader (0x105cfd040): Non uniform sampling or missing slices detected,  maximum nonuniformity:0.000229758\n",
      "\n"
     ]
    },
    {
     "name": "stdout",
     "output_type": "stream",
     "text": [
      "60014647206GAH transformation finished\n",
      "Skipped processing folder /Volumes/MR_analysis/MRCP_DICOM/60014647206GAH/SE10 due to insufficient DICOM files (<5).\n",
      "60014647206GAH transformation finished\n"
     ]
    },
    {
     "name": "stderr",
     "output_type": "stream",
     "text": [
      "WARNING: In /tmp/SimpleITK-build/ITK-prefix/include/ITK-5.3/itkImageSeriesReader.hxx, line 478\n",
      "ImageSeriesReader (0x105cf7670): Non uniform sampling or missing slices detected,  maximum nonuniformity:323.24\n",
      "\n",
      "WARNING: In /tmp/SimpleITK-build/ITK-prefix/include/ITK-5.3/itkImageSeriesReader.hxx, line 478\n",
      "ImageSeriesReader (0x105cf7670): Non uniform sampling or missing slices detected,  maximum nonuniformity:328.16\n",
      "\n"
     ]
    },
    {
     "name": "stdout",
     "output_type": "stream",
     "text": [
      "60014647206GAH transformation finished\n"
     ]
    },
    {
     "name": "stderr",
     "output_type": "stream",
     "text": [
      "WARNING: In /tmp/SimpleITK-build/ITK-prefix/include/ITK-5.3/itkImageSeriesReader.hxx, line 478\n",
      "ImageSeriesReader (0x105cf84c0): Non uniform sampling or missing slices detected,  maximum nonuniformity:0.000970328\n",
      "\n"
     ]
    },
    {
     "name": "stdout",
     "output_type": "stream",
     "text": [
      "60014647206GAH transformation finished\n"
     ]
    },
    {
     "name": "stderr",
     "output_type": "stream",
     "text": [
      "WARNING: In /tmp/SimpleITK-build/ITK-prefix/include/ITK-5.3/itkImageSeriesReader.hxx, line 478\n",
      "ImageSeriesReader (0x31031cdd0): Non uniform sampling or missing slices detected,  maximum nonuniformity:0.000970328\n",
      "\n"
     ]
    },
    {
     "name": "stdout",
     "output_type": "stream",
     "text": [
      "60014647206GAH transformation finished\n"
     ]
    },
    {
     "name": "stderr",
     "output_type": "stream",
     "text": [
      "WARNING: In /tmp/SimpleITK-build/ITK-prefix/include/ITK-5.3/itkImageSeriesReader.hxx, line 478\n",
      "ImageSeriesReader (0x310311740): Non uniform sampling or missing slices detected,  maximum nonuniformity:0.000970328\n",
      "\n"
     ]
    },
    {
     "name": "stdout",
     "output_type": "stream",
     "text": [
      "60014647206GAH transformation finished\n",
      "60014647206GAH transformation finished\n"
     ]
    },
    {
     "name": "stderr",
     "output_type": "stream",
     "text": [
      "WARNING: In /tmp/SimpleITK-build/ITK-prefix/include/ITK-5.3/itkImageSeriesReader.hxx, line 478\n",
      "ImageSeriesReader (0x3103817f0): Non uniform sampling or missing slices detected,  maximum nonuniformity:0.000970328\n",
      "\n"
     ]
    },
    {
     "name": "stdout",
     "output_type": "stream",
     "text": [
      "60014647206GAH transformation finished\n"
     ]
    },
    {
     "name": "stderr",
     "output_type": "stream",
     "text": [
      "WARNING: In /tmp/SimpleITK-build/ITK-prefix/include/ITK-5.3/itkImageSeriesReader.hxx, line 478\n",
      "ImageSeriesReader (0x1023979a0): Non uniform sampling or missing slices detected,  maximum nonuniformity:337.371\n",
      "\n"
     ]
    },
    {
     "name": "stdout",
     "output_type": "stream",
     "text": [
      "60015037086WYP transformation finished\n"
     ]
    },
    {
     "name": "stderr",
     "output_type": "stream",
     "text": [
      "WARNING: In /tmp/SimpleITK-build/ITK-prefix/include/ITK-5.3/itkImageSeriesReader.hxx, line 478\n",
      "ImageSeriesReader (0x10239b8e0): Non uniform sampling or missing slices detected,  maximum nonuniformity:543.784\n",
      "\n"
     ]
    },
    {
     "name": "stdout",
     "output_type": "stream",
     "text": [
      "60015037086WYP transformation finished\n"
     ]
    },
    {
     "name": "stderr",
     "output_type": "stream",
     "text": [
      "WARNING: In /tmp/SimpleITK-build/ITK-prefix/include/ITK-5.3/itkImageSeriesReader.hxx, line 478\n",
      "ImageSeriesReader (0x1023979a0): Non uniform sampling or missing slices detected,  maximum nonuniformity:224.296\n",
      "\n"
     ]
    },
    {
     "name": "stdout",
     "output_type": "stream",
     "text": [
      "60015037086WYP transformation finished\n"
     ]
    },
    {
     "name": "stderr",
     "output_type": "stream",
     "text": [
      "WARNING: In /tmp/SimpleITK-build/ITK-prefix/include/ITK-5.3/itkImageSeriesReader.hxx, line 478\n",
      "ImageSeriesReader (0x10239bee0): Non uniform sampling or missing slices detected,  maximum nonuniformity:0.000821454\n",
      "\n"
     ]
    },
    {
     "name": "stdout",
     "output_type": "stream",
     "text": [
      "60015037086WYP transformation finished\n",
      "60015037086WYP transformation finished\n"
     ]
    },
    {
     "name": "stderr",
     "output_type": "stream",
     "text": [
      "WARNING: In /tmp/SimpleITK-build/ITK-prefix/include/ITK-5.3/itkImageSeriesReader.hxx, line 478\n",
      "ImageSeriesReader (0x10239f2a0): Non uniform sampling or missing slices detected,  maximum nonuniformity:0.000821454\n",
      "\n",
      "WARNING: In /tmp/SimpleITK-build/ITK-prefix/include/ITK-5.3/itkImageSeriesReader.hxx, line 478\n",
      "ImageSeriesReader (0x10239f2a0): Non uniform sampling or missing slices detected,  maximum nonuniformity:0.000821454\n",
      "\n"
     ]
    },
    {
     "name": "stdout",
     "output_type": "stream",
     "text": [
      "60015037086WYP transformation finished\n"
     ]
    },
    {
     "name": "stderr",
     "output_type": "stream",
     "text": [
      "WARNING: In /tmp/SimpleITK-build/ITK-prefix/include/ITK-5.3/itkImageSeriesReader.hxx, line 478\n",
      "ImageSeriesReader (0x102388590): Non uniform sampling or missing slices detected,  maximum nonuniformity:0.000713264\n",
      "\n"
     ]
    },
    {
     "name": "stdout",
     "output_type": "stream",
     "text": [
      "60015037086WYP transformation finished\n",
      "60015037086WYP transformation finished\n"
     ]
    },
    {
     "name": "stderr",
     "output_type": "stream",
     "text": [
      "WARNING: In /tmp/SimpleITK-build/ITK-prefix/include/ITK-5.3/itkImageSeriesReader.hxx, line 478\n",
      "ImageSeriesReader (0x10239bee0): Non uniform sampling or missing slices detected,  maximum nonuniformity:328.153\n",
      "\n",
      "WARNING: In /tmp/SimpleITK-build/ITK-prefix/include/ITK-5.3/itkImageSeriesReader.hxx, line 478\n",
      "ImageSeriesReader (0x102398ac0): Non uniform sampling or missing slices detected,  maximum nonuniformity:83.5648\n",
      "\n"
     ]
    },
    {
     "name": "stdout",
     "output_type": "stream",
     "text": [
      "60015037086WYP transformation finished\n",
      "Skipped processing folder /Volumes/MR_analysis/MRCP_DICOM/60015037086WYP/SE43 due to insufficient DICOM files (<5).\n",
      "Skipped processing folder /Volumes/MR_analysis/MRCP_DICOM/60015037086WYP/SE16 due to insufficient DICOM files (<5).\n",
      "60015037086WYP transformation finished\n"
     ]
    },
    {
     "name": "stderr",
     "output_type": "stream",
     "text": [
      "WARNING: In /tmp/SimpleITK-build/ITK-prefix/include/ITK-5.3/itkImageSeriesReader.hxx, line 478\n",
      "ImageSeriesReader (0x10239b8e0): Non uniform sampling or missing slices detected,  maximum nonuniformity:328.16\n",
      "\n",
      "WARNING: In /tmp/SimpleITK-build/ITK-prefix/include/ITK-5.3/itkImageSeriesReader.hxx, line 478\n",
      "ImageSeriesReader (0x102388590): Non uniform sampling or missing slices detected,  maximum nonuniformity:280.558\n",
      "\n"
     ]
    },
    {
     "name": "stdout",
     "output_type": "stream",
     "text": [
      "60015037086WYP transformation finished\n"
     ]
    },
    {
     "name": "stderr",
     "output_type": "stream",
     "text": [
      "WARNING: In /tmp/SimpleITK-build/ITK-prefix/include/ITK-5.3/itkImageSeriesReader.hxx, line 478\n",
      "ImageSeriesReader (0x1023da4b0): Non uniform sampling or missing slices detected,  maximum nonuniformity:0.000818425\n",
      "\n"
     ]
    },
    {
     "name": "stdout",
     "output_type": "stream",
     "text": [
      "60015037086WYP transformation finished\n",
      "60015037086WYP transformation finished\n"
     ]
    },
    {
     "name": "stderr",
     "output_type": "stream",
     "text": [
      "WARNING: In /tmp/SimpleITK-build/ITK-prefix/include/ITK-5.3/itkImageSeriesReader.hxx, line 478\n",
      "ImageSeriesReader (0x1023979a0): Non uniform sampling or missing slices detected,  maximum nonuniformity:0.00093968\n",
      "\n"
     ]
    },
    {
     "name": "stdout",
     "output_type": "stream",
     "text": [
      "60015037086WYP transformation finished\n"
     ]
    },
    {
     "name": "stderr",
     "output_type": "stream",
     "text": [
      "WARNING: In /tmp/SimpleITK-build/ITK-prefix/include/ITK-5.3/itkImageSeriesReader.hxx, line 478\n",
      "ImageSeriesReader (0x10239ccb0): Non uniform sampling or missing slices detected,  maximum nonuniformity:0.00093968\n",
      "\n"
     ]
    },
    {
     "name": "stdout",
     "output_type": "stream",
     "text": [
      "60015037086WYP transformation finished\n"
     ]
    },
    {
     "name": "stderr",
     "output_type": "stream",
     "text": [
      "WARNING: In /tmp/SimpleITK-build/ITK-prefix/include/ITK-5.3/itkImageSeriesReader.hxx, line 478\n",
      "ImageSeriesReader (0x1207808a0): Non uniform sampling or missing slices detected,  maximum nonuniformity:0.00093968\n",
      "\n"
     ]
    },
    {
     "name": "stdout",
     "output_type": "stream",
     "text": [
      "60015037086WYP transformation finished\n",
      "60015037086WYP transformation finished\n"
     ]
    },
    {
     "name": "stderr",
     "output_type": "stream",
     "text": [
      "WARNING: In /tmp/SimpleITK-build/ITK-prefix/include/ITK-5.3/itkImageSeriesReader.hxx, line 478\n",
      "ImageSeriesReader (0x105cb5830): Non uniform sampling or missing slices detected,  maximum nonuniformity:0.00093968\n",
      "\n"
     ]
    },
    {
     "name": "stdout",
     "output_type": "stream",
     "text": [
      "60015037086WYP transformation finished\n"
     ]
    },
    {
     "name": "stderr",
     "output_type": "stream",
     "text": [
      "WARNING: In /tmp/SimpleITK-build/ITK-prefix/include/ITK-5.3/itkImageSeriesReader.hxx, line 478\n",
      "ImageSeriesReader (0x31035b300): Non uniform sampling or missing slices detected,  maximum nonuniformity:0.00093968\n",
      "\n"
     ]
    },
    {
     "name": "stdout",
     "output_type": "stream",
     "text": [
      "60015037086WYP transformation finished\n"
     ]
    },
    {
     "name": "stderr",
     "output_type": "stream",
     "text": [
      "WARNING: In /tmp/SimpleITK-build/ITK-prefix/include/ITK-5.3/itkImageSeriesReader.hxx, line 478\n",
      "ImageSeriesReader (0x310310430): Non uniform sampling or missing slices detected,  maximum nonuniformity:0.00093968\n",
      "\n"
     ]
    },
    {
     "name": "stdout",
     "output_type": "stream",
     "text": [
      "60015037086WYP transformation finished\n",
      "60015037086WYP transformation finished\n"
     ]
    },
    {
     "name": "stderr",
     "output_type": "stream",
     "text": [
      "WARNING: In /tmp/SimpleITK-build/ITK-prefix/include/ITK-5.3/itkImageSeriesReader.hxx, line 478\n",
      "ImageSeriesReader (0x105cc2bd0): Non uniform sampling or missing slices detected,  maximum nonuniformity:0.00093968\n",
      "\n"
     ]
    },
    {
     "name": "stdout",
     "output_type": "stream",
     "text": [
      "60015037086WYP transformation finished\n"
     ]
    },
    {
     "name": "stderr",
     "output_type": "stream",
     "text": [
      "WARNING: In /tmp/SimpleITK-build/ITK-prefix/include/ITK-5.3/itkImageSeriesReader.hxx, line 478\n",
      "ImageSeriesReader (0x310311f90): Non uniform sampling or missing slices detected,  maximum nonuniformity:0.00093968\n",
      "\n"
     ]
    },
    {
     "name": "stdout",
     "output_type": "stream",
     "text": [
      "60015037086WYP transformation finished\n"
     ]
    },
    {
     "name": "stderr",
     "output_type": "stream",
     "text": [
      "WARNING: In /tmp/SimpleITK-build/ITK-prefix/include/ITK-5.3/itkImageSeriesReader.hxx, line 478\n",
      "ImageSeriesReader (0x3103903b0): Non uniform sampling or missing slices detected,  maximum nonuniformity:0.00093968\n",
      "\n"
     ]
    },
    {
     "name": "stdout",
     "output_type": "stream",
     "text": [
      "60015037086WYP transformation finished\n"
     ]
    },
    {
     "name": "stderr",
     "output_type": "stream",
     "text": [
      "WARNING: In /tmp/SimpleITK-build/ITK-prefix/include/ITK-5.3/itkImageSeriesReader.hxx, line 478\n",
      "ImageSeriesReader (0x105ce2a90): Non uniform sampling or missing slices detected,  maximum nonuniformity:0.00093968\n",
      "\n"
     ]
    },
    {
     "name": "stdout",
     "output_type": "stream",
     "text": [
      "60015037086WYP transformation finished\n",
      "60015037086WYP transformation finished\n"
     ]
    },
    {
     "name": "stderr",
     "output_type": "stream",
     "text": [
      "WARNING: In /tmp/SimpleITK-build/ITK-prefix/include/ITK-5.3/itkImageSeriesReader.hxx, line 478\n",
      "ImageSeriesReader (0x10239ccb0): Non uniform sampling or missing slices detected,  maximum nonuniformity:0.00093968\n",
      "\n"
     ]
    },
    {
     "name": "stdout",
     "output_type": "stream",
     "text": [
      "60015037086WYP transformation finished\n"
     ]
    },
    {
     "name": "stderr",
     "output_type": "stream",
     "text": [
      "WARNING: In /tmp/SimpleITK-build/ITK-prefix/include/ITK-5.3/itkImageSeriesReader.hxx, line 478\n",
      "ImageSeriesReader (0x10239ccb0): Non uniform sampling or missing slices detected,  maximum nonuniformity:0.00093968\n",
      "\n"
     ]
    },
    {
     "name": "stdout",
     "output_type": "stream",
     "text": [
      "60015037086WYP transformation finished\n"
     ]
    },
    {
     "name": "stderr",
     "output_type": "stream",
     "text": [
      "WARNING: In /tmp/SimpleITK-build/ITK-prefix/include/ITK-5.3/itkImageSeriesReader.hxx, line 478\n",
      "ImageSeriesReader (0x10239b8e0): Non uniform sampling or missing slices detected,  maximum nonuniformity:0.00093968\n",
      "\n"
     ]
    },
    {
     "name": "stdout",
     "output_type": "stream",
     "text": [
      "60015037086WYP transformation finished\n"
     ]
    },
    {
     "name": "stderr",
     "output_type": "stream",
     "text": [
      "WARNING: In /tmp/SimpleITK-build/ITK-prefix/include/ITK-5.3/itkImageSeriesReader.hxx, line 478\n",
      "ImageSeriesReader (0x1023979a0): Non uniform sampling or missing slices detected,  maximum nonuniformity:0.00093968\n",
      "\n"
     ]
    },
    {
     "name": "stdout",
     "output_type": "stream",
     "text": [
      "60015037086WYP transformation finished\n"
     ]
    },
    {
     "name": "stderr",
     "output_type": "stream",
     "text": [
      "WARNING: In /tmp/SimpleITK-build/ITK-prefix/include/ITK-5.3/itkImageSeriesReader.hxx, line 478\n",
      "ImageSeriesReader (0x10239b8e0): Non uniform sampling or missing slices detected,  maximum nonuniformity:0.00093968\n",
      "\n"
     ]
    },
    {
     "name": "stdout",
     "output_type": "stream",
     "text": [
      "60015037086WYP transformation finished\n"
     ]
    },
    {
     "name": "stderr",
     "output_type": "stream",
     "text": [
      "WARNING: In /tmp/SimpleITK-build/ITK-prefix/include/ITK-5.3/itkImageSeriesReader.hxx, line 478\n",
      "ImageSeriesReader (0x1023979a0): Non uniform sampling or missing slices detected,  maximum nonuniformity:0.00093968\n",
      "\n"
     ]
    },
    {
     "name": "stdout",
     "output_type": "stream",
     "text": [
      "60015037086WYP transformation finished\n",
      "60015037086WYP transformation finished\n"
     ]
    },
    {
     "name": "stderr",
     "output_type": "stream",
     "text": [
      "WARNING: In /tmp/SimpleITK-build/ITK-prefix/include/ITK-5.3/itkImageSeriesReader.hxx, line 478\n",
      "ImageSeriesReader (0x105cf7670): Non uniform sampling or missing slices detected,  maximum nonuniformity:0.00093968\n",
      "\n"
     ]
    },
    {
     "name": "stdout",
     "output_type": "stream",
     "text": [
      "60015037086WYP transformation finished\n"
     ]
    },
    {
     "name": "stderr",
     "output_type": "stream",
     "text": [
      "WARNING: In /tmp/SimpleITK-build/ITK-prefix/include/ITK-5.3/itkImageSeriesReader.hxx, line 478\n",
      "ImageSeriesReader (0x3105042c0): Non uniform sampling or missing slices detected,  maximum nonuniformity:0.00093968\n",
      "\n"
     ]
    },
    {
     "name": "stdout",
     "output_type": "stream",
     "text": [
      "60015037086WYP transformation finished\n"
     ]
    },
    {
     "name": "stderr",
     "output_type": "stream",
     "text": [
      "WARNING: In /tmp/SimpleITK-build/ITK-prefix/include/ITK-5.3/itkImageSeriesReader.hxx, line 478\n",
      "ImageSeriesReader (0x105cc2bd0): Non uniform sampling or missing slices detected,  maximum nonuniformity:0.00093968\n",
      "\n"
     ]
    },
    {
     "name": "stdout",
     "output_type": "stream",
     "text": [
      "60015037086WYP transformation finished\n"
     ]
    },
    {
     "name": "stderr",
     "output_type": "stream",
     "text": [
      "WARNING: In /tmp/SimpleITK-build/ITK-prefix/include/ITK-5.3/itkImageSeriesReader.hxx, line 478\n",
      "ImageSeriesReader (0x3103903b0): Non uniform sampling or missing slices detected,  maximum nonuniformity:0.00093968\n",
      "\n"
     ]
    },
    {
     "name": "stdout",
     "output_type": "stream",
     "text": [
      "60015037086WYP transformation finished\n",
      "60015037086WYP transformation finished\n"
     ]
    },
    {
     "name": "stderr",
     "output_type": "stream",
     "text": [
      "WARNING: In /tmp/SimpleITK-build/ITK-prefix/include/ITK-5.3/itkImageSeriesReader.hxx, line 478\n",
      "ImageSeriesReader (0x105cf7670): Non uniform sampling or missing slices detected,  maximum nonuniformity:0.000525028\n",
      "\n"
     ]
    },
    {
     "name": "stdout",
     "output_type": "stream",
     "text": [
      "60015037086WYP transformation finished\n"
     ]
    },
    {
     "name": "stderr",
     "output_type": "stream",
     "text": [
      "WARNING: In /tmp/SimpleITK-build/ITK-prefix/include/ITK-5.3/itkImageSeriesReader.hxx, line 478\n",
      "ImageSeriesReader (0x105cf7670): Non uniform sampling or missing slices detected,  maximum nonuniformity:0.000525028\n",
      "\n"
     ]
    },
    {
     "name": "stdout",
     "output_type": "stream",
     "text": [
      "60015037086WYP transformation finished\n",
      "60015037086WYP transformation finished\n"
     ]
    },
    {
     "name": "stderr",
     "output_type": "stream",
     "text": [
      "WARNING: In /tmp/SimpleITK-build/ITK-prefix/include/ITK-5.3/itkImageSeriesReader.hxx, line 478\n",
      "ImageSeriesReader (0x1023979a0): Non uniform sampling or missing slices detected,  maximum nonuniformity:0.000525028\n",
      "\n"
     ]
    },
    {
     "name": "stdout",
     "output_type": "stream",
     "text": [
      "60015037086WYP transformation finished\n"
     ]
    },
    {
     "name": "stderr",
     "output_type": "stream",
     "text": [
      "WARNING: In /tmp/SimpleITK-build/ITK-prefix/include/ITK-5.3/itkImageSeriesReader.hxx, line 478\n",
      "ImageSeriesReader (0x10239ccb0): Non uniform sampling or missing slices detected,  maximum nonuniformity:0.000525028\n",
      "\n"
     ]
    },
    {
     "name": "stdout",
     "output_type": "stream",
     "text": [
      "60015037086WYP transformation finished\n"
     ]
    },
    {
     "name": "stderr",
     "output_type": "stream",
     "text": [
      "WARNING: In /tmp/SimpleITK-build/ITK-prefix/include/ITK-5.3/itkImageSeriesReader.hxx, line 478\n",
      "ImageSeriesReader (0x10239b8e0): Non uniform sampling or missing slices detected,  maximum nonuniformity:224.296\n",
      "\n"
     ]
    },
    {
     "name": "stdout",
     "output_type": "stream",
     "text": [
      "60015037086WYP transformation finished\n",
      "60015037086WYP transformation finished\n"
     ]
    },
    {
     "name": "stderr",
     "output_type": "stream",
     "text": [
      "WARNING: In /tmp/SimpleITK-build/ITK-prefix/include/ITK-5.3/itkImageSeriesReader.hxx, line 478\n",
      "ImageSeriesReader (0x102388590): Non uniform sampling or missing slices detected,  maximum nonuniformity:83.5648\n",
      "\n",
      "WARNING: In /tmp/SimpleITK-build/ITK-prefix/include/ITK-5.3/itkImageSeriesReader.hxx, line 478\n",
      "ImageSeriesReader (0x10239b8e0): Non uniform sampling or missing slices detected,  maximum nonuniformity:280.558\n",
      "\n"
     ]
    },
    {
     "name": "stdout",
     "output_type": "stream",
     "text": [
      "60015037086WYP transformation finished\n"
     ]
    },
    {
     "name": "stderr",
     "output_type": "stream",
     "text": [
      "WARNING: In /tmp/SimpleITK-build/ITK-prefix/include/ITK-5.3/itkImageSeriesReader.hxx, line 478\n",
      "ImageSeriesReader (0x102388590): Non uniform sampling or missing slices detected,  maximum nonuniformity:0.000713264\n",
      "\n"
     ]
    },
    {
     "name": "stdout",
     "output_type": "stream",
     "text": [
      "60015037086WYP transformation finished\n",
      "Skipped processing folder /Volumes/MR_analysis/MRCP_DICOM/60015037086WYP/SE60 due to insufficient DICOM files (<5).\n",
      "60015037086WYP transformation finished\n"
     ]
    },
    {
     "name": "stderr",
     "output_type": "stream",
     "text": [
      "WARNING: In /tmp/SimpleITK-build/ITK-prefix/include/ITK-5.3/itkImageSeriesReader.hxx, line 478\n",
      "ImageSeriesReader (0x102388590): Non uniform sampling or missing slices detected,  maximum nonuniformity:0.000821454\n",
      "\n",
      "WARNING: In /tmp/SimpleITK-build/ITK-prefix/include/ITK-5.3/itkImageSeriesReader.hxx, line 478\n",
      "ImageSeriesReader (0x103a07120): Non uniform sampling or missing slices detected,  maximum nonuniformity:0.000821454\n",
      "\n"
     ]
    },
    {
     "name": "stdout",
     "output_type": "stream",
     "text": [
      "60015037086WYP transformation finished\n",
      "Skipped processing folder /Volumes/MR_analysis/MRCP_DICOM/60015037086WYP/SE15 due to insufficient DICOM files (<5).\n"
     ]
    },
    {
     "name": "stderr",
     "output_type": "stream",
     "text": [
      "WARNING: In /tmp/SimpleITK-build/ITK-prefix/include/ITK-5.3/itkImageSeriesReader.hxx, line 478\n",
      "ImageSeriesReader (0x10239b8e0): Non uniform sampling or missing slices detected,  maximum nonuniformity:0.00093968\n",
      "\n"
     ]
    },
    {
     "name": "stdout",
     "output_type": "stream",
     "text": [
      "60015037086WYP transformation finished\n"
     ]
    },
    {
     "name": "stderr",
     "output_type": "stream",
     "text": [
      "WARNING: In /tmp/SimpleITK-build/ITK-prefix/include/ITK-5.3/itkImageSeriesReader.hxx, line 478\n",
      "ImageSeriesReader (0x105cf7670): Non uniform sampling or missing slices detected,  maximum nonuniformity:0.00093968\n",
      "\n"
     ]
    },
    {
     "name": "stdout",
     "output_type": "stream",
     "text": [
      "60015037086WYP transformation finished\n"
     ]
    },
    {
     "name": "stderr",
     "output_type": "stream",
     "text": [
      "WARNING: In /tmp/SimpleITK-build/ITK-prefix/include/ITK-5.3/itkImageSeriesReader.hxx, line 478\n",
      "ImageSeriesReader (0x105cc2bd0): Non uniform sampling or missing slices detected,  maximum nonuniformity:0.00093968\n",
      "\n"
     ]
    },
    {
     "name": "stdout",
     "output_type": "stream",
     "text": [
      "60015037086WYP transformation finished\n"
     ]
    },
    {
     "name": "stderr",
     "output_type": "stream",
     "text": [
      "WARNING: In /tmp/SimpleITK-build/ITK-prefix/include/ITK-5.3/itkImageSeriesReader.hxx, line 478\n",
      "ImageSeriesReader (0x105cc2bd0): Non uniform sampling or missing slices detected,  maximum nonuniformity:0.00093968\n",
      "\n"
     ]
    },
    {
     "name": "stdout",
     "output_type": "stream",
     "text": [
      "60015037086WYP transformation finished\n",
      "60015037086WYP transformation finished\n",
      "60015037086WYP transformation finished\n",
      "Skipped processing folder /Volumes/MR_analysis/MRCP_DICOM/60015037086WYP/SE32 due to insufficient DICOM files (<5).\n"
     ]
    },
    {
     "name": "stderr",
     "output_type": "stream",
     "text": [
      "WARNING: In /tmp/SimpleITK-build/ITK-prefix/include/ITK-5.3/itkImageSeriesReader.hxx, line 478\n",
      "ImageSeriesReader (0x105ce2a90): Non uniform sampling or missing slices detected,  maximum nonuniformity:39.3043\n",
      "\n",
      "WARNING: In /tmp/SimpleITK-build/ITK-prefix/include/ITK-5.3/itkImageSeriesReader.hxx, line 478\n",
      "ImageSeriesReader (0x105cc2bd0): Non uniform sampling or missing slices detected,  maximum nonuniformity:280.558\n",
      "\n"
     ]
    },
    {
     "name": "stdout",
     "output_type": "stream",
     "text": [
      "60015037086WYP transformation finished\n"
     ]
    },
    {
     "name": "stderr",
     "output_type": "stream",
     "text": [
      "WARNING: In /tmp/SimpleITK-build/ITK-prefix/include/ITK-5.3/itkImageSeriesReader.hxx, line 478\n",
      "ImageSeriesReader (0x310306e00): Non uniform sampling or missing slices detected,  maximum nonuniformity:0.000818425\n",
      "\n"
     ]
    },
    {
     "name": "stdout",
     "output_type": "stream",
     "text": [
      "60015037086WYP transformation finished\n"
     ]
    },
    {
     "name": "stderr",
     "output_type": "stream",
     "text": [
      "WARNING: In /tmp/SimpleITK-build/ITK-prefix/include/ITK-5.3/itkImageSeriesReader.hxx, line 478\n",
      "ImageSeriesReader (0x105cb5830): Non uniform sampling or missing slices detected,  maximum nonuniformity:337.371\n",
      "\n"
     ]
    },
    {
     "name": "stdout",
     "output_type": "stream",
     "text": [
      "60015386416XJB transformation finished\n"
     ]
    },
    {
     "name": "stderr",
     "output_type": "stream",
     "text": [
      "WARNING: In /tmp/SimpleITK-build/ITK-prefix/include/ITK-5.3/itkImageSeriesReader.hxx, line 478\n",
      "ImageSeriesReader (0x105fff9d0): Non uniform sampling or missing slices detected,  maximum nonuniformity:543.784\n",
      "\n"
     ]
    },
    {
     "name": "stdout",
     "output_type": "stream",
     "text": [
      "60015386416XJB transformation finished\n"
     ]
    },
    {
     "name": "stderr",
     "output_type": "stream",
     "text": [
      "WARNING: In /tmp/SimpleITK-build/ITK-prefix/include/ITK-5.3/itkImageSeriesReader.hxx, line 478\n",
      "ImageSeriesReader (0x1207808a0): Non uniform sampling or missing slices detected,  maximum nonuniformity:183.048\n",
      "\n"
     ]
    },
    {
     "name": "stdout",
     "output_type": "stream",
     "text": [
      "60015386416XJB transformation finished\n",
      "60015386416XJB transformation finished\n",
      "60015386416XJB transformation finished\n",
      "60015386416XJB transformation finished\n"
     ]
    },
    {
     "name": "stderr",
     "output_type": "stream",
     "text": [
      "WARNING: In /tmp/SimpleITK-build/ITK-prefix/include/ITK-5.3/itkImageSeriesReader.hxx, line 478\n",
      "ImageSeriesReader (0x1023e41b0): Non uniform sampling or missing slices detected,  maximum nonuniformity:0.000151086\n",
      "\n"
     ]
    },
    {
     "name": "stdout",
     "output_type": "stream",
     "text": [
      "60015386416XJB transformation finished\n",
      "Skipped processing folder /Volumes/MR_analysis/MRCP_DICOM/60015386416XJB/SE47 due to insufficient DICOM files (<5).\n",
      "60015386416XJB transformation finished\n"
     ]
    },
    {
     "name": "stderr",
     "output_type": "stream",
     "text": [
      "WARNING: In /tmp/SimpleITK-build/ITK-prefix/include/ITK-5.3/itkImageSeriesReader.hxx, line 478\n",
      "ImageSeriesReader (0x1023979a0): Non uniform sampling or missing slices detected,  maximum nonuniformity:328.16\n",
      "\n",
      "WARNING: In /tmp/SimpleITK-build/ITK-prefix/include/ITK-5.3/itkImageSeriesReader.hxx, line 478\n",
      "ImageSeriesReader (0x1023979a0): Non uniform sampling or missing slices detected,  maximum nonuniformity:328.16\n",
      "\n"
     ]
    },
    {
     "name": "stdout",
     "output_type": "stream",
     "text": [
      "60015386416XJB transformation finished\n",
      "60015386416XJB transformation finished\n",
      "Skipped processing folder /Volumes/MR_analysis/MRCP_DICOM/60015386416XJB/SE46 due to insufficient DICOM files (<5).\n",
      "60015386416XJB transformation finished\n"
     ]
    },
    {
     "name": "stderr",
     "output_type": "stream",
     "text": [
      "WARNING: In /tmp/SimpleITK-build/ITK-prefix/include/ITK-5.3/itkImageSeriesReader.hxx, line 478\n",
      "ImageSeriesReader (0x10239ccb0): Non uniform sampling or missing slices detected,  maximum nonuniformity:280.558\n",
      "\n",
      "WARNING: In /tmp/SimpleITK-build/ITK-prefix/include/ITK-5.3/itkImageSeriesReader.hxx, line 478\n",
      "ImageSeriesReader (0x10239ccb0): Non uniform sampling or missing slices detected,  maximum nonuniformity:328.153\n",
      "\n"
     ]
    },
    {
     "name": "stdout",
     "output_type": "stream",
     "text": [
      "60015386416XJB transformation finished\n",
      "60015386416XJB transformation finished\n",
      "60015386416XJB transformation finished\n",
      "60015386416XJB transformation finished\n",
      "60015386416XJB transformation finished\n",
      "60015386416XJB transformation finished\n",
      "60015386416XJB transformation finished\n",
      "60015386416XJB transformation finished\n",
      "60015386416XJB transformation finished\n",
      "60015386416XJB transformation finished\n",
      "60015386416XJB transformation finished\n",
      "60015386416XJB transformation finished\n",
      "60015386416XJB transformation finished\n",
      "60015386416XJB transformation finished\n",
      "60015386416XJB transformation finished\n",
      "60015386416XJB transformation finished\n",
      "60015386416XJB transformation finished\n",
      "60015386416XJB transformation finished\n",
      "60015386416XJB transformation finished\n",
      "60015386416XJB transformation finished\n",
      "60015386416XJB transformation finished\n",
      "60015386416XJB transformation finished\n"
     ]
    },
    {
     "name": "stderr",
     "output_type": "stream",
     "text": [
      "WARNING: In /tmp/SimpleITK-build/ITK-prefix/include/ITK-5.3/itkImageSeriesReader.hxx, line 478\n",
      "ImageSeriesReader (0x102388590): Non uniform sampling or missing slices detected,  maximum nonuniformity:0.000757917\n",
      "\n"
     ]
    },
    {
     "name": "stdout",
     "output_type": "stream",
     "text": [
      "60015386416XJB transformation finished\n",
      "60015386416XJB transformation finished\n"
     ]
    },
    {
     "name": "stderr",
     "output_type": "stream",
     "text": [
      "WARNING: In /tmp/SimpleITK-build/ITK-prefix/include/ITK-5.3/itkImageSeriesReader.hxx, line 478\n",
      "ImageSeriesReader (0x105cb5830): Non uniform sampling or missing slices detected,  maximum nonuniformity:0.000757917\n",
      "\n"
     ]
    },
    {
     "name": "stdout",
     "output_type": "stream",
     "text": [
      "60015386416XJB transformation finished\n"
     ]
    },
    {
     "name": "stderr",
     "output_type": "stream",
     "text": [
      "WARNING: In /tmp/SimpleITK-build/ITK-prefix/include/ITK-5.3/itkImageSeriesReader.hxx, line 478\n",
      "ImageSeriesReader (0x105cf7eb0): Non uniform sampling or missing slices detected,  maximum nonuniformity:0.000757917\n",
      "\n"
     ]
    },
    {
     "name": "stdout",
     "output_type": "stream",
     "text": [
      "60015386416XJB transformation finished\n"
     ]
    },
    {
     "name": "stderr",
     "output_type": "stream",
     "text": [
      "WARNING: In /tmp/SimpleITK-build/ITK-prefix/include/ITK-5.3/itkImageSeriesReader.hxx, line 478\n",
      "ImageSeriesReader (0x105cf7eb0): Non uniform sampling or missing slices detected,  maximum nonuniformity:0.000757917\n",
      "\n"
     ]
    },
    {
     "name": "stdout",
     "output_type": "stream",
     "text": [
      "60015386416XJB transformation finished\n"
     ]
    },
    {
     "name": "stderr",
     "output_type": "stream",
     "text": [
      "WARNING: In /tmp/SimpleITK-build/ITK-prefix/include/ITK-5.3/itkImageSeriesReader.hxx, line 478\n",
      "ImageSeriesReader (0x105cfd040): Non uniform sampling or missing slices detected,  maximum nonuniformity:183.048\n",
      "\n"
     ]
    },
    {
     "name": "stdout",
     "output_type": "stream",
     "text": [
      "60015386416XJB transformation finished\n",
      "Skipped processing folder /Volumes/MR_analysis/MRCP_DICOM/60015386416XJB/SE24 due to insufficient DICOM files (<5).\n"
     ]
    },
    {
     "name": "stderr",
     "output_type": "stream",
     "text": [
      "WARNING: In /tmp/SimpleITK-build/ITK-prefix/include/ITK-5.3/itkImageSeriesReader.hxx, line 478\n",
      "ImageSeriesReader (0x105ce7f80): Non uniform sampling or missing slices detected,  maximum nonuniformity:0.000151086\n",
      "\n"
     ]
    },
    {
     "name": "stdout",
     "output_type": "stream",
     "text": [
      "60015386416XJB transformation finished\n",
      "60015386416XJB transformation finished\n"
     ]
    },
    {
     "name": "stderr",
     "output_type": "stream",
     "text": [
      "WARNING: In /tmp/SimpleITK-build/ITK-prefix/include/ITK-5.3/itkImageSeriesReader.hxx, line 478\n",
      "ImageSeriesReader (0x10239ccb0): Non uniform sampling or missing slices detected,  maximum nonuniformity:328.16\n",
      "\n",
      "WARNING: In /tmp/SimpleITK-build/ITK-prefix/include/ITK-5.3/itkImageSeriesReader.hxx, line 478\n",
      "ImageSeriesReader (0x105ce2a90): Non uniform sampling or missing slices detected,  maximum nonuniformity:328.16\n",
      "\n"
     ]
    },
    {
     "name": "stdout",
     "output_type": "stream",
     "text": [
      "60015386416XJB transformation finished\n",
      "60015386416XJB transformation finished\n",
      "60015386416XJB transformation finished\n",
      "60015386416XJB transformation finished\n",
      "Skipped processing folder /Volumes/MR_analysis/MRCP_DICOM/60015386416XJB/SE32 due to insufficient DICOM files (<5).\n",
      "60015386416XJB transformation finished\n"
     ]
    },
    {
     "name": "stderr",
     "output_type": "stream",
     "text": [
      "WARNING: In /tmp/SimpleITK-build/ITK-prefix/include/ITK-5.3/itkImageSeriesReader.hxx, line 478\n",
      "ImageSeriesReader (0x10239b8e0): Non uniform sampling or missing slices detected,  maximum nonuniformity:280.558\n",
      "\n",
      "WARNING: In /tmp/SimpleITK-build/ITK-prefix/include/ITK-5.3/itkImageSeriesReader.hxx, line 478\n",
      "ImageSeriesReader (0x102388590): Non uniform sampling or missing slices detected,  maximum nonuniformity:328.153\n",
      "\n"
     ]
    },
    {
     "name": "stdout",
     "output_type": "stream",
     "text": [
      "60015386416XJB transformation finished\n",
      "60015386416XJB transformation finished\n",
      "60015386416XJB transformation finished\n",
      "60015386416XJB transformation finished\n",
      "60015386416XJB transformation finished\n",
      "60015386416XJB transformation finished\n"
     ]
    },
    {
     "name": "stderr",
     "output_type": "stream",
     "text": [
      "WARNING: In /tmp/SimpleITK-build/ITK-prefix/include/ITK-5.3/itkImageSeriesReader.hxx, line 478\n",
      "ImageSeriesReader (0x102388590): Non uniform sampling or missing slices detected,  maximum nonuniformity:337.371\n",
      "\n"
     ]
    },
    {
     "name": "stdout",
     "output_type": "stream",
     "text": [
      "60015744066LHA transformation finished\n"
     ]
    },
    {
     "name": "stderr",
     "output_type": "stream",
     "text": [
      "WARNING: In /tmp/SimpleITK-build/ITK-prefix/include/ITK-5.3/itkImageSeriesReader.hxx, line 478\n",
      "ImageSeriesReader (0x10239d2b0): Non uniform sampling or missing slices detected,  maximum nonuniformity:183.048\n",
      "\n"
     ]
    },
    {
     "name": "stdout",
     "output_type": "stream",
     "text": [
      "60015744066LHA transformation finished\n"
     ]
    },
    {
     "name": "stderr",
     "output_type": "stream",
     "text": [
      "WARNING: In /tmp/SimpleITK-build/ITK-prefix/include/ITK-5.3/itkImageSeriesReader.hxx, line 478\n",
      "ImageSeriesReader (0x10239ccb0): Non uniform sampling or missing slices detected,  maximum nonuniformity:0.0006548\n",
      "\n"
     ]
    },
    {
     "name": "stdout",
     "output_type": "stream",
     "text": [
      "60015744066LHA transformation finished\n",
      "60015744066LHA transformation finished\n"
     ]
    },
    {
     "name": "stderr",
     "output_type": "stream",
     "text": [
      "WARNING: In /tmp/SimpleITK-build/ITK-prefix/include/ITK-5.3/itkImageSeriesReader.hxx, line 478\n",
      "ImageSeriesReader (0x105cb5830): Non uniform sampling or missing slices detected,  maximum nonuniformity:0.000654962\n",
      "\n",
      "WARNING: In /tmp/SimpleITK-build/ITK-prefix/include/ITK-5.3/itkImageSeriesReader.hxx, line 478\n",
      "ImageSeriesReader (0x105ce2a90): Non uniform sampling or missing slices detected,  maximum nonuniformity:0.000651575\n",
      "\n"
     ]
    },
    {
     "name": "stdout",
     "output_type": "stream",
     "text": [
      "60015744066LHA transformation finished\n",
      "60015744066LHA transformation finished\n"
     ]
    },
    {
     "name": "stderr",
     "output_type": "stream",
     "text": [
      "WARNING: In /tmp/SimpleITK-build/ITK-prefix/include/ITK-5.3/itkImageSeriesReader.hxx, line 478\n",
      "ImageSeriesReader (0x105cc2bd0): Non uniform sampling or missing slices detected,  maximum nonuniformity:39.3042\n",
      "\n",
      "WARNING: In /tmp/SimpleITK-build/ITK-prefix/include/ITK-5.3/itkImageSeriesReader.hxx, line 478\n",
      "ImageSeriesReader (0x105ce2a90): Non uniform sampling or missing slices detected,  maximum nonuniformity:328.153\n",
      "\n"
     ]
    },
    {
     "name": "stdout",
     "output_type": "stream",
     "text": [
      "60015744066LHA transformation finished\n",
      "Skipped processing folder /Volumes/MR_analysis/MRCP_DICOM/60015744066LHA/SE33 due to insufficient DICOM files (<5).\n"
     ]
    },
    {
     "name": "stderr",
     "output_type": "stream",
     "text": [
      "WARNING: In /tmp/SimpleITK-build/ITK-prefix/include/ITK-5.3/itkImageSeriesReader.hxx, line 478\n",
      "ImageSeriesReader (0x31035b910): Non uniform sampling or missing slices detected,  maximum nonuniformity:0.000164148\n",
      "\n"
     ]
    },
    {
     "name": "stdout",
     "output_type": "stream",
     "text": [
      "60015744066LHA transformation finished\n",
      "Skipped processing folder /Volumes/MR_analysis/MRCP_DICOM/60015744066LHA/SE3 due to insufficient DICOM files (<5).\n",
      "60015744066LHA transformation finished\n"
     ]
    },
    {
     "name": "stderr",
     "output_type": "stream",
     "text": [
      "WARNING: In /tmp/SimpleITK-build/ITK-prefix/include/ITK-5.3/itkImageSeriesReader.hxx, line 478\n",
      "ImageSeriesReader (0x105cf7670): Non uniform sampling or missing slices detected,  maximum nonuniformity:280.558\n",
      "\n",
      "WARNING: In /tmp/SimpleITK-build/ITK-prefix/include/ITK-5.3/itkImageSeriesReader.hxx, line 478\n",
      "ImageSeriesReader (0x105cc2bd0): Non uniform sampling or missing slices detected,  maximum nonuniformity:0.000237812\n",
      "\n"
     ]
    },
    {
     "name": "stdout",
     "output_type": "stream",
     "text": [
      "60015744066LHA transformation finished\n",
      "60015744066LHA transformation finished\n"
     ]
    },
    {
     "name": "stderr",
     "output_type": "stream",
     "text": [
      "WARNING: In /tmp/SimpleITK-build/ITK-prefix/include/ITK-5.3/itkImageSeriesReader.hxx, line 478\n",
      "ImageSeriesReader (0x105cb5830): Non uniform sampling or missing slices detected,  maximum nonuniformity:85.3657\n",
      "\n"
     ]
    },
    {
     "name": "stdout",
     "output_type": "stream",
     "text": [
      "60015744066LHA transformation finished\n"
     ]
    },
    {
     "name": "stderr",
     "output_type": "stream",
     "text": [
      "WARNING: In /tmp/SimpleITK-build/ITK-prefix/include/ITK-5.3/itkImageSeriesReader.hxx, line 478\n",
      "ImageSeriesReader (0x105cfd040): Non uniform sampling or missing slices detected,  maximum nonuniformity:0.000949919\n",
      "\n"
     ]
    },
    {
     "name": "stdout",
     "output_type": "stream",
     "text": [
      "60015744066LHA transformation finished\n"
     ]
    },
    {
     "name": "stderr",
     "output_type": "stream",
     "text": [
      "WARNING: In /tmp/SimpleITK-build/ITK-prefix/include/ITK-5.3/itkImageSeriesReader.hxx, line 478\n",
      "ImageSeriesReader (0x31030ec90): Non uniform sampling or missing slices detected,  maximum nonuniformity:0.000949919\n",
      "\n"
     ]
    },
    {
     "name": "stdout",
     "output_type": "stream",
     "text": [
      "60015744066LHA transformation finished\n"
     ]
    },
    {
     "name": "stderr",
     "output_type": "stream",
     "text": [
      "WARNING: In /tmp/SimpleITK-build/ITK-prefix/include/ITK-5.3/itkImageSeriesReader.hxx, line 478\n",
      "ImageSeriesReader (0x31030f8b0): Non uniform sampling or missing slices detected,  maximum nonuniformity:0.000949919\n",
      "\n"
     ]
    },
    {
     "name": "stdout",
     "output_type": "stream",
     "text": [
      "60015744066LHA transformation finished\n"
     ]
    },
    {
     "name": "stderr",
     "output_type": "stream",
     "text": [
      "WARNING: In /tmp/SimpleITK-build/ITK-prefix/include/ITK-5.3/itkImageSeriesReader.hxx, line 478\n",
      "ImageSeriesReader (0x105cb5830): Non uniform sampling or missing slices detected,  maximum nonuniformity:0.000949919\n",
      "\n"
     ]
    },
    {
     "name": "stdout",
     "output_type": "stream",
     "text": [
      "60015744066LHA transformation finished\n",
      "60015744066LHA transformation finished\n"
     ]
    },
    {
     "name": "stderr",
     "output_type": "stream",
     "text": [
      "WARNING: In /tmp/SimpleITK-build/ITK-prefix/include/ITK-5.3/itkImageSeriesReader.hxx, line 478\n",
      "ImageSeriesReader (0x3103817f0): Non uniform sampling or missing slices detected,  maximum nonuniformity:0.000949919\n",
      "\n"
     ]
    },
    {
     "name": "stdout",
     "output_type": "stream",
     "text": [
      "60015744066LHA transformation finished\n"
     ]
    },
    {
     "name": "stderr",
     "output_type": "stream",
     "text": [
      "WARNING: In /tmp/SimpleITK-build/ITK-prefix/include/ITK-5.3/itkImageSeriesReader.hxx, line 478\n",
      "ImageSeriesReader (0x1023979a0): Non uniform sampling or missing slices detected,  maximum nonuniformity:0.000949919\n",
      "\n"
     ]
    },
    {
     "name": "stdout",
     "output_type": "stream",
     "text": [
      "60015744066LHA transformation finished\n",
      "60015744066LHA transformation finished\n"
     ]
    },
    {
     "name": "stderr",
     "output_type": "stream",
     "text": [
      "WARNING: In /tmp/SimpleITK-build/ITK-prefix/include/ITK-5.3/itkImageSeriesReader.hxx, line 478\n",
      "ImageSeriesReader (0x10239b8e0): Non uniform sampling or missing slices detected,  maximum nonuniformity:0.000949919\n",
      "\n"
     ]
    },
    {
     "name": "stdout",
     "output_type": "stream",
     "text": [
      "60015744066LHA transformation finished\n"
     ]
    },
    {
     "name": "stderr",
     "output_type": "stream",
     "text": [
      "WARNING: In /tmp/SimpleITK-build/ITK-prefix/include/ITK-5.3/itkImageSeriesReader.hxx, line 478\n",
      "ImageSeriesReader (0x10239ccb0): Non uniform sampling or missing slices detected,  maximum nonuniformity:0.000949919\n",
      "\n"
     ]
    },
    {
     "name": "stdout",
     "output_type": "stream",
     "text": [
      "60015744066LHA transformation finished\n",
      "60015744066LHA transformation finished\n"
     ]
    },
    {
     "name": "stderr",
     "output_type": "stream",
     "text": [
      "WARNING: In /tmp/SimpleITK-build/ITK-prefix/include/ITK-5.3/itkImageSeriesReader.hxx, line 478\n",
      "ImageSeriesReader (0x102388590): Non uniform sampling or missing slices detected,  maximum nonuniformity:0.000949919\n",
      "\n"
     ]
    },
    {
     "name": "stdout",
     "output_type": "stream",
     "text": [
      "60015744066LHA transformation finished\n"
     ]
    },
    {
     "name": "stderr",
     "output_type": "stream",
     "text": [
      "WARNING: In /tmp/SimpleITK-build/ITK-prefix/include/ITK-5.3/itkImageSeriesReader.hxx, line 478\n",
      "ImageSeriesReader (0x102388590): Non uniform sampling or missing slices detected,  maximum nonuniformity:0.000949919\n",
      "\n"
     ]
    },
    {
     "name": "stdout",
     "output_type": "stream",
     "text": [
      "60015744066LHA transformation finished\n"
     ]
    },
    {
     "name": "stderr",
     "output_type": "stream",
     "text": [
      "WARNING: In /tmp/SimpleITK-build/ITK-prefix/include/ITK-5.3/itkImageSeriesReader.hxx, line 478\n",
      "ImageSeriesReader (0x10239f2a0): Non uniform sampling or missing slices detected,  maximum nonuniformity:0.000949919\n",
      "\n"
     ]
    },
    {
     "name": "stdout",
     "output_type": "stream",
     "text": [
      "60015744066LHA transformation finished\n"
     ]
    },
    {
     "name": "stderr",
     "output_type": "stream",
     "text": [
      "WARNING: In /tmp/SimpleITK-build/ITK-prefix/include/ITK-5.3/itkImageSeriesReader.hxx, line 478\n",
      "ImageSeriesReader (0x105cf7670): Non uniform sampling or missing slices detected,  maximum nonuniformity:0.000949919\n",
      "\n"
     ]
    },
    {
     "name": "stdout",
     "output_type": "stream",
     "text": [
      "60015744066LHA transformation finished\n"
     ]
    },
    {
     "name": "stderr",
     "output_type": "stream",
     "text": [
      "WARNING: In /tmp/SimpleITK-build/ITK-prefix/include/ITK-5.3/itkImageSeriesReader.hxx, line 478\n",
      "ImageSeriesReader (0x105cc2bd0): Non uniform sampling or missing slices detected,  maximum nonuniformity:0.000949919\n",
      "\n"
     ]
    },
    {
     "name": "stdout",
     "output_type": "stream",
     "text": [
      "60015744066LHA transformation finished\n"
     ]
    },
    {
     "name": "stderr",
     "output_type": "stream",
     "text": [
      "WARNING: In /tmp/SimpleITK-build/ITK-prefix/include/ITK-5.3/itkImageSeriesReader.hxx, line 478\n",
      "ImageSeriesReader (0x31030f8b0): Non uniform sampling or missing slices detected,  maximum nonuniformity:0.000949919\n",
      "\n"
     ]
    },
    {
     "name": "stdout",
     "output_type": "stream",
     "text": [
      "60015744066LHA transformation finished\n",
      "60015744066LHA transformation finished\n"
     ]
    },
    {
     "name": "stderr",
     "output_type": "stream",
     "text": [
      "WARNING: In /tmp/SimpleITK-build/ITK-prefix/include/ITK-5.3/itkImageSeriesReader.hxx, line 478\n",
      "ImageSeriesReader (0x31030f8b0): Non uniform sampling or missing slices detected,  maximum nonuniformity:0.000949919\n",
      "\n"
     ]
    },
    {
     "name": "stdout",
     "output_type": "stream",
     "text": [
      "60015744066LHA transformation finished\n"
     ]
    },
    {
     "name": "stderr",
     "output_type": "stream",
     "text": [
      "WARNING: In /tmp/SimpleITK-build/ITK-prefix/include/ITK-5.3/itkImageSeriesReader.hxx, line 478\n",
      "ImageSeriesReader (0x31030f2a0): Non uniform sampling or missing slices detected,  maximum nonuniformity:0.000949919\n",
      "\n"
     ]
    },
    {
     "name": "stdout",
     "output_type": "stream",
     "text": [
      "60015744066LHA transformation finished\n",
      "60015744066LHA transformation finished\n",
      "60015744066LHA transformation finished\n",
      "60015744066LHA transformation finished\n",
      "60015744066LHA transformation finished\n",
      "60015744066LHA transformation finished\n"
     ]
    },
    {
     "name": "stderr",
     "output_type": "stream",
     "text": [
      "WARNING: In /tmp/SimpleITK-build/ITK-prefix/include/ITK-5.3/itkImageSeriesReader.hxx, line 478\n",
      "ImageSeriesReader (0x105cbd6f0): Non uniform sampling or missing slices detected,  maximum nonuniformity:183.048\n",
      "\n"
     ]
    },
    {
     "name": "stdout",
     "output_type": "stream",
     "text": [
      "60015744066LHA transformation finished\n"
     ]
    },
    {
     "name": "stderr",
     "output_type": "stream",
     "text": [
      "WARNING: In /tmp/SimpleITK-build/ITK-prefix/include/ITK-5.3/itkImageSeriesReader.hxx, line 478\n",
      "ImageSeriesReader (0x1023e1ac0): Non uniform sampling or missing slices detected,  maximum nonuniformity:0.000949919\n",
      "\n"
     ]
    },
    {
     "name": "stdout",
     "output_type": "stream",
     "text": [
      "60015744066LHA transformation finished\n"
     ]
    },
    {
     "name": "stderr",
     "output_type": "stream",
     "text": [
      "WARNING: In /tmp/SimpleITK-build/ITK-prefix/include/ITK-5.3/itkImageSeriesReader.hxx, line 478\n",
      "ImageSeriesReader (0x1207808a0): Non uniform sampling or missing slices detected,  maximum nonuniformity:0.000949919\n",
      "\n"
     ]
    },
    {
     "name": "stdout",
     "output_type": "stream",
     "text": [
      "60015744066LHA transformation finished\n"
     ]
    },
    {
     "name": "stderr",
     "output_type": "stream",
     "text": [
      "WARNING: In /tmp/SimpleITK-build/ITK-prefix/include/ITK-5.3/itkImageSeriesReader.hxx, line 478\n",
      "ImageSeriesReader (0x105ce2a90): Non uniform sampling or missing slices detected,  maximum nonuniformity:0.000949919\n",
      "\n"
     ]
    },
    {
     "name": "stdout",
     "output_type": "stream",
     "text": [
      "60015744066LHA transformation finished\n",
      "60015744066LHA transformation finished\n"
     ]
    },
    {
     "name": "stderr",
     "output_type": "stream",
     "text": [
      "WARNING: In /tmp/SimpleITK-build/ITK-prefix/include/ITK-5.3/itkImageSeriesReader.hxx, line 478\n",
      "ImageSeriesReader (0x105cf84c0): Non uniform sampling or missing slices detected,  maximum nonuniformity:0.000949919\n",
      "\n"
     ]
    },
    {
     "name": "stdout",
     "output_type": "stream",
     "text": [
      "60015744066LHA transformation finished\n",
      "60015744066LHA transformation finished\n"
     ]
    },
    {
     "name": "stderr",
     "output_type": "stream",
     "text": [
      "WARNING: In /tmp/SimpleITK-build/ITK-prefix/include/ITK-5.3/itkImageSeriesReader.hxx, line 478\n",
      "ImageSeriesReader (0x105ce2a90): Non uniform sampling or missing slices detected,  maximum nonuniformity:0.0006548\n",
      "\n",
      "WARNING: In /tmp/SimpleITK-build/ITK-prefix/include/ITK-5.3/itkImageSeriesReader.hxx, line 478\n",
      "ImageSeriesReader (0x105cb5830): Non uniform sampling or missing slices detected,  maximum nonuniformity:0.0006548\n",
      "\n"
     ]
    },
    {
     "name": "stdout",
     "output_type": "stream",
     "text": [
      "60015744066LHA transformation finished\n"
     ]
    },
    {
     "name": "stderr",
     "output_type": "stream",
     "text": [
      "WARNING: In /tmp/SimpleITK-build/ITK-prefix/include/ITK-5.3/itkImageSeriesReader.hxx, line 478\n",
      "ImageSeriesReader (0x3103903b0): Non uniform sampling or missing slices detected,  maximum nonuniformity:0.000164148\n",
      "\n"
     ]
    },
    {
     "name": "stdout",
     "output_type": "stream",
     "text": [
      "60015744066LHA transformation finished\n",
      "Skipped processing folder /Volumes/MR_analysis/MRCP_DICOM/60015744066LHA/SE34 due to insufficient DICOM files (<5).\n",
      "60015744066LHA transformation finished\n"
     ]
    },
    {
     "name": "stderr",
     "output_type": "stream",
     "text": [
      "WARNING: In /tmp/SimpleITK-build/ITK-prefix/include/ITK-5.3/itkImageSeriesReader.hxx, line 478\n",
      "ImageSeriesReader (0x102388590): Non uniform sampling or missing slices detected,  maximum nonuniformity:323.24\n",
      "\n",
      "WARNING: In /tmp/SimpleITK-build/ITK-prefix/include/ITK-5.3/itkImageSeriesReader.hxx, line 478\n",
      "ImageSeriesReader (0x105cf0fa0): Non uniform sampling or missing slices detected,  maximum nonuniformity:323.24\n",
      "\n"
     ]
    },
    {
     "name": "stdout",
     "output_type": "stream",
     "text": [
      "60015744066LHA transformation finished\n"
     ]
    },
    {
     "name": "stderr",
     "output_type": "stream",
     "text": [
      "WARNING: In /tmp/SimpleITK-build/ITK-prefix/include/ITK-5.3/itkImageSeriesReader.hxx, line 478\n",
      "ImageSeriesReader (0x10239b8e0): Non uniform sampling or missing slices detected,  maximum nonuniformity:0.000237812\n",
      "\n"
     ]
    },
    {
     "name": "stdout",
     "output_type": "stream",
     "text": [
      "60015744066LHA transformation finished\n",
      "Skipped processing folder /Volumes/MR_analysis/MRCP_DICOM/60015744066LHA/SE22 due to insufficient DICOM files (<5).\n",
      "60015744066LHA transformation finished\n"
     ]
    },
    {
     "name": "stderr",
     "output_type": "stream",
     "text": [
      "WARNING: In /tmp/SimpleITK-build/ITK-prefix/include/ITK-5.3/itkImageSeriesReader.hxx, line 478\n",
      "ImageSeriesReader (0x102388590): Non uniform sampling or missing slices detected,  maximum nonuniformity:323.233\n",
      "\n",
      "WARNING: In /tmp/SimpleITK-build/ITK-prefix/include/ITK-5.3/itkImageSeriesReader.hxx, line 478\n",
      "ImageSeriesReader (0x10239ccb0): Non uniform sampling or missing slices detected,  maximum nonuniformity:323.233\n",
      "\n"
     ]
    },
    {
     "name": "stdout",
     "output_type": "stream",
     "text": [
      "60015744066LHA transformation finished\n"
     ]
    },
    {
     "name": "stderr",
     "output_type": "stream",
     "text": [
      "WARNING: In /tmp/SimpleITK-build/ITK-prefix/include/ITK-5.3/itkImageSeriesReader.hxx, line 478\n",
      "ImageSeriesReader (0x10239bee0): Non uniform sampling or missing slices detected,  maximum nonuniformity:337.371\n",
      "\n"
     ]
    },
    {
     "name": "stdout",
     "output_type": "stream",
     "text": [
      "60015788775HXM transformation finished\n"
     ]
    },
    {
     "name": "stderr",
     "output_type": "stream",
     "text": [
      "WARNING: In /tmp/SimpleITK-build/ITK-prefix/include/ITK-5.3/itkImageSeriesReader.hxx, line 478\n",
      "ImageSeriesReader (0x1207808a0): Non uniform sampling or missing slices detected,  maximum nonuniformity:543.784\n",
      "\n"
     ]
    },
    {
     "name": "stdout",
     "output_type": "stream",
     "text": [
      "60015788775HXM transformation finished\n"
     ]
    },
    {
     "name": "stderr",
     "output_type": "stream",
     "text": [
      "WARNING: In /tmp/SimpleITK-build/ITK-prefix/include/ITK-5.3/itkImageSeriesReader.hxx, line 478\n",
      "ImageSeriesReader (0x105cf4660): Non uniform sampling or missing slices detected,  maximum nonuniformity:183.048\n",
      "\n"
     ]
    },
    {
     "name": "stdout",
     "output_type": "stream",
     "text": [
      "60015788775HXM transformation finished\n",
      "60015788775HXM transformation finished\n",
      "60015788775HXM transformation finished\n",
      "60015788775HXM transformation finished\n",
      "60015788775HXM transformation finished\n"
     ]
    },
    {
     "name": "stderr",
     "output_type": "stream",
     "text": [
      "WARNING: In /tmp/SimpleITK-build/ITK-prefix/include/ITK-5.3/itkImageSeriesReader.hxx, line 478\n",
      "ImageSeriesReader (0x10239b8e0): Non uniform sampling or missing slices detected,  maximum nonuniformity:39.3042\n",
      "\n",
      "WARNING: In /tmp/SimpleITK-build/ITK-prefix/include/ITK-5.3/itkImageSeriesReader.hxx, line 478\n",
      "ImageSeriesReader (0x102388590): Non uniform sampling or missing slices detected,  maximum nonuniformity:280.558\n",
      "\n"
     ]
    },
    {
     "name": "stdout",
     "output_type": "stream",
     "text": [
      "60015788775HXM transformation finished\n",
      "Skipped processing folder /Volumes/MR_analysis/MRCP_DICOM/60015788775HXM/SE35 due to insufficient DICOM files (<5).\n"
     ]
    },
    {
     "name": "stderr",
     "output_type": "stream",
     "text": [
      "WARNING: In /tmp/SimpleITK-build/ITK-prefix/include/ITK-5.3/itkImageSeriesReader.hxx, line 478\n",
      "ImageSeriesReader (0x10239bee0): Non uniform sampling or missing slices detected,  maximum nonuniformity:0.000102802\n",
      "\n"
     ]
    },
    {
     "name": "stdout",
     "output_type": "stream",
     "text": [
      "60015788775HXM transformation finished\n",
      "60015788775HXM transformation finished\n",
      "60015788775HXM transformation finished\n",
      "Skipped processing folder /Volumes/MR_analysis/MRCP_DICOM/60015788775HXM/SE17 due to insufficient DICOM files (<5).\n"
     ]
    },
    {
     "name": "stderr",
     "output_type": "stream",
     "text": [
      "WARNING: In /tmp/SimpleITK-build/ITK-prefix/include/ITK-5.3/itkImageSeriesReader.hxx, line 478\n",
      "ImageSeriesReader (0x105cf7670): Non uniform sampling or missing slices detected,  maximum nonuniformity:328.153\n",
      "\n",
      "WARNING: In /tmp/SimpleITK-build/ITK-prefix/include/ITK-5.3/itkImageSeriesReader.hxx, line 478\n",
      "ImageSeriesReader (0x102388590): Non uniform sampling or missing slices detected,  maximum nonuniformity:328.153\n",
      "\n"
     ]
    },
    {
     "name": "stdout",
     "output_type": "stream",
     "text": [
      "60015788775HXM transformation finished\n",
      "60015788775HXM transformation finished\n",
      "60015788775HXM transformation finished\n"
     ]
    },
    {
     "name": "stderr",
     "output_type": "stream",
     "text": [
      "WARNING: In /tmp/SimpleITK-build/ITK-prefix/include/ITK-5.3/itkImageSeriesReader.hxx, line 478\n",
      "ImageSeriesReader (0x31030ec90): Non uniform sampling or missing slices detected,  maximum nonuniformity:0.00094816\n",
      "\n"
     ]
    },
    {
     "name": "stdout",
     "output_type": "stream",
     "text": [
      "60015788775HXM transformation finished\n"
     ]
    },
    {
     "name": "stderr",
     "output_type": "stream",
     "text": [
      "WARNING: In /tmp/SimpleITK-build/ITK-prefix/include/ITK-5.3/itkImageSeriesReader.hxx, line 478\n",
      "ImageSeriesReader (0x105cf7670): Non uniform sampling or missing slices detected,  maximum nonuniformity:0.00094816\n",
      "\n"
     ]
    },
    {
     "name": "stdout",
     "output_type": "stream",
     "text": [
      "60015788775HXM transformation finished\n"
     ]
    },
    {
     "name": "stderr",
     "output_type": "stream",
     "text": [
      "WARNING: In /tmp/SimpleITK-build/ITK-prefix/include/ITK-5.3/itkImageSeriesReader.hxx, line 478\n",
      "ImageSeriesReader (0x105cf7670): Non uniform sampling or missing slices detected,  maximum nonuniformity:0.00094816\n",
      "\n"
     ]
    },
    {
     "name": "stdout",
     "output_type": "stream",
     "text": [
      "60015788775HXM transformation finished\n"
     ]
    },
    {
     "name": "stderr",
     "output_type": "stream",
     "text": [
      "WARNING: In /tmp/SimpleITK-build/ITK-prefix/include/ITK-5.3/itkImageSeriesReader.hxx, line 478\n",
      "ImageSeriesReader (0x1023979a0): Non uniform sampling or missing slices detected,  maximum nonuniformity:0.00094816\n",
      "\n"
     ]
    },
    {
     "name": "stdout",
     "output_type": "stream",
     "text": [
      "60015788775HXM transformation finished\n"
     ]
    },
    {
     "name": "stderr",
     "output_type": "stream",
     "text": [
      "WARNING: In /tmp/SimpleITK-build/ITK-prefix/include/ITK-5.3/itkImageSeriesReader.hxx, line 478\n",
      "ImageSeriesReader (0x10239ccb0): Non uniform sampling or missing slices detected,  maximum nonuniformity:0.00094816\n",
      "\n"
     ]
    },
    {
     "name": "stdout",
     "output_type": "stream",
     "text": [
      "60015788775HXM transformation finished\n"
     ]
    },
    {
     "name": "stderr",
     "output_type": "stream",
     "text": [
      "WARNING: In /tmp/SimpleITK-build/ITK-prefix/include/ITK-5.3/itkImageSeriesReader.hxx, line 478\n",
      "ImageSeriesReader (0x310310430): Non uniform sampling or missing slices detected,  maximum nonuniformity:0.00094816\n",
      "\n"
     ]
    },
    {
     "name": "stdout",
     "output_type": "stream",
     "text": [
      "60015788775HXM transformation finished\n"
     ]
    },
    {
     "name": "stderr",
     "output_type": "stream",
     "text": [
      "WARNING: In /tmp/SimpleITK-build/ITK-prefix/include/ITK-5.3/itkImageSeriesReader.hxx, line 478\n",
      "ImageSeriesReader (0x3103817f0): Non uniform sampling or missing slices detected,  maximum nonuniformity:0.00094816\n",
      "\n"
     ]
    },
    {
     "name": "stdout",
     "output_type": "stream",
     "text": [
      "60015788775HXM transformation finished\n",
      "60015788775HXM transformation finished\n"
     ]
    },
    {
     "name": "stderr",
     "output_type": "stream",
     "text": [
      "WARNING: In /tmp/SimpleITK-build/ITK-prefix/include/ITK-5.3/itkImageSeriesReader.hxx, line 478\n",
      "ImageSeriesReader (0x1023979a0): Non uniform sampling or missing slices detected,  maximum nonuniformity:0.00094816\n",
      "\n"
     ]
    },
    {
     "name": "stdout",
     "output_type": "stream",
     "text": [
      "60015788775HXM transformation finished\n"
     ]
    },
    {
     "name": "stderr",
     "output_type": "stream",
     "text": [
      "WARNING: In /tmp/SimpleITK-build/ITK-prefix/include/ITK-5.3/itkImageSeriesReader.hxx, line 478\n",
      "ImageSeriesReader (0x310311f90): Non uniform sampling or missing slices detected,  maximum nonuniformity:0.00094816\n",
      "\n"
     ]
    },
    {
     "name": "stdout",
     "output_type": "stream",
     "text": [
      "60015788775HXM transformation finished\n"
     ]
    },
    {
     "name": "stderr",
     "output_type": "stream",
     "text": [
      "WARNING: In /tmp/SimpleITK-build/ITK-prefix/include/ITK-5.3/itkImageSeriesReader.hxx, line 478\n",
      "ImageSeriesReader (0x10239f2a0): Non uniform sampling or missing slices detected,  maximum nonuniformity:0.00094816\n",
      "\n"
     ]
    },
    {
     "name": "stdout",
     "output_type": "stream",
     "text": [
      "60015788775HXM transformation finished\n"
     ]
    },
    {
     "name": "stderr",
     "output_type": "stream",
     "text": [
      "WARNING: In /tmp/SimpleITK-build/ITK-prefix/include/ITK-5.3/itkImageSeriesReader.hxx, line 478\n",
      "ImageSeriesReader (0x31030f2a0): Non uniform sampling or missing slices detected,  maximum nonuniformity:0.00094816\n",
      "\n"
     ]
    },
    {
     "name": "stdout",
     "output_type": "stream",
     "text": [
      "60015788775HXM transformation finished\n"
     ]
    },
    {
     "name": "stderr",
     "output_type": "stream",
     "text": [
      "WARNING: In /tmp/SimpleITK-build/ITK-prefix/include/ITK-5.3/itkImageSeriesReader.hxx, line 478\n",
      "ImageSeriesReader (0x31031cdd0): Non uniform sampling or missing slices detected,  maximum nonuniformity:0.00094816\n",
      "\n"
     ]
    },
    {
     "name": "stdout",
     "output_type": "stream",
     "text": [
      "60015788775HXM transformation finished\n",
      "60015788775HXM transformation finished\n",
      "60015788775HXM transformation finished\n"
     ]
    },
    {
     "name": "stderr",
     "output_type": "stream",
     "text": [
      "WARNING: In /tmp/SimpleITK-build/ITK-prefix/include/ITK-5.3/itkImageSeriesReader.hxx, line 478\n",
      "ImageSeriesReader (0x1023979a0): Non uniform sampling or missing slices detected,  maximum nonuniformity:0.00094816\n",
      "\n"
     ]
    },
    {
     "name": "stdout",
     "output_type": "stream",
     "text": [
      "60015788775HXM transformation finished\n"
     ]
    },
    {
     "name": "stderr",
     "output_type": "stream",
     "text": [
      "WARNING: In /tmp/SimpleITK-build/ITK-prefix/include/ITK-5.3/itkImageSeriesReader.hxx, line 478\n",
      "ImageSeriesReader (0x102388590): Non uniform sampling or missing slices detected,  maximum nonuniformity:0.00094816\n",
      "\n"
     ]
    },
    {
     "name": "stdout",
     "output_type": "stream",
     "text": [
      "60015788775HXM transformation finished\n"
     ]
    },
    {
     "name": "stderr",
     "output_type": "stream",
     "text": [
      "WARNING: In /tmp/SimpleITK-build/ITK-prefix/include/ITK-5.3/itkImageSeriesReader.hxx, line 478\n",
      "ImageSeriesReader (0x102388590): Non uniform sampling or missing slices detected,  maximum nonuniformity:0.00094816\n",
      "\n"
     ]
    },
    {
     "name": "stdout",
     "output_type": "stream",
     "text": [
      "60015788775HXM transformation finished\n"
     ]
    },
    {
     "name": "stderr",
     "output_type": "stream",
     "text": [
      "WARNING: In /tmp/SimpleITK-build/ITK-prefix/include/ITK-5.3/itkImageSeriesReader.hxx, line 478\n",
      "ImageSeriesReader (0x102388590): Non uniform sampling or missing slices detected,  maximum nonuniformity:0.00094816\n",
      "\n"
     ]
    },
    {
     "name": "stdout",
     "output_type": "stream",
     "text": [
      "60015788775HXM transformation finished\n"
     ]
    },
    {
     "name": "stderr",
     "output_type": "stream",
     "text": [
      "WARNING: In /tmp/SimpleITK-build/ITK-prefix/include/ITK-5.3/itkImageSeriesReader.hxx, line 478\n",
      "ImageSeriesReader (0x102388590): Non uniform sampling or missing slices detected,  maximum nonuniformity:0.000893787\n",
      "\n"
     ]
    },
    {
     "name": "stdout",
     "output_type": "stream",
     "text": [
      "60015788775HXM transformation finished\n"
     ]
    },
    {
     "name": "stderr",
     "output_type": "stream",
     "text": [
      "WARNING: In /tmp/SimpleITK-build/ITK-prefix/include/ITK-5.3/itkImageSeriesReader.hxx, line 478\n",
      "ImageSeriesReader (0x105cb5830): Non uniform sampling or missing slices detected,  maximum nonuniformity:0.000893787\n",
      "\n"
     ]
    },
    {
     "name": "stdout",
     "output_type": "stream",
     "text": [
      "60015788775HXM transformation finished\n",
      "60015788775HXM transformation finished\n"
     ]
    },
    {
     "name": "stderr",
     "output_type": "stream",
     "text": [
      "WARNING: In /tmp/SimpleITK-build/ITK-prefix/include/ITK-5.3/itkImageSeriesReader.hxx, line 478\n",
      "ImageSeriesReader (0x105cb5830): Non uniform sampling or missing slices detected,  maximum nonuniformity:0.000893787\n",
      "\n"
     ]
    },
    {
     "name": "stdout",
     "output_type": "stream",
     "text": [
      "60015788775HXM transformation finished\n"
     ]
    },
    {
     "name": "stderr",
     "output_type": "stream",
     "text": [
      "WARNING: In /tmp/SimpleITK-build/ITK-prefix/include/ITK-5.3/itkImageSeriesReader.hxx, line 478\n",
      "ImageSeriesReader (0x105cb5830): Non uniform sampling or missing slices detected,  maximum nonuniformity:0.000893787\n",
      "\n"
     ]
    },
    {
     "name": "stdout",
     "output_type": "stream",
     "text": [
      "60015788775HXM transformation finished\n"
     ]
    },
    {
     "name": "stderr",
     "output_type": "stream",
     "text": [
      "WARNING: In /tmp/SimpleITK-build/ITK-prefix/include/ITK-5.3/itkImageSeriesReader.hxx, line 478\n",
      "ImageSeriesReader (0x105cf84c0): Non uniform sampling or missing slices detected,  maximum nonuniformity:183.048\n",
      "\n",
      "WARNING: In /tmp/SimpleITK-build/ITK-prefix/include/ITK-5.3/itkImageSeriesReader.hxx, line 478\n",
      "ImageSeriesReader (0x105cf7670): Non uniform sampling or missing slices detected,  maximum nonuniformity:39.3042\n",
      "\n"
     ]
    },
    {
     "name": "stdout",
     "output_type": "stream",
     "text": [
      "60015788775HXM transformation finished\n",
      "60015788775HXM transformation finished\n"
     ]
    },
    {
     "name": "stderr",
     "output_type": "stream",
     "text": [
      "WARNING: In /tmp/SimpleITK-build/ITK-prefix/include/ITK-5.3/itkImageSeriesReader.hxx, line 478\n",
      "ImageSeriesReader (0x105cb5830): Non uniform sampling or missing slices detected,  maximum nonuniformity:39.3042\n",
      "\n"
     ]
    },
    {
     "name": "stdout",
     "output_type": "stream",
     "text": [
      "60015788775HXM transformation finished\n"
     ]
    },
    {
     "name": "stderr",
     "output_type": "stream",
     "text": [
      "WARNING: In /tmp/SimpleITK-build/ITK-prefix/include/ITK-5.3/itkImageSeriesReader.hxx, line 478\n",
      "ImageSeriesReader (0x31035b300): Non uniform sampling or missing slices detected,  maximum nonuniformity:0.000102802\n",
      "\n"
     ]
    },
    {
     "name": "stdout",
     "output_type": "stream",
     "text": [
      "60015788775HXM transformation finished\n",
      "Skipped processing folder /Volumes/MR_analysis/MRCP_DICOM/60015788775HXM/SE36 due to insufficient DICOM files (<5).\n",
      "60015788775HXM transformation finished\n",
      "60015788775HXM transformation finished\n",
      "Skipped processing folder /Volumes/MR_analysis/MRCP_DICOM/60015788775HXM/SE25 due to insufficient DICOM files (<5).\n",
      "60015788775HXM transformation finished\n"
     ]
    },
    {
     "name": "stderr",
     "output_type": "stream",
     "text": [
      "WARNING: In /tmp/SimpleITK-build/ITK-prefix/include/ITK-5.3/itkImageSeriesReader.hxx, line 478\n",
      "ImageSeriesReader (0x10239b8e0): Non uniform sampling or missing slices detected,  maximum nonuniformity:328.153\n",
      "\n"
     ]
    },
    {
     "name": "stdout",
     "output_type": "stream",
     "text": [
      "60015788775HXM transformation finished\n",
      "60015788775HXM transformation finished\n"
     ]
    },
    {
     "name": "stderr",
     "output_type": "stream",
     "text": [
      "WARNING: In /tmp/SimpleITK-build/ITK-prefix/include/ITK-5.3/itkImageSeriesReader.hxx, line 478\n",
      "ImageSeriesReader (0x10239f2a0): Non uniform sampling or missing slices detected,  maximum nonuniformity:193.423\n",
      "\n"
     ]
    },
    {
     "name": "stdout",
     "output_type": "stream",
     "text": [
      "60015788775HXM transformation finished\n"
     ]
    },
    {
     "name": "stderr",
     "output_type": "stream",
     "text": [
      "WARNING: In /tmp/SimpleITK-build/ITK-prefix/include/ITK-5.3/itkImageSeriesReader.hxx, line 478\n",
      "ImageSeriesReader (0x10239bee0): Non uniform sampling or missing slices detected,  maximum nonuniformity:0.00094816\n",
      "\n"
     ]
    },
    {
     "name": "stdout",
     "output_type": "stream",
     "text": [
      "60015788775HXM transformation finished\n"
     ]
    },
    {
     "name": "stderr",
     "output_type": "stream",
     "text": [
      "WARNING: In /tmp/SimpleITK-build/ITK-prefix/include/ITK-5.3/itkImageSeriesReader.hxx, line 478\n",
      "ImageSeriesReader (0x102388590): Non uniform sampling or missing slices detected,  maximum nonuniformity:0.00094816\n",
      "\n"
     ]
    },
    {
     "name": "stdout",
     "output_type": "stream",
     "text": [
      "60015788775HXM transformation finished\n"
     ]
    },
    {
     "name": "stderr",
     "output_type": "stream",
     "text": [
      "WARNING: In /tmp/SimpleITK-build/ITK-prefix/include/ITK-5.3/itkImageSeriesReader.hxx, line 478\n",
      "ImageSeriesReader (0x10239ccb0): Non uniform sampling or missing slices detected,  maximum nonuniformity:0.00094816\n",
      "\n"
     ]
    },
    {
     "name": "stdout",
     "output_type": "stream",
     "text": [
      "60015788775HXM transformation finished\n"
     ]
    },
    {
     "name": "stderr",
     "output_type": "stream",
     "text": [
      "WARNING: In /tmp/SimpleITK-build/ITK-prefix/include/ITK-5.3/itkImageSeriesReader.hxx, line 478\n",
      "ImageSeriesReader (0x105ce2a90): Non uniform sampling or missing slices detected,  maximum nonuniformity:0.00094816\n",
      "\n"
     ]
    },
    {
     "name": "stdout",
     "output_type": "stream",
     "text": [
      "60015788775HXM transformation finished\n"
     ]
    },
    {
     "name": "stderr",
     "output_type": "stream",
     "text": [
      "WARNING: In /tmp/SimpleITK-build/ITK-prefix/include/ITK-5.3/itkImageSeriesReader.hxx, line 478\n",
      "ImageSeriesReader (0x105cf7670): Non uniform sampling or missing slices detected,  maximum nonuniformity:337.371\n",
      "\n"
     ]
    },
    {
     "name": "stdout",
     "output_type": "stream",
     "text": [
      "60015807179HG transformation finished\n"
     ]
    },
    {
     "name": "stderr",
     "output_type": "stream",
     "text": [
      "WARNING: In /tmp/SimpleITK-build/ITK-prefix/include/ITK-5.3/itkImageSeriesReader.hxx, line 478\n",
      "ImageSeriesReader (0x10239ccb0): Non uniform sampling or missing slices detected,  maximum nonuniformity:543.784\n",
      "\n"
     ]
    },
    {
     "name": "stdout",
     "output_type": "stream",
     "text": [
      "60015807179HG transformation finished\n"
     ]
    },
    {
     "name": "stderr",
     "output_type": "stream",
     "text": [
      "WARNING: In /tmp/SimpleITK-build/ITK-prefix/include/ITK-5.3/itkImageSeriesReader.hxx, line 478\n",
      "ImageSeriesReader (0x3103903b0): Non uniform sampling or missing slices detected,  maximum nonuniformity:269.545\n",
      "\n"
     ]
    },
    {
     "name": "stdout",
     "output_type": "stream",
     "text": [
      "60015807179HG transformation finished\n",
      "60015807179HG transformation finished\n",
      "60015807179HG transformation finished\n",
      "60015807179HG transformation finished\n"
     ]
    },
    {
     "name": "stderr",
     "output_type": "stream",
     "text": [
      "WARNING: In /tmp/SimpleITK-build/ITK-prefix/include/ITK-5.3/itkImageSeriesReader.hxx, line 478\n",
      "ImageSeriesReader (0x105ce2a90): Non uniform sampling or missing slices detected,  maximum nonuniformity:0.000206672\n",
      "\n"
     ]
    },
    {
     "name": "stdout",
     "output_type": "stream",
     "text": [
      "60015807179HG transformation finished\n",
      "60015807179HG transformation finished\n"
     ]
    },
    {
     "name": "stderr",
     "output_type": "stream",
     "text": [
      "WARNING: In /tmp/SimpleITK-build/ITK-prefix/include/ITK-5.3/itkImageSeriesReader.hxx, line 478\n",
      "ImageSeriesReader (0x105ce2a90): Non uniform sampling or missing slices detected,  maximum nonuniformity:328.16\n",
      "\n",
      "WARNING: In /tmp/SimpleITK-build/ITK-prefix/include/ITK-5.3/itkImageSeriesReader.hxx, line 478\n",
      "ImageSeriesReader (0x105cb5830): Non uniform sampling or missing slices detected,  maximum nonuniformity:280.558\n",
      "\n"
     ]
    },
    {
     "name": "stdout",
     "output_type": "stream",
     "text": [
      "60015807179HG transformation finished\n",
      "Skipped processing folder /Volumes/MR_analysis/MRCP_DICOM/60015807179HG/SE53 due to insufficient DICOM files (<5).\n",
      "60015807179HG transformation finished\n"
     ]
    },
    {
     "name": "stderr",
     "output_type": "stream",
     "text": [
      "WARNING: In /tmp/SimpleITK-build/ITK-prefix/include/ITK-5.3/itkImageSeriesReader.hxx, line 478\n",
      "ImageSeriesReader (0x105cc2bd0): Non uniform sampling or missing slices detected,  maximum nonuniformity:280.558\n",
      "\n",
      "WARNING: In /tmp/SimpleITK-build/ITK-prefix/include/ITK-5.3/itkImageSeriesReader.hxx, line 478\n",
      "ImageSeriesReader (0x105cb5830): Non uniform sampling or missing slices detected,  maximum nonuniformity:0.000182818\n",
      "\n"
     ]
    },
    {
     "name": "stdout",
     "output_type": "stream",
     "text": [
      "60015807179HG transformation finished\n",
      "60015807179HG transformation finished\n",
      "Skipped processing folder /Volumes/MR_analysis/MRCP_DICOM/60015807179HG/SE33 due to insufficient DICOM files (<5).\n"
     ]
    },
    {
     "name": "stderr",
     "output_type": "stream",
     "text": [
      "WARNING: In /tmp/SimpleITK-build/ITK-prefix/include/ITK-5.3/itkImageSeriesReader.hxx, line 478\n",
      "ImageSeriesReader (0x10239ccb0): Non uniform sampling or missing slices detected,  maximum nonuniformity:240.646\n",
      "\n"
     ]
    },
    {
     "name": "stdout",
     "output_type": "stream",
     "text": [
      "60015807179HG transformation finished\n"
     ]
    },
    {
     "name": "stderr",
     "output_type": "stream",
     "text": [
      "WARNING: In /tmp/SimpleITK-build/ITK-prefix/include/ITK-5.3/itkImageSeriesReader.hxx, line 478\n",
      "ImageSeriesReader (0x105cb5830): Non uniform sampling or missing slices detected,  maximum nonuniformity:0.000953947\n",
      "\n"
     ]
    },
    {
     "name": "stdout",
     "output_type": "stream",
     "text": [
      "60015807179HG transformation finished\n"
     ]
    },
    {
     "name": "stderr",
     "output_type": "stream",
     "text": [
      "WARNING: In /tmp/SimpleITK-build/ITK-prefix/include/ITK-5.3/itkImageSeriesReader.hxx, line 478\n",
      "ImageSeriesReader (0x105cf7670): Non uniform sampling or missing slices detected,  maximum nonuniformity:0.000953947\n",
      "\n"
     ]
    },
    {
     "name": "stdout",
     "output_type": "stream",
     "text": [
      "60015807179HG transformation finished\n"
     ]
    },
    {
     "name": "stderr",
     "output_type": "stream",
     "text": [
      "WARNING: In /tmp/SimpleITK-build/ITK-prefix/include/ITK-5.3/itkImageSeriesReader.hxx, line 478\n",
      "ImageSeriesReader (0x102388590): Non uniform sampling or missing slices detected,  maximum nonuniformity:0.000953947\n",
      "\n"
     ]
    },
    {
     "name": "stdout",
     "output_type": "stream",
     "text": [
      "60015807179HG transformation finished\n"
     ]
    },
    {
     "name": "stderr",
     "output_type": "stream",
     "text": [
      "WARNING: In /tmp/SimpleITK-build/ITK-prefix/include/ITK-5.3/itkImageSeriesReader.hxx, line 478\n",
      "ImageSeriesReader (0x1023e5c60): Non uniform sampling or missing slices detected,  maximum nonuniformity:0.000953947\n",
      "\n"
     ]
    },
    {
     "name": "stdout",
     "output_type": "stream",
     "text": [
      "60015807179HG transformation finished\n",
      "60015807179HG transformation finished\n"
     ]
    },
    {
     "name": "stderr",
     "output_type": "stream",
     "text": [
      "WARNING: In /tmp/SimpleITK-build/ITK-prefix/include/ITK-5.3/itkImageSeriesReader.hxx, line 478\n",
      "ImageSeriesReader (0x3103d28a0): Non uniform sampling or missing slices detected,  maximum nonuniformity:0.000953947\n",
      "\n"
     ]
    },
    {
     "name": "stdout",
     "output_type": "stream",
     "text": [
      "60015807179HG transformation finished\n"
     ]
    },
    {
     "name": "stderr",
     "output_type": "stream",
     "text": [
      "WARNING: In /tmp/SimpleITK-build/ITK-prefix/include/ITK-5.3/itkImageSeriesReader.hxx, line 478\n",
      "ImageSeriesReader (0x10239ccb0): Non uniform sampling or missing slices detected,  maximum nonuniformity:0.000953947\n",
      "\n"
     ]
    },
    {
     "name": "stdout",
     "output_type": "stream",
     "text": [
      "60015807179HG transformation finished\n"
     ]
    },
    {
     "name": "stderr",
     "output_type": "stream",
     "text": [
      "WARNING: In /tmp/SimpleITK-build/ITK-prefix/include/ITK-5.3/itkImageSeriesReader.hxx, line 478\n",
      "ImageSeriesReader (0x102388590): Non uniform sampling or missing slices detected,  maximum nonuniformity:0.000953947\n",
      "\n"
     ]
    },
    {
     "name": "stdout",
     "output_type": "stream",
     "text": [
      "60015807179HG transformation finished\n"
     ]
    },
    {
     "name": "stderr",
     "output_type": "stream",
     "text": [
      "WARNING: In /tmp/SimpleITK-build/ITK-prefix/include/ITK-5.3/itkImageSeriesReader.hxx, line 478\n",
      "ImageSeriesReader (0x105ceba60): Non uniform sampling or missing slices detected,  maximum nonuniformity:0.000953947\n",
      "\n"
     ]
    },
    {
     "name": "stdout",
     "output_type": "stream",
     "text": [
      "60015807179HG transformation finished\n",
      "60015807179HG transformation finished\n"
     ]
    },
    {
     "name": "stderr",
     "output_type": "stream",
     "text": [
      "WARNING: In /tmp/SimpleITK-build/ITK-prefix/include/ITK-5.3/itkImageSeriesReader.hxx, line 478\n",
      "ImageSeriesReader (0x105cc2bd0): Non uniform sampling or missing slices detected,  maximum nonuniformity:0.000953947\n",
      "\n"
     ]
    },
    {
     "name": "stdout",
     "output_type": "stream",
     "text": [
      "60015807179HG transformation finished\n",
      "60015807179HG transformation finished\n"
     ]
    },
    {
     "name": "stderr",
     "output_type": "stream",
     "text": [
      "WARNING: In /tmp/SimpleITK-build/ITK-prefix/include/ITK-5.3/itkImageSeriesReader.hxx, line 478\n",
      "ImageSeriesReader (0x1023979a0): Non uniform sampling or missing slices detected,  maximum nonuniformity:0.000953947\n",
      "\n"
     ]
    },
    {
     "name": "stdout",
     "output_type": "stream",
     "text": [
      "60015807179HG transformation finished\n"
     ]
    },
    {
     "name": "stderr",
     "output_type": "stream",
     "text": [
      "WARNING: In /tmp/SimpleITK-build/ITK-prefix/include/ITK-5.3/itkImageSeriesReader.hxx, line 478\n",
      "ImageSeriesReader (0x1023979a0): Non uniform sampling or missing slices detected,  maximum nonuniformity:0.000953947\n",
      "\n"
     ]
    },
    {
     "name": "stdout",
     "output_type": "stream",
     "text": [
      "60015807179HG transformation finished\n"
     ]
    },
    {
     "name": "stderr",
     "output_type": "stream",
     "text": [
      "WARNING: In /tmp/SimpleITK-build/ITK-prefix/include/ITK-5.3/itkImageSeriesReader.hxx, line 478\n",
      "ImageSeriesReader (0x3103817f0): Non uniform sampling or missing slices detected,  maximum nonuniformity:0.000953947\n",
      "\n"
     ]
    },
    {
     "name": "stdout",
     "output_type": "stream",
     "text": [
      "60015807179HG transformation finished\n",
      "60015807179HG transformation finished\n"
     ]
    },
    {
     "name": "stderr",
     "output_type": "stream",
     "text": [
      "WARNING: In /tmp/SimpleITK-build/ITK-prefix/include/ITK-5.3/itkImageSeriesReader.hxx, line 478\n",
      "ImageSeriesReader (0x105cf7670): Non uniform sampling or missing slices detected,  maximum nonuniformity:0.000953947\n",
      "\n"
     ]
    },
    {
     "name": "stdout",
     "output_type": "stream",
     "text": [
      "60015807179HG transformation finished\n"
     ]
    },
    {
     "name": "stderr",
     "output_type": "stream",
     "text": [
      "WARNING: In /tmp/SimpleITK-build/ITK-prefix/include/ITK-5.3/itkImageSeriesReader.hxx, line 478\n",
      "ImageSeriesReader (0x31030f2a0): Non uniform sampling or missing slices detected,  maximum nonuniformity:0.000953947\n",
      "\n"
     ]
    },
    {
     "name": "stdout",
     "output_type": "stream",
     "text": [
      "60015807179HG transformation finished\n"
     ]
    },
    {
     "name": "stderr",
     "output_type": "stream",
     "text": [
      "WARNING: In /tmp/SimpleITK-build/ITK-prefix/include/ITK-5.3/itkImageSeriesReader.hxx, line 478\n",
      "ImageSeriesReader (0x105ce2a90): Non uniform sampling or missing slices detected,  maximum nonuniformity:0.000953947\n",
      "\n"
     ]
    },
    {
     "name": "stdout",
     "output_type": "stream",
     "text": [
      "60015807179HG transformation finished\n"
     ]
    },
    {
     "name": "stderr",
     "output_type": "stream",
     "text": [
      "WARNING: In /tmp/SimpleITK-build/ITK-prefix/include/ITK-5.3/itkImageSeriesReader.hxx, line 478\n",
      "ImageSeriesReader (0x10239ccb0): Non uniform sampling or missing slices detected,  maximum nonuniformity:0.000953947\n",
      "\n"
     ]
    },
    {
     "name": "stdout",
     "output_type": "stream",
     "text": [
      "60015807179HG transformation finished\n"
     ]
    },
    {
     "name": "stderr",
     "output_type": "stream",
     "text": [
      "WARNING: In /tmp/SimpleITK-build/ITK-prefix/include/ITK-5.3/itkImageSeriesReader.hxx, line 478\n",
      "ImageSeriesReader (0x10239b8e0): Non uniform sampling or missing slices detected,  maximum nonuniformity:0.000953947\n",
      "\n"
     ]
    },
    {
     "name": "stdout",
     "output_type": "stream",
     "text": [
      "60015807179HG transformation finished\n",
      "60015807179HG transformation finished\n"
     ]
    },
    {
     "name": "stderr",
     "output_type": "stream",
     "text": [
      "WARNING: In /tmp/SimpleITK-build/ITK-prefix/include/ITK-5.3/itkImageSeriesReader.hxx, line 478\n",
      "ImageSeriesReader (0x31035aab0): Non uniform sampling or missing slices detected,  maximum nonuniformity:0.000953947\n",
      "\n"
     ]
    },
    {
     "name": "stdout",
     "output_type": "stream",
     "text": [
      "60015807179HG transformation finished\n"
     ]
    },
    {
     "name": "stderr",
     "output_type": "stream",
     "text": [
      "WARNING: In /tmp/SimpleITK-build/ITK-prefix/include/ITK-5.3/itkImageSeriesReader.hxx, line 478\n",
      "ImageSeriesReader (0x102388590): Non uniform sampling or missing slices detected,  maximum nonuniformity:0.000953947\n",
      "\n"
     ]
    },
    {
     "name": "stdout",
     "output_type": "stream",
     "text": [
      "60015807179HG transformation finished\n"
     ]
    },
    {
     "name": "stderr",
     "output_type": "stream",
     "text": [
      "WARNING: In /tmp/SimpleITK-build/ITK-prefix/include/ITK-5.3/itkImageSeriesReader.hxx, line 478\n",
      "ImageSeriesReader (0x105cc2bd0): Non uniform sampling or missing slices detected,  maximum nonuniformity:0.000953947\n",
      "\n"
     ]
    },
    {
     "name": "stdout",
     "output_type": "stream",
     "text": [
      "60015807179HG transformation finished\n",
      "60015807179HG transformation finished\n",
      "60015807179HG transformation finished\n",
      "60015807179HG transformation finished\n",
      "60015807179HG transformation finished\n",
      "60015807179HG transformation finished\n"
     ]
    },
    {
     "name": "stderr",
     "output_type": "stream",
     "text": [
      "WARNING: In /tmp/SimpleITK-build/ITK-prefix/include/ITK-5.3/itkImageSeriesReader.hxx, line 478\n",
      "ImageSeriesReader (0x105cbc5e0): Non uniform sampling or missing slices detected,  maximum nonuniformity:269.545\n",
      "\n"
     ]
    },
    {
     "name": "stdout",
     "output_type": "stream",
     "text": [
      "60015807179HG transformation finished\n"
     ]
    },
    {
     "name": "stderr",
     "output_type": "stream",
     "text": [
      "WARNING: In /tmp/SimpleITK-build/ITK-prefix/include/ITK-5.3/itkImageSeriesReader.hxx, line 478\n",
      "ImageSeriesReader (0x105cc2bd0): Non uniform sampling or missing slices detected,  maximum nonuniformity:0.000203286\n",
      "\n"
     ]
    },
    {
     "name": "stdout",
     "output_type": "stream",
     "text": [
      "60015807179HG transformation finished\n",
      "Skipped processing folder /Volumes/MR_analysis/MRCP_DICOM/60015807179HG/SE23 due to insufficient DICOM files (<5).\n",
      "60015807179HG transformation finished\n"
     ]
    },
    {
     "name": "stderr",
     "output_type": "stream",
     "text": [
      "WARNING: In /tmp/SimpleITK-build/ITK-prefix/include/ITK-5.3/itkImageSeriesReader.hxx, line 478\n",
      "ImageSeriesReader (0x10239ccb0): Non uniform sampling or missing slices detected,  maximum nonuniformity:323.24\n",
      "\n",
      "WARNING: In /tmp/SimpleITK-build/ITK-prefix/include/ITK-5.3/itkImageSeriesReader.hxx, line 478\n",
      "ImageSeriesReader (0x1023979a0): Non uniform sampling or missing slices detected,  maximum nonuniformity:328.16\n",
      "\n"
     ]
    },
    {
     "name": "stdout",
     "output_type": "stream",
     "text": [
      "60015807179HG transformation finished\n",
      "60015807179HG transformation finished\n",
      "60015807179HG transformation finished\n"
     ]
    },
    {
     "name": "stderr",
     "output_type": "stream",
     "text": [
      "WARNING: In /tmp/SimpleITK-build/ITK-prefix/include/ITK-5.3/itkImageSeriesReader.hxx, line 478\n",
      "ImageSeriesReader (0x1023979a0): Non uniform sampling or missing slices detected,  maximum nonuniformity:0.000182784\n",
      "\n"
     ]
    },
    {
     "name": "stdout",
     "output_type": "stream",
     "text": [
      "60015807179HG transformation finished\n",
      "Skipped processing folder /Volumes/MR_analysis/MRCP_DICOM/60015807179HG/SE21 due to insufficient DICOM files (<5).\n",
      "60015807179HG transformation finished\n"
     ]
    },
    {
     "name": "stderr",
     "output_type": "stream",
     "text": [
      "WARNING: In /tmp/SimpleITK-build/ITK-prefix/include/ITK-5.3/itkImageSeriesReader.hxx, line 478\n",
      "ImageSeriesReader (0x10239ccb0): Non uniform sampling or missing slices detected,  maximum nonuniformity:328.153\n",
      "\n",
      "WARNING: In /tmp/SimpleITK-build/ITK-prefix/include/ITK-5.3/itkImageSeriesReader.hxx, line 478\n",
      "ImageSeriesReader (0x102388590): Non uniform sampling or missing slices detected,  maximum nonuniformity:328.153\n",
      "\n"
     ]
    },
    {
     "name": "stdout",
     "output_type": "stream",
     "text": [
      "60015807179HG transformation finished\n"
     ]
    },
    {
     "name": "stderr",
     "output_type": "stream",
     "text": [
      "WARNING: In /tmp/SimpleITK-build/ITK-prefix/include/ITK-5.3/itkImageSeriesReader.hxx, line 478\n",
      "ImageSeriesReader (0x10239b8e0): Non uniform sampling or missing slices detected,  maximum nonuniformity:0.000953947\n",
      "\n"
     ]
    },
    {
     "name": "stdout",
     "output_type": "stream",
     "text": [
      "60015807179HG transformation finished\n"
     ]
    },
    {
     "name": "stderr",
     "output_type": "stream",
     "text": [
      "WARNING: In /tmp/SimpleITK-build/ITK-prefix/include/ITK-5.3/itkImageSeriesReader.hxx, line 478\n",
      "ImageSeriesReader (0x10239b8e0): Non uniform sampling or missing slices detected,  maximum nonuniformity:0.000953947\n",
      "\n"
     ]
    },
    {
     "name": "stdout",
     "output_type": "stream",
     "text": [
      "60015807179HG transformation finished\n"
     ]
    },
    {
     "name": "stderr",
     "output_type": "stream",
     "text": [
      "WARNING: In /tmp/SimpleITK-build/ITK-prefix/include/ITK-5.3/itkImageSeriesReader.hxx, line 478\n",
      "ImageSeriesReader (0x31030f8b0): Non uniform sampling or missing slices detected,  maximum nonuniformity:0.000953947\n",
      "\n"
     ]
    },
    {
     "name": "stdout",
     "output_type": "stream",
     "text": [
      "60015807179HG transformation finished\n",
      "60015807179HG transformation finished\n"
     ]
    },
    {
     "name": "stderr",
     "output_type": "stream",
     "text": [
      "WARNING: In /tmp/SimpleITK-build/ITK-prefix/include/ITK-5.3/itkImageSeriesReader.hxx, line 478\n",
      "ImageSeriesReader (0x105cb5830): Non uniform sampling or missing slices detected,  maximum nonuniformity:0.000953947\n",
      "\n"
     ]
    },
    {
     "name": "stdout",
     "output_type": "stream",
     "text": [
      "60015807179HG transformation finished\n"
     ]
    },
    {
     "name": "stderr",
     "output_type": "stream",
     "text": [
      "WARNING: In /tmp/SimpleITK-build/ITK-prefix/include/ITK-5.3/itkImageSeriesReader.hxx, line 478\n",
      "ImageSeriesReader (0x105cc2bd0): Non uniform sampling or missing slices detected,  maximum nonuniformity:337.371\n",
      "\n"
     ]
    },
    {
     "name": "stdout",
     "output_type": "stream",
     "text": [
      "60015825653ZJX transformation finished\n"
     ]
    },
    {
     "name": "stderr",
     "output_type": "stream",
     "text": [
      "WARNING: In /tmp/SimpleITK-build/ITK-prefix/include/ITK-5.3/itkImageSeriesReader.hxx, line 478\n",
      "ImageSeriesReader (0x105cc2bd0): Non uniform sampling or missing slices detected,  maximum nonuniformity:543.784\n",
      "\n"
     ]
    },
    {
     "name": "stdout",
     "output_type": "stream",
     "text": [
      "60015825653ZJX transformation finished\n"
     ]
    },
    {
     "name": "stderr",
     "output_type": "stream",
     "text": [
      "WARNING: In /tmp/SimpleITK-build/ITK-prefix/include/ITK-5.3/itkImageSeriesReader.hxx, line 478\n",
      "ImageSeriesReader (0x31032c2e0): Non uniform sampling or missing slices detected,  maximum nonuniformity:183.047\n",
      "\n"
     ]
    },
    {
     "name": "stdout",
     "output_type": "stream",
     "text": [
      "60015825653ZJX transformation finished\n",
      "60015825653ZJX transformation finished\n",
      "60015825653ZJX transformation finished\n",
      "60015825653ZJX transformation finished\n",
      "60015825653ZJX transformation finished\n"
     ]
    },
    {
     "name": "stderr",
     "output_type": "stream",
     "text": [
      "WARNING: In /tmp/SimpleITK-build/ITK-prefix/include/ITK-5.3/itkImageSeriesReader.hxx, line 478\n",
      "ImageSeriesReader (0x105cc2bd0): Non uniform sampling or missing slices detected,  maximum nonuniformity:39.3042\n",
      "\n",
      "WARNING: In /tmp/SimpleITK-build/ITK-prefix/include/ITK-5.3/itkImageSeriesReader.hxx, line 478\n",
      "ImageSeriesReader (0x105cb5830): Non uniform sampling or missing slices detected,  maximum nonuniformity:328.154\n",
      "\n"
     ]
    },
    {
     "name": "stdout",
     "output_type": "stream",
     "text": [
      "60015825653ZJX transformation finished\n",
      "Skipped processing folder /Volumes/MR_analysis/MRCP_DICOM/60015825653ZJX/SE12 due to insufficient DICOM files (<5).\n"
     ]
    },
    {
     "name": "stderr",
     "output_type": "stream",
     "text": [
      "WARNING: In /tmp/SimpleITK-build/ITK-prefix/include/ITK-5.3/itkImageSeriesReader.hxx, line 478\n",
      "ImageSeriesReader (0x105ce2a90): Non uniform sampling or missing slices detected,  maximum nonuniformity:0.000179839\n",
      "\n"
     ]
    },
    {
     "name": "stdout",
     "output_type": "stream",
     "text": [
      "60015825653ZJX transformation finished\n",
      "60015825653ZJX transformation finished\n"
     ]
    },
    {
     "name": "stderr",
     "output_type": "stream",
     "text": [
      "WARNING: In /tmp/SimpleITK-build/ITK-prefix/include/ITK-5.3/itkImageSeriesReader.hxx, line 478\n",
      "ImageSeriesReader (0x105cb5830): Non uniform sampling or missing slices detected,  maximum nonuniformity:83.5648\n",
      "\n",
      "WARNING: In /tmp/SimpleITK-build/ITK-prefix/include/ITK-5.3/itkImageSeriesReader.hxx, line 478\n",
      "ImageSeriesReader (0x105ce2a90): Non uniform sampling or missing slices detected,  maximum nonuniformity:85.3657\n",
      "\n"
     ]
    },
    {
     "name": "stdout",
     "output_type": "stream",
     "text": [
      "60015825653ZJX transformation finished\n",
      "60015825653ZJX transformation finished\n",
      "Skipped processing folder /Volumes/MR_analysis/MRCP_DICOM/60015825653ZJX/SE49 due to insufficient DICOM files (<5).\n",
      "60015825653ZJX transformation finished\n",
      "60015825653ZJX transformation finished\n"
     ]
    },
    {
     "name": "stderr",
     "output_type": "stream",
     "text": [
      "WARNING: In /tmp/SimpleITK-build/ITK-prefix/include/ITK-5.3/itkImageSeriesReader.hxx, line 478\n",
      "ImageSeriesReader (0x10239b8e0): Non uniform sampling or missing slices detected,  maximum nonuniformity:0.000898649\n",
      "\n"
     ]
    },
    {
     "name": "stdout",
     "output_type": "stream",
     "text": [
      "60015825653ZJX transformation finished\n"
     ]
    },
    {
     "name": "stderr",
     "output_type": "stream",
     "text": [
      "WARNING: In /tmp/SimpleITK-build/ITK-prefix/include/ITK-5.3/itkImageSeriesReader.hxx, line 478\n",
      "ImageSeriesReader (0x1023979a0): Non uniform sampling or missing slices detected,  maximum nonuniformity:0.000898649\n",
      "\n"
     ]
    },
    {
     "name": "stdout",
     "output_type": "stream",
     "text": [
      "60015825653ZJX transformation finished\n"
     ]
    },
    {
     "name": "stderr",
     "output_type": "stream",
     "text": [
      "WARNING: In /tmp/SimpleITK-build/ITK-prefix/include/ITK-5.3/itkImageSeriesReader.hxx, line 478\n",
      "ImageSeriesReader (0x10239b8e0): Non uniform sampling or missing slices detected,  maximum nonuniformity:0.000898649\n",
      "\n"
     ]
    },
    {
     "name": "stdout",
     "output_type": "stream",
     "text": [
      "60015825653ZJX transformation finished\n"
     ]
    },
    {
     "name": "stderr",
     "output_type": "stream",
     "text": [
      "WARNING: In /tmp/SimpleITK-build/ITK-prefix/include/ITK-5.3/itkImageSeriesReader.hxx, line 478\n",
      "ImageSeriesReader (0x3105042c0): Non uniform sampling or missing slices detected,  maximum nonuniformity:0.000898649\n",
      "\n"
     ]
    },
    {
     "name": "stdout",
     "output_type": "stream",
     "text": [
      "60015825653ZJX transformation finished\n"
     ]
    },
    {
     "name": "stderr",
     "output_type": "stream",
     "text": [
      "WARNING: In /tmp/SimpleITK-build/ITK-prefix/include/ITK-5.3/itkImageSeriesReader.hxx, line 478\n",
      "ImageSeriesReader (0x31032c2e0): Non uniform sampling or missing slices detected,  maximum nonuniformity:0.000898649\n",
      "\n"
     ]
    },
    {
     "name": "stdout",
     "output_type": "stream",
     "text": [
      "60015825653ZJX transformation finished\n",
      "60015825653ZJX transformation finished\n"
     ]
    },
    {
     "name": "stderr",
     "output_type": "stream",
     "text": [
      "WARNING: In /tmp/SimpleITK-build/ITK-prefix/include/ITK-5.3/itkImageSeriesReader.hxx, line 478\n",
      "ImageSeriesReader (0x105cf84c0): Non uniform sampling or missing slices detected,  maximum nonuniformity:0.000898649\n",
      "\n"
     ]
    },
    {
     "name": "stdout",
     "output_type": "stream",
     "text": [
      "60015825653ZJX transformation finished\n"
     ]
    },
    {
     "name": "stderr",
     "output_type": "stream",
     "text": [
      "WARNING: In /tmp/SimpleITK-build/ITK-prefix/include/ITK-5.3/itkImageSeriesReader.hxx, line 478\n",
      "ImageSeriesReader (0x3103d7ed0): Non uniform sampling or missing slices detected,  maximum nonuniformity:0.000898649\n",
      "\n"
     ]
    },
    {
     "name": "stdout",
     "output_type": "stream",
     "text": [
      "60015825653ZJX transformation finished\n"
     ]
    },
    {
     "name": "stderr",
     "output_type": "stream",
     "text": [
      "WARNING: In /tmp/SimpleITK-build/ITK-prefix/include/ITK-5.3/itkImageSeriesReader.hxx, line 478\n",
      "ImageSeriesReader (0x105cf84c0): Non uniform sampling or missing slices detected,  maximum nonuniformity:0.000898649\n",
      "\n"
     ]
    },
    {
     "name": "stdout",
     "output_type": "stream",
     "text": [
      "60015825653ZJX transformation finished\n"
     ]
    },
    {
     "name": "stderr",
     "output_type": "stream",
     "text": [
      "WARNING: In /tmp/SimpleITK-build/ITK-prefix/include/ITK-5.3/itkImageSeriesReader.hxx, line 478\n",
      "ImageSeriesReader (0x105cbc5e0): Non uniform sampling or missing slices detected,  maximum nonuniformity:0.000898649\n",
      "\n"
     ]
    },
    {
     "name": "stdout",
     "output_type": "stream",
     "text": [
      "60015825653ZJX transformation finished\n"
     ]
    },
    {
     "name": "stderr",
     "output_type": "stream",
     "text": [
      "WARNING: In /tmp/SimpleITK-build/ITK-prefix/include/ITK-5.3/itkImageSeriesReader.hxx, line 478\n",
      "ImageSeriesReader (0x105ce7f80): Non uniform sampling or missing slices detected,  maximum nonuniformity:0.000898649\n",
      "\n"
     ]
    },
    {
     "name": "stdout",
     "output_type": "stream",
     "text": [
      "60015825653ZJX transformation finished\n",
      "60015825653ZJX transformation finished\n"
     ]
    },
    {
     "name": "stderr",
     "output_type": "stream",
     "text": [
      "WARNING: In /tmp/SimpleITK-build/ITK-prefix/include/ITK-5.3/itkImageSeriesReader.hxx, line 478\n",
      "ImageSeriesReader (0x105cf7670): Non uniform sampling or missing slices detected,  maximum nonuniformity:0.000898649\n",
      "\n"
     ]
    },
    {
     "name": "stdout",
     "output_type": "stream",
     "text": [
      "60015825653ZJX transformation finished\n"
     ]
    },
    {
     "name": "stderr",
     "output_type": "stream",
     "text": [
      "WARNING: In /tmp/SimpleITK-build/ITK-prefix/include/ITK-5.3/itkImageSeriesReader.hxx, line 478\n",
      "ImageSeriesReader (0x102388590): Non uniform sampling or missing slices detected,  maximum nonuniformity:0.000898649\n",
      "\n"
     ]
    },
    {
     "name": "stdout",
     "output_type": "stream",
     "text": [
      "60015825653ZJX transformation finished\n"
     ]
    },
    {
     "name": "stderr",
     "output_type": "stream",
     "text": [
      "WARNING: In /tmp/SimpleITK-build/ITK-prefix/include/ITK-5.3/itkImageSeriesReader.hxx, line 478\n",
      "ImageSeriesReader (0x1023979a0): Non uniform sampling or missing slices detected,  maximum nonuniformity:0.000898649\n",
      "\n"
     ]
    },
    {
     "name": "stdout",
     "output_type": "stream",
     "text": [
      "60015825653ZJX transformation finished\n"
     ]
    },
    {
     "name": "stderr",
     "output_type": "stream",
     "text": [
      "WARNING: In /tmp/SimpleITK-build/ITK-prefix/include/ITK-5.3/itkImageSeriesReader.hxx, line 478\n",
      "ImageSeriesReader (0x10239b8e0): Non uniform sampling or missing slices detected,  maximum nonuniformity:0.000898649\n",
      "\n"
     ]
    },
    {
     "name": "stdout",
     "output_type": "stream",
     "text": [
      "60015825653ZJX transformation finished\n",
      "60015825653ZJX transformation finished\n"
     ]
    },
    {
     "name": "stderr",
     "output_type": "stream",
     "text": [
      "WARNING: In /tmp/SimpleITK-build/ITK-prefix/include/ITK-5.3/itkImageSeriesReader.hxx, line 478\n",
      "ImageSeriesReader (0x1023979a0): Non uniform sampling or missing slices detected,  maximum nonuniformity:0.000898649\n",
      "\n"
     ]
    },
    {
     "name": "stdout",
     "output_type": "stream",
     "text": [
      "60015825653ZJX transformation finished\n"
     ]
    },
    {
     "name": "stderr",
     "output_type": "stream",
     "text": [
      "WARNING: In /tmp/SimpleITK-build/ITK-prefix/include/ITK-5.3/itkImageSeriesReader.hxx, line 478\n",
      "ImageSeriesReader (0x105cfe190): Non uniform sampling or missing slices detected,  maximum nonuniformity:0.000898649\n",
      "\n"
     ]
    },
    {
     "name": "stdout",
     "output_type": "stream",
     "text": [
      "60015825653ZJX transformation finished\n"
     ]
    },
    {
     "name": "stderr",
     "output_type": "stream",
     "text": [
      "WARNING: In /tmp/SimpleITK-build/ITK-prefix/include/ITK-5.3/itkImageSeriesReader.hxx, line 478\n",
      "ImageSeriesReader (0x105cc2bd0): Non uniform sampling or missing slices detected,  maximum nonuniformity:0.000898649\n",
      "\n"
     ]
    },
    {
     "name": "stdout",
     "output_type": "stream",
     "text": [
      "60015825653ZJX transformation finished\n",
      "60015825653ZJX transformation finished\n"
     ]
    },
    {
     "name": "stderr",
     "output_type": "stream",
     "text": [
      "WARNING: In /tmp/SimpleITK-build/ITK-prefix/include/ITK-5.3/itkImageSeriesReader.hxx, line 478\n",
      "ImageSeriesReader (0x105cb5830): Non uniform sampling or missing slices detected,  maximum nonuniformity:0.000898649\n",
      "\n"
     ]
    },
    {
     "name": "stdout",
     "output_type": "stream",
     "text": [
      "60015825653ZJX transformation finished\n"
     ]
    },
    {
     "name": "stderr",
     "output_type": "stream",
     "text": [
      "WARNING: In /tmp/SimpleITK-build/ITK-prefix/include/ITK-5.3/itkImageSeriesReader.hxx, line 478\n",
      "ImageSeriesReader (0x105cf7670): Non uniform sampling or missing slices detected,  maximum nonuniformity:0.000898649\n",
      "\n"
     ]
    },
    {
     "name": "stdout",
     "output_type": "stream",
     "text": [
      "60015825653ZJX transformation finished\n"
     ]
    },
    {
     "name": "stderr",
     "output_type": "stream",
     "text": [
      "WARNING: In /tmp/SimpleITK-build/ITK-prefix/include/ITK-5.3/itkImageSeriesReader.hxx, line 478\n",
      "ImageSeriesReader (0x1207808a0): Non uniform sampling or missing slices detected,  maximum nonuniformity:0.000898649\n",
      "\n"
     ]
    },
    {
     "name": "stdout",
     "output_type": "stream",
     "text": [
      "60015825653ZJX transformation finished\n",
      "60015825653ZJX transformation finished\n",
      "60015825653ZJX transformation finished\n",
      "60015825653ZJX transformation finished\n",
      "60015825653ZJX transformation finished\n",
      "60015825653ZJX transformation finished\n"
     ]
    },
    {
     "name": "stderr",
     "output_type": "stream",
     "text": [
      "WARNING: In /tmp/SimpleITK-build/ITK-prefix/include/ITK-5.3/itkImageSeriesReader.hxx, line 478\n",
      "ImageSeriesReader (0x31032c2e0): Non uniform sampling or missing slices detected,  maximum nonuniformity:183.047\n",
      "\n"
     ]
    },
    {
     "name": "stdout",
     "output_type": "stream",
     "text": [
      "60015825653ZJX transformation finished\n"
     ]
    },
    {
     "name": "stderr",
     "output_type": "stream",
     "text": [
      "WARNING: In /tmp/SimpleITK-build/ITK-prefix/include/ITK-5.3/itkImageSeriesReader.hxx, line 478\n",
      "ImageSeriesReader (0x105cc2bd0): Non uniform sampling or missing slices detected,  maximum nonuniformity:0.000179839\n",
      "\n"
     ]
    },
    {
     "name": "stdout",
     "output_type": "stream",
     "text": [
      "60015825653ZJX transformation finished\n",
      "Skipped processing folder /Volumes/MR_analysis/MRCP_DICOM/60015825653ZJX/SE51 due to insufficient DICOM files (<5).\n",
      "60015825653ZJX transformation finished\n"
     ]
    },
    {
     "name": "stderr",
     "output_type": "stream",
     "text": [
      "WARNING: In /tmp/SimpleITK-build/ITK-prefix/include/ITK-5.3/itkImageSeriesReader.hxx, line 478\n",
      "ImageSeriesReader (0x10239b8e0): Non uniform sampling or missing slices detected,  maximum nonuniformity:328.16\n",
      "\n",
      "WARNING: In /tmp/SimpleITK-build/ITK-prefix/include/ITK-5.3/itkImageSeriesReader.hxx, line 478\n",
      "ImageSeriesReader (0x105cb5830): Non uniform sampling or missing slices detected,  maximum nonuniformity:328.16\n",
      "\n"
     ]
    },
    {
     "name": "stdout",
     "output_type": "stream",
     "text": [
      "60015825653ZJX transformation finished\n",
      "60015825653ZJX transformation finished\n",
      "60015825653ZJX transformation finished\n",
      "60015825653ZJX transformation finished\n",
      "Skipped processing folder /Volumes/MR_analysis/MRCP_DICOM/60015825653ZJX/SE28 due to insufficient DICOM files (<5).\n",
      "60015825653ZJX transformation finished\n"
     ]
    },
    {
     "name": "stderr",
     "output_type": "stream",
     "text": [
      "WARNING: In /tmp/SimpleITK-build/ITK-prefix/include/ITK-5.3/itkImageSeriesReader.hxx, line 478\n",
      "ImageSeriesReader (0x105cb5830): Non uniform sampling or missing slices detected,  maximum nonuniformity:328.153\n",
      "\n",
      "WARNING: In /tmp/SimpleITK-build/ITK-prefix/include/ITK-5.3/itkImageSeriesReader.hxx, line 478\n",
      "ImageSeriesReader (0x105ff1bb0): Non uniform sampling or missing slices detected,  maximum nonuniformity:328.153\n",
      "\n"
     ]
    },
    {
     "name": "stdout",
     "output_type": "stream",
     "text": [
      "60015825653ZJX transformation finished\n"
     ]
    },
    {
     "name": "stderr",
     "output_type": "stream",
     "text": [
      "WARNING: In /tmp/SimpleITK-build/ITK-prefix/include/ITK-5.3/itkImageSeriesReader.hxx, line 478\n",
      "ImageSeriesReader (0x31032a290): Non uniform sampling or missing slices detected,  maximum nonuniformity:0.000898649\n",
      "\n"
     ]
    },
    {
     "name": "stdout",
     "output_type": "stream",
     "text": [
      "60015825653ZJX transformation finished\n",
      "60015825653ZJX transformation finished\n"
     ]
    },
    {
     "name": "stderr",
     "output_type": "stream",
     "text": [
      "WARNING: In /tmp/SimpleITK-build/ITK-prefix/include/ITK-5.3/itkImageSeriesReader.hxx, line 478\n",
      "ImageSeriesReader (0x1023979a0): Non uniform sampling or missing slices detected,  maximum nonuniformity:0.000898649\n",
      "\n"
     ]
    },
    {
     "name": "stdout",
     "output_type": "stream",
     "text": [
      "60015825653ZJX transformation finished\n"
     ]
    },
    {
     "name": "stderr",
     "output_type": "stream",
     "text": [
      "WARNING: In /tmp/SimpleITK-build/ITK-prefix/include/ITK-5.3/itkImageSeriesReader.hxx, line 478\n",
      "ImageSeriesReader (0x1023979a0): Non uniform sampling or missing slices detected,  maximum nonuniformity:0.000898649\n",
      "\n"
     ]
    },
    {
     "name": "stdout",
     "output_type": "stream",
     "text": [
      "60015825653ZJX transformation finished\n"
     ]
    },
    {
     "name": "stderr",
     "output_type": "stream",
     "text": [
      "WARNING: In /tmp/SimpleITK-build/ITK-prefix/include/ITK-5.3/itkImageSeriesReader.hxx, line 478\n",
      "ImageSeriesReader (0x10239b8e0): Non uniform sampling or missing slices detected,  maximum nonuniformity:0.000898649\n",
      "\n"
     ]
    },
    {
     "name": "stdout",
     "output_type": "stream",
     "text": [
      "60015825653ZJX transformation finished\n"
     ]
    },
    {
     "name": "stderr",
     "output_type": "stream",
     "text": [
      "WARNING: In /tmp/SimpleITK-build/ITK-prefix/include/ITK-5.3/itkImageSeriesReader.hxx, line 478\n",
      "ImageSeriesReader (0x102388590): Non uniform sampling or missing slices detected,  maximum nonuniformity:337.371\n",
      "\n"
     ]
    },
    {
     "name": "stdout",
     "output_type": "stream",
     "text": [
      "60016059849YPJ transformation finished\n"
     ]
    },
    {
     "name": "stderr",
     "output_type": "stream",
     "text": [
      "WARNING: In /tmp/SimpleITK-build/ITK-prefix/include/ITK-5.3/itkImageSeriesReader.hxx, line 478\n",
      "ImageSeriesReader (0x105cb5830): Non uniform sampling or missing slices detected,  maximum nonuniformity:543.784\n",
      "\n"
     ]
    },
    {
     "name": "stdout",
     "output_type": "stream",
     "text": [
      "60016059849YPJ transformation finished\n"
     ]
    },
    {
     "name": "stderr",
     "output_type": "stream",
     "text": [
      "WARNING: In /tmp/SimpleITK-build/ITK-prefix/include/ITK-5.3/itkImageSeriesReader.hxx, line 478\n",
      "ImageSeriesReader (0x1023e20d0): Non uniform sampling or missing slices detected,  maximum nonuniformity:183.048\n",
      "\n"
     ]
    },
    {
     "name": "stdout",
     "output_type": "stream",
     "text": [
      "60016059849YPJ transformation finished\n"
     ]
    },
    {
     "name": "stderr",
     "output_type": "stream",
     "text": [
      "WARNING: In /tmp/SimpleITK-build/ITK-prefix/include/ITK-5.3/itkImageSeriesReader.hxx, line 478\n",
      "ImageSeriesReader (0x10239ccb0): Non uniform sampling or missing slices detected,  maximum nonuniformity:0.00063855\n",
      "\n"
     ]
    },
    {
     "name": "stdout",
     "output_type": "stream",
     "text": [
      "60016059849YPJ transformation finished\n",
      "60016059849YPJ transformation finished\n"
     ]
    },
    {
     "name": "stderr",
     "output_type": "stream",
     "text": [
      "WARNING: In /tmp/SimpleITK-build/ITK-prefix/include/ITK-5.3/itkImageSeriesReader.hxx, line 478\n",
      "ImageSeriesReader (0x105cf7670): Non uniform sampling or missing slices detected,  maximum nonuniformity:0.000641775\n",
      "\n",
      "WARNING: In /tmp/SimpleITK-build/ITK-prefix/include/ITK-5.3/itkImageSeriesReader.hxx, line 478\n",
      "ImageSeriesReader (0x10239b8e0): Non uniform sampling or missing slices detected,  maximum nonuniformity:0.000641775\n",
      "\n"
     ]
    },
    {
     "name": "stdout",
     "output_type": "stream",
     "text": [
      "60016059849YPJ transformation finished\n",
      "Skipped processing folder /Volumes/MR_analysis/MRCP_DICOM/60016059849YPJ/SE8 due to insufficient DICOM files (<5).\n"
     ]
    },
    {
     "name": "stderr",
     "output_type": "stream",
     "text": [
      "WARNING: In /tmp/SimpleITK-build/ITK-prefix/include/ITK-5.3/itkImageSeriesReader.hxx, line 478\n",
      "ImageSeriesReader (0x105cf7eb0): Non uniform sampling or missing slices detected,  maximum nonuniformity:0.000390167\n",
      "\n"
     ]
    },
    {
     "name": "stdout",
     "output_type": "stream",
     "text": [
      "60016059849YPJ transformation finished\n",
      "60016059849YPJ transformation finished\n"
     ]
    },
    {
     "name": "stderr",
     "output_type": "stream",
     "text": [
      "WARNING: In /tmp/SimpleITK-build/ITK-prefix/include/ITK-5.3/itkImageSeriesReader.hxx, line 478\n",
      "ImageSeriesReader (0x105cb5830): Non uniform sampling or missing slices detected,  maximum nonuniformity:39.3043\n",
      "\n",
      "WARNING: In /tmp/SimpleITK-build/ITK-prefix/include/ITK-5.3/itkImageSeriesReader.hxx, line 478\n",
      "ImageSeriesReader (0x105ce2a90): Non uniform sampling or missing slices detected,  maximum nonuniformity:328.16\n",
      "\n"
     ]
    },
    {
     "name": "stdout",
     "output_type": "stream",
     "text": [
      "60016059849YPJ transformation finished\n",
      "Skipped processing folder /Volumes/MR_analysis/MRCP_DICOM/60016059849YPJ/SE25 due to insufficient DICOM files (<5).\n"
     ]
    },
    {
     "name": "stderr",
     "output_type": "stream",
     "text": [
      "WARNING: In /tmp/SimpleITK-build/ITK-prefix/include/ITK-5.3/itkImageSeriesReader.hxx, line 478\n",
      "ImageSeriesReader (0x105cc2bd0): Non uniform sampling or missing slices detected,  maximum nonuniformity:0.00065758\n",
      "\n"
     ]
    },
    {
     "name": "stdout",
     "output_type": "stream",
     "text": [
      "60016059849YPJ transformation finished\n",
      "60016059849YPJ transformation finished\n"
     ]
    },
    {
     "name": "stderr",
     "output_type": "stream",
     "text": [
      "WARNING: In /tmp/SimpleITK-build/ITK-prefix/include/ITK-5.3/itkImageSeriesReader.hxx, line 478\n",
      "ImageSeriesReader (0x105cc2bd0): Non uniform sampling or missing slices detected,  maximum nonuniformity:280.558\n",
      "\n",
      "WARNING: In /tmp/SimpleITK-build/ITK-prefix/include/ITK-5.3/itkImageSeriesReader.hxx, line 478\n",
      "ImageSeriesReader (0x105cf7670): Non uniform sampling or missing slices detected,  maximum nonuniformity:328.154\n",
      "\n"
     ]
    },
    {
     "name": "stdout",
     "output_type": "stream",
     "text": [
      "60016059849YPJ transformation finished\n",
      "60016059849YPJ transformation finished\n",
      "60016059849YPJ transformation finished\n"
     ]
    },
    {
     "name": "stderr",
     "output_type": "stream",
     "text": [
      "WARNING: In /tmp/SimpleITK-build/ITK-prefix/include/ITK-5.3/itkImageSeriesReader.hxx, line 478\n",
      "ImageSeriesReader (0x105ce7f80): Non uniform sampling or missing slices detected,  maximum nonuniformity:0.000952184\n",
      "\n"
     ]
    },
    {
     "name": "stdout",
     "output_type": "stream",
     "text": [
      "60016059849YPJ transformation finished\n"
     ]
    },
    {
     "name": "stderr",
     "output_type": "stream",
     "text": [
      "WARNING: In /tmp/SimpleITK-build/ITK-prefix/include/ITK-5.3/itkImageSeriesReader.hxx, line 478\n",
      "ImageSeriesReader (0x10239b8e0): Non uniform sampling or missing slices detected,  maximum nonuniformity:0.000952184\n",
      "\n"
     ]
    },
    {
     "name": "stdout",
     "output_type": "stream",
     "text": [
      "60016059849YPJ transformation finished\n"
     ]
    },
    {
     "name": "stderr",
     "output_type": "stream",
     "text": [
      "WARNING: In /tmp/SimpleITK-build/ITK-prefix/include/ITK-5.3/itkImageSeriesReader.hxx, line 478\n",
      "ImageSeriesReader (0x10239b8e0): Non uniform sampling or missing slices detected,  maximum nonuniformity:0.000952184\n",
      "\n"
     ]
    },
    {
     "name": "stdout",
     "output_type": "stream",
     "text": [
      "60016059849YPJ transformation finished\n"
     ]
    },
    {
     "name": "stderr",
     "output_type": "stream",
     "text": [
      "WARNING: In /tmp/SimpleITK-build/ITK-prefix/include/ITK-5.3/itkImageSeriesReader.hxx, line 478\n",
      "ImageSeriesReader (0x102388590): Non uniform sampling or missing slices detected,  maximum nonuniformity:0.000952184\n",
      "\n"
     ]
    },
    {
     "name": "stdout",
     "output_type": "stream",
     "text": [
      "60016059849YPJ transformation finished\n"
     ]
    },
    {
     "name": "stderr",
     "output_type": "stream",
     "text": [
      "WARNING: In /tmp/SimpleITK-build/ITK-prefix/include/ITK-5.3/itkImageSeriesReader.hxx, line 478\n",
      "ImageSeriesReader (0x10239b8e0): Non uniform sampling or missing slices detected,  maximum nonuniformity:0.000952184\n",
      "\n"
     ]
    },
    {
     "name": "stdout",
     "output_type": "stream",
     "text": [
      "60016059849YPJ transformation finished\n",
      "60016059849YPJ transformation finished\n"
     ]
    },
    {
     "name": "stderr",
     "output_type": "stream",
     "text": [
      "WARNING: In /tmp/SimpleITK-build/ITK-prefix/include/ITK-5.3/itkImageSeriesReader.hxx, line 478\n",
      "ImageSeriesReader (0x1207808a0): Non uniform sampling or missing slices detected,  maximum nonuniformity:0.000952184\n",
      "\n"
     ]
    },
    {
     "name": "stdout",
     "output_type": "stream",
     "text": [
      "60016059849YPJ transformation finished\n"
     ]
    },
    {
     "name": "stderr",
     "output_type": "stream",
     "text": [
      "WARNING: In /tmp/SimpleITK-build/ITK-prefix/include/ITK-5.3/itkImageSeriesReader.hxx, line 478\n",
      "ImageSeriesReader (0x102388590): Non uniform sampling or missing slices detected,  maximum nonuniformity:0.000952184\n",
      "\n"
     ]
    },
    {
     "name": "stdout",
     "output_type": "stream",
     "text": [
      "60016059849YPJ transformation finished\n"
     ]
    },
    {
     "name": "stderr",
     "output_type": "stream",
     "text": [
      "WARNING: In /tmp/SimpleITK-build/ITK-prefix/include/ITK-5.3/itkImageSeriesReader.hxx, line 478\n",
      "ImageSeriesReader (0x105cfe190): Non uniform sampling or missing slices detected,  maximum nonuniformity:0.000952184\n",
      "\n"
     ]
    },
    {
     "name": "stdout",
     "output_type": "stream",
     "text": [
      "60016059849YPJ transformation finished\n"
     ]
    },
    {
     "name": "stderr",
     "output_type": "stream",
     "text": [
      "WARNING: In /tmp/SimpleITK-build/ITK-prefix/include/ITK-5.3/itkImageSeriesReader.hxx, line 478\n",
      "ImageSeriesReader (0x105cf7eb0): Non uniform sampling or missing slices detected,  maximum nonuniformity:0.000952184\n",
      "\n"
     ]
    },
    {
     "name": "stdout",
     "output_type": "stream",
     "text": [
      "60016059849YPJ transformation finished\n"
     ]
    },
    {
     "name": "stderr",
     "output_type": "stream",
     "text": [
      "WARNING: In /tmp/SimpleITK-build/ITK-prefix/include/ITK-5.3/itkImageSeriesReader.hxx, line 478\n",
      "ImageSeriesReader (0x105ce7f80): Non uniform sampling or missing slices detected,  maximum nonuniformity:0.000952184\n",
      "\n"
     ]
    },
    {
     "name": "stdout",
     "output_type": "stream",
     "text": [
      "60016059849YPJ transformation finished\n"
     ]
    },
    {
     "name": "stderr",
     "output_type": "stream",
     "text": [
      "WARNING: In /tmp/SimpleITK-build/ITK-prefix/include/ITK-5.3/itkImageSeriesReader.hxx, line 478\n",
      "ImageSeriesReader (0x1023979a0): Non uniform sampling or missing slices detected,  maximum nonuniformity:0.000952184\n",
      "\n"
     ]
    },
    {
     "name": "stdout",
     "output_type": "stream",
     "text": [
      "60016059849YPJ transformation finished\n"
     ]
    },
    {
     "name": "stderr",
     "output_type": "stream",
     "text": [
      "WARNING: In /tmp/SimpleITK-build/ITK-prefix/include/ITK-5.3/itkImageSeriesReader.hxx, line 478\n",
      "ImageSeriesReader (0x10239b8e0): Non uniform sampling or missing slices detected,  maximum nonuniformity:0.000952184\n",
      "\n"
     ]
    },
    {
     "name": "stdout",
     "output_type": "stream",
     "text": [
      "60016059849YPJ transformation finished\n",
      "60016059849YPJ transformation finished\n"
     ]
    },
    {
     "name": "stderr",
     "output_type": "stream",
     "text": [
      "WARNING: In /tmp/SimpleITK-build/ITK-prefix/include/ITK-5.3/itkImageSeriesReader.hxx, line 478\n",
      "ImageSeriesReader (0x105cf7670): Non uniform sampling or missing slices detected,  maximum nonuniformity:0.000952184\n",
      "\n"
     ]
    },
    {
     "name": "stdout",
     "output_type": "stream",
     "text": [
      "60016059849YPJ transformation finished\n"
     ]
    },
    {
     "name": "stderr",
     "output_type": "stream",
     "text": [
      "WARNING: In /tmp/SimpleITK-build/ITK-prefix/include/ITK-5.3/itkImageSeriesReader.hxx, line 478\n",
      "ImageSeriesReader (0x102388590): Non uniform sampling or missing slices detected,  maximum nonuniformity:0.000952184\n",
      "\n"
     ]
    },
    {
     "name": "stdout",
     "output_type": "stream",
     "text": [
      "60016059849YPJ transformation finished\n"
     ]
    },
    {
     "name": "stderr",
     "output_type": "stream",
     "text": [
      "WARNING: In /tmp/SimpleITK-build/ITK-prefix/include/ITK-5.3/itkImageSeriesReader.hxx, line 478\n",
      "ImageSeriesReader (0x10239ccb0): Non uniform sampling or missing slices detected,  maximum nonuniformity:0.000952184\n",
      "\n"
     ]
    },
    {
     "name": "stdout",
     "output_type": "stream",
     "text": [
      "60016059849YPJ transformation finished\n"
     ]
    },
    {
     "name": "stderr",
     "output_type": "stream",
     "text": [
      "WARNING: In /tmp/SimpleITK-build/ITK-prefix/include/ITK-5.3/itkImageSeriesReader.hxx, line 478\n",
      "ImageSeriesReader (0x1023979a0): Non uniform sampling or missing slices detected,  maximum nonuniformity:0.000952184\n",
      "\n"
     ]
    },
    {
     "name": "stdout",
     "output_type": "stream",
     "text": [
      "60016059849YPJ transformation finished\n",
      "60016059849YPJ transformation finished\n"
     ]
    },
    {
     "name": "stderr",
     "output_type": "stream",
     "text": [
      "WARNING: In /tmp/SimpleITK-build/ITK-prefix/include/ITK-5.3/itkImageSeriesReader.hxx, line 478\n",
      "ImageSeriesReader (0x10239b8e0): Non uniform sampling or missing slices detected,  maximum nonuniformity:0.000505176\n",
      "\n"
     ]
    },
    {
     "name": "stdout",
     "output_type": "stream",
     "text": [
      "60016059849YPJ transformation finished\n"
     ]
    },
    {
     "name": "stderr",
     "output_type": "stream",
     "text": [
      "WARNING: In /tmp/SimpleITK-build/ITK-prefix/include/ITK-5.3/itkImageSeriesReader.hxx, line 478\n",
      "ImageSeriesReader (0x102388590): Non uniform sampling or missing slices detected,  maximum nonuniformity:0.000505176\n",
      "\n"
     ]
    },
    {
     "name": "stdout",
     "output_type": "stream",
     "text": [
      "60016059849YPJ transformation finished\n"
     ]
    },
    {
     "name": "stderr",
     "output_type": "stream",
     "text": [
      "WARNING: In /tmp/SimpleITK-build/ITK-prefix/include/ITK-5.3/itkImageSeriesReader.hxx, line 478\n",
      "ImageSeriesReader (0x105cf7670): Non uniform sampling or missing slices detected,  maximum nonuniformity:0.000505176\n",
      "\n"
     ]
    },
    {
     "name": "stdout",
     "output_type": "stream",
     "text": [
      "60016059849YPJ transformation finished\n",
      "60016059849YPJ transformation finished\n"
     ]
    },
    {
     "name": "stderr",
     "output_type": "stream",
     "text": [
      "WARNING: In /tmp/SimpleITK-build/ITK-prefix/include/ITK-5.3/itkImageSeriesReader.hxx, line 478\n",
      "ImageSeriesReader (0x3103d7ed0): Non uniform sampling or missing slices detected,  maximum nonuniformity:0.000505176\n",
      "\n"
     ]
    },
    {
     "name": "stdout",
     "output_type": "stream",
     "text": [
      "60016059849YPJ transformation finished\n"
     ]
    },
    {
     "name": "stderr",
     "output_type": "stream",
     "text": [
      "WARNING: In /tmp/SimpleITK-build/ITK-prefix/include/ITK-5.3/itkImageSeriesReader.hxx, line 478\n",
      "ImageSeriesReader (0x1207864f0): Non uniform sampling or missing slices detected,  maximum nonuniformity:183.048\n",
      "\n",
      "WARNING: In /tmp/SimpleITK-build/ITK-prefix/include/ITK-5.3/itkImageSeriesReader.hxx, line 478\n",
      "ImageSeriesReader (0x14061d0c0): Non uniform sampling or missing slices detected,  maximum nonuniformity:328.16\n",
      "\n"
     ]
    },
    {
     "name": "stdout",
     "output_type": "stream",
     "text": [
      "60016059849YPJ transformation finished\n",
      "Skipped processing folder /Volumes/MR_analysis/MRCP_DICOM/60016059849YPJ/SE6 due to insufficient DICOM files (<5).\n",
      "60016059849YPJ transformation finished\n"
     ]
    },
    {
     "name": "stderr",
     "output_type": "stream",
     "text": [
      "WARNING: In /tmp/SimpleITK-build/ITK-prefix/include/ITK-5.3/itkImageSeriesReader.hxx, line 478\n",
      "ImageSeriesReader (0x10239ccb0): Non uniform sampling or missing slices detected,  maximum nonuniformity:0.000390167\n",
      "\n"
     ]
    },
    {
     "name": "stdout",
     "output_type": "stream",
     "text": [
      "60016059849YPJ transformation finished\n",
      "60016059849YPJ transformation finished\n"
     ]
    },
    {
     "name": "stderr",
     "output_type": "stream",
     "text": [
      "WARNING: In /tmp/SimpleITK-build/ITK-prefix/include/ITK-5.3/itkImageSeriesReader.hxx, line 478\n",
      "ImageSeriesReader (0x105cc2bd0): Non uniform sampling or missing slices detected,  maximum nonuniformity:280.558\n",
      "\n",
      "WARNING: In /tmp/SimpleITK-build/ITK-prefix/include/ITK-5.3/itkImageSeriesReader.hxx, line 478\n",
      "ImageSeriesReader (0x105cb5830): Non uniform sampling or missing slices detected,  maximum nonuniformity:0.000641775\n",
      "\n",
      "WARNING: In /tmp/SimpleITK-build/ITK-prefix/include/ITK-5.3/itkImageSeriesReader.hxx, line 478\n",
      "ImageSeriesReader (0x102388590): Non uniform sampling or missing slices detected,  maximum nonuniformity:0.000641775\n",
      "\n"
     ]
    },
    {
     "name": "stdout",
     "output_type": "stream",
     "text": [
      "60016059849YPJ transformation finished\n",
      "60016059849YPJ transformation finished\n",
      "Skipped processing folder /Volumes/MR_analysis/MRCP_DICOM/60016059849YPJ/SE13 due to insufficient DICOM files (<5).\n"
     ]
    },
    {
     "name": "stderr",
     "output_type": "stream",
     "text": [
      "WARNING: In /tmp/SimpleITK-build/ITK-prefix/include/ITK-5.3/itkImageSeriesReader.hxx, line 478\n",
      "ImageSeriesReader (0x105cc2bd0): Non uniform sampling or missing slices detected,  maximum nonuniformity:0.000952184\n",
      "\n"
     ]
    },
    {
     "name": "stdout",
     "output_type": "stream",
     "text": [
      "60016059849YPJ transformation finished\n",
      "60016059849YPJ transformation finished\n"
     ]
    },
    {
     "name": "stderr",
     "output_type": "stream",
     "text": [
      "WARNING: In /tmp/SimpleITK-build/ITK-prefix/include/ITK-5.3/itkImageSeriesReader.hxx, line 478\n",
      "ImageSeriesReader (0x10239ccb0): Non uniform sampling or missing slices detected,  maximum nonuniformity:0.000952184\n",
      "\n"
     ]
    },
    {
     "name": "stdout",
     "output_type": "stream",
     "text": [
      "60016059849YPJ transformation finished\n"
     ]
    },
    {
     "name": "stderr",
     "output_type": "stream",
     "text": [
      "WARNING: In /tmp/SimpleITK-build/ITK-prefix/include/ITK-5.3/itkImageSeriesReader.hxx, line 478\n",
      "ImageSeriesReader (0x102388590): Non uniform sampling or missing slices detected,  maximum nonuniformity:0.000952184\n",
      "\n"
     ]
    },
    {
     "name": "stdout",
     "output_type": "stream",
     "text": [
      "60016059849YPJ transformation finished\n"
     ]
    },
    {
     "name": "stderr",
     "output_type": "stream",
     "text": [
      "WARNING: In /tmp/SimpleITK-build/ITK-prefix/include/ITK-5.3/itkImageSeriesReader.hxx, line 478\n",
      "ImageSeriesReader (0x10239b8e0): Non uniform sampling or missing slices detected,  maximum nonuniformity:0.000952184\n",
      "\n"
     ]
    },
    {
     "name": "stdout",
     "output_type": "stream",
     "text": [
      "60016059849YPJ transformation finished\n"
     ]
    },
    {
     "name": "stderr",
     "output_type": "stream",
     "text": [
      "WARNING: In /tmp/SimpleITK-build/ITK-prefix/include/ITK-5.3/itkImageSeriesReader.hxx, line 478\n",
      "ImageSeriesReader (0x1023e5c60): Non uniform sampling or missing slices detected,  maximum nonuniformity:0.00065758\n",
      "\n"
     ]
    },
    {
     "name": "stdout",
     "output_type": "stream",
     "text": [
      "60016059849YPJ transformation finished\n",
      "60016059849YPJ transformation finished\n"
     ]
    },
    {
     "name": "stderr",
     "output_type": "stream",
     "text": [
      "WARNING: In /tmp/SimpleITK-build/ITK-prefix/include/ITK-5.3/itkImageSeriesReader.hxx, line 478\n",
      "ImageSeriesReader (0x105ce2a90): Non uniform sampling or missing slices detected,  maximum nonuniformity:280.558\n",
      "\n",
      "WARNING: In /tmp/SimpleITK-build/ITK-prefix/include/ITK-5.3/itkImageSeriesReader.hxx, line 478\n",
      "ImageSeriesReader (0x10239ccb0): Non uniform sampling or missing slices detected,  maximum nonuniformity:280.558\n",
      "\n"
     ]
    },
    {
     "name": "stdout",
     "output_type": "stream",
     "text": [
      "60016059849YPJ transformation finished\n",
      "Skipped processing folder /Volumes/MR_analysis/MRCP_DICOM/60016059849YPJ/SE55 due to insufficient DICOM files (<5).\n"
     ]
    },
    {
     "name": "stderr",
     "output_type": "stream",
     "text": [
      "WARNING: In /tmp/SimpleITK-build/ITK-prefix/include/ITK-5.3/itkImageSeriesReader.hxx, line 478\n",
      "ImageSeriesReader (0x105cf7670): Non uniform sampling or missing slices detected,  maximum nonuniformity:337.371\n",
      "\n"
     ]
    },
    {
     "name": "stdout",
     "output_type": "stream",
     "text": [
      "60016329789YYP transformation finished\n"
     ]
    },
    {
     "name": "stderr",
     "output_type": "stream",
     "text": [
      "WARNING: In /tmp/SimpleITK-build/ITK-prefix/include/ITK-5.3/itkImageSeriesReader.hxx, line 478\n",
      "ImageSeriesReader (0x310392f60): Non uniform sampling or missing slices detected,  maximum nonuniformity:543.784\n",
      "\n"
     ]
    },
    {
     "name": "stdout",
     "output_type": "stream",
     "text": [
      "60016329789YYP transformation finished\n"
     ]
    },
    {
     "name": "stderr",
     "output_type": "stream",
     "text": [
      "WARNING: In /tmp/SimpleITK-build/ITK-prefix/include/ITK-5.3/itkImageSeriesReader.hxx, line 478\n",
      "ImageSeriesReader (0x1023e1ac0): Non uniform sampling or missing slices detected,  maximum nonuniformity:159.055\n",
      "\n"
     ]
    },
    {
     "name": "stdout",
     "output_type": "stream",
     "text": [
      "60016329789YYP transformation finished\n",
      "60016329789YYP transformation finished\n",
      "60016329789YYP transformation finished\n",
      "60016329789YYP transformation finished\n",
      "Skipped processing folder /Volumes/MR_analysis/MRCP_DICOM/60016329789YYP/SE3 due to insufficient DICOM files (<5).\n",
      "60016329789YYP transformation finished\n"
     ]
    },
    {
     "name": "stderr",
     "output_type": "stream",
     "text": [
      "WARNING: In /tmp/SimpleITK-build/ITK-prefix/include/ITK-5.3/itkImageSeriesReader.hxx, line 478\n",
      "ImageSeriesReader (0x105cf7670): Non uniform sampling or missing slices detected,  maximum nonuniformity:280.558\n",
      "\n",
      "WARNING: In /tmp/SimpleITK-build/ITK-prefix/include/ITK-5.3/itkImageSeriesReader.hxx, line 478\n",
      "ImageSeriesReader (0x105cb5830): Non uniform sampling or missing slices detected,  maximum nonuniformity:276.567\n",
      "\n"
     ]
    },
    {
     "name": "stdout",
     "output_type": "stream",
     "text": [
      "60016329789YYP transformation finished\n"
     ]
    },
    {
     "name": "stderr",
     "output_type": "stream",
     "text": [
      "WARNING: In /tmp/SimpleITK-build/ITK-prefix/include/ITK-5.3/itkImageSeriesReader.hxx, line 478\n",
      "ImageSeriesReader (0x31032c2e0): Non uniform sampling or missing slices detected,  maximum nonuniformity:0.000221021\n",
      "\n"
     ]
    },
    {
     "name": "stdout",
     "output_type": "stream",
     "text": [
      "60016329789YYP transformation finished\n",
      "60016329789YYP transformation finished\n"
     ]
    },
    {
     "name": "stderr",
     "output_type": "stream",
     "text": [
      "WARNING: In /tmp/SimpleITK-build/ITK-prefix/include/ITK-5.3/itkImageSeriesReader.hxx, line 478\n",
      "ImageSeriesReader (0x105cc2bd0): Non uniform sampling or missing slices detected,  maximum nonuniformity:328.153\n",
      "\n",
      "WARNING: In /tmp/SimpleITK-build/ITK-prefix/include/ITK-5.3/itkImageSeriesReader.hxx, line 478\n",
      "ImageSeriesReader (0x105cb5830): Non uniform sampling or missing slices detected,  maximum nonuniformity:0.000281729\n",
      "\n"
     ]
    },
    {
     "name": "stdout",
     "output_type": "stream",
     "text": [
      "60016329789YYP transformation finished\n",
      "Skipped processing folder /Volumes/MR_analysis/MRCP_DICOM/60016329789YYP/SE29 due to insufficient DICOM files (<5).\n",
      "60016329789YYP transformation finished\n"
     ]
    },
    {
     "name": "stderr",
     "output_type": "stream",
     "text": [
      "WARNING: In /tmp/SimpleITK-build/ITK-prefix/include/ITK-5.3/itkImageSeriesReader.hxx, line 478\n",
      "ImageSeriesReader (0x1207808a0): Non uniform sampling or missing slices detected,  maximum nonuniformity:85.3657\n",
      "\n"
     ]
    },
    {
     "name": "stdout",
     "output_type": "stream",
     "text": [
      "60016329789YYP transformation finished\n",
      "60016329789YYP transformation finished\n"
     ]
    },
    {
     "name": "stderr",
     "output_type": "stream",
     "text": [
      "WARNING: In /tmp/SimpleITK-build/ITK-prefix/include/ITK-5.3/itkImageSeriesReader.hxx, line 478\n",
      "ImageSeriesReader (0x105cb5830): Non uniform sampling or missing slices detected,  maximum nonuniformity:0.000649912\n",
      "\n"
     ]
    },
    {
     "name": "stdout",
     "output_type": "stream",
     "text": [
      "60016329789YYP transformation finished\n"
     ]
    },
    {
     "name": "stderr",
     "output_type": "stream",
     "text": [
      "WARNING: In /tmp/SimpleITK-build/ITK-prefix/include/ITK-5.3/itkImageSeriesReader.hxx, line 478\n",
      "ImageSeriesReader (0x31032b6d0): Non uniform sampling or missing slices detected,  maximum nonuniformity:0.000649912\n",
      "\n"
     ]
    },
    {
     "name": "stdout",
     "output_type": "stream",
     "text": [
      "60016329789YYP transformation finished\n"
     ]
    },
    {
     "name": "stderr",
     "output_type": "stream",
     "text": [
      "WARNING: In /tmp/SimpleITK-build/ITK-prefix/include/ITK-5.3/itkImageSeriesReader.hxx, line 478\n",
      "ImageSeriesReader (0x310392f60): Non uniform sampling or missing slices detected,  maximum nonuniformity:0.000649912\n",
      "\n"
     ]
    },
    {
     "name": "stdout",
     "output_type": "stream",
     "text": [
      "60016329789YYP transformation finished\n"
     ]
    },
    {
     "name": "stderr",
     "output_type": "stream",
     "text": [
      "WARNING: In /tmp/SimpleITK-build/ITK-prefix/include/ITK-5.3/itkImageSeriesReader.hxx, line 478\n",
      "ImageSeriesReader (0x10239ccb0): Non uniform sampling or missing slices detected,  maximum nonuniformity:0.000649912\n",
      "\n"
     ]
    },
    {
     "name": "stdout",
     "output_type": "stream",
     "text": [
      "60016329789YYP transformation finished\n"
     ]
    },
    {
     "name": "stderr",
     "output_type": "stream",
     "text": [
      "WARNING: In /tmp/SimpleITK-build/ITK-prefix/include/ITK-5.3/itkImageSeriesReader.hxx, line 478\n",
      "ImageSeriesReader (0x1023b47f0): Non uniform sampling or missing slices detected,  maximum nonuniformity:0.00065132\n",
      "\n"
     ]
    },
    {
     "name": "stdout",
     "output_type": "stream",
     "text": [
      "60016329789YYP transformation finished\n"
     ]
    },
    {
     "name": "stderr",
     "output_type": "stream",
     "text": [
      "WARNING: In /tmp/SimpleITK-build/ITK-prefix/include/ITK-5.3/itkImageSeriesReader.hxx, line 478\n",
      "ImageSeriesReader (0x1023979a0): Non uniform sampling or missing slices detected,  maximum nonuniformity:0.00065132\n",
      "\n"
     ]
    },
    {
     "name": "stdout",
     "output_type": "stream",
     "text": [
      "60016329789YYP transformation finished\n"
     ]
    },
    {
     "name": "stderr",
     "output_type": "stream",
     "text": [
      "WARNING: In /tmp/SimpleITK-build/ITK-prefix/include/ITK-5.3/itkImageSeriesReader.hxx, line 478\n",
      "ImageSeriesReader (0x10239ccb0): Non uniform sampling or missing slices detected,  maximum nonuniformity:0.00065132\n",
      "\n"
     ]
    },
    {
     "name": "stdout",
     "output_type": "stream",
     "text": [
      "60016329789YYP transformation finished\n",
      "60016329789YYP transformation finished\n"
     ]
    },
    {
     "name": "stderr",
     "output_type": "stream",
     "text": [
      "WARNING: In /tmp/SimpleITK-build/ITK-prefix/include/ITK-5.3/itkImageSeriesReader.hxx, line 478\n",
      "ImageSeriesReader (0x1023b47f0): Non uniform sampling or missing slices detected,  maximum nonuniformity:0.00065132\n",
      "\n"
     ]
    },
    {
     "name": "stdout",
     "output_type": "stream",
     "text": [
      "60016329789YYP transformation finished\n"
     ]
    },
    {
     "name": "stderr",
     "output_type": "stream",
     "text": [
      "WARNING: In /tmp/SimpleITK-build/ITK-prefix/include/ITK-5.3/itkImageSeriesReader.hxx, line 478\n",
      "ImageSeriesReader (0x1023979a0): Non uniform sampling or missing slices detected,  maximum nonuniformity:0.00065132\n",
      "\n"
     ]
    },
    {
     "name": "stdout",
     "output_type": "stream",
     "text": [
      "60016329789YYP transformation finished\n"
     ]
    },
    {
     "name": "stderr",
     "output_type": "stream",
     "text": [
      "WARNING: In /tmp/SimpleITK-build/ITK-prefix/include/ITK-5.3/itkImageSeriesReader.hxx, line 478\n",
      "ImageSeriesReader (0x105cf7670): Non uniform sampling or missing slices detected,  maximum nonuniformity:0.00065132\n",
      "\n"
     ]
    },
    {
     "name": "stdout",
     "output_type": "stream",
     "text": [
      "60016329789YYP transformation finished\n"
     ]
    },
    {
     "name": "stderr",
     "output_type": "stream",
     "text": [
      "WARNING: In /tmp/SimpleITK-build/ITK-prefix/include/ITK-5.3/itkImageSeriesReader.hxx, line 478\n",
      "ImageSeriesReader (0x310393560): Non uniform sampling or missing slices detected,  maximum nonuniformity:0.00065132\n",
      "\n"
     ]
    },
    {
     "name": "stdout",
     "output_type": "stream",
     "text": [
      "60016329789YYP transformation finished\n",
      "60016329789YYP transformation finished\n"
     ]
    },
    {
     "name": "stderr",
     "output_type": "stream",
     "text": [
      "WARNING: In /tmp/SimpleITK-build/ITK-prefix/include/ITK-5.3/itkImageSeriesReader.hxx, line 478\n",
      "ImageSeriesReader (0x31032a290): Non uniform sampling or missing slices detected,  maximum nonuniformity:0.00065132\n",
      "\n"
     ]
    },
    {
     "name": "stdout",
     "output_type": "stream",
     "text": [
      "60016329789YYP transformation finished\n"
     ]
    },
    {
     "name": "stderr",
     "output_type": "stream",
     "text": [
      "WARNING: In /tmp/SimpleITK-build/ITK-prefix/include/ITK-5.3/itkImageSeriesReader.hxx, line 478\n",
      "ImageSeriesReader (0x105cb5830): Non uniform sampling or missing slices detected,  maximum nonuniformity:0.00065132\n",
      "\n"
     ]
    },
    {
     "name": "stdout",
     "output_type": "stream",
     "text": [
      "60016329789YYP transformation finished\n",
      "60016329789YYP transformation finished\n"
     ]
    },
    {
     "name": "stderr",
     "output_type": "stream",
     "text": [
      "WARNING: In /tmp/SimpleITK-build/ITK-prefix/include/ITK-5.3/itkImageSeriesReader.hxx, line 478\n",
      "ImageSeriesReader (0x105cb5830): Non uniform sampling or missing slices detected,  maximum nonuniformity:0.00065132\n",
      "\n"
     ]
    },
    {
     "name": "stdout",
     "output_type": "stream",
     "text": [
      "60016329789YYP transformation finished\n"
     ]
    },
    {
     "name": "stderr",
     "output_type": "stream",
     "text": [
      "WARNING: In /tmp/SimpleITK-build/ITK-prefix/include/ITK-5.3/itkImageSeriesReader.hxx, line 478\n",
      "ImageSeriesReader (0x310393b60): Non uniform sampling or missing slices detected,  maximum nonuniformity:0.00065132\n",
      "\n"
     ]
    },
    {
     "name": "stdout",
     "output_type": "stream",
     "text": [
      "60016329789YYP transformation finished\n"
     ]
    },
    {
     "name": "stderr",
     "output_type": "stream",
     "text": [
      "WARNING: In /tmp/SimpleITK-build/ITK-prefix/include/ITK-5.3/itkImageSeriesReader.hxx, line 478\n",
      "ImageSeriesReader (0x10239ccb0): Non uniform sampling or missing slices detected,  maximum nonuniformity:0.00065132\n",
      "\n"
     ]
    },
    {
     "name": "stdout",
     "output_type": "stream",
     "text": [
      "60016329789YYP transformation finished\n",
      "60016329789YYP transformation finished\n",
      "60016329789YYP transformation finished\n",
      "60016329789YYP transformation finished\n",
      "60016329789YYP transformation finished\n",
      "60016329789YYP transformation finished\n"
     ]
    },
    {
     "name": "stderr",
     "output_type": "stream",
     "text": [
      "WARNING: In /tmp/SimpleITK-build/ITK-prefix/include/ITK-5.3/itkImageSeriesReader.hxx, line 478\n",
      "ImageSeriesReader (0x102388590): Non uniform sampling or missing slices detected,  maximum nonuniformity:0.00065132\n",
      "\n"
     ]
    },
    {
     "name": "stdout",
     "output_type": "stream",
     "text": [
      "60016329789YYP transformation finished\n",
      "60016329789YYP transformation finished\n"
     ]
    },
    {
     "name": "stderr",
     "output_type": "stream",
     "text": [
      "WARNING: In /tmp/SimpleITK-build/ITK-prefix/include/ITK-5.3/itkImageSeriesReader.hxx, line 478\n",
      "ImageSeriesReader (0x1023979a0): Non uniform sampling or missing slices detected,  maximum nonuniformity:0.00065132\n",
      "\n"
     ]
    },
    {
     "name": "stdout",
     "output_type": "stream",
     "text": [
      "60016329789YYP transformation finished\n"
     ]
    },
    {
     "name": "stderr",
     "output_type": "stream",
     "text": [
      "WARNING: In /tmp/SimpleITK-build/ITK-prefix/include/ITK-5.3/itkImageSeriesReader.hxx, line 478\n",
      "ImageSeriesReader (0x1023b47f0): Non uniform sampling or missing slices detected,  maximum nonuniformity:0.00065132\n",
      "\n"
     ]
    },
    {
     "name": "stdout",
     "output_type": "stream",
     "text": [
      "60016329789YYP transformation finished\n"
     ]
    },
    {
     "name": "stderr",
     "output_type": "stream",
     "text": [
      "WARNING: In /tmp/SimpleITK-build/ITK-prefix/include/ITK-5.3/itkImageSeriesReader.hxx, line 478\n",
      "ImageSeriesReader (0x31032c2e0): Non uniform sampling or missing slices detected,  maximum nonuniformity:0.00065132\n",
      "\n"
     ]
    },
    {
     "name": "stdout",
     "output_type": "stream",
     "text": [
      "60016329789YYP transformation finished\n"
     ]
    },
    {
     "name": "stderr",
     "output_type": "stream",
     "text": [
      "WARNING: In /tmp/SimpleITK-build/ITK-prefix/include/ITK-5.3/itkImageSeriesReader.hxx, line 478\n",
      "ImageSeriesReader (0x105cf7670): Non uniform sampling or missing slices detected,  maximum nonuniformity:159.055\n",
      "\n",
      "WARNING: In /tmp/SimpleITK-build/ITK-prefix/include/ITK-5.3/itkImageSeriesReader.hxx, line 478\n",
      "ImageSeriesReader (0x105ce2a90): Non uniform sampling or missing slices detected,  maximum nonuniformity:244.638\n",
      "\n"
     ]
    },
    {
     "name": "stdout",
     "output_type": "stream",
     "text": [
      "60016329789YYP transformation finished\n",
      "60016329789YYP transformation finished\n",
      "Skipped processing folder /Volumes/MR_analysis/MRCP_DICOM/60016329789YYP/SE30 due to insufficient DICOM files (<5).\n"
     ]
    },
    {
     "name": "stderr",
     "output_type": "stream",
     "text": [
      "WARNING: In /tmp/SimpleITK-build/ITK-prefix/include/ITK-5.3/itkImageSeriesReader.hxx, line 478\n",
      "ImageSeriesReader (0x105ce2a90): Non uniform sampling or missing slices detected,  maximum nonuniformity:0.000221021\n",
      "\n"
     ]
    },
    {
     "name": "stdout",
     "output_type": "stream",
     "text": [
      "60016329789YYP transformation finished\n",
      "60016329789YYP transformation finished\n"
     ]
    },
    {
     "name": "stderr",
     "output_type": "stream",
     "text": [
      "WARNING: In /tmp/SimpleITK-build/ITK-prefix/include/ITK-5.3/itkImageSeriesReader.hxx, line 478\n",
      "ImageSeriesReader (0x10239b8e0): Non uniform sampling or missing slices detected,  maximum nonuniformity:39.3043\n",
      "\n"
     ]
    },
    {
     "name": "stdout",
     "output_type": "stream",
     "text": [
      "60016329789YYP transformation finished\n",
      "60016329789YYP transformation finished\n"
     ]
    },
    {
     "name": "stderr",
     "output_type": "stream",
     "text": [
      "WARNING: In /tmp/SimpleITK-build/ITK-prefix/include/ITK-5.3/itkImageSeriesReader.hxx, line 478\n",
      "ImageSeriesReader (0x105ce2a90): Non uniform sampling or missing slices detected,  maximum nonuniformity:0.000281729\n",
      "\n"
     ]
    },
    {
     "name": "stdout",
     "output_type": "stream",
     "text": [
      "60016329789YYP transformation finished\n",
      "60016329789YYP transformation finished\n",
      "Skipped processing folder /Volumes/MR_analysis/MRCP_DICOM/60016329789YYP/SE33 due to insufficient DICOM files (<5).\n"
     ]
    },
    {
     "name": "stderr",
     "output_type": "stream",
     "text": [
      "WARNING: In /tmp/SimpleITK-build/ITK-prefix/include/ITK-5.3/itkImageSeriesReader.hxx, line 478\n",
      "ImageSeriesReader (0x105cc2bd0): Non uniform sampling or missing slices detected,  maximum nonuniformity:85.3658\n",
      "\n",
      "WARNING: In /tmp/SimpleITK-build/ITK-prefix/include/ITK-5.3/itkImageSeriesReader.hxx, line 478\n",
      "ImageSeriesReader (0x102388590): Non uniform sampling or missing slices detected,  maximum nonuniformity:328.154\n",
      "\n"
     ]
    },
    {
     "name": "stdout",
     "output_type": "stream",
     "text": [
      "60016329789YYP transformation finished\n",
      "60016329789YYP transformation finished\n"
     ]
    },
    {
     "name": "stderr",
     "output_type": "stream",
     "text": [
      "WARNING: In /tmp/SimpleITK-build/ITK-prefix/include/ITK-5.3/itkImageSeriesReader.hxx, line 478\n",
      "ImageSeriesReader (0x1023b47f0): Non uniform sampling or missing slices detected,  maximum nonuniformity:0.00065132\n",
      "\n"
     ]
    },
    {
     "name": "stdout",
     "output_type": "stream",
     "text": [
      "60016329789YYP transformation finished\n"
     ]
    },
    {
     "name": "stderr",
     "output_type": "stream",
     "text": [
      "WARNING: In /tmp/SimpleITK-build/ITK-prefix/include/ITK-5.3/itkImageSeriesReader.hxx, line 478\n",
      "ImageSeriesReader (0x1023a2a60): Non uniform sampling or missing slices detected,  maximum nonuniformity:0.00065132\n",
      "\n"
     ]
    },
    {
     "name": "stdout",
     "output_type": "stream",
     "text": [
      "60016329789YYP transformation finished\n"
     ]
    },
    {
     "name": "stderr",
     "output_type": "stream",
     "text": [
      "WARNING: In /tmp/SimpleITK-build/ITK-prefix/include/ITK-5.3/itkImageSeriesReader.hxx, line 478\n",
      "ImageSeriesReader (0x10239ccb0): Non uniform sampling or missing slices detected,  maximum nonuniformity:0.00065132\n",
      "\n"
     ]
    },
    {
     "name": "stdout",
     "output_type": "stream",
     "text": [
      "60016329789YYP transformation finished\n"
     ]
    },
    {
     "name": "stderr",
     "output_type": "stream",
     "text": [
      "WARNING: In /tmp/SimpleITK-build/ITK-prefix/include/ITK-5.3/itkImageSeriesReader.hxx, line 478\n",
      "ImageSeriesReader (0x102388590): Non uniform sampling or missing slices detected,  maximum nonuniformity:0.00065132\n",
      "\n"
     ]
    },
    {
     "name": "stdout",
     "output_type": "stream",
     "text": [
      "60016329789YYP transformation finished\n"
     ]
    },
    {
     "name": "stderr",
     "output_type": "stream",
     "text": [
      "WARNING: In /tmp/SimpleITK-build/ITK-prefix/include/ITK-5.3/itkImageSeriesReader.hxx, line 478\n",
      "ImageSeriesReader (0x105cc2bd0): Non uniform sampling or missing slices detected,  maximum nonuniformity:337.371\n",
      "\n"
     ]
    },
    {
     "name": "stdout",
     "output_type": "stream",
     "text": [
      "60016485264DLN transformation finished\n"
     ]
    },
    {
     "name": "stderr",
     "output_type": "stream",
     "text": [
      "WARNING: In /tmp/SimpleITK-build/ITK-prefix/include/ITK-5.3/itkImageSeriesReader.hxx, line 478\n",
      "ImageSeriesReader (0x102388590): Non uniform sampling or missing slices detected,  maximum nonuniformity:543.784\n",
      "\n"
     ]
    },
    {
     "name": "stdout",
     "output_type": "stream",
     "text": [
      "60016485264DLN transformation finished\n"
     ]
    },
    {
     "name": "stderr",
     "output_type": "stream",
     "text": [
      "WARNING: In /tmp/SimpleITK-build/ITK-prefix/include/ITK-5.3/itkImageSeriesReader.hxx, line 478\n",
      "ImageSeriesReader (0x1023979a0): Non uniform sampling or missing slices detected,  maximum nonuniformity:164.28\n",
      "\n"
     ]
    },
    {
     "name": "stdout",
     "output_type": "stream",
     "text": [
      "60016485264DLN transformation finished\n"
     ]
    },
    {
     "name": "stderr",
     "output_type": "stream",
     "text": [
      "WARNING: In /tmp/SimpleITK-build/ITK-prefix/include/ITK-5.3/itkImageSeriesReader.hxx, line 478\n",
      "ImageSeriesReader (0x103a05300): Non uniform sampling or missing slices detected,  maximum nonuniformity:0.000796006\n",
      "\n"
     ]
    },
    {
     "name": "stdout",
     "output_type": "stream",
     "text": [
      "60016485264DLN transformation finished\n"
     ]
    },
    {
     "name": "stderr",
     "output_type": "stream",
     "text": [
      "WARNING: In /tmp/SimpleITK-build/ITK-prefix/include/ITK-5.3/itkImageSeriesReader.hxx, line 478\n",
      "ImageSeriesReader (0x105cc2bd0): Non uniform sampling or missing slices detected,  maximum nonuniformity:0.000816263\n",
      "\n",
      "WARNING: In /tmp/SimpleITK-build/ITK-prefix/include/ITK-5.3/itkImageSeriesReader.hxx, line 478\n",
      "ImageSeriesReader (0x105ce2a90): Non uniform sampling or missing slices detected,  maximum nonuniformity:0.000816263\n",
      "\n"
     ]
    },
    {
     "name": "stdout",
     "output_type": "stream",
     "text": [
      "60016485264DLN transformation finished\n",
      "60016485264DLN transformation finished\n"
     ]
    },
    {
     "name": "stderr",
     "output_type": "stream",
     "text": [
      "WARNING: In /tmp/SimpleITK-build/ITK-prefix/include/ITK-5.3/itkImageSeriesReader.hxx, line 478\n",
      "ImageSeriesReader (0x105cf7670): Non uniform sampling or missing slices detected,  maximum nonuniformity:328.153\n",
      "\n",
      "WARNING: In /tmp/SimpleITK-build/ITK-prefix/include/ITK-5.3/itkImageSeriesReader.hxx, line 478\n",
      "ImageSeriesReader (0x1023e6db0): Non uniform sampling or missing slices detected,  maximum nonuniformity:280.558\n",
      "\n"
     ]
    },
    {
     "name": "stdout",
     "output_type": "stream",
     "text": [
      "60016485264DLN transformation finished\n",
      "60016485264DLN transformation finished\n"
     ]
    },
    {
     "name": "stderr",
     "output_type": "stream",
     "text": [
      "WARNING: In /tmp/SimpleITK-build/ITK-prefix/include/ITK-5.3/itkImageSeriesReader.hxx, line 478\n",
      "ImageSeriesReader (0x1023e73c0): Non uniform sampling or missing slices detected,  maximum nonuniformity:276.567\n",
      "\n"
     ]
    },
    {
     "name": "stdout",
     "output_type": "stream",
     "text": [
      "60016485264DLN transformation finished\n",
      "60016485264DLN transformation finished\n",
      "Skipped processing folder /Volumes/MR_analysis/MRCP_DICOM/60016485264DLN/SE55 due to insufficient DICOM files (<5).\n",
      "60016485264DLN transformation finished\n",
      "Skipped processing folder /Volumes/MR_analysis/MRCP_DICOM/60016485264DLN/SE18 due to insufficient DICOM files (<5).\n",
      "60016485264DLN transformation finished\n"
     ]
    },
    {
     "name": "stderr",
     "output_type": "stream",
     "text": [
      "WARNING: In /tmp/SimpleITK-build/ITK-prefix/include/ITK-5.3/itkImageSeriesReader.hxx, line 478\n",
      "ImageSeriesReader (0x105cc2bd0): Non uniform sampling or missing slices detected,  maximum nonuniformity:85.3657\n",
      "\n",
      "WARNING: In /tmp/SimpleITK-build/ITK-prefix/include/ITK-5.3/itkImageSeriesReader.hxx, line 478\n",
      "ImageSeriesReader (0x105cf7670): Non uniform sampling or missing slices detected,  maximum nonuniformity:328.153\n",
      "\n"
     ]
    },
    {
     "name": "stdout",
     "output_type": "stream",
     "text": [
      "60016485264DLN transformation finished\n",
      "60016485264DLN transformation finished\n"
     ]
    },
    {
     "name": "stderr",
     "output_type": "stream",
     "text": [
      "WARNING: In /tmp/SimpleITK-build/ITK-prefix/include/ITK-5.3/itkImageSeriesReader.hxx, line 478\n",
      "ImageSeriesReader (0x10239b8e0): Non uniform sampling or missing slices detected,  maximum nonuniformity:0.000951116\n",
      "\n"
     ]
    },
    {
     "name": "stdout",
     "output_type": "stream",
     "text": [
      "60016485264DLN transformation finished\n"
     ]
    },
    {
     "name": "stderr",
     "output_type": "stream",
     "text": [
      "WARNING: In /tmp/SimpleITK-build/ITK-prefix/include/ITK-5.3/itkImageSeriesReader.hxx, line 478\n",
      "ImageSeriesReader (0x105ce2a90): Non uniform sampling or missing slices detected,  maximum nonuniformity:0.000951116\n",
      "\n"
     ]
    },
    {
     "name": "stdout",
     "output_type": "stream",
     "text": [
      "60016485264DLN transformation finished\n"
     ]
    },
    {
     "name": "stderr",
     "output_type": "stream",
     "text": [
      "WARNING: In /tmp/SimpleITK-build/ITK-prefix/include/ITK-5.3/itkImageSeriesReader.hxx, line 478\n",
      "ImageSeriesReader (0x31032b6d0): Non uniform sampling or missing slices detected,  maximum nonuniformity:0.000951116\n",
      "\n"
     ]
    },
    {
     "name": "stdout",
     "output_type": "stream",
     "text": [
      "60016485264DLN transformation finished\n"
     ]
    },
    {
     "name": "stderr",
     "output_type": "stream",
     "text": [
      "WARNING: In /tmp/SimpleITK-build/ITK-prefix/include/ITK-5.3/itkImageSeriesReader.hxx, line 478\n",
      "ImageSeriesReader (0x3105042c0): Non uniform sampling or missing slices detected,  maximum nonuniformity:0.000951116\n",
      "\n"
     ]
    },
    {
     "name": "stdout",
     "output_type": "stream",
     "text": [
      "60016485264DLN transformation finished\n",
      "60016485264DLN transformation finished\n"
     ]
    },
    {
     "name": "stderr",
     "output_type": "stream",
     "text": [
      "WARNING: In /tmp/SimpleITK-build/ITK-prefix/include/ITK-5.3/itkImageSeriesReader.hxx, line 478\n",
      "ImageSeriesReader (0x1023979a0): Non uniform sampling or missing slices detected,  maximum nonuniformity:0.000951116\n",
      "\n"
     ]
    },
    {
     "name": "stdout",
     "output_type": "stream",
     "text": [
      "60016485264DLN transformation finished\n"
     ]
    },
    {
     "name": "stderr",
     "output_type": "stream",
     "text": [
      "WARNING: In /tmp/SimpleITK-build/ITK-prefix/include/ITK-5.3/itkImageSeriesReader.hxx, line 478\n",
      "ImageSeriesReader (0x102388590): Non uniform sampling or missing slices detected,  maximum nonuniformity:0.000951116\n",
      "\n"
     ]
    },
    {
     "name": "stdout",
     "output_type": "stream",
     "text": [
      "60016485264DLN transformation finished\n",
      "60016485264DLN transformation finished\n"
     ]
    },
    {
     "name": "stderr",
     "output_type": "stream",
     "text": [
      "WARNING: In /tmp/SimpleITK-build/ITK-prefix/include/ITK-5.3/itkImageSeriesReader.hxx, line 478\n",
      "ImageSeriesReader (0x1023e20d0): Non uniform sampling or missing slices detected,  maximum nonuniformity:0.000951116\n",
      "\n"
     ]
    },
    {
     "name": "stdout",
     "output_type": "stream",
     "text": [
      "60016485264DLN transformation finished\n"
     ]
    },
    {
     "name": "stderr",
     "output_type": "stream",
     "text": [
      "WARNING: In /tmp/SimpleITK-build/ITK-prefix/include/ITK-5.3/itkImageSeriesReader.hxx, line 478\n",
      "ImageSeriesReader (0x105cb5830): Non uniform sampling or missing slices detected,  maximum nonuniformity:0.000951116\n",
      "\n"
     ]
    },
    {
     "name": "stdout",
     "output_type": "stream",
     "text": [
      "60016485264DLN transformation finished\n"
     ]
    },
    {
     "name": "stderr",
     "output_type": "stream",
     "text": [
      "WARNING: In /tmp/SimpleITK-build/ITK-prefix/include/ITK-5.3/itkImageSeriesReader.hxx, line 478\n",
      "ImageSeriesReader (0x105ce2a90): Non uniform sampling or missing slices detected,  maximum nonuniformity:0.000951116\n",
      "\n"
     ]
    },
    {
     "name": "stdout",
     "output_type": "stream",
     "text": [
      "60016485264DLN transformation finished\n",
      "60016485264DLN transformation finished\n"
     ]
    },
    {
     "name": "stderr",
     "output_type": "stream",
     "text": [
      "WARNING: In /tmp/SimpleITK-build/ITK-prefix/include/ITK-5.3/itkImageSeriesReader.hxx, line 478\n",
      "ImageSeriesReader (0x31032de10): Non uniform sampling or missing slices detected,  maximum nonuniformity:0.000951116\n",
      "\n"
     ]
    },
    {
     "name": "stdout",
     "output_type": "stream",
     "text": [
      "60016485264DLN transformation finished\n"
     ]
    },
    {
     "name": "stderr",
     "output_type": "stream",
     "text": [
      "WARNING: In /tmp/SimpleITK-build/ITK-prefix/include/ITK-5.3/itkImageSeriesReader.hxx, line 478\n",
      "ImageSeriesReader (0x3103973b0): Non uniform sampling or missing slices detected,  maximum nonuniformity:0.000951116\n",
      "\n"
     ]
    },
    {
     "name": "stdout",
     "output_type": "stream",
     "text": [
      "60016485264DLN transformation finished\n"
     ]
    },
    {
     "name": "stderr",
     "output_type": "stream",
     "text": [
      "WARNING: In /tmp/SimpleITK-build/ITK-prefix/include/ITK-5.3/itkImageSeriesReader.hxx, line 478\n",
      "ImageSeriesReader (0x31032c2e0): Non uniform sampling or missing slices detected,  maximum nonuniformity:0.000951116\n",
      "\n"
     ]
    },
    {
     "name": "stdout",
     "output_type": "stream",
     "text": [
      "60016485264DLN transformation finished\n"
     ]
    },
    {
     "name": "stderr",
     "output_type": "stream",
     "text": [
      "WARNING: In /tmp/SimpleITK-build/ITK-prefix/include/ITK-5.3/itkImageSeriesReader.hxx, line 478\n",
      "ImageSeriesReader (0x1023979a0): Non uniform sampling or missing slices detected,  maximum nonuniformity:0.000951116\n",
      "\n"
     ]
    },
    {
     "name": "stdout",
     "output_type": "stream",
     "text": [
      "60016485264DLN transformation finished\n",
      "60016485264DLN transformation finished\n"
     ]
    },
    {
     "name": "stderr",
     "output_type": "stream",
     "text": [
      "WARNING: In /tmp/SimpleITK-build/ITK-prefix/include/ITK-5.3/itkImageSeriesReader.hxx, line 478\n",
      "ImageSeriesReader (0x1207808a0): Non uniform sampling or missing slices detected,  maximum nonuniformity:0.000951116\n",
      "\n"
     ]
    },
    {
     "name": "stdout",
     "output_type": "stream",
     "text": [
      "60016485264DLN transformation finished\n"
     ]
    },
    {
     "name": "stderr",
     "output_type": "stream",
     "text": [
      "WARNING: In /tmp/SimpleITK-build/ITK-prefix/include/ITK-5.3/itkImageSeriesReader.hxx, line 478\n",
      "ImageSeriesReader (0x105ce2a90): Non uniform sampling or missing slices detected,  maximum nonuniformity:0.000951116\n",
      "\n"
     ]
    },
    {
     "name": "stdout",
     "output_type": "stream",
     "text": [
      "60016485264DLN transformation finished\n"
     ]
    },
    {
     "name": "stderr",
     "output_type": "stream",
     "text": [
      "WARNING: In /tmp/SimpleITK-build/ITK-prefix/include/ITK-5.3/itkImageSeriesReader.hxx, line 478\n",
      "ImageSeriesReader (0x1023f3d20): Non uniform sampling or missing slices detected,  maximum nonuniformity:0.000951116\n",
      "\n"
     ]
    },
    {
     "name": "stdout",
     "output_type": "stream",
     "text": [
      "60016485264DLN transformation finished\n",
      "60016485264DLN transformation finished\n",
      "60016485264DLN transformation finished\n",
      "60016485264DLN transformation finished\n",
      "60016485264DLN transformation finished\n",
      "60016485264DLN transformation finished\n"
     ]
    },
    {
     "name": "stderr",
     "output_type": "stream",
     "text": [
      "WARNING: In /tmp/SimpleITK-build/ITK-prefix/include/ITK-5.3/itkImageSeriesReader.hxx, line 478\n",
      "ImageSeriesReader (0x103a05300): Non uniform sampling or missing slices detected,  maximum nonuniformity:164.281\n",
      "\n"
     ]
    },
    {
     "name": "stdout",
     "output_type": "stream",
     "text": [
      "60016485264DLN transformation finished\n",
      "60016485264DLN transformation finished\n"
     ]
    },
    {
     "name": "stderr",
     "output_type": "stream",
     "text": [
      "WARNING: In /tmp/SimpleITK-build/ITK-prefix/include/ITK-5.3/itkImageSeriesReader.hxx, line 478\n",
      "ImageSeriesReader (0x105cc2bd0): Non uniform sampling or missing slices detected,  maximum nonuniformity:39.3043\n",
      "\n"
     ]
    },
    {
     "name": "stdout",
     "output_type": "stream",
     "text": [
      "60016485264DLN transformation finished\n",
      "Skipped processing folder /Volumes/MR_analysis/MRCP_DICOM/60016485264DLN/SE49 due to insufficient DICOM files (<5).\n",
      "60016485264DLN transformation finished\n"
     ]
    },
    {
     "name": "stderr",
     "output_type": "stream",
     "text": [
      "WARNING: In /tmp/SimpleITK-build/ITK-prefix/include/ITK-5.3/itkImageSeriesReader.hxx, line 478\n",
      "ImageSeriesReader (0x105cf7670): Non uniform sampling or missing slices detected,  maximum nonuniformity:196.364\n",
      "\n",
      "WARNING: In /tmp/SimpleITK-build/ITK-prefix/include/ITK-5.3/itkImageSeriesReader.hxx, line 478\n",
      "ImageSeriesReader (0x1023b47f0): Non uniform sampling or missing slices detected,  maximum nonuniformity:0.000818965\n",
      "\n"
     ]
    },
    {
     "name": "stdout",
     "output_type": "stream",
     "text": [
      "60016485264DLN transformation finished\n"
     ]
    },
    {
     "name": "stderr",
     "output_type": "stream",
     "text": [
      "WARNING: In /tmp/SimpleITK-build/ITK-prefix/include/ITK-5.3/itkImageSeriesReader.hxx, line 478\n",
      "ImageSeriesReader (0x105cf7670): Non uniform sampling or missing slices detected,  maximum nonuniformity:0.000818965\n",
      "\n",
      "WARNING: In /tmp/SimpleITK-build/ITK-prefix/include/ITK-5.3/itkImageSeriesReader.hxx, line 478\n",
      "ImageSeriesReader (0x105ce2a90): Non uniform sampling or missing slices detected,  maximum nonuniformity:196.364\n",
      "\n"
     ]
    },
    {
     "name": "stdout",
     "output_type": "stream",
     "text": [
      "60016485264DLN transformation finished\n",
      "60016485264DLN transformation finished\n",
      "60016485264DLN transformation finished\n",
      "Skipped processing folder /Volumes/MR_analysis/MRCP_DICOM/60016485264DLN/SE36 due to insufficient DICOM files (<5).\n",
      "60016485264DLN transformation finished\n"
     ]
    },
    {
     "name": "stderr",
     "output_type": "stream",
     "text": [
      "WARNING: In /tmp/SimpleITK-build/ITK-prefix/include/ITK-5.3/itkImageSeriesReader.hxx, line 478\n",
      "ImageSeriesReader (0x105ce2a90): Non uniform sampling or missing slices detected,  maximum nonuniformity:328.154\n",
      "\n",
      "WARNING: In /tmp/SimpleITK-build/ITK-prefix/include/ITK-5.3/itkImageSeriesReader.hxx, line 478\n",
      "ImageSeriesReader (0x105cf15c0): Non uniform sampling or missing slices detected,  maximum nonuniformity:0.000951116\n",
      "\n"
     ]
    },
    {
     "name": "stdout",
     "output_type": "stream",
     "text": [
      "60016485264DLN transformation finished\n"
     ]
    },
    {
     "name": "stderr",
     "output_type": "stream",
     "text": [
      "WARNING: In /tmp/SimpleITK-build/ITK-prefix/include/ITK-5.3/itkImageSeriesReader.hxx, line 478\n",
      "ImageSeriesReader (0x1023b47f0): Non uniform sampling or missing slices detected,  maximum nonuniformity:0.000951116\n",
      "\n"
     ]
    },
    {
     "name": "stdout",
     "output_type": "stream",
     "text": [
      "60016485264DLN transformation finished\n"
     ]
    },
    {
     "name": "stderr",
     "output_type": "stream",
     "text": [
      "WARNING: In /tmp/SimpleITK-build/ITK-prefix/include/ITK-5.3/itkImageSeriesReader.hxx, line 478\n",
      "ImageSeriesReader (0x102388590): Non uniform sampling or missing slices detected,  maximum nonuniformity:0.000951116\n",
      "\n"
     ]
    },
    {
     "name": "stdout",
     "output_type": "stream",
     "text": [
      "60016485264DLN transformation finished\n"
     ]
    },
    {
     "name": "stderr",
     "output_type": "stream",
     "text": [
      "WARNING: In /tmp/SimpleITK-build/ITK-prefix/include/ITK-5.3/itkImageSeriesReader.hxx, line 478\n",
      "ImageSeriesReader (0x3103949a0): Non uniform sampling or missing slices detected,  maximum nonuniformity:0.000951116\n",
      "\n"
     ]
    },
    {
     "name": "stdout",
     "output_type": "stream",
     "text": [
      "60016485264DLN transformation finished\n",
      "60016485264DLN transformation finished\n"
     ]
    },
    {
     "name": "stderr",
     "output_type": "stream",
     "text": [
      "WARNING: In /tmp/SimpleITK-build/ITK-prefix/include/ITK-5.3/itkImageSeriesReader.hxx, line 478\n",
      "ImageSeriesReader (0x137ea6c10): Non uniform sampling or missing slices detected,  maximum nonuniformity:337.371\n",
      "\n"
     ]
    },
    {
     "name": "stdout",
     "output_type": "stream",
     "text": [
      "60016502351DSL transformation finished\n"
     ]
    },
    {
     "name": "stderr",
     "output_type": "stream",
     "text": [
      "WARNING: In /tmp/SimpleITK-build/ITK-prefix/include/ITK-5.3/itkImageSeriesReader.hxx, line 478\n",
      "ImageSeriesReader (0x10239bee0): Non uniform sampling or missing slices detected,  maximum nonuniformity:543.784\n",
      "\n"
     ]
    },
    {
     "name": "stdout",
     "output_type": "stream",
     "text": [
      "60016502351DSL transformation finished\n"
     ]
    },
    {
     "name": "stderr",
     "output_type": "stream",
     "text": [
      "WARNING: In /tmp/SimpleITK-build/ITK-prefix/include/ITK-5.3/itkImageSeriesReader.hxx, line 478\n",
      "ImageSeriesReader (0x1207808a0): Non uniform sampling or missing slices detected,  maximum nonuniformity:297.54\n",
      "\n"
     ]
    },
    {
     "name": "stdout",
     "output_type": "stream",
     "text": [
      "60016502351DSL transformation finished\n",
      "60016502351DSL transformation finished\n",
      "60016502351DSL transformation finished\n",
      "60016502351DSL transformation finished\n",
      "Skipped processing folder /Volumes/MR_analysis/MRCP_DICOM/60016502351DSL/SE24 due to insufficient DICOM files (<5).\n",
      "60016502351DSL transformation finished\n"
     ]
    },
    {
     "name": "stderr",
     "output_type": "stream",
     "text": [
      "WARNING: In /tmp/SimpleITK-build/ITK-prefix/include/ITK-5.3/itkImageSeriesReader.hxx, line 478\n",
      "ImageSeriesReader (0x105cb5830): Non uniform sampling or missing slices detected,  maximum nonuniformity:276.567\n",
      "\n",
      "WARNING: In /tmp/SimpleITK-build/ITK-prefix/include/ITK-5.3/itkImageSeriesReader.hxx, line 478\n",
      "ImageSeriesReader (0x10239b8e0): Non uniform sampling or missing slices detected,  maximum nonuniformity:39.3043\n",
      "\n"
     ]
    },
    {
     "name": "stdout",
     "output_type": "stream",
     "text": [
      "60016502351DSL transformation finished\n"
     ]
    },
    {
     "name": "stderr",
     "output_type": "stream",
     "text": [
      "WARNING: In /tmp/SimpleITK-build/ITK-prefix/include/ITK-5.3/itkImageSeriesReader.hxx, line 478\n",
      "ImageSeriesReader (0x105cf7670): Non uniform sampling or missing slices detected,  maximum nonuniformity:0.000215778\n",
      "\n"
     ]
    },
    {
     "name": "stdout",
     "output_type": "stream",
     "text": [
      "60016502351DSL transformation finished\n",
      "60016502351DSL transformation finished\n"
     ]
    },
    {
     "name": "stderr",
     "output_type": "stream",
     "text": [
      "WARNING: In /tmp/SimpleITK-build/ITK-prefix/include/ITK-5.3/itkImageSeriesReader.hxx, line 478\n",
      "ImageSeriesReader (0x105cf7670): Non uniform sampling or missing slices detected,  maximum nonuniformity:328.153\n",
      "\n",
      "WARNING: In /tmp/SimpleITK-build/ITK-prefix/include/ITK-5.3/itkImageSeriesReader.hxx, line 478\n",
      "ImageSeriesReader (0x105cf7670): Non uniform sampling or missing slices detected,  maximum nonuniformity:276.567\n",
      "\n"
     ]
    },
    {
     "name": "stdout",
     "output_type": "stream",
     "text": [
      "60016502351DSL transformation finished\n",
      "Skipped processing folder /Volumes/MR_analysis/MRCP_DICOM/60016502351DSL/SE39 due to insufficient DICOM files (<5).\n"
     ]
    },
    {
     "name": "stderr",
     "output_type": "stream",
     "text": [
      "WARNING: In /tmp/SimpleITK-build/ITK-prefix/include/ITK-5.3/itkImageSeriesReader.hxx, line 478\n",
      "ImageSeriesReader (0x105cf7670): Non uniform sampling or missing slices detected,  maximum nonuniformity:0.000201891\n",
      "\n"
     ]
    },
    {
     "name": "stdout",
     "output_type": "stream",
     "text": [
      "60016502351DSL transformation finished\n",
      "60016502351DSL transformation finished\n"
     ]
    },
    {
     "name": "stderr",
     "output_type": "stream",
     "text": [
      "WARNING: In /tmp/SimpleITK-build/ITK-prefix/include/ITK-5.3/itkImageSeriesReader.hxx, line 478\n",
      "ImageSeriesReader (0x3103949a0): Non uniform sampling or missing slices detected,  maximum nonuniformity:0.000943476\n",
      "\n"
     ]
    },
    {
     "name": "stdout",
     "output_type": "stream",
     "text": [
      "60016502351DSL transformation finished\n"
     ]
    },
    {
     "name": "stderr",
     "output_type": "stream",
     "text": [
      "WARNING: In /tmp/SimpleITK-build/ITK-prefix/include/ITK-5.3/itkImageSeriesReader.hxx, line 478\n",
      "ImageSeriesReader (0x31032c2e0): Non uniform sampling or missing slices detected,  maximum nonuniformity:0.000943476\n",
      "\n"
     ]
    },
    {
     "name": "stdout",
     "output_type": "stream",
     "text": [
      "60016502351DSL transformation finished\n"
     ]
    },
    {
     "name": "stderr",
     "output_type": "stream",
     "text": [
      "WARNING: In /tmp/SimpleITK-build/ITK-prefix/include/ITK-5.3/itkImageSeriesReader.hxx, line 478\n",
      "ImageSeriesReader (0x105cf7670): Non uniform sampling or missing slices detected,  maximum nonuniformity:0.000943476\n",
      "\n"
     ]
    },
    {
     "name": "stdout",
     "output_type": "stream",
     "text": [
      "60016502351DSL transformation finished\n"
     ]
    },
    {
     "name": "stderr",
     "output_type": "stream",
     "text": [
      "WARNING: In /tmp/SimpleITK-build/ITK-prefix/include/ITK-5.3/itkImageSeriesReader.hxx, line 478\n",
      "ImageSeriesReader (0x10239b8e0): Non uniform sampling or missing slices detected,  maximum nonuniformity:0.000943476\n",
      "\n"
     ]
    },
    {
     "name": "stdout",
     "output_type": "stream",
     "text": [
      "60016502351DSL transformation finished\n",
      "60016502351DSL transformation finished\n",
      "60016502351DSL transformation finished\n"
     ]
    },
    {
     "name": "stderr",
     "output_type": "stream",
     "text": [
      "WARNING: In /tmp/SimpleITK-build/ITK-prefix/include/ITK-5.3/itkImageSeriesReader.hxx, line 478\n",
      "ImageSeriesReader (0x1023979a0): Non uniform sampling or missing slices detected,  maximum nonuniformity:0.000943476\n",
      "\n"
     ]
    },
    {
     "name": "stdout",
     "output_type": "stream",
     "text": [
      "60016502351DSL transformation finished\n"
     ]
    },
    {
     "name": "stderr",
     "output_type": "stream",
     "text": [
      "WARNING: In /tmp/SimpleITK-build/ITK-prefix/include/ITK-5.3/itkImageSeriesReader.hxx, line 478\n",
      "ImageSeriesReader (0x10239b8e0): Non uniform sampling or missing slices detected,  maximum nonuniformity:0.000943476\n",
      "\n"
     ]
    },
    {
     "name": "stdout",
     "output_type": "stream",
     "text": [
      "60016502351DSL transformation finished\n"
     ]
    },
    {
     "name": "stderr",
     "output_type": "stream",
     "text": [
      "WARNING: In /tmp/SimpleITK-build/ITK-prefix/include/ITK-5.3/itkImageSeriesReader.hxx, line 478\n",
      "ImageSeriesReader (0x105ff1bb0): Non uniform sampling or missing slices detected,  maximum nonuniformity:0.000943476\n",
      "\n"
     ]
    },
    {
     "name": "stdout",
     "output_type": "stream",
     "text": [
      "60016502351DSL transformation finished\n"
     ]
    },
    {
     "name": "stderr",
     "output_type": "stream",
     "text": [
      "WARNING: In /tmp/SimpleITK-build/ITK-prefix/include/ITK-5.3/itkImageSeriesReader.hxx, line 478\n",
      "ImageSeriesReader (0x31032b6d0): Non uniform sampling or missing slices detected,  maximum nonuniformity:0.000943476\n",
      "\n"
     ]
    },
    {
     "name": "stdout",
     "output_type": "stream",
     "text": [
      "60016502351DSL transformation finished\n"
     ]
    },
    {
     "name": "stderr",
     "output_type": "stream",
     "text": [
      "WARNING: In /tmp/SimpleITK-build/ITK-prefix/include/ITK-5.3/itkImageSeriesReader.hxx, line 478\n",
      "ImageSeriesReader (0x310394160): Non uniform sampling or missing slices detected,  maximum nonuniformity:0.000943476\n",
      "\n"
     ]
    },
    {
     "name": "stdout",
     "output_type": "stream",
     "text": [
      "60016502351DSL transformation finished\n"
     ]
    },
    {
     "name": "stderr",
     "output_type": "stream",
     "text": [
      "WARNING: In /tmp/SimpleITK-build/ITK-prefix/include/ITK-5.3/itkImageSeriesReader.hxx, line 478\n",
      "ImageSeriesReader (0x105cb5830): Non uniform sampling or missing slices detected,  maximum nonuniformity:0.000943476\n",
      "\n"
     ]
    },
    {
     "name": "stdout",
     "output_type": "stream",
     "text": [
      "60016502351DSL transformation finished\n"
     ]
    },
    {
     "name": "stderr",
     "output_type": "stream",
     "text": [
      "WARNING: In /tmp/SimpleITK-build/ITK-prefix/include/ITK-5.3/itkImageSeriesReader.hxx, line 478\n",
      "ImageSeriesReader (0x105cb5830): Non uniform sampling or missing slices detected,  maximum nonuniformity:0.000943476\n",
      "\n"
     ]
    },
    {
     "name": "stdout",
     "output_type": "stream",
     "text": [
      "60016502351DSL transformation finished\n"
     ]
    },
    {
     "name": "stderr",
     "output_type": "stream",
     "text": [
      "WARNING: In /tmp/SimpleITK-build/ITK-prefix/include/ITK-5.3/itkImageSeriesReader.hxx, line 478\n",
      "ImageSeriesReader (0x1207808a0): Non uniform sampling or missing slices detected,  maximum nonuniformity:0.000943476\n",
      "\n"
     ]
    },
    {
     "name": "stdout",
     "output_type": "stream",
     "text": [
      "60016502351DSL transformation finished\n",
      "60016502351DSL transformation finished\n"
     ]
    },
    {
     "name": "stderr",
     "output_type": "stream",
     "text": [
      "WARNING: In /tmp/SimpleITK-build/ITK-prefix/include/ITK-5.3/itkImageSeriesReader.hxx, line 478\n",
      "ImageSeriesReader (0x103a05300): Non uniform sampling or missing slices detected,  maximum nonuniformity:0.000943476\n",
      "\n"
     ]
    },
    {
     "name": "stdout",
     "output_type": "stream",
     "text": [
      "60016502351DSL transformation finished\n"
     ]
    },
    {
     "name": "stderr",
     "output_type": "stream",
     "text": [
      "WARNING: In /tmp/SimpleITK-build/ITK-prefix/include/ITK-5.3/itkImageSeriesReader.hxx, line 478\n",
      "ImageSeriesReader (0x1023b47f0): Non uniform sampling or missing slices detected,  maximum nonuniformity:0.000943476\n",
      "\n"
     ]
    },
    {
     "name": "stdout",
     "output_type": "stream",
     "text": [
      "60016502351DSL transformation finished\n",
      "60016502351DSL transformation finished\n"
     ]
    },
    {
     "name": "stderr",
     "output_type": "stream",
     "text": [
      "WARNING: In /tmp/SimpleITK-build/ITK-prefix/include/ITK-5.3/itkImageSeriesReader.hxx, line 478\n",
      "ImageSeriesReader (0x3103973b0): Non uniform sampling or missing slices detected,  maximum nonuniformity:0.000943476\n",
      "\n"
     ]
    },
    {
     "name": "stdout",
     "output_type": "stream",
     "text": [
      "60016502351DSL transformation finished\n"
     ]
    },
    {
     "name": "stderr",
     "output_type": "stream",
     "text": [
      "WARNING: In /tmp/SimpleITK-build/ITK-prefix/include/ITK-5.3/itkImageSeriesReader.hxx, line 478\n",
      "ImageSeriesReader (0x310394160): Non uniform sampling or missing slices detected,  maximum nonuniformity:0.000943476\n",
      "\n"
     ]
    },
    {
     "name": "stdout",
     "output_type": "stream",
     "text": [
      "60016502351DSL transformation finished\n"
     ]
    },
    {
     "name": "stderr",
     "output_type": "stream",
     "text": [
      "WARNING: In /tmp/SimpleITK-build/ITK-prefix/include/ITK-5.3/itkImageSeriesReader.hxx, line 478\n",
      "ImageSeriesReader (0x1023b5930): Non uniform sampling or missing slices detected,  maximum nonuniformity:0.000768735\n",
      "\n"
     ]
    },
    {
     "name": "stdout",
     "output_type": "stream",
     "text": [
      "60016502351DSL transformation finished\n"
     ]
    },
    {
     "name": "stderr",
     "output_type": "stream",
     "text": [
      "WARNING: In /tmp/SimpleITK-build/ITK-prefix/include/ITK-5.3/itkImageSeriesReader.hxx, line 478\n",
      "ImageSeriesReader (0x105cc2bd0): Non uniform sampling or missing slices detected,  maximum nonuniformity:0.000768735\n",
      "\n"
     ]
    },
    {
     "name": "stdout",
     "output_type": "stream",
     "text": [
      "60016502351DSL transformation finished\n"
     ]
    },
    {
     "name": "stderr",
     "output_type": "stream",
     "text": [
      "WARNING: In /tmp/SimpleITK-build/ITK-prefix/include/ITK-5.3/itkImageSeriesReader.hxx, line 478\n",
      "ImageSeriesReader (0x105cb5830): Non uniform sampling or missing slices detected,  maximum nonuniformity:0.000768735\n",
      "\n"
     ]
    },
    {
     "name": "stdout",
     "output_type": "stream",
     "text": [
      "60016502351DSL transformation finished\n"
     ]
    },
    {
     "name": "stderr",
     "output_type": "stream",
     "text": [
      "WARNING: In /tmp/SimpleITK-build/ITK-prefix/include/ITK-5.3/itkImageSeriesReader.hxx, line 478\n",
      "ImageSeriesReader (0x105cf7670): Non uniform sampling or missing slices detected,  maximum nonuniformity:0.000768735\n",
      "\n"
     ]
    },
    {
     "name": "stdout",
     "output_type": "stream",
     "text": [
      "60016502351DSL transformation finished\n",
      "60016502351DSL transformation finished\n"
     ]
    },
    {
     "name": "stderr",
     "output_type": "stream",
     "text": [
      "WARNING: In /tmp/SimpleITK-build/ITK-prefix/include/ITK-5.3/itkImageSeriesReader.hxx, line 478\n",
      "ImageSeriesReader (0x105cc2bd0): Non uniform sampling or missing slices detected,  maximum nonuniformity:297.54\n",
      "\n"
     ]
    },
    {
     "name": "stdout",
     "output_type": "stream",
     "text": [
      "60016502351DSL transformation finished\n",
      "60016502351DSL transformation finished\n"
     ]
    },
    {
     "name": "stderr",
     "output_type": "stream",
     "text": [
      "WARNING: In /tmp/SimpleITK-build/ITK-prefix/include/ITK-5.3/itkImageSeriesReader.hxx, line 478\n",
      "ImageSeriesReader (0x105cf7670): Non uniform sampling or missing slices detected,  maximum nonuniformity:328.153\n",
      "\n",
      "WARNING: In /tmp/SimpleITK-build/ITK-prefix/include/ITK-5.3/itkImageSeriesReader.hxx, line 478\n",
      "ImageSeriesReader (0x105cee480): Non uniform sampling or missing slices detected,  maximum nonuniformity:280.558\n",
      "\n"
     ]
    },
    {
     "name": "stdout",
     "output_type": "stream",
     "text": [
      "60016502351DSL transformation finished\n",
      "Skipped processing folder /Volumes/MR_analysis/MRCP_DICOM/60016502351DSL/SE9 due to insufficient DICOM files (<5).\n"
     ]
    },
    {
     "name": "stderr",
     "output_type": "stream",
     "text": [
      "WARNING: In /tmp/SimpleITK-build/ITK-prefix/include/ITK-5.3/itkImageSeriesReader.hxx, line 478\n",
      "ImageSeriesReader (0x1023e1ac0): Non uniform sampling or missing slices detected,  maximum nonuniformity:0.000215778\n",
      "\n"
     ]
    },
    {
     "name": "stdout",
     "output_type": "stream",
     "text": [
      "60016502351DSL transformation finished\n",
      "60016502351DSL transformation finished\n",
      "60016502351DSL transformation finished\n"
     ]
    },
    {
     "name": "stderr",
     "output_type": "stream",
     "text": [
      "WARNING: In /tmp/SimpleITK-build/ITK-prefix/include/ITK-5.3/itkImageSeriesReader.hxx, line 478\n",
      "ImageSeriesReader (0x1023e5c60): Non uniform sampling or missing slices detected,  maximum nonuniformity:0.000201891\n",
      "\n"
     ]
    },
    {
     "name": "stdout",
     "output_type": "stream",
     "text": [
      "60016502351DSL transformation finished\n",
      "Skipped processing folder /Volumes/MR_analysis/MRCP_DICOM/60016502351DSL/SE34 due to insufficient DICOM files (<5).\n",
      "60016502351DSL transformation finished\n"
     ]
    },
    {
     "name": "stderr",
     "output_type": "stream",
     "text": [
      "WARNING: In /tmp/SimpleITK-build/ITK-prefix/include/ITK-5.3/itkImageSeriesReader.hxx, line 478\n",
      "ImageSeriesReader (0x1023e5c60): Non uniform sampling or missing slices detected,  maximum nonuniformity:39.3043\n",
      "\n",
      "WARNING: In /tmp/SimpleITK-build/ITK-prefix/include/ITK-5.3/itkImageSeriesReader.hxx, line 478\n",
      "ImageSeriesReader (0x10239ccb0): Non uniform sampling or missing slices detected,  maximum nonuniformity:328.154\n",
      "\n"
     ]
    },
    {
     "name": "stdout",
     "output_type": "stream",
     "text": [
      "60016502351DSL transformation finished\n"
     ]
    },
    {
     "name": "stderr",
     "output_type": "stream",
     "text": [
      "WARNING: In /tmp/SimpleITK-build/ITK-prefix/include/ITK-5.3/itkImageSeriesReader.hxx, line 478\n",
      "ImageSeriesReader (0x1023b5930): Non uniform sampling or missing slices detected,  maximum nonuniformity:0.000943476\n",
      "\n"
     ]
    },
    {
     "name": "stdout",
     "output_type": "stream",
     "text": [
      "60016502351DSL transformation finished\n"
     ]
    },
    {
     "name": "stderr",
     "output_type": "stream",
     "text": [
      "WARNING: In /tmp/SimpleITK-build/ITK-prefix/include/ITK-5.3/itkImageSeriesReader.hxx, line 478\n",
      "ImageSeriesReader (0x10239b8e0): Non uniform sampling or missing slices detected,  maximum nonuniformity:0.000943476\n",
      "\n"
     ]
    },
    {
     "name": "stdout",
     "output_type": "stream",
     "text": [
      "60016502351DSL transformation finished\n",
      "60016502351DSL transformation finished\n"
     ]
    },
    {
     "name": "stderr",
     "output_type": "stream",
     "text": [
      "WARNING: In /tmp/SimpleITK-build/ITK-prefix/include/ITK-5.3/itkImageSeriesReader.hxx, line 478\n",
      "ImageSeriesReader (0x1023b5930): Non uniform sampling or missing slices detected,  maximum nonuniformity:0.000943476\n",
      "\n"
     ]
    },
    {
     "name": "stdout",
     "output_type": "stream",
     "text": [
      "60016502351DSL transformation finished\n"
     ]
    },
    {
     "name": "stderr",
     "output_type": "stream",
     "text": [
      "WARNING: In /tmp/SimpleITK-build/ITK-prefix/include/ITK-5.3/itkImageSeriesReader.hxx, line 478\n",
      "ImageSeriesReader (0x105cc2bd0): Non uniform sampling or missing slices detected,  maximum nonuniformity:0.000943476\n",
      "\n"
     ]
    },
    {
     "name": "stdout",
     "output_type": "stream",
     "text": [
      "60016502351DSL transformation finished\n"
     ]
    },
    {
     "name": "stderr",
     "output_type": "stream",
     "text": [
      "WARNING: In /tmp/SimpleITK-build/ITK-prefix/include/ITK-5.3/itkImageSeriesReader.hxx, line 478\n",
      "ImageSeriesReader (0x105ce2a90): Non uniform sampling or missing slices detected,  maximum nonuniformity:337.371\n",
      "\n"
     ]
    },
    {
     "name": "stdout",
     "output_type": "stream",
     "text": [
      "60016504358TXA transformation finished\n"
     ]
    },
    {
     "name": "stderr",
     "output_type": "stream",
     "text": [
      "WARNING: In /tmp/SimpleITK-build/ITK-prefix/include/ITK-5.3/itkImageSeriesReader.hxx, line 478\n",
      "ImageSeriesReader (0x31032c2e0): Non uniform sampling or missing slices detected,  maximum nonuniformity:543.784\n",
      "\n"
     ]
    },
    {
     "name": "stdout",
     "output_type": "stream",
     "text": [
      "60016504358TXA transformation finished\n"
     ]
    },
    {
     "name": "stderr",
     "output_type": "stream",
     "text": [
      "WARNING: In /tmp/SimpleITK-build/ITK-prefix/include/ITK-5.3/itkImageSeriesReader.hxx, line 478\n",
      "ImageSeriesReader (0x31032c2e0): Non uniform sampling or missing slices detected,  maximum nonuniformity:200.275\n",
      "\n"
     ]
    },
    {
     "name": "stdout",
     "output_type": "stream",
     "text": [
      "60016504358TXA transformation finished\n"
     ]
    },
    {
     "name": "stderr",
     "output_type": "stream",
     "text": [
      "WARNING: In /tmp/SimpleITK-build/ITK-prefix/include/ITK-5.3/itkImageSeriesReader.hxx, line 478\n",
      "ImageSeriesReader (0x105cf7670): Non uniform sampling or missing slices detected,  maximum nonuniformity:0.000759616\n",
      "\n"
     ]
    },
    {
     "name": "stdout",
     "output_type": "stream",
     "text": [
      "60016504358TXA transformation finished\n"
     ]
    },
    {
     "name": "stderr",
     "output_type": "stream",
     "text": [
      "WARNING: In /tmp/SimpleITK-build/ITK-prefix/include/ITK-5.3/itkImageSeriesReader.hxx, line 478\n",
      "ImageSeriesReader (0x105cc2bd0): Non uniform sampling or missing slices detected,  maximum nonuniformity:0.000775947\n",
      "\n"
     ]
    },
    {
     "name": "stdout",
     "output_type": "stream",
     "text": [
      "60016504358TXA transformation finished\n"
     ]
    },
    {
     "name": "stderr",
     "output_type": "stream",
     "text": [
      "WARNING: In /tmp/SimpleITK-build/ITK-prefix/include/ITK-5.3/itkImageSeriesReader.hxx, line 478\n",
      "ImageSeriesReader (0x105ce2a90): Non uniform sampling or missing slices detected,  maximum nonuniformity:0.000775947\n",
      "\n",
      "WARNING: In /tmp/SimpleITK-build/ITK-prefix/include/ITK-5.3/itkImageSeriesReader.hxx, line 478\n",
      "ImageSeriesReader (0x105fd1be0): Non uniform sampling or missing slices detected,  maximum nonuniformity:328.154\n",
      "\n"
     ]
    },
    {
     "name": "stdout",
     "output_type": "stream",
     "text": [
      "60016504358TXA transformation finished\n",
      "60016504358TXA transformation finished\n",
      "Skipped processing folder /Volumes/MR_analysis/MRCP_DICOM/60016504358TXA/SE30 due to insufficient DICOM files (<5).\n"
     ]
    },
    {
     "name": "stderr",
     "output_type": "stream",
     "text": [
      "WARNING: In /tmp/SimpleITK-build/ITK-prefix/include/ITK-5.3/itkImageSeriesReader.hxx, line 478\n",
      "ImageSeriesReader (0x3105042c0): Non uniform sampling or missing slices detected,  maximum nonuniformity:0.000174848\n",
      "\n"
     ]
    },
    {
     "name": "stdout",
     "output_type": "stream",
     "text": [
      "60016504358TXA transformation finished\n",
      "60016504358TXA transformation finished\n"
     ]
    },
    {
     "name": "stderr",
     "output_type": "stream",
     "text": [
      "WARNING: In /tmp/SimpleITK-build/ITK-prefix/include/ITK-5.3/itkImageSeriesReader.hxx, line 478\n",
      "ImageSeriesReader (0x105ce2a90): Non uniform sampling or missing slices detected,  maximum nonuniformity:196.364\n",
      "\n"
     ]
    },
    {
     "name": "stdout",
     "output_type": "stream",
     "text": [
      "60016504358TXA transformation finished\n",
      "60016504358TXA transformation finished\n",
      "Skipped processing folder /Volumes/MR_analysis/MRCP_DICOM/60016504358TXA/SE12 due to insufficient DICOM files (<5).\n"
     ]
    },
    {
     "name": "stderr",
     "output_type": "stream",
     "text": [
      "WARNING: In /tmp/SimpleITK-build/ITK-prefix/include/ITK-5.3/itkImageSeriesReader.hxx, line 478\n",
      "ImageSeriesReader (0x105cc2bd0): Non uniform sampling or missing slices detected,  maximum nonuniformity:39.3043\n",
      "\n",
      "WARNING: In /tmp/SimpleITK-build/ITK-prefix/include/ITK-5.3/itkImageSeriesReader.hxx, line 478\n",
      "ImageSeriesReader (0x105cf7670): Non uniform sampling or missing slices detected,  maximum nonuniformity:328.154\n",
      "\n"
     ]
    },
    {
     "name": "stdout",
     "output_type": "stream",
     "text": [
      "60016504358TXA transformation finished\n",
      "60016504358TXA transformation finished\n",
      "60016504358TXA transformation finished\n",
      "60016504358TXA transformation finished\n",
      "60016504358TXA transformation finished\n",
      "60016504358TXA transformation finished\n",
      "60016504358TXA transformation finished\n",
      "60016504358TXA transformation finished\n",
      "60016504358TXA transformation finished\n",
      "60016504358TXA transformation finished\n",
      "60016504358TXA transformation finished\n",
      "60016504358TXA transformation finished\n",
      "60016504358TXA transformation finished\n",
      "60016504358TXA transformation finished\n",
      "60016504358TXA transformation finished\n",
      "60016504358TXA transformation finished\n",
      "60016504358TXA transformation finished\n",
      "60016504358TXA transformation finished\n",
      "60016504358TXA transformation finished\n",
      "60016504358TXA transformation finished\n",
      "60016504358TXA transformation finished\n",
      "60016504358TXA transformation finished\n"
     ]
    },
    {
     "name": "stderr",
     "output_type": "stream",
     "text": [
      "WARNING: In /tmp/SimpleITK-build/ITK-prefix/include/ITK-5.3/itkImageSeriesReader.hxx, line 478\n",
      "ImageSeriesReader (0x10239bee0): Non uniform sampling or missing slices detected,  maximum nonuniformity:0.000958595\n",
      "\n"
     ]
    },
    {
     "name": "stdout",
     "output_type": "stream",
     "text": [
      "60016504358TXA transformation finished\n",
      "60016504358TXA transformation finished\n"
     ]
    },
    {
     "name": "stderr",
     "output_type": "stream",
     "text": [
      "WARNING: In /tmp/SimpleITK-build/ITK-prefix/include/ITK-5.3/itkImageSeriesReader.hxx, line 478\n",
      "ImageSeriesReader (0x1023e5c60): Non uniform sampling or missing slices detected,  maximum nonuniformity:0.000958595\n",
      "\n"
     ]
    },
    {
     "name": "stdout",
     "output_type": "stream",
     "text": [
      "60016504358TXA transformation finished\n"
     ]
    },
    {
     "name": "stderr",
     "output_type": "stream",
     "text": [
      "WARNING: In /tmp/SimpleITK-build/ITK-prefix/include/ITK-5.3/itkImageSeriesReader.hxx, line 478\n",
      "ImageSeriesReader (0x105ce2a90): Non uniform sampling or missing slices detected,  maximum nonuniformity:0.000958595\n",
      "\n"
     ]
    },
    {
     "name": "stdout",
     "output_type": "stream",
     "text": [
      "60016504358TXA transformation finished\n"
     ]
    },
    {
     "name": "stderr",
     "output_type": "stream",
     "text": [
      "WARNING: In /tmp/SimpleITK-build/ITK-prefix/include/ITK-5.3/itkImageSeriesReader.hxx, line 478\n",
      "ImageSeriesReader (0x103a05300): Non uniform sampling or missing slices detected,  maximum nonuniformity:0.000958595\n",
      "\n"
     ]
    },
    {
     "name": "stdout",
     "output_type": "stream",
     "text": [
      "60016504358TXA transformation finished\n"
     ]
    },
    {
     "name": "stderr",
     "output_type": "stream",
     "text": [
      "WARNING: In /tmp/SimpleITK-build/ITK-prefix/include/ITK-5.3/itkImageSeriesReader.hxx, line 478\n",
      "ImageSeriesReader (0x3103e1100): Non uniform sampling or missing slices detected,  maximum nonuniformity:200.275\n",
      "\n"
     ]
    },
    {
     "name": "stdout",
     "output_type": "stream",
     "text": [
      "60016504358TXA transformation finished\n",
      "Skipped processing folder /Volumes/MR_analysis/MRCP_DICOM/60016504358TXA/SE16 due to insufficient DICOM files (<5).\n"
     ]
    },
    {
     "name": "stderr",
     "output_type": "stream",
     "text": [
      "WARNING: In /tmp/SimpleITK-build/ITK-prefix/include/ITK-5.3/itkImageSeriesReader.hxx, line 478\n",
      "ImageSeriesReader (0x105ce2a90): Non uniform sampling or missing slices detected,  maximum nonuniformity:0.000174848\n",
      "\n"
     ]
    },
    {
     "name": "stdout",
     "output_type": "stream",
     "text": [
      "60016504358TXA transformation finished\n",
      "60016504358TXA transformation finished\n"
     ]
    },
    {
     "name": "stderr",
     "output_type": "stream",
     "text": [
      "WARNING: In /tmp/SimpleITK-build/ITK-prefix/include/ITK-5.3/itkImageSeriesReader.hxx, line 478\n",
      "ImageSeriesReader (0x105cb5830): Non uniform sampling or missing slices detected,  maximum nonuniformity:276.567\n",
      "\n",
      "WARNING: In /tmp/SimpleITK-build/ITK-prefix/include/ITK-5.3/itkImageSeriesReader.hxx, line 478\n",
      "ImageSeriesReader (0x105cf7670): Non uniform sampling or missing slices detected,  maximum nonuniformity:85.3657\n",
      "\n"
     ]
    },
    {
     "name": "stdout",
     "output_type": "stream",
     "text": [
      "60016504358TXA transformation finished\n"
     ]
    },
    {
     "name": "stderr",
     "output_type": "stream",
     "text": [
      "WARNING: In /tmp/SimpleITK-build/ITK-prefix/include/ITK-5.3/itkImageSeriesReader.hxx, line 478\n",
      "ImageSeriesReader (0x105cef5e0): Non uniform sampling or missing slices detected,  maximum nonuniformity:0.000775947\n",
      "\n"
     ]
    },
    {
     "name": "stdout",
     "output_type": "stream",
     "text": [
      "60016504358TXA transformation finished\n"
     ]
    },
    {
     "name": "stderr",
     "output_type": "stream",
     "text": [
      "WARNING: In /tmp/SimpleITK-build/ITK-prefix/include/ITK-5.3/itkImageSeriesReader.hxx, line 478\n",
      "ImageSeriesReader (0x105cf7670): Non uniform sampling or missing slices detected,  maximum nonuniformity:0.000775947\n",
      "\n",
      "WARNING: In /tmp/SimpleITK-build/ITK-prefix/include/ITK-5.3/itkImageSeriesReader.hxx, line 478\n",
      "ImageSeriesReader (0x105ce2a90): Non uniform sampling or missing slices detected,  maximum nonuniformity:328.16\n",
      "\n"
     ]
    },
    {
     "name": "stdout",
     "output_type": "stream",
     "text": [
      "60016504358TXA transformation finished\n",
      "60016504358TXA transformation finished\n",
      "Skipped processing folder /Volumes/MR_analysis/MRCP_DICOM/60016504358TXA/SE31 due to insufficient DICOM files (<5).\n"
     ]
    },
    {
     "name": "stderr",
     "output_type": "stream",
     "text": [
      "WARNING: In /tmp/SimpleITK-build/ITK-prefix/include/ITK-5.3/itkImageSeriesReader.hxx, line 478\n",
      "ImageSeriesReader (0x105cf7670): Non uniform sampling or missing slices detected,  maximum nonuniformity:323.233\n",
      "\n"
     ]
    },
    {
     "name": "stdout",
     "output_type": "stream",
     "text": [
      "60016504358TXA transformation finished\n",
      "60016504358TXA transformation finished\n",
      "60016504358TXA transformation finished\n",
      "60016504358TXA transformation finished\n",
      "60016504358TXA transformation finished\n",
      "60016504358TXA transformation finished\n",
      "60016504358TXA transformation finished\n"
     ]
    },
    {
     "name": "stderr",
     "output_type": "stream",
     "text": [
      "WARNING: In /tmp/SimpleITK-build/ITK-prefix/include/ITK-5.3/itkImageSeriesReader.hxx, line 478\n",
      "ImageSeriesReader (0x1023ee170): Non uniform sampling or missing slices detected,  maximum nonuniformity:337.371\n",
      "\n",
      "WARNING: In /tmp/SimpleITK-build/ITK-prefix/include/ITK-5.3/itkImageSeriesReader.hxx, line 478\n",
      "ImageSeriesReader (0x102388590): Non uniform sampling or missing slices detected,  maximum nonuniformity:337.371\n",
      "\n"
     ]
    },
    {
     "name": "stdout",
     "output_type": "stream",
     "text": [
      "60016512804CAX transformation finished\n",
      "60016512804CAX transformation finished\n"
     ]
    },
    {
     "name": "stderr",
     "output_type": "stream",
     "text": [
      "WARNING: In /tmp/SimpleITK-build/ITK-prefix/include/ITK-5.3/itkImageSeriesReader.hxx, line 478\n",
      "ImageSeriesReader (0x10239ccb0): Non uniform sampling or missing slices detected,  maximum nonuniformity:543.784\n",
      "\n"
     ]
    },
    {
     "name": "stdout",
     "output_type": "stream",
     "text": [
      "60016512804CAX transformation finished\n",
      "60016512804CAX transformation finished\n"
     ]
    },
    {
     "name": "stderr",
     "output_type": "stream",
     "text": [
      "WARNING: In /tmp/SimpleITK-build/ITK-prefix/include/ITK-5.3/itkImageSeriesReader.hxx, line 478\n",
      "ImageSeriesReader (0x1023979a0): Non uniform sampling or missing slices detected,  maximum nonuniformity:0.000679255\n",
      "\n"
     ]
    },
    {
     "name": "stdout",
     "output_type": "stream",
     "text": [
      "60016512804CAX transformation finished\n"
     ]
    },
    {
     "name": "stderr",
     "output_type": "stream",
     "text": [
      "WARNING: In /tmp/SimpleITK-build/ITK-prefix/include/ITK-5.3/itkImageSeriesReader.hxx, line 478\n",
      "ImageSeriesReader (0x1023979a0): Non uniform sampling or missing slices detected,  maximum nonuniformity:201.044\n",
      "\n"
     ]
    },
    {
     "name": "stdout",
     "output_type": "stream",
     "text": [
      "60016512804CAX transformation finished\n"
     ]
    },
    {
     "name": "stderr",
     "output_type": "stream",
     "text": [
      "WARNING: In /tmp/SimpleITK-build/ITK-prefix/include/ITK-5.3/itkImageSeriesReader.hxx, line 478\n",
      "ImageSeriesReader (0x1023e6db0): Non uniform sampling or missing slices detected,  maximum nonuniformity:201.044\n",
      "\n"
     ]
    },
    {
     "name": "stdout",
     "output_type": "stream",
     "text": [
      "60016512804CAX transformation finished\n",
      "60016512804CAX transformation finished\n"
     ]
    },
    {
     "name": "stderr",
     "output_type": "stream",
     "text": [
      "WARNING: In /tmp/SimpleITK-build/ITK-prefix/include/ITK-5.3/itkImageSeriesReader.hxx, line 478\n",
      "ImageSeriesReader (0x10239b8e0): Non uniform sampling or missing slices detected,  maximum nonuniformity:0.00066867\n",
      "\n",
      "WARNING: In /tmp/SimpleITK-build/ITK-prefix/include/ITK-5.3/itkImageSeriesReader.hxx, line 478\n",
      "ImageSeriesReader (0x10239b8e0): Non uniform sampling or missing slices detected,  maximum nonuniformity:0.00066867\n",
      "\n"
     ]
    },
    {
     "name": "stdout",
     "output_type": "stream",
     "text": [
      "60016512804CAX transformation finished\n",
      "Skipped processing folder /Volumes/MR_analysis/MRCP_DICOM/60016512804CAX/SE34 due to insufficient DICOM files (<5).\n"
     ]
    },
    {
     "name": "stderr",
     "output_type": "stream",
     "text": [
      "WARNING: In /tmp/SimpleITK-build/ITK-prefix/include/ITK-5.3/itkImageSeriesReader.hxx, line 478\n",
      "ImageSeriesReader (0x310394160): Non uniform sampling or missing slices detected,  maximum nonuniformity:0.000260537\n",
      "\n"
     ]
    },
    {
     "name": "stdout",
     "output_type": "stream",
     "text": [
      "60016512804CAX transformation finished\n",
      "60016512804CAX transformation finished\n"
     ]
    },
    {
     "name": "stderr",
     "output_type": "stream",
     "text": [
      "WARNING: In /tmp/SimpleITK-build/ITK-prefix/include/ITK-5.3/itkImageSeriesReader.hxx, line 478\n",
      "ImageSeriesReader (0x1023979a0): Non uniform sampling or missing slices detected,  maximum nonuniformity:280.558\n",
      "\n",
      "WARNING: In /tmp/SimpleITK-build/ITK-prefix/include/ITK-5.3/itkImageSeriesReader.hxx, line 478\n",
      "ImageSeriesReader (0x1023bdf30): Non uniform sampling or missing slices detected,  maximum nonuniformity:328.16\n",
      "\n"
     ]
    },
    {
     "name": "stdout",
     "output_type": "stream",
     "text": [
      "60016512804CAX transformation finished\n",
      "60016512804CAX transformation finished\n"
     ]
    },
    {
     "name": "stderr",
     "output_type": "stream",
     "text": [
      "WARNING: In /tmp/SimpleITK-build/ITK-prefix/include/ITK-5.3/itkImageSeriesReader.hxx, line 478\n",
      "ImageSeriesReader (0x1023be560): Non uniform sampling or missing slices detected,  maximum nonuniformity:0.000676314\n",
      "\n",
      "WARNING: In /tmp/SimpleITK-build/ITK-prefix/include/ITK-5.3/itkImageSeriesReader.hxx, line 478\n",
      "ImageSeriesReader (0x102388590): Non uniform sampling or missing slices detected,  maximum nonuniformity:0.000676314\n",
      "\n"
     ]
    },
    {
     "name": "stdout",
     "output_type": "stream",
     "text": [
      "60016512804CAX transformation finished\n",
      "Skipped processing folder /Volumes/MR_analysis/MRCP_DICOM/60016512804CAX/SE13 due to insufficient DICOM files (<5).\n"
     ]
    },
    {
     "name": "stderr",
     "output_type": "stream",
     "text": [
      "WARNING: In /tmp/SimpleITK-build/ITK-prefix/include/ITK-5.3/itkImageSeriesReader.hxx, line 478\n",
      "ImageSeriesReader (0x1023b5930): Non uniform sampling or missing slices detected,  maximum nonuniformity:0.000323509\n",
      "\n"
     ]
    },
    {
     "name": "stdout",
     "output_type": "stream",
     "text": [
      "60016512804CAX transformation finished\n",
      "60016512804CAX transformation finished\n"
     ]
    },
    {
     "name": "stderr",
     "output_type": "stream",
     "text": [
      "WARNING: In /tmp/SimpleITK-build/ITK-prefix/include/ITK-5.3/itkImageSeriesReader.hxx, line 478\n",
      "ImageSeriesReader (0x105cb5830): Non uniform sampling or missing slices detected,  maximum nonuniformity:280.558\n",
      "\n",
      "WARNING: In /tmp/SimpleITK-build/ITK-prefix/include/ITK-5.3/itkImageSeriesReader.hxx, line 478\n",
      "ImageSeriesReader (0x105cf7670): Non uniform sampling or missing slices detected,  maximum nonuniformity:323.24\n",
      "\n"
     ]
    },
    {
     "name": "stdout",
     "output_type": "stream",
     "text": [
      "60016512804CAX transformation finished\n",
      "60016512804CAX transformation finished\n"
     ]
    },
    {
     "name": "stderr",
     "output_type": "stream",
     "text": [
      "WARNING: In /tmp/SimpleITK-build/ITK-prefix/include/ITK-5.3/itkImageSeriesReader.hxx, line 478\n",
      "ImageSeriesReader (0x105ce2a90): Non uniform sampling or missing slices detected,  maximum nonuniformity:0.000288596\n",
      "\n"
     ]
    },
    {
     "name": "stdout",
     "output_type": "stream",
     "text": [
      "60016512804CAX transformation finished\n"
     ]
    },
    {
     "name": "stderr",
     "output_type": "stream",
     "text": [
      "WARNING: In /tmp/SimpleITK-build/ITK-prefix/include/ITK-5.3/itkImageSeriesReader.hxx, line 478\n",
      "ImageSeriesReader (0x3103e43c0): Non uniform sampling or missing slices detected,  maximum nonuniformity:0.000288596\n",
      "\n"
     ]
    },
    {
     "name": "stdout",
     "output_type": "stream",
     "text": [
      "60016512804CAX transformation finished\n"
     ]
    },
    {
     "name": "stderr",
     "output_type": "stream",
     "text": [
      "WARNING: In /tmp/SimpleITK-build/ITK-prefix/include/ITK-5.3/itkImageSeriesReader.hxx, line 478\n",
      "ImageSeriesReader (0x105cb5830): Non uniform sampling or missing slices detected,  maximum nonuniformity:0.000288596\n",
      "\n"
     ]
    },
    {
     "name": "stdout",
     "output_type": "stream",
     "text": [
      "60016512804CAX transformation finished\n"
     ]
    },
    {
     "name": "stderr",
     "output_type": "stream",
     "text": [
      "WARNING: In /tmp/SimpleITK-build/ITK-prefix/include/ITK-5.3/itkImageSeriesReader.hxx, line 478\n",
      "ImageSeriesReader (0x3103e1100): Non uniform sampling or missing slices detected,  maximum nonuniformity:0.000288596\n",
      "\n"
     ]
    },
    {
     "name": "stdout",
     "output_type": "stream",
     "text": [
      "60016512804CAX transformation finished\n"
     ]
    },
    {
     "name": "stderr",
     "output_type": "stream",
     "text": [
      "WARNING: In /tmp/SimpleITK-build/ITK-prefix/include/ITK-5.3/itkImageSeriesReader.hxx, line 478\n",
      "ImageSeriesReader (0x1023979a0): Non uniform sampling or missing slices detected,  maximum nonuniformity:0.000288596\n",
      "\n"
     ]
    },
    {
     "name": "stdout",
     "output_type": "stream",
     "text": [
      "60016512804CAX transformation finished\n"
     ]
    },
    {
     "name": "stderr",
     "output_type": "stream",
     "text": [
      "WARNING: In /tmp/SimpleITK-build/ITK-prefix/include/ITK-5.3/itkImageSeriesReader.hxx, line 478\n",
      "ImageSeriesReader (0x102388590): Non uniform sampling or missing slices detected,  maximum nonuniformity:0.000288596\n",
      "\n"
     ]
    },
    {
     "name": "stdout",
     "output_type": "stream",
     "text": [
      "60016512804CAX transformation finished\n",
      "60016512804CAX transformation finished\n"
     ]
    },
    {
     "name": "stderr",
     "output_type": "stream",
     "text": [
      "WARNING: In /tmp/SimpleITK-build/ITK-prefix/include/ITK-5.3/itkImageSeriesReader.hxx, line 478\n",
      "ImageSeriesReader (0x105cb5830): Non uniform sampling or missing slices detected,  maximum nonuniformity:0.000288596\n",
      "\n"
     ]
    },
    {
     "name": "stdout",
     "output_type": "stream",
     "text": [
      "60016512804CAX transformation finished\n"
     ]
    },
    {
     "name": "stderr",
     "output_type": "stream",
     "text": [
      "WARNING: In /tmp/SimpleITK-build/ITK-prefix/include/ITK-5.3/itkImageSeriesReader.hxx, line 478\n",
      "ImageSeriesReader (0x10239b8e0): Non uniform sampling or missing slices detected,  maximum nonuniformity:0.000288596\n",
      "\n"
     ]
    },
    {
     "name": "stdout",
     "output_type": "stream",
     "text": [
      "60016512804CAX transformation finished\n",
      "60016512804CAX transformation finished\n"
     ]
    },
    {
     "name": "stderr",
     "output_type": "stream",
     "text": [
      "WARNING: In /tmp/SimpleITK-build/ITK-prefix/include/ITK-5.3/itkImageSeriesReader.hxx, line 478\n",
      "ImageSeriesReader (0x105ce2a90): Non uniform sampling or missing slices detected,  maximum nonuniformity:0.000288596\n",
      "\n"
     ]
    },
    {
     "name": "stdout",
     "output_type": "stream",
     "text": [
      "60016512804CAX transformation finished\n"
     ]
    },
    {
     "name": "stderr",
     "output_type": "stream",
     "text": [
      "WARNING: In /tmp/SimpleITK-build/ITK-prefix/include/ITK-5.3/itkImageSeriesReader.hxx, line 478\n",
      "ImageSeriesReader (0x105ce2a90): Non uniform sampling or missing slices detected,  maximum nonuniformity:0.000288596\n",
      "\n"
     ]
    },
    {
     "name": "stdout",
     "output_type": "stream",
     "text": [
      "60016512804CAX transformation finished\n"
     ]
    },
    {
     "name": "stderr",
     "output_type": "stream",
     "text": [
      "WARNING: In /tmp/SimpleITK-build/ITK-prefix/include/ITK-5.3/itkImageSeriesReader.hxx, line 478\n",
      "ImageSeriesReader (0x10239b8e0): Non uniform sampling or missing slices detected,  maximum nonuniformity:0.000288596\n",
      "\n"
     ]
    },
    {
     "name": "stdout",
     "output_type": "stream",
     "text": [
      "60016512804CAX transformation finished\n"
     ]
    },
    {
     "name": "stderr",
     "output_type": "stream",
     "text": [
      "WARNING: In /tmp/SimpleITK-build/ITK-prefix/include/ITK-5.3/itkImageSeriesReader.hxx, line 478\n",
      "ImageSeriesReader (0x3103e43c0): Non uniform sampling or missing slices detected,  maximum nonuniformity:0.000288596\n",
      "\n"
     ]
    },
    {
     "name": "stdout",
     "output_type": "stream",
     "text": [
      "60016512804CAX transformation finished\n"
     ]
    },
    {
     "name": "stderr",
     "output_type": "stream",
     "text": [
      "WARNING: In /tmp/SimpleITK-build/ITK-prefix/include/ITK-5.3/itkImageSeriesReader.hxx, line 478\n",
      "ImageSeriesReader (0x105ce2a90): Non uniform sampling or missing slices detected,  maximum nonuniformity:0.000288596\n",
      "\n"
     ]
    },
    {
     "name": "stdout",
     "output_type": "stream",
     "text": [
      "60016512804CAX transformation finished\n"
     ]
    },
    {
     "name": "stderr",
     "output_type": "stream",
     "text": [
      "WARNING: In /tmp/SimpleITK-build/ITK-prefix/include/ITK-5.3/itkImageSeriesReader.hxx, line 478\n",
      "ImageSeriesReader (0x1023ee170): Non uniform sampling or missing slices detected,  maximum nonuniformity:0.000288596\n",
      "\n"
     ]
    },
    {
     "name": "stdout",
     "output_type": "stream",
     "text": [
      "60016512804CAX transformation finished\n"
     ]
    },
    {
     "name": "stderr",
     "output_type": "stream",
     "text": [
      "WARNING: In /tmp/SimpleITK-build/ITK-prefix/include/ITK-5.3/itkImageSeriesReader.hxx, line 478\n",
      "ImageSeriesReader (0x1023ee170): Non uniform sampling or missing slices detected,  maximum nonuniformity:0.000288596\n",
      "\n"
     ]
    },
    {
     "name": "stdout",
     "output_type": "stream",
     "text": [
      "60016512804CAX transformation finished\n"
     ]
    },
    {
     "name": "stderr",
     "output_type": "stream",
     "text": [
      "WARNING: In /tmp/SimpleITK-build/ITK-prefix/include/ITK-5.3/itkImageSeriesReader.hxx, line 478\n",
      "ImageSeriesReader (0x10239ccb0): Non uniform sampling or missing slices detected,  maximum nonuniformity:0.000288596\n",
      "\n"
     ]
    },
    {
     "name": "stdout",
     "output_type": "stream",
     "text": [
      "60016512804CAX transformation finished\n",
      "60016512804CAX transformation finished\n",
      "60016512804CAX transformation finished\n",
      "60016512804CAX transformation finished\n",
      "60016512804CAX transformation finished\n",
      "60016512804CAX transformation finished\n",
      "60016512804CAX transformation finished\n",
      "Skipped processing folder /Volumes/MR_analysis/MRCP_DICOM/60016512804CAX/SE4 due to insufficient DICOM files (<5).\n"
     ]
    },
    {
     "name": "stderr",
     "output_type": "stream",
     "text": [
      "WARNING: In /tmp/SimpleITK-build/ITK-prefix/include/ITK-5.3/itkImageSeriesReader.hxx, line 478\n",
      "ImageSeriesReader (0x31032b6d0): Non uniform sampling or missing slices detected,  maximum nonuniformity:0.000260537\n",
      "\n"
     ]
    },
    {
     "name": "stdout",
     "output_type": "stream",
     "text": [
      "60016512804CAX transformation finished\n",
      "60016512804CAX transformation finished\n"
     ]
    },
    {
     "name": "stderr",
     "output_type": "stream",
     "text": [
      "WARNING: In /tmp/SimpleITK-build/ITK-prefix/include/ITK-5.3/itkImageSeriesReader.hxx, line 478\n",
      "ImageSeriesReader (0x105cc2bd0): Non uniform sampling or missing slices detected,  maximum nonuniformity:280.558\n",
      "\n",
      "WARNING: In /tmp/SimpleITK-build/ITK-prefix/include/ITK-5.3/itkImageSeriesReader.hxx, line 478\n",
      "ImageSeriesReader (0x105cb5830): Non uniform sampling or missing slices detected,  maximum nonuniformity:323.24\n",
      "\n"
     ]
    },
    {
     "name": "stdout",
     "output_type": "stream",
     "text": [
      "60016512804CAX transformation finished\n"
     ]
    },
    {
     "name": "stderr",
     "output_type": "stream",
     "text": [
      "WARNING: In /tmp/SimpleITK-build/ITK-prefix/include/ITK-5.3/itkImageSeriesReader.hxx, line 478\n",
      "ImageSeriesReader (0x105ce2a90): Non uniform sampling or missing slices detected,  maximum nonuniformity:0.000323509\n",
      "\n"
     ]
    },
    {
     "name": "stdout",
     "output_type": "stream",
     "text": [
      "60016512804CAX transformation finished\n",
      "Skipped processing folder /Volumes/MR_analysis/MRCP_DICOM/60016512804CAX/SE32 due to insufficient DICOM files (<5).\n",
      "60016512804CAX transformation finished\n"
     ]
    },
    {
     "name": "stderr",
     "output_type": "stream",
     "text": [
      "WARNING: In /tmp/SimpleITK-build/ITK-prefix/include/ITK-5.3/itkImageSeriesReader.hxx, line 478\n",
      "ImageSeriesReader (0x105ce2a90): Non uniform sampling or missing slices detected,  maximum nonuniformity:280.558\n",
      "\n",
      "WARNING: In /tmp/SimpleITK-build/ITK-prefix/include/ITK-5.3/itkImageSeriesReader.hxx, line 478\n",
      "ImageSeriesReader (0x102388590): Non uniform sampling or missing slices detected,  maximum nonuniformity:328.153\n",
      "\n"
     ]
    },
    {
     "name": "stdout",
     "output_type": "stream",
     "text": [
      "60016512804CAX transformation finished\n"
     ]
    },
    {
     "name": "stderr",
     "output_type": "stream",
     "text": [
      "WARNING: In /tmp/SimpleITK-build/ITK-prefix/include/ITK-5.3/itkImageSeriesReader.hxx, line 478\n",
      "ImageSeriesReader (0x105ce72a0): Non uniform sampling or missing slices detected,  maximum nonuniformity:0.000288596\n",
      "\n"
     ]
    },
    {
     "name": "stdout",
     "output_type": "stream",
     "text": [
      "60016512804CAX transformation finished\n"
     ]
    },
    {
     "name": "stderr",
     "output_type": "stream",
     "text": [
      "WARNING: In /tmp/SimpleITK-build/ITK-prefix/include/ITK-5.3/itkImageSeriesReader.hxx, line 478\n",
      "ImageSeriesReader (0x10239b8e0): Non uniform sampling or missing slices detected,  maximum nonuniformity:0.000288596\n",
      "\n"
     ]
    },
    {
     "name": "stdout",
     "output_type": "stream",
     "text": [
      "60016512804CAX transformation finished\n"
     ]
    },
    {
     "name": "stderr",
     "output_type": "stream",
     "text": [
      "WARNING: In /tmp/SimpleITK-build/ITK-prefix/include/ITK-5.3/itkImageSeriesReader.hxx, line 478\n",
      "ImageSeriesReader (0x10239b8e0): Non uniform sampling or missing slices detected,  maximum nonuniformity:0.000288596\n",
      "\n"
     ]
    },
    {
     "name": "stdout",
     "output_type": "stream",
     "text": [
      "60016512804CAX transformation finished\n",
      "60016512804CAX transformation finished\n"
     ]
    },
    {
     "name": "stderr",
     "output_type": "stream",
     "text": [
      "WARNING: In /tmp/SimpleITK-build/ITK-prefix/include/ITK-5.3/itkImageSeriesReader.hxx, line 478\n",
      "ImageSeriesReader (0x1023b5930): Non uniform sampling or missing slices detected,  maximum nonuniformity:0.000288596\n",
      "\n"
     ]
    },
    {
     "name": "stdout",
     "output_type": "stream",
     "text": [
      "60016512804CAX transformation finished\n"
     ]
    },
    {
     "name": "stderr",
     "output_type": "stream",
     "text": [
      "WARNING: In /tmp/SimpleITK-build/ITK-prefix/include/ITK-5.3/itkImageSeriesReader.hxx, line 478\n",
      "ImageSeriesReader (0x1023e73c0): Non uniform sampling or missing slices detected,  maximum nonuniformity:337.371\n",
      "\n"
     ]
    },
    {
     "name": "stdout",
     "output_type": "stream",
     "text": [
      "60016516046CQB transformation finished\n"
     ]
    },
    {
     "name": "stderr",
     "output_type": "stream",
     "text": [
      "WARNING: In /tmp/SimpleITK-build/ITK-prefix/include/ITK-5.3/itkImageSeriesReader.hxx, line 478\n",
      "ImageSeriesReader (0x1023979a0): Non uniform sampling or missing slices detected,  maximum nonuniformity:543.784\n",
      "\n"
     ]
    },
    {
     "name": "stdout",
     "output_type": "stream",
     "text": [
      "60016516046CQB transformation finished\n"
     ]
    },
    {
     "name": "stderr",
     "output_type": "stream",
     "text": [
      "WARNING: In /tmp/SimpleITK-build/ITK-prefix/include/ITK-5.3/itkImageSeriesReader.hxx, line 478\n",
      "ImageSeriesReader (0x1023e5c60): Non uniform sampling or missing slices detected,  maximum nonuniformity:269.545\n",
      "\n"
     ]
    },
    {
     "name": "stdout",
     "output_type": "stream",
     "text": [
      "60016516046CQB transformation finished\n",
      "60016516046CQB transformation finished\n",
      "60016516046CQB transformation finished\n",
      "60016516046CQB transformation finished\n",
      "60016516046CQB transformation finished\n"
     ]
    },
    {
     "name": "stderr",
     "output_type": "stream",
     "text": [
      "WARNING: In /tmp/SimpleITK-build/ITK-prefix/include/ITK-5.3/itkImageSeriesReader.hxx, line 478\n",
      "ImageSeriesReader (0x1023979a0): Non uniform sampling or missing slices detected,  maximum nonuniformity:328.153\n",
      "\n",
      "WARNING: In /tmp/SimpleITK-build/ITK-prefix/include/ITK-5.3/itkImageSeriesReader.hxx, line 478\n",
      "ImageSeriesReader (0x105cb5830): Non uniform sampling or missing slices detected,  maximum nonuniformity:0.000896742\n",
      "\n"
     ]
    },
    {
     "name": "stdout",
     "output_type": "stream",
     "text": [
      "60016516046CQB transformation finished\n",
      "60016516046CQB transformation finished\n",
      "Skipped processing folder /Volumes/MR_analysis/MRCP_DICOM/60016516046CQB/SE53 due to insufficient DICOM files (<5).\n"
     ]
    },
    {
     "name": "stderr",
     "output_type": "stream",
     "text": [
      "WARNING: In /tmp/SimpleITK-build/ITK-prefix/include/ITK-5.3/itkImageSeriesReader.hxx, line 478\n",
      "ImageSeriesReader (0x105cf7670): Non uniform sampling or missing slices detected,  maximum nonuniformity:280.558\n",
      "\n",
      "WARNING: In /tmp/SimpleITK-build/ITK-prefix/include/ITK-5.3/itkImageSeriesReader.hxx, line 478\n",
      "ImageSeriesReader (0x105cf7670): Non uniform sampling or missing slices detected,  maximum nonuniformity:83.5648\n",
      "\n"
     ]
    },
    {
     "name": "stdout",
     "output_type": "stream",
     "text": [
      "60016516046CQB transformation finished\n"
     ]
    },
    {
     "name": "stderr",
     "output_type": "stream",
     "text": [
      "WARNING: In /tmp/SimpleITK-build/ITK-prefix/include/ITK-5.3/itkImageSeriesReader.hxx, line 478\n",
      "ImageSeriesReader (0x105cc2bd0): Non uniform sampling or missing slices detected,  maximum nonuniformity:0.00109042\n",
      "\n"
     ]
    },
    {
     "name": "stdout",
     "output_type": "stream",
     "text": [
      "60016516046CQB transformation finished\n",
      "Skipped processing folder /Volumes/MR_analysis/MRCP_DICOM/60016516046CQB/SE32 due to insufficient DICOM files (<5).\n",
      "60016516046CQB transformation finished\n"
     ]
    },
    {
     "name": "stderr",
     "output_type": "stream",
     "text": [
      "WARNING: In /tmp/SimpleITK-build/ITK-prefix/include/ITK-5.3/itkImageSeriesReader.hxx, line 478\n",
      "ImageSeriesReader (0x105cb5830): Non uniform sampling or missing slices detected,  maximum nonuniformity:145.064\n",
      "\n"
     ]
    },
    {
     "name": "stdout",
     "output_type": "stream",
     "text": [
      "60016516046CQB transformation finished\n"
     ]
    },
    {
     "name": "stderr",
     "output_type": "stream",
     "text": [
      "WARNING: In /tmp/SimpleITK-build/ITK-prefix/include/ITK-5.3/itkImageSeriesReader.hxx, line 478\n",
      "ImageSeriesReader (0x3103e0680): Non uniform sampling or missing slices detected,  maximum nonuniformity:0.000939536\n",
      "\n"
     ]
    },
    {
     "name": "stdout",
     "output_type": "stream",
     "text": [
      "60016516046CQB transformation finished\n",
      "60016516046CQB transformation finished\n"
     ]
    },
    {
     "name": "stderr",
     "output_type": "stream",
     "text": [
      "WARNING: In /tmp/SimpleITK-build/ITK-prefix/include/ITK-5.3/itkImageSeriesReader.hxx, line 478\n",
      "ImageSeriesReader (0x105cc2bd0): Non uniform sampling or missing slices detected,  maximum nonuniformity:0.000939536\n",
      "\n"
     ]
    },
    {
     "name": "stdout",
     "output_type": "stream",
     "text": [
      "60016516046CQB transformation finished\n"
     ]
    },
    {
     "name": "stderr",
     "output_type": "stream",
     "text": [
      "WARNING: In /tmp/SimpleITK-build/ITK-prefix/include/ITK-5.3/itkImageSeriesReader.hxx, line 478\n",
      "ImageSeriesReader (0x310393b60): Non uniform sampling or missing slices detected,  maximum nonuniformity:0.000939536\n",
      "\n"
     ]
    },
    {
     "name": "stdout",
     "output_type": "stream",
     "text": [
      "60016516046CQB transformation finished\n"
     ]
    },
    {
     "name": "stderr",
     "output_type": "stream",
     "text": [
      "WARNING: In /tmp/SimpleITK-build/ITK-prefix/include/ITK-5.3/itkImageSeriesReader.hxx, line 478\n",
      "ImageSeriesReader (0x31032c2e0): Non uniform sampling or missing slices detected,  maximum nonuniformity:0.000939536\n",
      "\n"
     ]
    },
    {
     "name": "stdout",
     "output_type": "stream",
     "text": [
      "60016516046CQB transformation finished\n",
      "60016516046CQB transformation finished\n"
     ]
    },
    {
     "name": "stderr",
     "output_type": "stream",
     "text": [
      "WARNING: In /tmp/SimpleITK-build/ITK-prefix/include/ITK-5.3/itkImageSeriesReader.hxx, line 478\n",
      "ImageSeriesReader (0x3103e0680): Non uniform sampling or missing slices detected,  maximum nonuniformity:0.000939536\n",
      "\n"
     ]
    },
    {
     "name": "stdout",
     "output_type": "stream",
     "text": [
      "60016516046CQB transformation finished\n"
     ]
    },
    {
     "name": "stderr",
     "output_type": "stream",
     "text": [
      "WARNING: In /tmp/SimpleITK-build/ITK-prefix/include/ITK-5.3/itkImageSeriesReader.hxx, line 478\n",
      "ImageSeriesReader (0x1023e79d0): Non uniform sampling or missing slices detected,  maximum nonuniformity:0.000939536\n",
      "\n"
     ]
    },
    {
     "name": "stdout",
     "output_type": "stream",
     "text": [
      "60016516046CQB transformation finished\n"
     ]
    },
    {
     "name": "stderr",
     "output_type": "stream",
     "text": [
      "WARNING: In /tmp/SimpleITK-build/ITK-prefix/include/ITK-5.3/itkImageSeriesReader.hxx, line 478\n",
      "ImageSeriesReader (0x10239b8e0): Non uniform sampling or missing slices detected,  maximum nonuniformity:0.000939536\n",
      "\n"
     ]
    },
    {
     "name": "stdout",
     "output_type": "stream",
     "text": [
      "60016516046CQB transformation finished\n"
     ]
    },
    {
     "name": "stderr",
     "output_type": "stream",
     "text": [
      "WARNING: In /tmp/SimpleITK-build/ITK-prefix/include/ITK-5.3/itkImageSeriesReader.hxx, line 478\n",
      "ImageSeriesReader (0x10239b8e0): Non uniform sampling or missing slices detected,  maximum nonuniformity:0.000939536\n",
      "\n"
     ]
    },
    {
     "name": "stdout",
     "output_type": "stream",
     "text": [
      "60016516046CQB transformation finished\n"
     ]
    },
    {
     "name": "stderr",
     "output_type": "stream",
     "text": [
      "WARNING: In /tmp/SimpleITK-build/ITK-prefix/include/ITK-5.3/itkImageSeriesReader.hxx, line 478\n",
      "ImageSeriesReader (0x1023bc7b0): Non uniform sampling or missing slices detected,  maximum nonuniformity:0.000939536\n",
      "\n"
     ]
    },
    {
     "name": "stdout",
     "output_type": "stream",
     "text": [
      "60016516046CQB transformation finished\n"
     ]
    },
    {
     "name": "stderr",
     "output_type": "stream",
     "text": [
      "WARNING: In /tmp/SimpleITK-build/ITK-prefix/include/ITK-5.3/itkImageSeriesReader.hxx, line 478\n",
      "ImageSeriesReader (0x1023e73c0): Non uniform sampling or missing slices detected,  maximum nonuniformity:0.000939536\n",
      "\n"
     ]
    },
    {
     "name": "stdout",
     "output_type": "stream",
     "text": [
      "60016516046CQB transformation finished\n",
      "60016516046CQB transformation finished\n"
     ]
    },
    {
     "name": "stderr",
     "output_type": "stream",
     "text": [
      "WARNING: In /tmp/SimpleITK-build/ITK-prefix/include/ITK-5.3/itkImageSeriesReader.hxx, line 478\n",
      "ImageSeriesReader (0x3103e0680): Non uniform sampling or missing slices detected,  maximum nonuniformity:0.000939536\n",
      "\n"
     ]
    },
    {
     "name": "stdout",
     "output_type": "stream",
     "text": [
      "60016516046CQB transformation finished\n"
     ]
    },
    {
     "name": "stderr",
     "output_type": "stream",
     "text": [
      "WARNING: In /tmp/SimpleITK-build/ITK-prefix/include/ITK-5.3/itkImageSeriesReader.hxx, line 478\n",
      "ImageSeriesReader (0x3103d7ed0): Non uniform sampling or missing slices detected,  maximum nonuniformity:0.000939536\n",
      "\n"
     ]
    },
    {
     "name": "stdout",
     "output_type": "stream",
     "text": [
      "60016516046CQB transformation finished\n"
     ]
    },
    {
     "name": "stderr",
     "output_type": "stream",
     "text": [
      "WARNING: In /tmp/SimpleITK-build/ITK-prefix/include/ITK-5.3/itkImageSeriesReader.hxx, line 478\n",
      "ImageSeriesReader (0x1023b5930): Non uniform sampling or missing slices detected,  maximum nonuniformity:0.000939536\n",
      "\n"
     ]
    },
    {
     "name": "stdout",
     "output_type": "stream",
     "text": [
      "60016516046CQB transformation finished\n"
     ]
    },
    {
     "name": "stderr",
     "output_type": "stream",
     "text": [
      "WARNING: In /tmp/SimpleITK-build/ITK-prefix/include/ITK-5.3/itkImageSeriesReader.hxx, line 478\n",
      "ImageSeriesReader (0x105cb5830): Non uniform sampling or missing slices detected,  maximum nonuniformity:0.000939536\n",
      "\n"
     ]
    },
    {
     "name": "stdout",
     "output_type": "stream",
     "text": [
      "60016516046CQB transformation finished\n"
     ]
    },
    {
     "name": "stderr",
     "output_type": "stream",
     "text": [
      "WARNING: In /tmp/SimpleITK-build/ITK-prefix/include/ITK-5.3/itkImageSeriesReader.hxx, line 478\n",
      "ImageSeriesReader (0x3103973b0): Non uniform sampling or missing slices detected,  maximum nonuniformity:0.000939536\n",
      "\n"
     ]
    },
    {
     "name": "stdout",
     "output_type": "stream",
     "text": [
      "60016516046CQB transformation finished\n",
      "60016516046CQB transformation finished\n"
     ]
    },
    {
     "name": "stderr",
     "output_type": "stream",
     "text": [
      "WARNING: In /tmp/SimpleITK-build/ITK-prefix/include/ITK-5.3/itkImageSeriesReader.hxx, line 478\n",
      "ImageSeriesReader (0x102388590): Non uniform sampling or missing slices detected,  maximum nonuniformity:0.000939536\n",
      "\n"
     ]
    },
    {
     "name": "stdout",
     "output_type": "stream",
     "text": [
      "60016516046CQB transformation finished\n"
     ]
    },
    {
     "name": "stderr",
     "output_type": "stream",
     "text": [
      "WARNING: In /tmp/SimpleITK-build/ITK-prefix/include/ITK-5.3/itkImageSeriesReader.hxx, line 478\n",
      "ImageSeriesReader (0x105cc2bd0): Non uniform sampling or missing slices detected,  maximum nonuniformity:0.000406719\n",
      "\n"
     ]
    },
    {
     "name": "stdout",
     "output_type": "stream",
     "text": [
      "60016516046CQB transformation finished\n"
     ]
    },
    {
     "name": "stderr",
     "output_type": "stream",
     "text": [
      "WARNING: In /tmp/SimpleITK-build/ITK-prefix/include/ITK-5.3/itkImageSeriesReader.hxx, line 478\n",
      "ImageSeriesReader (0x1023f7890): Non uniform sampling or missing slices detected,  maximum nonuniformity:0.000406719\n",
      "\n"
     ]
    },
    {
     "name": "stdout",
     "output_type": "stream",
     "text": [
      "60016516046CQB transformation finished\n"
     ]
    },
    {
     "name": "stderr",
     "output_type": "stream",
     "text": [
      "WARNING: In /tmp/SimpleITK-build/ITK-prefix/include/ITK-5.3/itkImageSeriesReader.hxx, line 478\n",
      "ImageSeriesReader (0x1023ee170): Non uniform sampling or missing slices detected,  maximum nonuniformity:0.000406719\n",
      "\n"
     ]
    },
    {
     "name": "stdout",
     "output_type": "stream",
     "text": [
      "60016516046CQB transformation finished\n"
     ]
    },
    {
     "name": "stderr",
     "output_type": "stream",
     "text": [
      "WARNING: In /tmp/SimpleITK-build/ITK-prefix/include/ITK-5.3/itkImageSeriesReader.hxx, line 478\n",
      "ImageSeriesReader (0x1023f7890): Non uniform sampling or missing slices detected,  maximum nonuniformity:0.000406719\n",
      "\n"
     ]
    },
    {
     "name": "stdout",
     "output_type": "stream",
     "text": [
      "60016516046CQB transformation finished\n",
      "60016516046CQB transformation finished\n"
     ]
    },
    {
     "name": "stderr",
     "output_type": "stream",
     "text": [
      "WARNING: In /tmp/SimpleITK-build/ITK-prefix/include/ITK-5.3/itkImageSeriesReader.hxx, line 478\n",
      "ImageSeriesReader (0x102388590): Non uniform sampling or missing slices detected,  maximum nonuniformity:0.000939536\n",
      "\n"
     ]
    },
    {
     "name": "stdout",
     "output_type": "stream",
     "text": [
      "60016516046CQB transformation finished\n",
      "60016516046CQB transformation finished\n"
     ]
    },
    {
     "name": "stderr",
     "output_type": "stream",
     "text": [
      "WARNING: In /tmp/SimpleITK-build/ITK-prefix/include/ITK-5.3/itkImageSeriesReader.hxx, line 478\n",
      "ImageSeriesReader (0x10239bee0): Non uniform sampling or missing slices detected,  maximum nonuniformity:0.000939536\n",
      "\n"
     ]
    },
    {
     "name": "stdout",
     "output_type": "stream",
     "text": [
      "60016516046CQB transformation finished\n"
     ]
    },
    {
     "name": "stderr",
     "output_type": "stream",
     "text": [
      "WARNING: In /tmp/SimpleITK-build/ITK-prefix/include/ITK-5.3/itkImageSeriesReader.hxx, line 478\n",
      "ImageSeriesReader (0x105ce2a90): Non uniform sampling or missing slices detected,  maximum nonuniformity:0.000939536\n",
      "\n"
     ]
    },
    {
     "name": "stdout",
     "output_type": "stream",
     "text": [
      "60016516046CQB transformation finished\n"
     ]
    },
    {
     "name": "stderr",
     "output_type": "stream",
     "text": [
      "WARNING: In /tmp/SimpleITK-build/ITK-prefix/include/ITK-5.3/itkImageSeriesReader.hxx, line 478\n",
      "ImageSeriesReader (0x105ff47d0): Non uniform sampling or missing slices detected,  maximum nonuniformity:0.000939536\n",
      "\n"
     ]
    },
    {
     "name": "stdout",
     "output_type": "stream",
     "text": [
      "60016516046CQB transformation finished\n"
     ]
    },
    {
     "name": "stderr",
     "output_type": "stream",
     "text": [
      "WARNING: In /tmp/SimpleITK-build/ITK-prefix/include/ITK-5.3/itkImageSeriesReader.hxx, line 478\n",
      "ImageSeriesReader (0x105cb5830): Non uniform sampling or missing slices detected,  maximum nonuniformity:269.545\n",
      "\n"
     ]
    },
    {
     "name": "stdout",
     "output_type": "stream",
     "text": [
      "60016516046CQB transformation finished\n",
      "Skipped processing folder /Volumes/MR_analysis/MRCP_DICOM/60016516046CQB/SE1 due to insufficient DICOM files (<5).\n"
     ]
    },
    {
     "name": "stderr",
     "output_type": "stream",
     "text": [
      "WARNING: In /tmp/SimpleITK-build/ITK-prefix/include/ITK-5.3/itkImageSeriesReader.hxx, line 478\n",
      "ImageSeriesReader (0x3103973b0): Non uniform sampling or missing slices detected,  maximum nonuniformity:0.000896742\n",
      "\n"
     ]
    },
    {
     "name": "stdout",
     "output_type": "stream",
     "text": [
      "60016516046CQB transformation finished\n",
      "60016516046CQB transformation finished\n"
     ]
    },
    {
     "name": "stderr",
     "output_type": "stream",
     "text": [
      "WARNING: In /tmp/SimpleITK-build/ITK-prefix/include/ITK-5.3/itkImageSeriesReader.hxx, line 478\n",
      "ImageSeriesReader (0x105ce2a90): Non uniform sampling or missing slices detected,  maximum nonuniformity:328.153\n",
      "\n",
      "WARNING: In /tmp/SimpleITK-build/ITK-prefix/include/ITK-5.3/itkImageSeriesReader.hxx, line 478\n",
      "ImageSeriesReader (0x105cf7670): Non uniform sampling or missing slices detected,  maximum nonuniformity:280.558\n",
      "\n"
     ]
    },
    {
     "name": "stdout",
     "output_type": "stream",
     "text": [
      "60016516046CQB transformation finished\n",
      "60016516046CQB transformation finished\n",
      "60016516046CQB transformation finished\n",
      "Skipped processing folder /Volumes/MR_analysis/MRCP_DICOM/60016516046CQB/SE11 due to insufficient DICOM files (<5).\n"
     ]
    },
    {
     "name": "stderr",
     "output_type": "stream",
     "text": [
      "WARNING: In /tmp/SimpleITK-build/ITK-prefix/include/ITK-5.3/itkImageSeriesReader.hxx, line 478\n",
      "ImageSeriesReader (0x105cf7670): Non uniform sampling or missing slices detected,  maximum nonuniformity:0.00109042\n",
      "\n"
     ]
    },
    {
     "name": "stdout",
     "output_type": "stream",
     "text": [
      "60016516046CQB transformation finished\n",
      "60016516046CQB transformation finished\n"
     ]
    },
    {
     "name": "stderr",
     "output_type": "stream",
     "text": [
      "WARNING: In /tmp/SimpleITK-build/ITK-prefix/include/ITK-5.3/itkImageSeriesReader.hxx, line 478\n",
      "ImageSeriesReader (0x105cf7670): Non uniform sampling or missing slices detected,  maximum nonuniformity:196.364\n",
      "\n",
      "WARNING: In /tmp/SimpleITK-build/ITK-prefix/include/ITK-5.3/itkImageSeriesReader.hxx, line 478\n",
      "ImageSeriesReader (0x105cefe40): Non uniform sampling or missing slices detected,  maximum nonuniformity:328.153\n",
      "\n"
     ]
    },
    {
     "name": "stdout",
     "output_type": "stream",
     "text": [
      "60016516046CQB transformation finished\n"
     ]
    },
    {
     "name": "stderr",
     "output_type": "stream",
     "text": [
      "WARNING: In /tmp/SimpleITK-build/ITK-prefix/include/ITK-5.3/itkImageSeriesReader.hxx, line 478\n",
      "ImageSeriesReader (0x1023b5930): Non uniform sampling or missing slices detected,  maximum nonuniformity:0.000939536\n",
      "\n"
     ]
    },
    {
     "name": "stdout",
     "output_type": "stream",
     "text": [
      "60016516046CQB transformation finished\n"
     ]
    },
    {
     "name": "stderr",
     "output_type": "stream",
     "text": [
      "WARNING: In /tmp/SimpleITK-build/ITK-prefix/include/ITK-5.3/itkImageSeriesReader.hxx, line 478\n",
      "ImageSeriesReader (0x1023bf860): Non uniform sampling or missing slices detected,  maximum nonuniformity:0.000939536\n",
      "\n"
     ]
    },
    {
     "name": "stdout",
     "output_type": "stream",
     "text": [
      "60016516046CQB transformation finished\n"
     ]
    },
    {
     "name": "stderr",
     "output_type": "stream",
     "text": [
      "WARNING: In /tmp/SimpleITK-build/ITK-prefix/include/ITK-5.3/itkImageSeriesReader.hxx, line 478\n",
      "ImageSeriesReader (0x10239b8e0): Non uniform sampling or missing slices detected,  maximum nonuniformity:0.000939536\n",
      "\n"
     ]
    },
    {
     "name": "stdout",
     "output_type": "stream",
     "text": [
      "60016516046CQB transformation finished\n",
      "60016516046CQB transformation finished\n"
     ]
    },
    {
     "name": "stderr",
     "output_type": "stream",
     "text": [
      "WARNING: In /tmp/SimpleITK-build/ITK-prefix/include/ITK-5.3/itkImageSeriesReader.hxx, line 478\n",
      "ImageSeriesReader (0x12078fa90): Non uniform sampling or missing slices detected,  maximum nonuniformity:0.000939536\n",
      "\n"
     ]
    },
    {
     "name": "stdout",
     "output_type": "stream",
     "text": [
      "60016516046CQB transformation finished\n"
     ]
    },
    {
     "name": "stderr",
     "output_type": "stream",
     "text": [
      "WARNING: In /tmp/SimpleITK-build/ITK-prefix/include/ITK-5.3/itkImageSeriesReader.hxx, line 478\n",
      "ImageSeriesReader (0x1023e1ac0): Non uniform sampling or missing slices detected,  maximum nonuniformity:337.371\n",
      "\n"
     ]
    },
    {
     "name": "stdout",
     "output_type": "stream",
     "text": [
      "1002127232WHM transformation finished\n"
     ]
    },
    {
     "name": "stderr",
     "output_type": "stream",
     "text": [
      "WARNING: In /tmp/SimpleITK-build/ITK-prefix/include/ITK-5.3/itkImageSeriesReader.hxx, line 478\n",
      "ImageSeriesReader (0x1023b47f0): Non uniform sampling or missing slices detected,  maximum nonuniformity:543.784\n",
      "\n"
     ]
    },
    {
     "name": "stdout",
     "output_type": "stream",
     "text": [
      "1002127232WHM transformation finished\n",
      "1002127232WHM transformation finished\n",
      "1002127232WHM transformation finished\n"
     ]
    },
    {
     "name": "stderr",
     "output_type": "stream",
     "text": [
      "WARNING: In /tmp/SimpleITK-build/ITK-prefix/include/ITK-5.3/itkImageSeriesReader.hxx, line 478\n",
      "ImageSeriesReader (0x1023b47f0): Non uniform sampling or missing slices detected,  maximum nonuniformity:145.8\n",
      "\n"
     ]
    },
    {
     "name": "stdout",
     "output_type": "stream",
     "text": [
      "1002127232WHM transformation finished\n",
      "1002127232WHM transformation finished\n",
      "1002127232WHM transformation finished\n",
      "1002127232WHM transformation finished\n",
      "1002127232WHM transformation finished\n",
      "1002127232WHM transformation finished\n"
     ]
    },
    {
     "name": "stderr",
     "output_type": "stream",
     "text": [
      "WARNING: In /tmp/SimpleITK-build/ITK-prefix/include/ITK-5.3/itkImageSeriesReader.hxx, line 478\n",
      "ImageSeriesReader (0x310398640): Non uniform sampling or missing slices detected,  maximum nonuniformity:0.00014863\n",
      "\n"
     ]
    },
    {
     "name": "stdout",
     "output_type": "stream",
     "text": [
      "1002127232WHM transformation finished\n",
      "1002127232WHM transformation finished\n",
      "Skipped processing folder /Volumes/MR_analysis/MRCP_DICOM/1002127232WHM/SE35 due to insufficient DICOM files (<5).\n"
     ]
    },
    {
     "name": "stderr",
     "output_type": "stream",
     "text": [
      "WARNING: In /tmp/SimpleITK-build/ITK-prefix/include/ITK-5.3/itkImageSeriesReader.hxx, line 478\n",
      "ImageSeriesReader (0x105cf7670): Non uniform sampling or missing slices detected,  maximum nonuniformity:39.3043\n",
      "\n",
      "WARNING: In /tmp/SimpleITK-build/ITK-prefix/include/ITK-5.3/itkImageSeriesReader.hxx, line 478\n",
      "ImageSeriesReader (0x105cc2bd0): Non uniform sampling or missing slices detected,  maximum nonuniformity:328.16\n",
      "\n"
     ]
    },
    {
     "name": "stdout",
     "output_type": "stream",
     "text": [
      "1002127232WHM transformation finished\n",
      "Skipped processing folder /Volumes/MR_analysis/MRCP_DICOM/1002127232WHM/SE18 due to insufficient DICOM files (<5).\n",
      "1002127232WHM transformation finished\n"
     ]
    },
    {
     "name": "stderr",
     "output_type": "stream",
     "text": [
      "WARNING: In /tmp/SimpleITK-build/ITK-prefix/include/ITK-5.3/itkImageSeriesReader.hxx, line 478\n",
      "ImageSeriesReader (0x105cfba60): Non uniform sampling or missing slices detected,  maximum nonuniformity:328.154\n",
      "\n",
      "WARNING: In /tmp/SimpleITK-build/ITK-prefix/include/ITK-5.3/itkImageSeriesReader.hxx, line 478\n",
      "ImageSeriesReader (0x10239b8e0): Non uniform sampling or missing slices detected,  maximum nonuniformity:280.558\n",
      "\n"
     ]
    },
    {
     "name": "stdout",
     "output_type": "stream",
     "text": [
      "1002127232WHM transformation finished\n",
      "1002127232WHM transformation finished\n"
     ]
    },
    {
     "name": "stderr",
     "output_type": "stream",
     "text": [
      "WARNING: In /tmp/SimpleITK-build/ITK-prefix/include/ITK-5.3/itkImageSeriesReader.hxx, line 478\n",
      "ImageSeriesReader (0x105cb5830): Non uniform sampling or missing slices detected,  maximum nonuniformity:0.000741718\n",
      "\n"
     ]
    },
    {
     "name": "stdout",
     "output_type": "stream",
     "text": [
      "1002127232WHM transformation finished\n",
      "1002127232WHM transformation finished\n",
      "1002127232WHM transformation finished\n",
      "1002127232WHM transformation finished\n",
      "1002127232WHM transformation finished\n",
      "1002127232WHM transformation finished\n",
      "1002127232WHM transformation finished\n",
      "1002127232WHM transformation finished\n",
      "1002127232WHM transformation finished\n",
      "1002127232WHM transformation finished\n",
      "1002127232WHM transformation finished\n",
      "1002127232WHM transformation finished\n",
      "1002127232WHM transformation finished\n",
      "1002127232WHM transformation finished\n",
      "1002127232WHM transformation finished\n",
      "1002127232WHM transformation finished\n",
      "1002127232WHM transformation finished\n",
      "1002127232WHM transformation finished\n",
      "1002127232WHM transformation finished\n",
      "1002127232WHM transformation finished\n",
      "1002127232WHM transformation finished\n"
     ]
    },
    {
     "name": "stderr",
     "output_type": "stream",
     "text": [
      "WARNING: In /tmp/SimpleITK-build/ITK-prefix/include/ITK-5.3/itkImageSeriesReader.hxx, line 478\n",
      "ImageSeriesReader (0x1023b47f0): Non uniform sampling or missing slices detected,  maximum nonuniformity:0.000874987\n",
      "\n"
     ]
    },
    {
     "name": "stdout",
     "output_type": "stream",
     "text": [
      "1002127232WHM transformation finished\n"
     ]
    },
    {
     "name": "stderr",
     "output_type": "stream",
     "text": [
      "WARNING: In /tmp/SimpleITK-build/ITK-prefix/include/ITK-5.3/itkImageSeriesReader.hxx, line 478\n",
      "ImageSeriesReader (0x1023b47f0): Non uniform sampling or missing slices detected,  maximum nonuniformity:0.000874987\n",
      "\n"
     ]
    },
    {
     "name": "stdout",
     "output_type": "stream",
     "text": [
      "1002127232WHM transformation finished\n",
      "1002127232WHM transformation finished\n"
     ]
    },
    {
     "name": "stderr",
     "output_type": "stream",
     "text": [
      "WARNING: In /tmp/SimpleITK-build/ITK-prefix/include/ITK-5.3/itkImageSeriesReader.hxx, line 478\n",
      "ImageSeriesReader (0x10239f2a0): Non uniform sampling or missing slices detected,  maximum nonuniformity:0.000874987\n",
      "\n"
     ]
    },
    {
     "name": "stdout",
     "output_type": "stream",
     "text": [
      "1002127232WHM transformation finished\n"
     ]
    },
    {
     "name": "stderr",
     "output_type": "stream",
     "text": [
      "WARNING: In /tmp/SimpleITK-build/ITK-prefix/include/ITK-5.3/itkImageSeriesReader.hxx, line 478\n",
      "ImageSeriesReader (0x105cd9330): Non uniform sampling or missing slices detected,  maximum nonuniformity:0.000874987\n",
      "\n"
     ]
    },
    {
     "name": "stdout",
     "output_type": "stream",
     "text": [
      "1002127232WHM transformation finished\n"
     ]
    },
    {
     "name": "stderr",
     "output_type": "stream",
     "text": [
      "WARNING: In /tmp/SimpleITK-build/ITK-prefix/include/ITK-5.3/itkImageSeriesReader.hxx, line 478\n",
      "ImageSeriesReader (0x105cb5830): Non uniform sampling or missing slices detected,  maximum nonuniformity:145.8\n",
      "\n",
      "WARNING: In /tmp/SimpleITK-build/ITK-prefix/include/ITK-5.3/itkImageSeriesReader.hxx, line 478\n",
      "ImageSeriesReader (0x105cc2bd0): Non uniform sampling or missing slices detected,  maximum nonuniformity:196.364\n",
      "\n"
     ]
    },
    {
     "name": "stdout",
     "output_type": "stream",
     "text": [
      "1002127232WHM transformation finished\n",
      "1002127232WHM transformation finished\n"
     ]
    },
    {
     "name": "stderr",
     "output_type": "stream",
     "text": [
      "WARNING: In /tmp/SimpleITK-build/ITK-prefix/include/ITK-5.3/itkImageSeriesReader.hxx, line 478\n",
      "ImageSeriesReader (0x105cc2bd0): Non uniform sampling or missing slices detected,  maximum nonuniformity:0.00014863\n",
      "\n"
     ]
    },
    {
     "name": "stdout",
     "output_type": "stream",
     "text": [
      "1002127232WHM transformation finished\n",
      "Skipped processing folder /Volumes/MR_analysis/MRCP_DICOM/1002127232WHM/SE44 due to insufficient DICOM files (<5).\n",
      "1002127232WHM transformation finished\n"
     ]
    },
    {
     "name": "stderr",
     "output_type": "stream",
     "text": [
      "WARNING: In /tmp/SimpleITK-build/ITK-prefix/include/ITK-5.3/itkImageSeriesReader.hxx, line 478\n",
      "ImageSeriesReader (0x1023e8b30): Non uniform sampling or missing slices detected,  maximum nonuniformity:39.3042\n",
      "\n"
     ]
    },
    {
     "name": "stdout",
     "output_type": "stream",
     "text": [
      "1002127232WHM transformation finished\n",
      "1002127232WHM transformation finished\n"
     ]
    },
    {
     "name": "stderr",
     "output_type": "stream",
     "text": [
      "WARNING: In /tmp/SimpleITK-build/ITK-prefix/include/ITK-5.3/itkImageSeriesReader.hxx, line 478\n",
      "ImageSeriesReader (0x1023b5930): Non uniform sampling or missing slices detected,  maximum nonuniformity:276.567\n",
      "\n",
      "WARNING: In /tmp/SimpleITK-build/ITK-prefix/include/ITK-5.3/itkImageSeriesReader.hxx, line 478\n",
      "ImageSeriesReader (0x102388590): Non uniform sampling or missing slices detected,  maximum nonuniformity:83.5648\n",
      "\n"
     ]
    },
    {
     "name": "stdout",
     "output_type": "stream",
     "text": [
      "1002127232WHM transformation finished\n",
      "1002127232WHM transformation finished\n",
      "Skipped processing folder /Volumes/MR_analysis/MRCP_DICOM/1002127232WHM/SE50 due to insufficient DICOM files (<5).\n",
      "1002127232WHM transformation finished\n",
      "1002127232WHM transformation finished\n",
      "1002127232WHM transformation finished\n",
      "1002127232WHM transformation finished\n",
      "1002127232WHM transformation finished\n",
      "1002127232WHM transformation finished\n"
     ]
    },
    {
     "name": "stderr",
     "output_type": "stream",
     "text": [
      "WARNING: In /tmp/SimpleITK-build/ITK-prefix/include/ITK-5.3/itkImageSeriesReader.hxx, line 478\n",
      "ImageSeriesReader (0x105ce2a90): Non uniform sampling or missing slices detected,  maximum nonuniformity:337.371\n",
      "\n"
     ]
    },
    {
     "name": "stdout",
     "output_type": "stream",
     "text": [
      "1008417805CYX transformation finished\n"
     ]
    },
    {
     "name": "stderr",
     "output_type": "stream",
     "text": [
      "WARNING: In /tmp/SimpleITK-build/ITK-prefix/include/ITK-5.3/itkImageSeriesReader.hxx, line 478\n",
      "ImageSeriesReader (0x105ce2a90): Non uniform sampling or missing slices detected,  maximum nonuniformity:543.784\n",
      "\n"
     ]
    },
    {
     "name": "stdout",
     "output_type": "stream",
     "text": [
      "1008417805CYX transformation finished\n"
     ]
    },
    {
     "name": "stderr",
     "output_type": "stream",
     "text": [
      "WARNING: In /tmp/SimpleITK-build/ITK-prefix/include/ITK-5.3/itkImageSeriesReader.hxx, line 478\n",
      "ImageSeriesReader (0x105cf7670): Non uniform sampling or missing slices detected,  maximum nonuniformity:227.552\n",
      "\n"
     ]
    },
    {
     "name": "stdout",
     "output_type": "stream",
     "text": [
      "1008417805CYX transformation finished\n"
     ]
    },
    {
     "name": "stderr",
     "output_type": "stream",
     "text": [
      "WARNING: In /tmp/SimpleITK-build/ITK-prefix/include/ITK-5.3/itkImageSeriesReader.hxx, line 478\n",
      "ImageSeriesReader (0x105cb5830): Non uniform sampling or missing slices detected,  maximum nonuniformity:0.000725353\n",
      "\n"
     ]
    },
    {
     "name": "stdout",
     "output_type": "stream",
     "text": [
      "1008417805CYX transformation finished\n",
      "1008417805CYX transformation finished\n"
     ]
    },
    {
     "name": "stderr",
     "output_type": "stream",
     "text": [
      "WARNING: In /tmp/SimpleITK-build/ITK-prefix/include/ITK-5.3/itkImageSeriesReader.hxx, line 478\n",
      "ImageSeriesReader (0x105cfd040): Non uniform sampling or missing slices detected,  maximum nonuniformity:0.000707172\n",
      "\n",
      "WARNING: In /tmp/SimpleITK-build/ITK-prefix/include/ITK-5.3/itkImageSeriesReader.hxx, line 478\n",
      "ImageSeriesReader (0x105cf7eb0): Non uniform sampling or missing slices detected,  maximum nonuniformity:0.000707172\n",
      "\n"
     ]
    },
    {
     "name": "stdout",
     "output_type": "stream",
     "text": [
      "1008417805CYX transformation finished\n"
     ]
    },
    {
     "name": "stderr",
     "output_type": "stream",
     "text": [
      "WARNING: In /tmp/SimpleITK-build/ITK-prefix/include/ITK-5.3/itkImageSeriesReader.hxx, line 478\n",
      "ImageSeriesReader (0x1023b5930): Non uniform sampling or missing slices detected,  maximum nonuniformity:0.00096787\n",
      "\n"
     ]
    },
    {
     "name": "stdout",
     "output_type": "stream",
     "text": [
      "1008417805CYX transformation finished\n",
      "Skipped processing folder /Volumes/MR_analysis/MRCP_DICOM/1008417805CYX/SE24 due to insufficient DICOM files (<5).\n",
      "1008417805CYX transformation finished\n"
     ]
    },
    {
     "name": "stderr",
     "output_type": "stream",
     "text": [
      "WARNING: In /tmp/SimpleITK-build/ITK-prefix/include/ITK-5.3/itkImageSeriesReader.hxx, line 478\n",
      "ImageSeriesReader (0x105cb5830): Non uniform sampling or missing slices detected,  maximum nonuniformity:196.364\n",
      "\n",
      "WARNING: In /tmp/SimpleITK-build/ITK-prefix/include/ITK-5.3/itkImageSeriesReader.hxx, line 478\n",
      "ImageSeriesReader (0x105cb5830): Non uniform sampling or missing slices detected,  maximum nonuniformity:196.364\n",
      "\n"
     ]
    },
    {
     "name": "stdout",
     "output_type": "stream",
     "text": [
      "1008417805CYX transformation finished\n",
      "1008417805CYX transformation finished\n",
      "Skipped processing folder /Volumes/MR_analysis/MRCP_DICOM/1008417805CYX/SE12 due to insufficient DICOM files (<5).\n"
     ]
    },
    {
     "name": "stderr",
     "output_type": "stream",
     "text": [
      "WARNING: In /tmp/SimpleITK-build/ITK-prefix/include/ITK-5.3/itkImageSeriesReader.hxx, line 478\n",
      "ImageSeriesReader (0x105cf7670): Non uniform sampling or missing slices detected,  maximum nonuniformity:39.3043\n",
      "\n",
      "WARNING: In /tmp/SimpleITK-build/ITK-prefix/include/ITK-5.3/itkImageSeriesReader.hxx, line 478\n",
      "ImageSeriesReader (0x105cfba60): Non uniform sampling or missing slices detected,  maximum nonuniformity:39.3043\n",
      "\n"
     ]
    },
    {
     "name": "stdout",
     "output_type": "stream",
     "text": [
      "1008417805CYX transformation finished\n"
     ]
    },
    {
     "name": "stderr",
     "output_type": "stream",
     "text": [
      "WARNING: In /tmp/SimpleITK-build/ITK-prefix/include/ITK-5.3/itkImageSeriesReader.hxx, line 478\n",
      "ImageSeriesReader (0x105cb5830): Non uniform sampling or missing slices detected,  maximum nonuniformity:0.000271983\n",
      "\n"
     ]
    },
    {
     "name": "stdout",
     "output_type": "stream",
     "text": [
      "1008417805CYX transformation finished\n",
      "1008417805CYX transformation finished\n"
     ]
    },
    {
     "name": "stderr",
     "output_type": "stream",
     "text": [
      "WARNING: In /tmp/SimpleITK-build/ITK-prefix/include/ITK-5.3/itkImageSeriesReader.hxx, line 478\n",
      "ImageSeriesReader (0x105cc2bd0): Non uniform sampling or missing slices detected,  maximum nonuniformity:0.00094689\n",
      "\n"
     ]
    },
    {
     "name": "stdout",
     "output_type": "stream",
     "text": [
      "1008417805CYX transformation finished\n",
      "1008417805CYX transformation finished\n"
     ]
    },
    {
     "name": "stderr",
     "output_type": "stream",
     "text": [
      "WARNING: In /tmp/SimpleITK-build/ITK-prefix/include/ITK-5.3/itkImageSeriesReader.hxx, line 478\n",
      "ImageSeriesReader (0x105cf7670): Non uniform sampling or missing slices detected,  maximum nonuniformity:0.00094689\n",
      "\n"
     ]
    },
    {
     "name": "stdout",
     "output_type": "stream",
     "text": [
      "1008417805CYX transformation finished\n"
     ]
    },
    {
     "name": "stderr",
     "output_type": "stream",
     "text": [
      "WARNING: In /tmp/SimpleITK-build/ITK-prefix/include/ITK-5.3/itkImageSeriesReader.hxx, line 478\n",
      "ImageSeriesReader (0x1023f7890): Non uniform sampling or missing slices detected,  maximum nonuniformity:0.00094689\n",
      "\n"
     ]
    },
    {
     "name": "stdout",
     "output_type": "stream",
     "text": [
      "1008417805CYX transformation finished\n"
     ]
    },
    {
     "name": "stderr",
     "output_type": "stream",
     "text": [
      "WARNING: In /tmp/SimpleITK-build/ITK-prefix/include/ITK-5.3/itkImageSeriesReader.hxx, line 478\n",
      "ImageSeriesReader (0x1023ee170): Non uniform sampling or missing slices detected,  maximum nonuniformity:0.00094689\n",
      "\n"
     ]
    },
    {
     "name": "stdout",
     "output_type": "stream",
     "text": [
      "1008417805CYX transformation finished\n"
     ]
    },
    {
     "name": "stderr",
     "output_type": "stream",
     "text": [
      "WARNING: In /tmp/SimpleITK-build/ITK-prefix/include/ITK-5.3/itkImageSeriesReader.hxx, line 478\n",
      "ImageSeriesReader (0x10239bee0): Non uniform sampling or missing slices detected,  maximum nonuniformity:0.00094689\n",
      "\n"
     ]
    },
    {
     "name": "stdout",
     "output_type": "stream",
     "text": [
      "1008417805CYX transformation finished\n",
      "1008417805CYX transformation finished\n"
     ]
    },
    {
     "name": "stderr",
     "output_type": "stream",
     "text": [
      "WARNING: In /tmp/SimpleITK-build/ITK-prefix/include/ITK-5.3/itkImageSeriesReader.hxx, line 478\n",
      "ImageSeriesReader (0x1023ee780): Non uniform sampling or missing slices detected,  maximum nonuniformity:0.00094689\n",
      "\n"
     ]
    },
    {
     "name": "stdout",
     "output_type": "stream",
     "text": [
      "1008417805CYX transformation finished\n"
     ]
    },
    {
     "name": "stderr",
     "output_type": "stream",
     "text": [
      "WARNING: In /tmp/SimpleITK-build/ITK-prefix/include/ITK-5.3/itkImageSeriesReader.hxx, line 478\n",
      "ImageSeriesReader (0x1023b47f0): Non uniform sampling or missing slices detected,  maximum nonuniformity:0.00094689\n",
      "\n"
     ]
    },
    {
     "name": "stdout",
     "output_type": "stream",
     "text": [
      "1008417805CYX transformation finished\n"
     ]
    },
    {
     "name": "stderr",
     "output_type": "stream",
     "text": [
      "WARNING: In /tmp/SimpleITK-build/ITK-prefix/include/ITK-5.3/itkImageSeriesReader.hxx, line 478\n",
      "ImageSeriesReader (0x10239bee0): Non uniform sampling or missing slices detected,  maximum nonuniformity:0.00094689\n",
      "\n"
     ]
    },
    {
     "name": "stdout",
     "output_type": "stream",
     "text": [
      "1008417805CYX transformation finished\n",
      "1008417805CYX transformation finished\n"
     ]
    },
    {
     "name": "stderr",
     "output_type": "stream",
     "text": [
      "WARNING: In /tmp/SimpleITK-build/ITK-prefix/include/ITK-5.3/itkImageSeriesReader.hxx, line 478\n",
      "ImageSeriesReader (0x10239ccb0): Non uniform sampling or missing slices detected,  maximum nonuniformity:0.00094689\n",
      "\n"
     ]
    },
    {
     "name": "stdout",
     "output_type": "stream",
     "text": [
      "1008417805CYX transformation finished\n"
     ]
    },
    {
     "name": "stderr",
     "output_type": "stream",
     "text": [
      "WARNING: In /tmp/SimpleITK-build/ITK-prefix/include/ITK-5.3/itkImageSeriesReader.hxx, line 478\n",
      "ImageSeriesReader (0x105ce2a90): Non uniform sampling or missing slices detected,  maximum nonuniformity:0.00094689\n",
      "\n"
     ]
    },
    {
     "name": "stdout",
     "output_type": "stream",
     "text": [
      "1008417805CYX transformation finished\n"
     ]
    },
    {
     "name": "stderr",
     "output_type": "stream",
     "text": [
      "WARNING: In /tmp/SimpleITK-build/ITK-prefix/include/ITK-5.3/itkImageSeriesReader.hxx, line 478\n",
      "ImageSeriesReader (0x105cf7670): Non uniform sampling or missing slices detected,  maximum nonuniformity:0.00094689\n",
      "\n"
     ]
    },
    {
     "name": "stdout",
     "output_type": "stream",
     "text": [
      "1008417805CYX transformation finished\n"
     ]
    },
    {
     "name": "stderr",
     "output_type": "stream",
     "text": [
      "WARNING: In /tmp/SimpleITK-build/ITK-prefix/include/ITK-5.3/itkImageSeriesReader.hxx, line 478\n",
      "ImageSeriesReader (0x105cb5830): Non uniform sampling or missing slices detected,  maximum nonuniformity:0.00094689\n",
      "\n"
     ]
    },
    {
     "name": "stdout",
     "output_type": "stream",
     "text": [
      "1008417805CYX transformation finished\n"
     ]
    },
    {
     "name": "stderr",
     "output_type": "stream",
     "text": [
      "WARNING: In /tmp/SimpleITK-build/ITK-prefix/include/ITK-5.3/itkImageSeriesReader.hxx, line 478\n",
      "ImageSeriesReader (0x105cb5830): Non uniform sampling or missing slices detected,  maximum nonuniformity:0.00094689\n",
      "\n"
     ]
    },
    {
     "name": "stdout",
     "output_type": "stream",
     "text": [
      "1008417805CYX transformation finished\n",
      "1008417805CYX transformation finished\n"
     ]
    },
    {
     "name": "stderr",
     "output_type": "stream",
     "text": [
      "WARNING: In /tmp/SimpleITK-build/ITK-prefix/include/ITK-5.3/itkImageSeriesReader.hxx, line 478\n",
      "ImageSeriesReader (0x105cb5830): Non uniform sampling or missing slices detected,  maximum nonuniformity:0.00094689\n",
      "\n"
     ]
    },
    {
     "name": "stdout",
     "output_type": "stream",
     "text": [
      "1008417805CYX transformation finished\n"
     ]
    },
    {
     "name": "stderr",
     "output_type": "stream",
     "text": [
      "WARNING: In /tmp/SimpleITK-build/ITK-prefix/include/ITK-5.3/itkImageSeriesReader.hxx, line 478\n",
      "ImageSeriesReader (0x105cb5830): Non uniform sampling or missing slices detected,  maximum nonuniformity:0.00094689\n",
      "\n"
     ]
    },
    {
     "name": "stdout",
     "output_type": "stream",
     "text": [
      "1008417805CYX transformation finished\n"
     ]
    },
    {
     "name": "stderr",
     "output_type": "stream",
     "text": [
      "WARNING: In /tmp/SimpleITK-build/ITK-prefix/include/ITK-5.3/itkImageSeriesReader.hxx, line 478\n",
      "ImageSeriesReader (0x105cf7670): Non uniform sampling or missing slices detected,  maximum nonuniformity:0.00094689\n",
      "\n"
     ]
    },
    {
     "name": "stdout",
     "output_type": "stream",
     "text": [
      "1008417805CYX transformation finished\n",
      "1008417805CYX transformation finished\n"
     ]
    },
    {
     "name": "stderr",
     "output_type": "stream",
     "text": [
      "WARNING: In /tmp/SimpleITK-build/ITK-prefix/include/ITK-5.3/itkImageSeriesReader.hxx, line 478\n",
      "ImageSeriesReader (0x10239f2a0): Non uniform sampling or missing slices detected,  maximum nonuniformity:0.000937117\n",
      "\n"
     ]
    },
    {
     "name": "stdout",
     "output_type": "stream",
     "text": [
      "1008417805CYX transformation finished\n"
     ]
    },
    {
     "name": "stderr",
     "output_type": "stream",
     "text": [
      "WARNING: In /tmp/SimpleITK-build/ITK-prefix/include/ITK-5.3/itkImageSeriesReader.hxx, line 478\n",
      "ImageSeriesReader (0x102388590): Non uniform sampling or missing slices detected,  maximum nonuniformity:0.000937117\n",
      "\n"
     ]
    },
    {
     "name": "stdout",
     "output_type": "stream",
     "text": [
      "1008417805CYX transformation finished\n"
     ]
    },
    {
     "name": "stderr",
     "output_type": "stream",
     "text": [
      "WARNING: In /tmp/SimpleITK-build/ITK-prefix/include/ITK-5.3/itkImageSeriesReader.hxx, line 478\n",
      "ImageSeriesReader (0x1023b47f0): Non uniform sampling or missing slices detected,  maximum nonuniformity:0.000937117\n",
      "\n"
     ]
    },
    {
     "name": "stdout",
     "output_type": "stream",
     "text": [
      "1008417805CYX transformation finished\n"
     ]
    },
    {
     "name": "stderr",
     "output_type": "stream",
     "text": [
      "WARNING: In /tmp/SimpleITK-build/ITK-prefix/include/ITK-5.3/itkImageSeriesReader.hxx, line 478\n",
      "ImageSeriesReader (0x1023e6db0): Non uniform sampling or missing slices detected,  maximum nonuniformity:0.000937117\n",
      "\n"
     ]
    },
    {
     "name": "stdout",
     "output_type": "stream",
     "text": [
      "1008417805CYX transformation finished\n"
     ]
    },
    {
     "name": "stderr",
     "output_type": "stream",
     "text": [
      "WARNING: In /tmp/SimpleITK-build/ITK-prefix/include/ITK-5.3/itkImageSeriesReader.hxx, line 478\n",
      "ImageSeriesReader (0x1023e73c0): Non uniform sampling or missing slices detected,  maximum nonuniformity:227.552\n",
      "\n",
      "WARNING: In /tmp/SimpleITK-build/ITK-prefix/include/ITK-5.3/itkImageSeriesReader.hxx, line 478\n",
      "ImageSeriesReader (0x1207808a0): Non uniform sampling or missing slices detected,  maximum nonuniformity:39.3043\n",
      "\n"
     ]
    },
    {
     "name": "stdout",
     "output_type": "stream",
     "text": [
      "1008417805CYX transformation finished\n",
      "1008417805CYX transformation finished\n"
     ]
    },
    {
     "name": "stderr",
     "output_type": "stream",
     "text": [
      "WARNING: In /tmp/SimpleITK-build/ITK-prefix/include/ITK-5.3/itkImageSeriesReader.hxx, line 478\n",
      "ImageSeriesReader (0x1023b47f0): Non uniform sampling or missing slices detected,  maximum nonuniformity:328.16\n",
      "\n"
     ]
    },
    {
     "name": "stdout",
     "output_type": "stream",
     "text": [
      "1008417805CYX transformation finished\n"
     ]
    },
    {
     "name": "stderr",
     "output_type": "stream",
     "text": [
      "WARNING: In /tmp/SimpleITK-build/ITK-prefix/include/ITK-5.3/itkImageSeriesReader.hxx, line 478\n",
      "ImageSeriesReader (0x10239bee0): Non uniform sampling or missing slices detected,  maximum nonuniformity:0.00096787\n",
      "\n"
     ]
    },
    {
     "name": "stdout",
     "output_type": "stream",
     "text": [
      "1008417805CYX transformation finished\n",
      "Skipped processing folder /Volumes/MR_analysis/MRCP_DICOM/1008417805CYX/SE48 due to insufficient DICOM files (<5).\n",
      "1008417805CYX transformation finished\n"
     ]
    },
    {
     "name": "stderr",
     "output_type": "stream",
     "text": [
      "WARNING: In /tmp/SimpleITK-build/ITK-prefix/include/ITK-5.3/itkImageSeriesReader.hxx, line 478\n",
      "ImageSeriesReader (0x1023b5930): Non uniform sampling or missing slices detected,  maximum nonuniformity:0.000707172\n",
      "\n",
      "WARNING: In /tmp/SimpleITK-build/ITK-prefix/include/ITK-5.3/itkImageSeriesReader.hxx, line 478\n",
      "ImageSeriesReader (0x10239bee0): Non uniform sampling or missing slices detected,  maximum nonuniformity:0.000707172\n",
      "\n"
     ]
    },
    {
     "name": "stdout",
     "output_type": "stream",
     "text": [
      "1008417805CYX transformation finished\n"
     ]
    },
    {
     "name": "stderr",
     "output_type": "stream",
     "text": [
      "WARNING: In /tmp/SimpleITK-build/ITK-prefix/include/ITK-5.3/itkImageSeriesReader.hxx, line 478\n",
      "ImageSeriesReader (0x1023b5930): Non uniform sampling or missing slices detected,  maximum nonuniformity:0.000271983\n",
      "\n"
     ]
    },
    {
     "name": "stdout",
     "output_type": "stream",
     "text": [
      "1008417805CYX transformation finished\n",
      "1008417805CYX transformation finished\n"
     ]
    },
    {
     "name": "stderr",
     "output_type": "stream",
     "text": [
      "WARNING: In /tmp/SimpleITK-build/ITK-prefix/include/ITK-5.3/itkImageSeriesReader.hxx, line 478\n",
      "ImageSeriesReader (0x105cb5830): Non uniform sampling or missing slices detected,  maximum nonuniformity:276.567\n",
      "\n",
      "WARNING: In /tmp/SimpleITK-build/ITK-prefix/include/ITK-5.3/itkImageSeriesReader.hxx, line 478\n",
      "ImageSeriesReader (0x105cf7670): Non uniform sampling or missing slices detected,  maximum nonuniformity:276.567\n",
      "\n"
     ]
    },
    {
     "name": "stdout",
     "output_type": "stream",
     "text": [
      "1008417805CYX transformation finished\n",
      "Skipped processing folder /Volumes/MR_analysis/MRCP_DICOM/1008417805CYX/SE53 due to insufficient DICOM files (<5).\n"
     ]
    },
    {
     "name": "stderr",
     "output_type": "stream",
     "text": [
      "WARNING: In /tmp/SimpleITK-build/ITK-prefix/include/ITK-5.3/itkImageSeriesReader.hxx, line 478\n",
      "ImageSeriesReader (0x105cc2bd0): Non uniform sampling or missing slices detected,  maximum nonuniformity:0.00094689\n",
      "\n"
     ]
    },
    {
     "name": "stdout",
     "output_type": "stream",
     "text": [
      "1008417805CYX transformation finished\n"
     ]
    },
    {
     "name": "stderr",
     "output_type": "stream",
     "text": [
      "WARNING: In /tmp/SimpleITK-build/ITK-prefix/include/ITK-5.3/itkImageSeriesReader.hxx, line 478\n",
      "ImageSeriesReader (0x105ce2a90): Non uniform sampling or missing slices detected,  maximum nonuniformity:0.00094689\n",
      "\n"
     ]
    },
    {
     "name": "stdout",
     "output_type": "stream",
     "text": [
      "1008417805CYX transformation finished\n",
      "1008417805CYX transformation finished\n"
     ]
    },
    {
     "name": "stderr",
     "output_type": "stream",
     "text": [
      "WARNING: In /tmp/SimpleITK-build/ITK-prefix/include/ITK-5.3/itkImageSeriesReader.hxx, line 478\n",
      "ImageSeriesReader (0x105cb5830): Non uniform sampling or missing slices detected,  maximum nonuniformity:0.00094689\n",
      "\n"
     ]
    },
    {
     "name": "stdout",
     "output_type": "stream",
     "text": [
      "1008417805CYX transformation finished\n"
     ]
    },
    {
     "name": "stderr",
     "output_type": "stream",
     "text": [
      "WARNING: In /tmp/SimpleITK-build/ITK-prefix/include/ITK-5.3/itkImageSeriesReader.hxx, line 478\n",
      "ImageSeriesReader (0x105cc2bd0): Non uniform sampling or missing slices detected,  maximum nonuniformity:0.00094689\n",
      "\n"
     ]
    },
    {
     "name": "stdout",
     "output_type": "stream",
     "text": [
      "1008417805CYX transformation finished\n"
     ]
    },
    {
     "name": "stderr",
     "output_type": "stream",
     "text": [
      "WARNING: In /tmp/SimpleITK-build/ITK-prefix/include/ITK-5.3/itkImageSeriesReader.hxx, line 478\n",
      "ImageSeriesReader (0x105cb5830): Non uniform sampling or missing slices detected,  maximum nonuniformity:337.371\n",
      "\n"
     ]
    },
    {
     "name": "stdout",
     "output_type": "stream",
     "text": [
      "2002660780JYZ transformation finished\n"
     ]
    },
    {
     "name": "stderr",
     "output_type": "stream",
     "text": [
      "WARNING: In /tmp/SimpleITK-build/ITK-prefix/include/ITK-5.3/itkImageSeriesReader.hxx, line 478\n",
      "ImageSeriesReader (0x105ce2a90): Non uniform sampling or missing slices detected,  maximum nonuniformity:543.784\n",
      "\n"
     ]
    },
    {
     "name": "stdout",
     "output_type": "stream",
     "text": [
      "2002660780JYZ transformation finished\n"
     ]
    },
    {
     "name": "stderr",
     "output_type": "stream",
     "text": [
      "WARNING: In /tmp/SimpleITK-build/ITK-prefix/include/ITK-5.3/itkImageSeriesReader.hxx, line 478\n",
      "ImageSeriesReader (0x105cc2bd0): Non uniform sampling or missing slices detected,  maximum nonuniformity:195.045\n",
      "\n"
     ]
    },
    {
     "name": "stdout",
     "output_type": "stream",
     "text": [
      "2002660780JYZ transformation finished\n"
     ]
    },
    {
     "name": "stderr",
     "output_type": "stream",
     "text": [
      "WARNING: In /tmp/SimpleITK-build/ITK-prefix/include/ITK-5.3/itkImageSeriesReader.hxx, line 478\n",
      "ImageSeriesReader (0x105cb5830): Non uniform sampling or missing slices detected,  maximum nonuniformity:0.000894034\n",
      "\n"
     ]
    },
    {
     "name": "stdout",
     "output_type": "stream",
     "text": [
      "2002660780JYZ transformation finished\n",
      "2002660780JYZ transformation finished\n"
     ]
    },
    {
     "name": "stderr",
     "output_type": "stream",
     "text": [
      "WARNING: In /tmp/SimpleITK-build/ITK-prefix/include/ITK-5.3/itkImageSeriesReader.hxx, line 478\n",
      "ImageSeriesReader (0x105cb5830): Non uniform sampling or missing slices detected,  maximum nonuniformity:0.000898909\n",
      "\n",
      "WARNING: In /tmp/SimpleITK-build/ITK-prefix/include/ITK-5.3/itkImageSeriesReader.hxx, line 478\n",
      "ImageSeriesReader (0x105cf7670): Non uniform sampling or missing slices detected,  maximum nonuniformity:0.000898909\n",
      "\n"
     ]
    },
    {
     "name": "stdout",
     "output_type": "stream",
     "text": [
      "2002660780JYZ transformation finished\n"
     ]
    },
    {
     "name": "stderr",
     "output_type": "stream",
     "text": [
      "WARNING: In /tmp/SimpleITK-build/ITK-prefix/include/ITK-5.3/itkImageSeriesReader.hxx, line 478\n",
      "ImageSeriesReader (0x105cc2bd0): Non uniform sampling or missing slices detected,  maximum nonuniformity:0.000121473\n",
      "\n"
     ]
    },
    {
     "name": "stdout",
     "output_type": "stream",
     "text": [
      "2002660780JYZ transformation finished\n",
      "Skipped processing folder /Volumes/MR_analysis/MRCP_DICOM/2002660780JYZ/SE46 due to insufficient DICOM files (<5).\n",
      "2002660780JYZ transformation finished\n"
     ]
    },
    {
     "name": "stderr",
     "output_type": "stream",
     "text": [
      "WARNING: In /tmp/SimpleITK-build/ITK-prefix/include/ITK-5.3/itkImageSeriesReader.hxx, line 478\n",
      "ImageSeriesReader (0x10239ccb0): Non uniform sampling or missing slices detected,  maximum nonuniformity:328.16\n",
      "\n",
      "WARNING: In /tmp/SimpleITK-build/ITK-prefix/include/ITK-5.3/itkImageSeriesReader.hxx, line 478\n",
      "ImageSeriesReader (0x1023b47f0): Non uniform sampling or missing slices detected,  maximum nonuniformity:328.16\n",
      "\n"
     ]
    },
    {
     "name": "stdout",
     "output_type": "stream",
     "text": [
      "2002660780JYZ transformation finished\n",
      "Skipped processing folder /Volumes/MR_analysis/MRCP_DICOM/2002660780JYZ/SE24 due to insufficient DICOM files (<5).\n",
      "2002660780JYZ transformation finished\n",
      "2002660780JYZ transformation finished\n"
     ]
    },
    {
     "name": "stderr",
     "output_type": "stream",
     "text": [
      "WARNING: In /tmp/SimpleITK-build/ITK-prefix/include/ITK-5.3/itkImageSeriesReader.hxx, line 478\n",
      "ImageSeriesReader (0x1023fca70): Non uniform sampling or missing slices detected,  maximum nonuniformity:328.153\n",
      "\n",
      "WARNING: In /tmp/SimpleITK-build/ITK-prefix/include/ITK-5.3/itkImageSeriesReader.hxx, line 478\n",
      "ImageSeriesReader (0x1023e1ac0): Non uniform sampling or missing slices detected,  maximum nonuniformity:328.153\n",
      "\n"
     ]
    },
    {
     "name": "stdout",
     "output_type": "stream",
     "text": [
      "2002660780JYZ transformation finished\n",
      "2002660780JYZ transformation finished\n"
     ]
    },
    {
     "name": "stderr",
     "output_type": "stream",
     "text": [
      "WARNING: In /tmp/SimpleITK-build/ITK-prefix/include/ITK-5.3/itkImageSeriesReader.hxx, line 478\n",
      "ImageSeriesReader (0x10239f2a0): Non uniform sampling or missing slices detected,  maximum nonuniformity:0.000947914\n",
      "\n"
     ]
    },
    {
     "name": "stdout",
     "output_type": "stream",
     "text": [
      "2002660780JYZ transformation finished\n"
     ]
    },
    {
     "name": "stderr",
     "output_type": "stream",
     "text": [
      "WARNING: In /tmp/SimpleITK-build/ITK-prefix/include/ITK-5.3/itkImageSeriesReader.hxx, line 478\n",
      "ImageSeriesReader (0x1023ee170): Non uniform sampling or missing slices detected,  maximum nonuniformity:0.000947914\n",
      "\n"
     ]
    },
    {
     "name": "stdout",
     "output_type": "stream",
     "text": [
      "2002660780JYZ transformation finished\n",
      "2002660780JYZ transformation finished\n"
     ]
    },
    {
     "name": "stderr",
     "output_type": "stream",
     "text": [
      "WARNING: In /tmp/SimpleITK-build/ITK-prefix/include/ITK-5.3/itkImageSeriesReader.hxx, line 478\n",
      "ImageSeriesReader (0x10239bee0): Non uniform sampling or missing slices detected,  maximum nonuniformity:0.000947914\n",
      "\n"
     ]
    },
    {
     "name": "stdout",
     "output_type": "stream",
     "text": [
      "2002660780JYZ transformation finished\n"
     ]
    },
    {
     "name": "stderr",
     "output_type": "stream",
     "text": [
      "WARNING: In /tmp/SimpleITK-build/ITK-prefix/include/ITK-5.3/itkImageSeriesReader.hxx, line 478\n",
      "ImageSeriesReader (0x1023ee170): Non uniform sampling or missing slices detected,  maximum nonuniformity:0.000947914\n",
      "\n"
     ]
    },
    {
     "name": "stdout",
     "output_type": "stream",
     "text": [
      "2002660780JYZ transformation finished\n"
     ]
    },
    {
     "name": "stderr",
     "output_type": "stream",
     "text": [
      "WARNING: In /tmp/SimpleITK-build/ITK-prefix/include/ITK-5.3/itkImageSeriesReader.hxx, line 478\n",
      "ImageSeriesReader (0x1023e5c60): Non uniform sampling or missing slices detected,  maximum nonuniformity:0.000947914\n",
      "\n"
     ]
    },
    {
     "name": "stdout",
     "output_type": "stream",
     "text": [
      "2002660780JYZ transformation finished\n",
      "2002660780JYZ transformation finished\n"
     ]
    },
    {
     "name": "stderr",
     "output_type": "stream",
     "text": [
      "WARNING: In /tmp/SimpleITK-build/ITK-prefix/include/ITK-5.3/itkImageSeriesReader.hxx, line 478\n",
      "ImageSeriesReader (0x105cb5830): Non uniform sampling or missing slices detected,  maximum nonuniformity:0.000947914\n",
      "\n"
     ]
    },
    {
     "name": "stdout",
     "output_type": "stream",
     "text": [
      "2002660780JYZ transformation finished\n"
     ]
    },
    {
     "name": "stderr",
     "output_type": "stream",
     "text": [
      "WARNING: In /tmp/SimpleITK-build/ITK-prefix/include/ITK-5.3/itkImageSeriesReader.hxx, line 478\n",
      "ImageSeriesReader (0x105cf7670): Non uniform sampling or missing slices detected,  maximum nonuniformity:0.000947914\n",
      "\n"
     ]
    },
    {
     "name": "stdout",
     "output_type": "stream",
     "text": [
      "2002660780JYZ transformation finished\n"
     ]
    },
    {
     "name": "stderr",
     "output_type": "stream",
     "text": [
      "WARNING: In /tmp/SimpleITK-build/ITK-prefix/include/ITK-5.3/itkImageSeriesReader.hxx, line 478\n",
      "ImageSeriesReader (0x105ce2a90): Non uniform sampling or missing slices detected,  maximum nonuniformity:0.000947914\n",
      "\n"
     ]
    },
    {
     "name": "stdout",
     "output_type": "stream",
     "text": [
      "2002660780JYZ transformation finished\n"
     ]
    },
    {
     "name": "stderr",
     "output_type": "stream",
     "text": [
      "WARNING: In /tmp/SimpleITK-build/ITK-prefix/include/ITK-5.3/itkImageSeriesReader.hxx, line 478\n",
      "ImageSeriesReader (0x105ce2a90): Non uniform sampling or missing slices detected,  maximum nonuniformity:0.000947914\n",
      "\n"
     ]
    },
    {
     "name": "stdout",
     "output_type": "stream",
     "text": [
      "2002660780JYZ transformation finished\n"
     ]
    },
    {
     "name": "stderr",
     "output_type": "stream",
     "text": [
      "WARNING: In /tmp/SimpleITK-build/ITK-prefix/include/ITK-5.3/itkImageSeriesReader.hxx, line 478\n",
      "ImageSeriesReader (0x105ce2a90): Non uniform sampling or missing slices detected,  maximum nonuniformity:0.000947914\n",
      "\n"
     ]
    },
    {
     "name": "stdout",
     "output_type": "stream",
     "text": [
      "2002660780JYZ transformation finished\n"
     ]
    },
    {
     "name": "stderr",
     "output_type": "stream",
     "text": [
      "WARNING: In /tmp/SimpleITK-build/ITK-prefix/include/ITK-5.3/itkImageSeriesReader.hxx, line 478\n",
      "ImageSeriesReader (0x105cc2bd0): Non uniform sampling or missing slices detected,  maximum nonuniformity:0.000947914\n",
      "\n"
     ]
    },
    {
     "name": "stdout",
     "output_type": "stream",
     "text": [
      "2002660780JYZ transformation finished\n",
      "2002660780JYZ transformation finished\n"
     ]
    },
    {
     "name": "stderr",
     "output_type": "stream",
     "text": [
      "WARNING: In /tmp/SimpleITK-build/ITK-prefix/include/ITK-5.3/itkImageSeriesReader.hxx, line 478\n",
      "ImageSeriesReader (0x1023e1ac0): Non uniform sampling or missing slices detected,  maximum nonuniformity:0.000947914\n",
      "\n"
     ]
    },
    {
     "name": "stdout",
     "output_type": "stream",
     "text": [
      "2002660780JYZ transformation finished\n",
      "2002660780JYZ transformation finished\n"
     ]
    },
    {
     "name": "stderr",
     "output_type": "stream",
     "text": [
      "WARNING: In /tmp/SimpleITK-build/ITK-prefix/include/ITK-5.3/itkImageSeriesReader.hxx, line 478\n",
      "ImageSeriesReader (0x10239b8e0): Non uniform sampling or missing slices detected,  maximum nonuniformity:0.000947914\n",
      "\n"
     ]
    },
    {
     "name": "stdout",
     "output_type": "stream",
     "text": [
      "2002660780JYZ transformation finished\n"
     ]
    },
    {
     "name": "stderr",
     "output_type": "stream",
     "text": [
      "WARNING: In /tmp/SimpleITK-build/ITK-prefix/include/ITK-5.3/itkImageSeriesReader.hxx, line 478\n",
      "ImageSeriesReader (0x105ce2a90): Non uniform sampling or missing slices detected,  maximum nonuniformity:0.000947914\n",
      "\n"
     ]
    },
    {
     "name": "stdout",
     "output_type": "stream",
     "text": [
      "2002660780JYZ transformation finished\n"
     ]
    },
    {
     "name": "stderr",
     "output_type": "stream",
     "text": [
      "WARNING: In /tmp/SimpleITK-build/ITK-prefix/include/ITK-5.3/itkImageSeriesReader.hxx, line 478\n",
      "ImageSeriesReader (0x1023ee170): Non uniform sampling or missing slices detected,  maximum nonuniformity:0.000947914\n",
      "\n"
     ]
    },
    {
     "name": "stdout",
     "output_type": "stream",
     "text": [
      "2002660780JYZ transformation finished\n"
     ]
    },
    {
     "name": "stderr",
     "output_type": "stream",
     "text": [
      "WARNING: In /tmp/SimpleITK-build/ITK-prefix/include/ITK-5.3/itkImageSeriesReader.hxx, line 478\n",
      "ImageSeriesReader (0x105cf7670): Non uniform sampling or missing slices detected,  maximum nonuniformity:0.000947914\n",
      "\n"
     ]
    },
    {
     "name": "stdout",
     "output_type": "stream",
     "text": [
      "2002660780JYZ transformation finished\n",
      "2002660780JYZ transformation finished\n",
      "2002660780JYZ transformation finished\n",
      "2002660780JYZ transformation finished\n",
      "2002660780JYZ transformation finished\n",
      "2002660780JYZ transformation finished\n"
     ]
    },
    {
     "name": "stderr",
     "output_type": "stream",
     "text": [
      "WARNING: In /tmp/SimpleITK-build/ITK-prefix/include/ITK-5.3/itkImageSeriesReader.hxx, line 478\n",
      "ImageSeriesReader (0x105cc2bd0): Non uniform sampling or missing slices detected,  maximum nonuniformity:195.045\n",
      "\n"
     ]
    },
    {
     "name": "stdout",
     "output_type": "stream",
     "text": [
      "2002660780JYZ transformation finished\n",
      "Skipped processing folder /Volumes/MR_analysis/MRCP_DICOM/2002660780JYZ/SE0 due to insufficient DICOM files (<5).\n"
     ]
    },
    {
     "name": "stderr",
     "output_type": "stream",
     "text": [
      "WARNING: In /tmp/SimpleITK-build/ITK-prefix/include/ITK-5.3/itkImageSeriesReader.hxx, line 478\n",
      "ImageSeriesReader (0x105cf7670): Non uniform sampling or missing slices detected,  maximum nonuniformity:0.000121473\n",
      "\n"
     ]
    },
    {
     "name": "stdout",
     "output_type": "stream",
     "text": [
      "2002660780JYZ transformation finished\n",
      "2002660780JYZ transformation finished\n"
     ]
    },
    {
     "name": "stderr",
     "output_type": "stream",
     "text": [
      "WARNING: In /tmp/SimpleITK-build/ITK-prefix/include/ITK-5.3/itkImageSeriesReader.hxx, line 478\n",
      "ImageSeriesReader (0x105cf7670): Non uniform sampling or missing slices detected,  maximum nonuniformity:280.558\n",
      "\n",
      "WARNING: In /tmp/SimpleITK-build/ITK-prefix/include/ITK-5.3/itkImageSeriesReader.hxx, line 478\n",
      "ImageSeriesReader (0x105ce2a90): Non uniform sampling or missing slices detected,  maximum nonuniformity:323.24\n",
      "\n"
     ]
    },
    {
     "name": "stdout",
     "output_type": "stream",
     "text": [
      "2002660780JYZ transformation finished\n",
      "2002660780JYZ transformation finished\n"
     ]
    },
    {
     "name": "stderr",
     "output_type": "stream",
     "text": [
      "WARNING: In /tmp/SimpleITK-build/ITK-prefix/include/ITK-5.3/itkImageSeriesReader.hxx, line 478\n",
      "ImageSeriesReader (0x105cfd040): Non uniform sampling or missing slices detected,  maximum nonuniformity:0.00091615\n",
      "\n",
      "WARNING: In /tmp/SimpleITK-build/ITK-prefix/include/ITK-5.3/itkImageSeriesReader.hxx, line 478\n",
      "ImageSeriesReader (0x105cf4660): Non uniform sampling or missing slices detected,  maximum nonuniformity:0.00091615\n",
      "\n"
     ]
    },
    {
     "name": "stdout",
     "output_type": "stream",
     "text": [
      "2002660780JYZ transformation finished\n",
      "2002660780JYZ transformation finished\n",
      "Skipped processing folder /Volumes/MR_analysis/MRCP_DICOM/2002660780JYZ/SE27 due to insufficient DICOM files (<5).\n",
      "2002660780JYZ transformation finished\n"
     ]
    },
    {
     "name": "stderr",
     "output_type": "stream",
     "text": [
      "WARNING: In /tmp/SimpleITK-build/ITK-prefix/include/ITK-5.3/itkImageSeriesReader.hxx, line 478\n",
      "ImageSeriesReader (0x1023979a0): Non uniform sampling or missing slices detected,  maximum nonuniformity:328.16\n",
      "\n",
      "WARNING: In /tmp/SimpleITK-build/ITK-prefix/include/ITK-5.3/itkImageSeriesReader.hxx, line 478\n",
      "ImageSeriesReader (0x10239bee0): Non uniform sampling or missing slices detected,  maximum nonuniformity:328.16\n",
      "\n"
     ]
    },
    {
     "name": "stdout",
     "output_type": "stream",
     "text": [
      "2002660780JYZ transformation finished\n"
     ]
    },
    {
     "name": "stderr",
     "output_type": "stream",
     "text": [
      "WARNING: In /tmp/SimpleITK-build/ITK-prefix/include/ITK-5.3/itkImageSeriesReader.hxx, line 478\n",
      "ImageSeriesReader (0x1023cd010): Non uniform sampling or missing slices detected,  maximum nonuniformity:0.000947914\n",
      "\n"
     ]
    },
    {
     "name": "stdout",
     "output_type": "stream",
     "text": [
      "2002660780JYZ transformation finished\n"
     ]
    },
    {
     "name": "stderr",
     "output_type": "stream",
     "text": [
      "WARNING: In /tmp/SimpleITK-build/ITK-prefix/include/ITK-5.3/itkImageSeriesReader.hxx, line 478\n",
      "ImageSeriesReader (0x1023ee780): Non uniform sampling or missing slices detected,  maximum nonuniformity:0.000947914\n",
      "\n"
     ]
    },
    {
     "name": "stdout",
     "output_type": "stream",
     "text": [
      "2002660780JYZ transformation finished\n"
     ]
    },
    {
     "name": "stderr",
     "output_type": "stream",
     "text": [
      "WARNING: In /tmp/SimpleITK-build/ITK-prefix/include/ITK-5.3/itkImageSeriesReader.hxx, line 478\n",
      "ImageSeriesReader (0x1023ee170): Non uniform sampling or missing slices detected,  maximum nonuniformity:0.000947914\n",
      "\n"
     ]
    },
    {
     "name": "stdout",
     "output_type": "stream",
     "text": [
      "2002660780JYZ transformation finished\n"
     ]
    },
    {
     "name": "stderr",
     "output_type": "stream",
     "text": [
      "WARNING: In /tmp/SimpleITK-build/ITK-prefix/include/ITK-5.3/itkImageSeriesReader.hxx, line 478\n",
      "ImageSeriesReader (0x1023ee780): Non uniform sampling or missing slices detected,  maximum nonuniformity:0.000947914\n",
      "\n"
     ]
    },
    {
     "name": "stdout",
     "output_type": "stream",
     "text": [
      "2002660780JYZ transformation finished\n",
      "2002660780JYZ transformation finished\n"
     ]
    },
    {
     "name": "stderr",
     "output_type": "stream",
     "text": [
      "WARNING: In /tmp/SimpleITK-build/ITK-prefix/include/ITK-5.3/itkImageSeriesReader.hxx, line 478\n",
      "ImageSeriesReader (0x10239ccb0): Non uniform sampling or missing slices detected,  maximum nonuniformity:337.371\n",
      "\n"
     ]
    },
    {
     "name": "stdout",
     "output_type": "stream",
     "text": [
      "60014636505SQ transformation finished\n"
     ]
    },
    {
     "name": "stderr",
     "output_type": "stream",
     "text": [
      "WARNING: In /tmp/SimpleITK-build/ITK-prefix/include/ITK-5.3/itkImageSeriesReader.hxx, line 478\n",
      "ImageSeriesReader (0x1023b47f0): Non uniform sampling or missing slices detected,  maximum nonuniformity:543.784\n",
      "\n"
     ]
    },
    {
     "name": "stdout",
     "output_type": "stream",
     "text": [
      "60014636505SQ transformation finished\n"
     ]
    },
    {
     "name": "stderr",
     "output_type": "stream",
     "text": [
      "WARNING: In /tmp/SimpleITK-build/ITK-prefix/include/ITK-5.3/itkImageSeriesReader.hxx, line 478\n",
      "ImageSeriesReader (0x1023ee170): Non uniform sampling or missing slices detected,  maximum nonuniformity:183.048\n",
      "\n"
     ]
    },
    {
     "name": "stdout",
     "output_type": "stream",
     "text": [
      "60014636505SQ transformation finished\n"
     ]
    },
    {
     "name": "stderr",
     "output_type": "stream",
     "text": [
      "WARNING: In /tmp/SimpleITK-build/ITK-prefix/include/ITK-5.3/itkImageSeriesReader.hxx, line 478\n",
      "ImageSeriesReader (0x10239bee0): Non uniform sampling or missing slices detected,  maximum nonuniformity:0.00063855\n",
      "\n"
     ]
    },
    {
     "name": "stdout",
     "output_type": "stream",
     "text": [
      "60014636505SQ transformation finished\n",
      "60014636505SQ transformation finished\n"
     ]
    },
    {
     "name": "stderr",
     "output_type": "stream",
     "text": [
      "WARNING: In /tmp/SimpleITK-build/ITK-prefix/include/ITK-5.3/itkImageSeriesReader.hxx, line 478\n",
      "ImageSeriesReader (0x10239b8e0): Non uniform sampling or missing slices detected,  maximum nonuniformity:0.000641775\n",
      "\n",
      "WARNING: In /tmp/SimpleITK-build/ITK-prefix/include/ITK-5.3/itkImageSeriesReader.hxx, line 478\n",
      "ImageSeriesReader (0x105cfe7a0): Non uniform sampling or missing slices detected,  maximum nonuniformity:0.000641775\n",
      "\n"
     ]
    },
    {
     "name": "stdout",
     "output_type": "stream",
     "text": [
      "60014636505SQ transformation finished\n",
      "60014636505SQ transformation finished\n"
     ]
    },
    {
     "name": "stderr",
     "output_type": "stream",
     "text": [
      "WARNING: In /tmp/SimpleITK-build/ITK-prefix/include/ITK-5.3/itkImageSeriesReader.hxx, line 478\n",
      "ImageSeriesReader (0x1023b47f0): Non uniform sampling or missing slices detected,  maximum nonuniformity:83.5648\n",
      "\n",
      "WARNING: In /tmp/SimpleITK-build/ITK-prefix/include/ITK-5.3/itkImageSeriesReader.hxx, line 478\n",
      "ImageSeriesReader (0x105cc2bd0): Non uniform sampling or missing slices detected,  maximum nonuniformity:280.558\n",
      "\n"
     ]
    },
    {
     "name": "stdout",
     "output_type": "stream",
     "text": [
      "60014636505SQ transformation finished\n"
     ]
    },
    {
     "name": "stderr",
     "output_type": "stream",
     "text": [
      "WARNING: In /tmp/SimpleITK-build/ITK-prefix/include/ITK-5.3/itkImageSeriesReader.hxx, line 478\n",
      "ImageSeriesReader (0x105cf7670): Non uniform sampling or missing slices detected,  maximum nonuniformity:0.000830299\n",
      "\n"
     ]
    },
    {
     "name": "stdout",
     "output_type": "stream",
     "text": [
      "60014636505SQ transformation finished\n",
      "Skipped processing folder /Volumes/MR_analysis/MRCP_DICOM/60014636505SQ/SE51 due to insufficient DICOM files (<5).\n",
      "60014636505SQ transformation finished\n",
      "Skipped processing folder /Volumes/MR_analysis/MRCP_DICOM/60014636505SQ/SE15 due to insufficient DICOM files (<5).\n"
     ]
    },
    {
     "name": "stderr",
     "output_type": "stream",
     "text": [
      "WARNING: In /tmp/SimpleITK-build/ITK-prefix/include/ITK-5.3/itkImageSeriesReader.hxx, line 478\n",
      "ImageSeriesReader (0x105ce2a90): Non uniform sampling or missing slices detected,  maximum nonuniformity:39.3042\n",
      "\n",
      "WARNING: In /tmp/SimpleITK-build/ITK-prefix/include/ITK-5.3/itkImageSeriesReader.hxx, line 478\n",
      "ImageSeriesReader (0x10239ccb0): Non uniform sampling or missing slices detected,  maximum nonuniformity:196.364\n",
      "\n"
     ]
    },
    {
     "name": "stdout",
     "output_type": "stream",
     "text": [
      "60014636505SQ transformation finished\n"
     ]
    },
    {
     "name": "stderr",
     "output_type": "stream",
     "text": [
      "WARNING: In /tmp/SimpleITK-build/ITK-prefix/include/ITK-5.3/itkImageSeriesReader.hxx, line 478\n",
      "ImageSeriesReader (0x10239b8e0): Non uniform sampling or missing slices detected,  maximum nonuniformity:0.000368078\n",
      "\n"
     ]
    },
    {
     "name": "stdout",
     "output_type": "stream",
     "text": [
      "60014636505SQ transformation finished\n",
      "60014636505SQ transformation finished\n"
     ]
    },
    {
     "name": "stderr",
     "output_type": "stream",
     "text": [
      "WARNING: In /tmp/SimpleITK-build/ITK-prefix/include/ITK-5.3/itkImageSeriesReader.hxx, line 478\n",
      "ImageSeriesReader (0x1023e73c0): Non uniform sampling or missing slices detected,  maximum nonuniformity:0.000926414\n",
      "\n"
     ]
    },
    {
     "name": "stdout",
     "output_type": "stream",
     "text": [
      "60014636505SQ transformation finished\n"
     ]
    },
    {
     "name": "stderr",
     "output_type": "stream",
     "text": [
      "WARNING: In /tmp/SimpleITK-build/ITK-prefix/include/ITK-5.3/itkImageSeriesReader.hxx, line 478\n",
      "ImageSeriesReader (0x105ce2a90): Non uniform sampling or missing slices detected,  maximum nonuniformity:0.000926414\n",
      "\n"
     ]
    },
    {
     "name": "stdout",
     "output_type": "stream",
     "text": [
      "60014636505SQ transformation finished\n"
     ]
    },
    {
     "name": "stderr",
     "output_type": "stream",
     "text": [
      "WARNING: In /tmp/SimpleITK-build/ITK-prefix/include/ITK-5.3/itkImageSeriesReader.hxx, line 478\n",
      "ImageSeriesReader (0x105cb5830): Non uniform sampling or missing slices detected,  maximum nonuniformity:0.000926414\n",
      "\n"
     ]
    },
    {
     "name": "stdout",
     "output_type": "stream",
     "text": [
      "60014636505SQ transformation finished\n"
     ]
    },
    {
     "name": "stderr",
     "output_type": "stream",
     "text": [
      "WARNING: In /tmp/SimpleITK-build/ITK-prefix/include/ITK-5.3/itkImageSeriesReader.hxx, line 478\n",
      "ImageSeriesReader (0x105cb5830): Non uniform sampling or missing slices detected,  maximum nonuniformity:0.000926414\n",
      "\n"
     ]
    },
    {
     "name": "stdout",
     "output_type": "stream",
     "text": [
      "60014636505SQ transformation finished\n",
      "60014636505SQ transformation finished\n"
     ]
    },
    {
     "name": "stderr",
     "output_type": "stream",
     "text": [
      "WARNING: In /tmp/SimpleITK-build/ITK-prefix/include/ITK-5.3/itkImageSeriesReader.hxx, line 478\n",
      "ImageSeriesReader (0x1023b5930): Non uniform sampling or missing slices detected,  maximum nonuniformity:0.00098917\n",
      "\n"
     ]
    },
    {
     "name": "stdout",
     "output_type": "stream",
     "text": [
      "60014636505SQ transformation finished\n"
     ]
    },
    {
     "name": "stderr",
     "output_type": "stream",
     "text": [
      "WARNING: In /tmp/SimpleITK-build/ITK-prefix/include/ITK-5.3/itkImageSeriesReader.hxx, line 478\n",
      "ImageSeriesReader (0x105cf7670): Non uniform sampling or missing slices detected,  maximum nonuniformity:0.00098917\n",
      "\n"
     ]
    },
    {
     "name": "stdout",
     "output_type": "stream",
     "text": [
      "60014636505SQ transformation finished\n"
     ]
    },
    {
     "name": "stderr",
     "output_type": "stream",
     "text": [
      "WARNING: In /tmp/SimpleITK-build/ITK-prefix/include/ITK-5.3/itkImageSeriesReader.hxx, line 478\n",
      "ImageSeriesReader (0x1023fbc20): Non uniform sampling or missing slices detected,  maximum nonuniformity:0.00098917\n",
      "\n"
     ]
    },
    {
     "name": "stdout",
     "output_type": "stream",
     "text": [
      "60014636505SQ transformation finished\n",
      "60014636505SQ transformation finished\n"
     ]
    },
    {
     "name": "stderr",
     "output_type": "stream",
     "text": [
      "WARNING: In /tmp/SimpleITK-build/ITK-prefix/include/ITK-5.3/itkImageSeriesReader.hxx, line 478\n",
      "ImageSeriesReader (0x1023f7890): Non uniform sampling or missing slices detected,  maximum nonuniformity:0.00098917\n",
      "\n"
     ]
    },
    {
     "name": "stdout",
     "output_type": "stream",
     "text": [
      "60014636505SQ transformation finished\n",
      "60014636505SQ transformation finished\n"
     ]
    },
    {
     "name": "stderr",
     "output_type": "stream",
     "text": [
      "WARNING: In /tmp/SimpleITK-build/ITK-prefix/include/ITK-5.3/itkImageSeriesReader.hxx, line 478\n",
      "ImageSeriesReader (0x105cf7670): Non uniform sampling or missing slices detected,  maximum nonuniformity:0.00098917\n",
      "\n"
     ]
    },
    {
     "name": "stdout",
     "output_type": "stream",
     "text": [
      "60014636505SQ transformation finished\n"
     ]
    },
    {
     "name": "stderr",
     "output_type": "stream",
     "text": [
      "WARNING: In /tmp/SimpleITK-build/ITK-prefix/include/ITK-5.3/itkImageSeriesReader.hxx, line 478\n",
      "ImageSeriesReader (0x105cf7670): Non uniform sampling or missing slices detected,  maximum nonuniformity:0.00098917\n",
      "\n"
     ]
    },
    {
     "name": "stdout",
     "output_type": "stream",
     "text": [
      "60014636505SQ transformation finished\n"
     ]
    },
    {
     "name": "stderr",
     "output_type": "stream",
     "text": [
      "WARNING: In /tmp/SimpleITK-build/ITK-prefix/include/ITK-5.3/itkImageSeriesReader.hxx, line 478\n",
      "ImageSeriesReader (0x105cf7670): Non uniform sampling or missing slices detected,  maximum nonuniformity:0.00098917\n",
      "\n"
     ]
    },
    {
     "name": "stdout",
     "output_type": "stream",
     "text": [
      "60014636505SQ transformation finished\n"
     ]
    },
    {
     "name": "stderr",
     "output_type": "stream",
     "text": [
      "WARNING: In /tmp/SimpleITK-build/ITK-prefix/include/ITK-5.3/itkImageSeriesReader.hxx, line 478\n",
      "ImageSeriesReader (0x105cc2bd0): Non uniform sampling or missing slices detected,  maximum nonuniformity:0.00098917\n",
      "\n"
     ]
    },
    {
     "name": "stdout",
     "output_type": "stream",
     "text": [
      "60014636505SQ transformation finished\n"
     ]
    },
    {
     "name": "stderr",
     "output_type": "stream",
     "text": [
      "WARNING: In /tmp/SimpleITK-build/ITK-prefix/include/ITK-5.3/itkImageSeriesReader.hxx, line 478\n",
      "ImageSeriesReader (0x10239bee0): Non uniform sampling or missing slices detected,  maximum nonuniformity:0.00098917\n",
      "\n"
     ]
    },
    {
     "name": "stdout",
     "output_type": "stream",
     "text": [
      "60014636505SQ transformation finished\n",
      "60014636505SQ transformation finished\n"
     ]
    },
    {
     "name": "stderr",
     "output_type": "stream",
     "text": [
      "WARNING: In /tmp/SimpleITK-build/ITK-prefix/include/ITK-5.3/itkImageSeriesReader.hxx, line 478\n",
      "ImageSeriesReader (0x105cb5830): Non uniform sampling or missing slices detected,  maximum nonuniformity:0.00098917\n",
      "\n"
     ]
    },
    {
     "name": "stdout",
     "output_type": "stream",
     "text": [
      "60014636505SQ transformation finished\n"
     ]
    },
    {
     "name": "stderr",
     "output_type": "stream",
     "text": [
      "WARNING: In /tmp/SimpleITK-build/ITK-prefix/include/ITK-5.3/itkImageSeriesReader.hxx, line 478\n",
      "ImageSeriesReader (0x137eaaf70): Non uniform sampling or missing slices detected,  maximum nonuniformity:0.00098917\n",
      "\n"
     ]
    },
    {
     "name": "stdout",
     "output_type": "stream",
     "text": [
      "60014636505SQ transformation finished\n"
     ]
    },
    {
     "name": "stderr",
     "output_type": "stream",
     "text": [
      "WARNING: In /tmp/SimpleITK-build/ITK-prefix/include/ITK-5.3/itkImageSeriesReader.hxx, line 478\n",
      "ImageSeriesReader (0x105cb5830): Non uniform sampling or missing slices detected,  maximum nonuniformity:0.00098917\n",
      "\n"
     ]
    },
    {
     "name": "stdout",
     "output_type": "stream",
     "text": [
      "60014636505SQ transformation finished\n",
      "60014636505SQ transformation finished\n",
      "60014636505SQ transformation finished\n",
      "60014636505SQ transformation finished\n",
      "60014636505SQ transformation finished\n",
      "60014636505SQ transformation finished\n"
     ]
    },
    {
     "name": "stderr",
     "output_type": "stream",
     "text": [
      "WARNING: In /tmp/SimpleITK-build/ITK-prefix/include/ITK-5.3/itkImageSeriesReader.hxx, line 478\n",
      "ImageSeriesReader (0x105ce2a90): Non uniform sampling or missing slices detected,  maximum nonuniformity:183.048\n",
      "\n",
      "WARNING: In /tmp/SimpleITK-build/ITK-prefix/include/ITK-5.3/itkImageSeriesReader.hxx, line 478\n",
      "ImageSeriesReader (0x105cc2bd0): Non uniform sampling or missing slices detected,  maximum nonuniformity:328.153\n",
      "\n"
     ]
    },
    {
     "name": "stdout",
     "output_type": "stream",
     "text": [
      "60014636505SQ transformation finished\n",
      "60014636505SQ transformation finished\n"
     ]
    },
    {
     "name": "stderr",
     "output_type": "stream",
     "text": [
      "WARNING: In /tmp/SimpleITK-build/ITK-prefix/include/ITK-5.3/itkImageSeriesReader.hxx, line 478\n",
      "ImageSeriesReader (0x105ce2a90): Non uniform sampling or missing slices detected,  maximum nonuniformity:328.154\n",
      "\n"
     ]
    },
    {
     "name": "stdout",
     "output_type": "stream",
     "text": [
      "60014636505SQ transformation finished\n"
     ]
    },
    {
     "name": "stderr",
     "output_type": "stream",
     "text": [
      "WARNING: In /tmp/SimpleITK-build/ITK-prefix/include/ITK-5.3/itkImageSeriesReader.hxx, line 478\n",
      "ImageSeriesReader (0x105cc2bd0): Non uniform sampling or missing slices detected,  maximum nonuniformity:0.000830299\n",
      "\n"
     ]
    },
    {
     "name": "stdout",
     "output_type": "stream",
     "text": [
      "60014636505SQ transformation finished\n",
      "Skipped processing folder /Volumes/MR_analysis/MRCP_DICOM/60014636505SQ/SE49 due to insufficient DICOM files (<5).\n",
      "60014636505SQ transformation finished\n"
     ]
    },
    {
     "name": "stderr",
     "output_type": "stream",
     "text": [
      "WARNING: In /tmp/SimpleITK-build/ITK-prefix/include/ITK-5.3/itkImageSeriesReader.hxx, line 478\n",
      "ImageSeriesReader (0x105cb5830): Non uniform sampling or missing slices detected,  maximum nonuniformity:0.000641775\n",
      "\n",
      "WARNING: In /tmp/SimpleITK-build/ITK-prefix/include/ITK-5.3/itkImageSeriesReader.hxx, line 478\n",
      "ImageSeriesReader (0x10239b8e0): Non uniform sampling or missing slices detected,  maximum nonuniformity:0.000641775\n",
      "\n"
     ]
    },
    {
     "name": "stdout",
     "output_type": "stream",
     "text": [
      "60014636505SQ transformation finished\n",
      "60014636505SQ transformation finished\n"
     ]
    },
    {
     "name": "stderr",
     "output_type": "stream",
     "text": [
      "WARNING: In /tmp/SimpleITK-build/ITK-prefix/include/ITK-5.3/itkImageSeriesReader.hxx, line 478\n",
      "ImageSeriesReader (0x105cb5830): Non uniform sampling or missing slices detected,  maximum nonuniformity:280.558\n",
      "\n",
      "WARNING: In /tmp/SimpleITK-build/ITK-prefix/include/ITK-5.3/itkImageSeriesReader.hxx, line 478\n",
      "ImageSeriesReader (0x102388590): Non uniform sampling or missing slices detected,  maximum nonuniformity:0.000368078\n",
      "\n"
     ]
    },
    {
     "name": "stdout",
     "output_type": "stream",
     "text": [
      "60014636505SQ transformation finished\n",
      "Skipped processing folder /Volumes/MR_analysis/MRCP_DICOM/60014636505SQ/SE12 due to insufficient DICOM files (<5).\n",
      "60014636505SQ transformation finished\n"
     ]
    },
    {
     "name": "stderr",
     "output_type": "stream",
     "text": [
      "WARNING: In /tmp/SimpleITK-build/ITK-prefix/include/ITK-5.3/itkImageSeriesReader.hxx, line 478\n",
      "ImageSeriesReader (0x105cc2bd0): Non uniform sampling or missing slices detected,  maximum nonuniformity:328.16\n",
      "\n",
      "WARNING: In /tmp/SimpleITK-build/ITK-prefix/include/ITK-5.3/itkImageSeriesReader.hxx, line 478\n",
      "ImageSeriesReader (0x10239bee0): Non uniform sampling or missing slices detected,  maximum nonuniformity:0.00098917\n",
      "\n"
     ]
    },
    {
     "name": "stdout",
     "output_type": "stream",
     "text": [
      "60014636505SQ transformation finished\n"
     ]
    },
    {
     "name": "stderr",
     "output_type": "stream",
     "text": [
      "WARNING: In /tmp/SimpleITK-build/ITK-prefix/include/ITK-5.3/itkImageSeriesReader.hxx, line 478\n",
      "ImageSeriesReader (0x102388590): Non uniform sampling or missing slices detected,  maximum nonuniformity:0.00098917\n",
      "\n"
     ]
    },
    {
     "name": "stdout",
     "output_type": "stream",
     "text": [
      "60014636505SQ transformation finished\n"
     ]
    },
    {
     "name": "stderr",
     "output_type": "stream",
     "text": [
      "WARNING: In /tmp/SimpleITK-build/ITK-prefix/include/ITK-5.3/itkImageSeriesReader.hxx, line 478\n",
      "ImageSeriesReader (0x103a05300): Non uniform sampling or missing slices detected,  maximum nonuniformity:0.00098917\n",
      "\n"
     ]
    },
    {
     "name": "stdout",
     "output_type": "stream",
     "text": [
      "60014636505SQ transformation finished\n",
      "60014636505SQ transformation finished\n"
     ]
    },
    {
     "name": "stderr",
     "output_type": "stream",
     "text": [
      "WARNING: In /tmp/SimpleITK-build/ITK-prefix/include/ITK-5.3/itkImageSeriesReader.hxx, line 478\n",
      "ImageSeriesReader (0x1023979a0): Non uniform sampling or missing slices detected,  maximum nonuniformity:0.00098917\n",
      "\n"
     ]
    },
    {
     "name": "stdout",
     "output_type": "stream",
     "text": [
      "60014636505SQ transformation finished\n"
     ]
    },
    {
     "name": "stderr",
     "output_type": "stream",
     "text": [
      "WARNING: In /tmp/SimpleITK-build/ITK-prefix/include/ITK-5.3/itkImageSeriesReader.hxx, line 478\n",
      "ImageSeriesReader (0x1023b5930): Non uniform sampling or missing slices detected,  maximum nonuniformity:337.371\n",
      "\n"
     ]
    },
    {
     "name": "stdout",
     "output_type": "stream",
     "text": [
      "60015416346WFB transformation finished\n"
     ]
    },
    {
     "name": "stderr",
     "output_type": "stream",
     "text": [
      "WARNING: In /tmp/SimpleITK-build/ITK-prefix/include/ITK-5.3/itkImageSeriesReader.hxx, line 478\n",
      "ImageSeriesReader (0x105cc2bd0): Non uniform sampling or missing slices detected,  maximum nonuniformity:543.784\n",
      "\n"
     ]
    },
    {
     "name": "stdout",
     "output_type": "stream",
     "text": [
      "60015416346WFB transformation finished\n"
     ]
    },
    {
     "name": "stderr",
     "output_type": "stream",
     "text": [
      "WARNING: In /tmp/SimpleITK-build/ITK-prefix/include/ITK-5.3/itkImageSeriesReader.hxx, line 478\n",
      "ImageSeriesReader (0x1023ee780): Non uniform sampling or missing slices detected,  maximum nonuniformity:198.302\n",
      "\n"
     ]
    },
    {
     "name": "stdout",
     "output_type": "stream",
     "text": [
      "60015416346WFB transformation finished\n",
      "60015416346WFB transformation finished\n"
     ]
    },
    {
     "name": "stderr",
     "output_type": "stream",
     "text": [
      "WARNING: In /tmp/SimpleITK-build/ITK-prefix/include/ITK-5.3/itkImageSeriesReader.hxx, line 478\n",
      "ImageSeriesReader (0x3265fe320): Non uniform sampling or missing slices detected,  maximum nonuniformity:0.000702739\n",
      "\n",
      "WARNING: In /tmp/SimpleITK-build/ITK-prefix/include/ITK-5.3/itkImageSeriesReader.hxx, line 478\n",
      "ImageSeriesReader (0x3265f6060): Non uniform sampling or missing slices detected,  maximum nonuniformity:0.000702739\n",
      "\n"
     ]
    },
    {
     "name": "stdout",
     "output_type": "stream",
     "text": [
      "60015416346WFB transformation finished\n"
     ]
    },
    {
     "name": "stderr",
     "output_type": "stream",
     "text": [
      "WARNING: In /tmp/SimpleITK-build/ITK-prefix/include/ITK-5.3/itkImageSeriesReader.hxx, line 478\n",
      "ImageSeriesReader (0x327b4a840): Non uniform sampling or missing slices detected,  maximum nonuniformity:543.784\n",
      "\n"
     ]
    },
    {
     "name": "stdout",
     "output_type": "stream",
     "text": [
      "60015416346WFB transformation finished\n"
     ]
    },
    {
     "name": "stderr",
     "output_type": "stream",
     "text": [
      "WARNING: In /tmp/SimpleITK-build/ITK-prefix/include/ITK-5.3/itkImageSeriesReader.hxx, line 478\n",
      "ImageSeriesReader (0x1023fbfe0): Non uniform sampling or missing slices detected,  maximum nonuniformity:0.00072833\n",
      "\n"
     ]
    },
    {
     "name": "stdout",
     "output_type": "stream",
     "text": [
      "60015416346WFB transformation finished\n",
      "Skipped processing folder /Volumes/MR_analysis/MRCP_DICOM/60015416346WFB/SE11 due to insufficient DICOM files (<5).\n",
      "60015416346WFB transformation finished\n"
     ]
    },
    {
     "name": "stderr",
     "output_type": "stream",
     "text": [
      "WARNING: In /tmp/SimpleITK-build/ITK-prefix/include/ITK-5.3/itkImageSeriesReader.hxx, line 478\n",
      "ImageSeriesReader (0x1023ee780): Non uniform sampling or missing slices detected,  maximum nonuniformity:196.364\n",
      "\n",
      "WARNING: In /tmp/SimpleITK-build/ITK-prefix/include/ITK-5.3/itkImageSeriesReader.hxx, line 478\n",
      "ImageSeriesReader (0x1023ee780): Non uniform sampling or missing slices detected,  maximum nonuniformity:0.000134626\n",
      "\n"
     ]
    },
    {
     "name": "stdout",
     "output_type": "stream",
     "text": [
      "60015416346WFB transformation finished\n",
      "60015416346WFB transformation finished\n",
      "Skipped processing folder /Volumes/MR_analysis/MRCP_DICOM/60015416346WFB/SE18 due to insufficient DICOM files (<5).\n"
     ]
    },
    {
     "name": "stderr",
     "output_type": "stream",
     "text": [
      "WARNING: In /tmp/SimpleITK-build/ITK-prefix/include/ITK-5.3/itkImageSeriesReader.hxx, line 478\n",
      "ImageSeriesReader (0x1023fbc20): Non uniform sampling or missing slices detected,  maximum nonuniformity:83.5648\n",
      "\n"
     ]
    },
    {
     "name": "stdout",
     "output_type": "stream",
     "text": [
      "60015416346WFB transformation finished\n",
      "60015416346WFB transformation finished\n"
     ]
    },
    {
     "name": "stderr",
     "output_type": "stream",
     "text": [
      "WARNING: In /tmp/SimpleITK-build/ITK-prefix/include/ITK-5.3/itkImageSeriesReader.hxx, line 478\n",
      "ImageSeriesReader (0x1023979a0): Non uniform sampling or missing slices detected,  maximum nonuniformity:328.16\n",
      "\n",
      "WARNING: In /tmp/SimpleITK-build/ITK-prefix/include/ITK-5.3/itkImageSeriesReader.hxx, line 478\n",
      "ImageSeriesReader (0x1023fca70): Non uniform sampling or missing slices detected,  maximum nonuniformity:196.364\n",
      "\n"
     ]
    },
    {
     "name": "stdout",
     "output_type": "stream",
     "text": [
      "60015416346WFB transformation finished\n",
      "60015416346WFB transformation finished\n",
      "60015416346WFB transformation finished\n"
     ]
    },
    {
     "name": "stderr",
     "output_type": "stream",
     "text": [
      "WARNING: In /tmp/SimpleITK-build/ITK-prefix/include/ITK-5.3/itkImageSeriesReader.hxx, line 478\n",
      "ImageSeriesReader (0x1023cd010): Non uniform sampling or missing slices detected,  maximum nonuniformity:0.000950534\n",
      "\n"
     ]
    },
    {
     "name": "stdout",
     "output_type": "stream",
     "text": [
      "60015416346WFB transformation finished\n"
     ]
    },
    {
     "name": "stderr",
     "output_type": "stream",
     "text": [
      "WARNING: In /tmp/SimpleITK-build/ITK-prefix/include/ITK-5.3/itkImageSeriesReader.hxx, line 478\n",
      "ImageSeriesReader (0x10239ccb0): Non uniform sampling or missing slices detected,  maximum nonuniformity:0.000950534\n",
      "\n"
     ]
    },
    {
     "name": "stdout",
     "output_type": "stream",
     "text": [
      "60015416346WFB transformation finished\n"
     ]
    },
    {
     "name": "stderr",
     "output_type": "stream",
     "text": [
      "WARNING: In /tmp/SimpleITK-build/ITK-prefix/include/ITK-5.3/itkImageSeriesReader.hxx, line 478\n",
      "ImageSeriesReader (0x1023e1ac0): Non uniform sampling or missing slices detected,  maximum nonuniformity:0.000950534\n",
      "\n"
     ]
    },
    {
     "name": "stdout",
     "output_type": "stream",
     "text": [
      "60015416346WFB transformation finished\n"
     ]
    },
    {
     "name": "stderr",
     "output_type": "stream",
     "text": [
      "WARNING: In /tmp/SimpleITK-build/ITK-prefix/include/ITK-5.3/itkImageSeriesReader.hxx, line 478\n",
      "ImageSeriesReader (0x105ce2a90): Non uniform sampling or missing slices detected,  maximum nonuniformity:0.000950534\n",
      "\n"
     ]
    },
    {
     "name": "stdout",
     "output_type": "stream",
     "text": [
      "60015416346WFB transformation finished\n"
     ]
    },
    {
     "name": "stderr",
     "output_type": "stream",
     "text": [
      "WARNING: In /tmp/SimpleITK-build/ITK-prefix/include/ITK-5.3/itkImageSeriesReader.hxx, line 478\n",
      "ImageSeriesReader (0x105ce2a90): Non uniform sampling or missing slices detected,  maximum nonuniformity:0.000950534\n",
      "\n"
     ]
    },
    {
     "name": "stdout",
     "output_type": "stream",
     "text": [
      "60015416346WFB transformation finished\n"
     ]
    },
    {
     "name": "stderr",
     "output_type": "stream",
     "text": [
      "WARNING: In /tmp/SimpleITK-build/ITK-prefix/include/ITK-5.3/itkImageSeriesReader.hxx, line 478\n",
      "ImageSeriesReader (0x105cf7670): Non uniform sampling or missing slices detected,  maximum nonuniformity:0.000950534\n",
      "\n"
     ]
    },
    {
     "name": "stdout",
     "output_type": "stream",
     "text": [
      "60015416346WFB transformation finished\n"
     ]
    },
    {
     "name": "stderr",
     "output_type": "stream",
     "text": [
      "WARNING: In /tmp/SimpleITK-build/ITK-prefix/include/ITK-5.3/itkImageSeriesReader.hxx, line 478\n",
      "ImageSeriesReader (0x105cf7670): Non uniform sampling or missing slices detected,  maximum nonuniformity:0.000950534\n",
      "\n"
     ]
    },
    {
     "name": "stdout",
     "output_type": "stream",
     "text": [
      "60015416346WFB transformation finished\n",
      "60015416346WFB transformation finished\n"
     ]
    },
    {
     "name": "stderr",
     "output_type": "stream",
     "text": [
      "WARNING: In /tmp/SimpleITK-build/ITK-prefix/include/ITK-5.3/itkImageSeriesReader.hxx, line 478\n",
      "ImageSeriesReader (0x105cf7670): Non uniform sampling or missing slices detected,  maximum nonuniformity:0.000950534\n",
      "\n"
     ]
    },
    {
     "name": "stdout",
     "output_type": "stream",
     "text": [
      "60015416346WFB transformation finished\n"
     ]
    },
    {
     "name": "stderr",
     "output_type": "stream",
     "text": [
      "WARNING: In /tmp/SimpleITK-build/ITK-prefix/include/ITK-5.3/itkImageSeriesReader.hxx, line 478\n",
      "ImageSeriesReader (0x105cc2bd0): Non uniform sampling or missing slices detected,  maximum nonuniformity:0.000950534\n",
      "\n"
     ]
    },
    {
     "name": "stdout",
     "output_type": "stream",
     "text": [
      "60015416346WFB transformation finished\n"
     ]
    },
    {
     "name": "stderr",
     "output_type": "stream",
     "text": [
      "WARNING: In /tmp/SimpleITK-build/ITK-prefix/include/ITK-5.3/itkImageSeriesReader.hxx, line 478\n",
      "ImageSeriesReader (0x105cb5830): Non uniform sampling or missing slices detected,  maximum nonuniformity:0.000950534\n",
      "\n"
     ]
    },
    {
     "name": "stdout",
     "output_type": "stream",
     "text": [
      "60015416346WFB transformation finished\n"
     ]
    },
    {
     "name": "stderr",
     "output_type": "stream",
     "text": [
      "WARNING: In /tmp/SimpleITK-build/ITK-prefix/include/ITK-5.3/itkImageSeriesReader.hxx, line 478\n",
      "ImageSeriesReader (0x1023ee170): Non uniform sampling or missing slices detected,  maximum nonuniformity:0.000950534\n",
      "\n"
     ]
    },
    {
     "name": "stdout",
     "output_type": "stream",
     "text": [
      "60015416346WFB transformation finished\n",
      "60015416346WFB transformation finished\n"
     ]
    },
    {
     "name": "stderr",
     "output_type": "stream",
     "text": [
      "WARNING: In /tmp/SimpleITK-build/ITK-prefix/include/ITK-5.3/itkImageSeriesReader.hxx, line 478\n",
      "ImageSeriesReader (0x1023ee170): Non uniform sampling or missing slices detected,  maximum nonuniformity:0.000950534\n",
      "\n"
     ]
    },
    {
     "name": "stdout",
     "output_type": "stream",
     "text": [
      "60015416346WFB transformation finished\n"
     ]
    },
    {
     "name": "stderr",
     "output_type": "stream",
     "text": [
      "WARNING: In /tmp/SimpleITK-build/ITK-prefix/include/ITK-5.3/itkImageSeriesReader.hxx, line 478\n",
      "ImageSeriesReader (0x1023e1ac0): Non uniform sampling or missing slices detected,  maximum nonuniformity:0.000950534\n",
      "\n"
     ]
    },
    {
     "name": "stdout",
     "output_type": "stream",
     "text": [
      "60015416346WFB transformation finished\n"
     ]
    },
    {
     "name": "stderr",
     "output_type": "stream",
     "text": [
      "WARNING: In /tmp/SimpleITK-build/ITK-prefix/include/ITK-5.3/itkImageSeriesReader.hxx, line 478\n",
      "ImageSeriesReader (0x1023979a0): Non uniform sampling or missing slices detected,  maximum nonuniformity:0.000950534\n",
      "\n"
     ]
    },
    {
     "name": "stdout",
     "output_type": "stream",
     "text": [
      "60015416346WFB transformation finished\n"
     ]
    },
    {
     "name": "stderr",
     "output_type": "stream",
     "text": [
      "WARNING: In /tmp/SimpleITK-build/ITK-prefix/include/ITK-5.3/itkImageSeriesReader.hxx, line 478\n",
      "ImageSeriesReader (0x1023e5c60): Non uniform sampling or missing slices detected,  maximum nonuniformity:0.000950534\n",
      "\n"
     ]
    },
    {
     "name": "stdout",
     "output_type": "stream",
     "text": [
      "60015416346WFB transformation finished\n",
      "60015416346WFB transformation finished\n"
     ]
    },
    {
     "name": "stderr",
     "output_type": "stream",
     "text": [
      "WARNING: In /tmp/SimpleITK-build/ITK-prefix/include/ITK-5.3/itkImageSeriesReader.hxx, line 478\n",
      "ImageSeriesReader (0x1023fbfe0): Non uniform sampling or missing slices detected,  maximum nonuniformity:0.000950534\n",
      "\n"
     ]
    },
    {
     "name": "stdout",
     "output_type": "stream",
     "text": [
      "60015416346WFB transformation finished\n",
      "60015416346WFB transformation finished\n",
      "60015416346WFB transformation finished\n",
      "60015416346WFB transformation finished\n",
      "60015416346WFB transformation finished\n",
      "60015416346WFB transformation finished\n"
     ]
    },
    {
     "name": "stderr",
     "output_type": "stream",
     "text": [
      "WARNING: In /tmp/SimpleITK-build/ITK-prefix/include/ITK-5.3/itkImageSeriesReader.hxx, line 478\n",
      "ImageSeriesReader (0x105ce2a90): Non uniform sampling or missing slices detected,  maximum nonuniformity:198.302\n",
      "\n"
     ]
    },
    {
     "name": "stdout",
     "output_type": "stream",
     "text": [
      "60015416346WFB transformation finished\n",
      "Skipped processing folder /Volumes/MR_analysis/MRCP_DICOM/60015416346WFB/SE8 due to insufficient DICOM files (<5).\n"
     ]
    },
    {
     "name": "stderr",
     "output_type": "stream",
     "text": [
      "WARNING: In /tmp/SimpleITK-build/ITK-prefix/include/ITK-5.3/itkImageSeriesReader.hxx, line 478\n",
      "ImageSeriesReader (0x105cb5830): Non uniform sampling or missing slices detected,  maximum nonuniformity:0.000134626\n",
      "\n"
     ]
    },
    {
     "name": "stdout",
     "output_type": "stream",
     "text": [
      "60015416346WFB transformation finished\n",
      "60015416346WFB transformation finished\n"
     ]
    },
    {
     "name": "stderr",
     "output_type": "stream",
     "text": [
      "WARNING: In /tmp/SimpleITK-build/ITK-prefix/include/ITK-5.3/itkImageSeriesReader.hxx, line 478\n",
      "ImageSeriesReader (0x105cb5830): Non uniform sampling or missing slices detected,  maximum nonuniformity:276.567\n",
      "\n",
      "WARNING: In /tmp/SimpleITK-build/ITK-prefix/include/ITK-5.3/itkImageSeriesReader.hxx, line 478\n",
      "ImageSeriesReader (0x105ce2a90): Non uniform sampling or missing slices detected,  maximum nonuniformity:323.233\n",
      "\n"
     ]
    },
    {
     "name": "stdout",
     "output_type": "stream",
     "text": [
      "60015416346WFB transformation finished\n",
      "60015416346WFB transformation finished\n"
     ]
    },
    {
     "name": "stderr",
     "output_type": "stream",
     "text": [
      "WARNING: In /tmp/SimpleITK-build/ITK-prefix/include/ITK-5.3/itkImageSeriesReader.hxx, line 478\n",
      "ImageSeriesReader (0x3265ff600): Non uniform sampling or missing slices detected,  maximum nonuniformity:0.000702739\n",
      "\n",
      "WARNING: In /tmp/SimpleITK-build/ITK-prefix/include/ITK-5.3/itkImageSeriesReader.hxx, line 478\n",
      "ImageSeriesReader (0x105cb5830): Non uniform sampling or missing slices detected,  maximum nonuniformity:0.000702739\n",
      "\n"
     ]
    },
    {
     "name": "stdout",
     "output_type": "stream",
     "text": [
      "60015416346WFB transformation finished\n",
      "Skipped processing folder /Volumes/MR_analysis/MRCP_DICOM/60015416346WFB/SE26 due to insufficient DICOM files (<5).\n",
      "60015416346WFB transformation finished\n",
      "60015416346WFB transformation finished\n"
     ]
    },
    {
     "name": "stderr",
     "output_type": "stream",
     "text": [
      "WARNING: In /tmp/SimpleITK-build/ITK-prefix/include/ITK-5.3/itkImageSeriesReader.hxx, line 478\n",
      "ImageSeriesReader (0x105cc2bd0): Non uniform sampling or missing slices detected,  maximum nonuniformity:323.24\n",
      "\n",
      "WARNING: In /tmp/SimpleITK-build/ITK-prefix/include/ITK-5.3/itkImageSeriesReader.hxx, line 478\n",
      "ImageSeriesReader (0x105cc2bd0): Non uniform sampling or missing slices detected,  maximum nonuniformity:328.16\n",
      "\n"
     ]
    },
    {
     "name": "stdout",
     "output_type": "stream",
     "text": [
      "60015416346WFB transformation finished\n"
     ]
    },
    {
     "name": "stderr",
     "output_type": "stream",
     "text": [
      "WARNING: In /tmp/SimpleITK-build/ITK-prefix/include/ITK-5.3/itkImageSeriesReader.hxx, line 478\n",
      "ImageSeriesReader (0x105cb5830): Non uniform sampling or missing slices detected,  maximum nonuniformity:0.000950534\n",
      "\n"
     ]
    },
    {
     "name": "stdout",
     "output_type": "stream",
     "text": [
      "60015416346WFB transformation finished\n"
     ]
    },
    {
     "name": "stderr",
     "output_type": "stream",
     "text": [
      "WARNING: In /tmp/SimpleITK-build/ITK-prefix/include/ITK-5.3/itkImageSeriesReader.hxx, line 478\n",
      "ImageSeriesReader (0x10239b8e0): Non uniform sampling or missing slices detected,  maximum nonuniformity:0.000950534\n",
      "\n"
     ]
    },
    {
     "name": "stdout",
     "output_type": "stream",
     "text": [
      "60015416346WFB transformation finished\n"
     ]
    },
    {
     "name": "stderr",
     "output_type": "stream",
     "text": [
      "WARNING: In /tmp/SimpleITK-build/ITK-prefix/include/ITK-5.3/itkImageSeriesReader.hxx, line 478\n",
      "ImageSeriesReader (0x10239f2a0): Non uniform sampling or missing slices detected,  maximum nonuniformity:0.000950534\n",
      "\n"
     ]
    },
    {
     "name": "stdout",
     "output_type": "stream",
     "text": [
      "60015416346WFB transformation finished\n",
      "60015416346WFB transformation finished\n"
     ]
    },
    {
     "name": "stderr",
     "output_type": "stream",
     "text": [
      "WARNING: In /tmp/SimpleITK-build/ITK-prefix/include/ITK-5.3/itkImageSeriesReader.hxx, line 478\n",
      "ImageSeriesReader (0x10239f2a0): Non uniform sampling or missing slices detected,  maximum nonuniformity:0.000950534\n",
      "\n"
     ]
    },
    {
     "name": "stdout",
     "output_type": "stream",
     "text": [
      "60015416346WFB transformation finished\n"
     ]
    },
    {
     "name": "stderr",
     "output_type": "stream",
     "text": [
      "WARNING: In /tmp/SimpleITK-build/ITK-prefix/include/ITK-5.3/itkImageSeriesReader.hxx, line 478\n",
      "ImageSeriesReader (0x10239ccb0): Non uniform sampling or missing slices detected,  maximum nonuniformity:337.371\n",
      "\n"
     ]
    },
    {
     "name": "stdout",
     "output_type": "stream",
     "text": [
      "60015832497YSC transformation finished\n"
     ]
    },
    {
     "name": "stderr",
     "output_type": "stream",
     "text": [
      "WARNING: In /tmp/SimpleITK-build/ITK-prefix/include/ITK-5.3/itkImageSeriesReader.hxx, line 478\n",
      "ImageSeriesReader (0x1023fbc20): Non uniform sampling or missing slices detected,  maximum nonuniformity:543.784\n",
      "\n"
     ]
    },
    {
     "name": "stdout",
     "output_type": "stream",
     "text": [
      "60015832497YSC transformation finished\n"
     ]
    },
    {
     "name": "stderr",
     "output_type": "stream",
     "text": [
      "WARNING: In /tmp/SimpleITK-build/ITK-prefix/include/ITK-5.3/itkImageSeriesReader.hxx, line 478\n",
      "ImageSeriesReader (0x1023fbfe0): Non uniform sampling or missing slices detected,  maximum nonuniformity:213.555\n",
      "\n"
     ]
    },
    {
     "name": "stdout",
     "output_type": "stream",
     "text": [
      "60015832497YSC transformation finished\n",
      "60015832497YSC transformation finished\n",
      "60015832497YSC transformation finished\n",
      "60015832497YSC transformation finished\n"
     ]
    },
    {
     "name": "stderr",
     "output_type": "stream",
     "text": [
      "WARNING: In /tmp/SimpleITK-build/ITK-prefix/include/ITK-5.3/itkImageSeriesReader.hxx, line 478\n",
      "ImageSeriesReader (0x10239f2a0): Non uniform sampling or missing slices detected,  maximum nonuniformity:0.000293656\n",
      "\n"
     ]
    },
    {
     "name": "stdout",
     "output_type": "stream",
     "text": [
      "60015832497YSC transformation finished\n",
      "Skipped processing folder /Volumes/MR_analysis/MRCP_DICOM/60015832497YSC/SE41 due to insufficient DICOM files (<5).\n",
      "60015832497YSC transformation finished\n"
     ]
    },
    {
     "name": "stderr",
     "output_type": "stream",
     "text": [
      "WARNING: In /tmp/SimpleITK-build/ITK-prefix/include/ITK-5.3/itkImageSeriesReader.hxx, line 478\n",
      "ImageSeriesReader (0x1023979a0): Non uniform sampling or missing slices detected,  maximum nonuniformity:328.153\n",
      "\n",
      "WARNING: In /tmp/SimpleITK-build/ITK-prefix/include/ITK-5.3/itkImageSeriesReader.hxx, line 478\n",
      "ImageSeriesReader (0x1023b5930): Non uniform sampling or missing slices detected,  maximum nonuniformity:328.16\n",
      "\n"
     ]
    },
    {
     "name": "stdout",
     "output_type": "stream",
     "text": [
      "60015832497YSC transformation finished\n",
      "60015832497YSC transformation finished\n",
      "Skipped processing folder /Volumes/MR_analysis/MRCP_DICOM/60015832497YSC/SE23 due to insufficient DICOM files (<5).\n",
      "60015832497YSC transformation finished\n"
     ]
    },
    {
     "name": "stderr",
     "output_type": "stream",
     "text": [
      "WARNING: In /tmp/SimpleITK-build/ITK-prefix/include/ITK-5.3/itkImageSeriesReader.hxx, line 478\n",
      "ImageSeriesReader (0x1023979a0): Non uniform sampling or missing slices detected,  maximum nonuniformity:328.16\n",
      "\n",
      "WARNING: In /tmp/SimpleITK-build/ITK-prefix/include/ITK-5.3/itkImageSeriesReader.hxx, line 478\n",
      "ImageSeriesReader (0x1023fbc20): Non uniform sampling or missing slices detected,  maximum nonuniformity:328.16\n",
      "\n"
     ]
    },
    {
     "name": "stdout",
     "output_type": "stream",
     "text": [
      "60015832497YSC transformation finished\n",
      "60015832497YSC transformation finished\n"
     ]
    },
    {
     "name": "stderr",
     "output_type": "stream",
     "text": [
      "WARNING: In /tmp/SimpleITK-build/ITK-prefix/include/ITK-5.3/itkImageSeriesReader.hxx, line 478\n",
      "ImageSeriesReader (0x105cb5830): Non uniform sampling or missing slices detected,  maximum nonuniformity:0.000697627\n",
      "\n"
     ]
    },
    {
     "name": "stdout",
     "output_type": "stream",
     "text": [
      "60015832497YSC transformation finished\n"
     ]
    },
    {
     "name": "stderr",
     "output_type": "stream",
     "text": [
      "WARNING: In /tmp/SimpleITK-build/ITK-prefix/include/ITK-5.3/itkImageSeriesReader.hxx, line 478\n",
      "ImageSeriesReader (0x105ce2a90): Non uniform sampling or missing slices detected,  maximum nonuniformity:0.000697627\n",
      "\n"
     ]
    },
    {
     "name": "stdout",
     "output_type": "stream",
     "text": [
      "60015832497YSC transformation finished\n"
     ]
    },
    {
     "name": "stderr",
     "output_type": "stream",
     "text": [
      "WARNING: In /tmp/SimpleITK-build/ITK-prefix/include/ITK-5.3/itkImageSeriesReader.hxx, line 478\n",
      "ImageSeriesReader (0x105ce2a90): Non uniform sampling or missing slices detected,  maximum nonuniformity:0.000697627\n",
      "\n"
     ]
    },
    {
     "name": "stdout",
     "output_type": "stream",
     "text": [
      "60015832497YSC transformation finished\n",
      "60015832497YSC transformation finished\n"
     ]
    },
    {
     "name": "stderr",
     "output_type": "stream",
     "text": [
      "WARNING: In /tmp/SimpleITK-build/ITK-prefix/include/ITK-5.3/itkImageSeriesReader.hxx, line 478\n",
      "ImageSeriesReader (0x105ffabe0): Non uniform sampling or missing slices detected,  maximum nonuniformity:0.000697627\n",
      "\n"
     ]
    },
    {
     "name": "stdout",
     "output_type": "stream",
     "text": [
      "60015832497YSC transformation finished\n"
     ]
    },
    {
     "name": "stderr",
     "output_type": "stream",
     "text": [
      "WARNING: In /tmp/SimpleITK-build/ITK-prefix/include/ITK-5.3/itkImageSeriesReader.hxx, line 478\n",
      "ImageSeriesReader (0x105ce2a90): Non uniform sampling or missing slices detected,  maximum nonuniformity:0.000708642\n",
      "\n"
     ]
    },
    {
     "name": "stdout",
     "output_type": "stream",
     "text": [
      "60015832497YSC transformation finished\n",
      "60015832497YSC transformation finished\n"
     ]
    },
    {
     "name": "stderr",
     "output_type": "stream",
     "text": [
      "WARNING: In /tmp/SimpleITK-build/ITK-prefix/include/ITK-5.3/itkImageSeriesReader.hxx, line 478\n",
      "ImageSeriesReader (0x105cc2bd0): Non uniform sampling or missing slices detected,  maximum nonuniformity:0.000708642\n",
      "\n"
     ]
    },
    {
     "name": "stdout",
     "output_type": "stream",
     "text": [
      "60015832497YSC transformation finished\n"
     ]
    },
    {
     "name": "stderr",
     "output_type": "stream",
     "text": [
      "WARNING: In /tmp/SimpleITK-build/ITK-prefix/include/ITK-5.3/itkImageSeriesReader.hxx, line 478\n",
      "ImageSeriesReader (0x105cb5830): Non uniform sampling or missing slices detected,  maximum nonuniformity:0.000708642\n",
      "\n"
     ]
    },
    {
     "name": "stdout",
     "output_type": "stream",
     "text": [
      "60015832497YSC transformation finished\n"
     ]
    },
    {
     "name": "stderr",
     "output_type": "stream",
     "text": [
      "WARNING: In /tmp/SimpleITK-build/ITK-prefix/include/ITK-5.3/itkImageSeriesReader.hxx, line 478\n",
      "ImageSeriesReader (0x1023e5c60): Non uniform sampling or missing slices detected,  maximum nonuniformity:0.000708642\n",
      "\n"
     ]
    },
    {
     "name": "stdout",
     "output_type": "stream",
     "text": [
      "60015832497YSC transformation finished\n"
     ]
    },
    {
     "name": "stderr",
     "output_type": "stream",
     "text": [
      "WARNING: In /tmp/SimpleITK-build/ITK-prefix/include/ITK-5.3/itkImageSeriesReader.hxx, line 478\n",
      "ImageSeriesReader (0x1023f7890): Non uniform sampling or missing slices detected,  maximum nonuniformity:0.000708642\n",
      "\n"
     ]
    },
    {
     "name": "stdout",
     "output_type": "stream",
     "text": [
      "60015832497YSC transformation finished\n"
     ]
    },
    {
     "name": "stderr",
     "output_type": "stream",
     "text": [
      "WARNING: In /tmp/SimpleITK-build/ITK-prefix/include/ITK-5.3/itkImageSeriesReader.hxx, line 478\n",
      "ImageSeriesReader (0x1023ee170): Non uniform sampling or missing slices detected,  maximum nonuniformity:0.000708642\n",
      "\n"
     ]
    },
    {
     "name": "stdout",
     "output_type": "stream",
     "text": [
      "60015832497YSC transformation finished\n",
      "60015832497YSC transformation finished\n"
     ]
    },
    {
     "name": "stderr",
     "output_type": "stream",
     "text": [
      "WARNING: In /tmp/SimpleITK-build/ITK-prefix/include/ITK-5.3/itkImageSeriesReader.hxx, line 478\n",
      "ImageSeriesReader (0x10239bee0): Non uniform sampling or missing slices detected,  maximum nonuniformity:0.000708642\n",
      "\n"
     ]
    },
    {
     "name": "stdout",
     "output_type": "stream",
     "text": [
      "60015832497YSC transformation finished\n"
     ]
    },
    {
     "name": "stderr",
     "output_type": "stream",
     "text": [
      "WARNING: In /tmp/SimpleITK-build/ITK-prefix/include/ITK-5.3/itkImageSeriesReader.hxx, line 478\n",
      "ImageSeriesReader (0x120787a20): Non uniform sampling or missing slices detected,  maximum nonuniformity:0.000708642\n",
      "\n"
     ]
    },
    {
     "name": "stdout",
     "output_type": "stream",
     "text": [
      "60015832497YSC transformation finished\n"
     ]
    },
    {
     "name": "stderr",
     "output_type": "stream",
     "text": [
      "WARNING: In /tmp/SimpleITK-build/ITK-prefix/include/ITK-5.3/itkImageSeriesReader.hxx, line 478\n",
      "ImageSeriesReader (0x1023e73c0): Non uniform sampling or missing slices detected,  maximum nonuniformity:0.000708642\n",
      "\n"
     ]
    },
    {
     "name": "stdout",
     "output_type": "stream",
     "text": [
      "60015832497YSC transformation finished\n"
     ]
    },
    {
     "name": "stderr",
     "output_type": "stream",
     "text": [
      "WARNING: In /tmp/SimpleITK-build/ITK-prefix/include/ITK-5.3/itkImageSeriesReader.hxx, line 478\n",
      "ImageSeriesReader (0x105cb5830): Non uniform sampling or missing slices detected,  maximum nonuniformity:0.000708642\n",
      "\n"
     ]
    },
    {
     "name": "stdout",
     "output_type": "stream",
     "text": [
      "60015832497YSC transformation finished\n",
      "60015832497YSC transformation finished\n"
     ]
    },
    {
     "name": "stderr",
     "output_type": "stream",
     "text": [
      "WARNING: In /tmp/SimpleITK-build/ITK-prefix/include/ITK-5.3/itkImageSeriesReader.hxx, line 478\n",
      "ImageSeriesReader (0x105ce2a90): Non uniform sampling or missing slices detected,  maximum nonuniformity:0.000708642\n",
      "\n"
     ]
    },
    {
     "name": "stdout",
     "output_type": "stream",
     "text": [
      "60015832497YSC transformation finished\n"
     ]
    },
    {
     "name": "stderr",
     "output_type": "stream",
     "text": [
      "WARNING: In /tmp/SimpleITK-build/ITK-prefix/include/ITK-5.3/itkImageSeriesReader.hxx, line 478\n",
      "ImageSeriesReader (0x105ce2a90): Non uniform sampling or missing slices detected,  maximum nonuniformity:0.000708642\n",
      "\n"
     ]
    },
    {
     "name": "stdout",
     "output_type": "stream",
     "text": [
      "60015832497YSC transformation finished\n"
     ]
    },
    {
     "name": "stderr",
     "output_type": "stream",
     "text": [
      "WARNING: In /tmp/SimpleITK-build/ITK-prefix/include/ITK-5.3/itkImageSeriesReader.hxx, line 478\n",
      "ImageSeriesReader (0x105cf7670): Non uniform sampling or missing slices detected,  maximum nonuniformity:0.000455825\n",
      "\n"
     ]
    },
    {
     "name": "stdout",
     "output_type": "stream",
     "text": [
      "60015832497YSC transformation finished\n",
      "60015832497YSC transformation finished\n"
     ]
    },
    {
     "name": "stderr",
     "output_type": "stream",
     "text": [
      "WARNING: In /tmp/SimpleITK-build/ITK-prefix/include/ITK-5.3/itkImageSeriesReader.hxx, line 478\n",
      "ImageSeriesReader (0x105cf7670): Non uniform sampling or missing slices detected,  maximum nonuniformity:0.000455825\n",
      "\n"
     ]
    },
    {
     "name": "stdout",
     "output_type": "stream",
     "text": [
      "60015832497YSC transformation finished\n"
     ]
    },
    {
     "name": "stderr",
     "output_type": "stream",
     "text": [
      "WARNING: In /tmp/SimpleITK-build/ITK-prefix/include/ITK-5.3/itkImageSeriesReader.hxx, line 478\n",
      "ImageSeriesReader (0x105ce2a90): Non uniform sampling or missing slices detected,  maximum nonuniformity:0.000455825\n",
      "\n"
     ]
    },
    {
     "name": "stdout",
     "output_type": "stream",
     "text": [
      "60015832497YSC transformation finished\n"
     ]
    },
    {
     "name": "stderr",
     "output_type": "stream",
     "text": [
      "WARNING: In /tmp/SimpleITK-build/ITK-prefix/include/ITK-5.3/itkImageSeriesReader.hxx, line 478\n",
      "ImageSeriesReader (0x105cb5830): Non uniform sampling or missing slices detected,  maximum nonuniformity:0.000455825\n",
      "\n"
     ]
    },
    {
     "name": "stdout",
     "output_type": "stream",
     "text": [
      "60015832497YSC transformation finished\n"
     ]
    },
    {
     "name": "stderr",
     "output_type": "stream",
     "text": [
      "WARNING: In /tmp/SimpleITK-build/ITK-prefix/include/ITK-5.3/itkImageSeriesReader.hxx, line 478\n",
      "ImageSeriesReader (0x10239f2a0): Non uniform sampling or missing slices detected,  maximum nonuniformity:213.555\n",
      "\n"
     ]
    },
    {
     "name": "stdout",
     "output_type": "stream",
     "text": [
      "60015832497YSC transformation finished\n"
     ]
    },
    {
     "name": "stderr",
     "output_type": "stream",
     "text": [
      "WARNING: In /tmp/SimpleITK-build/ITK-prefix/include/ITK-5.3/itkImageSeriesReader.hxx, line 478\n",
      "ImageSeriesReader (0x1023b5930): Non uniform sampling or missing slices detected,  maximum nonuniformity:0.000293656\n",
      "\n"
     ]
    },
    {
     "name": "stdout",
     "output_type": "stream",
     "text": [
      "60015832497YSC transformation finished\n",
      "Skipped processing folder /Volumes/MR_analysis/MRCP_DICOM/60015832497YSC/SE32 due to insufficient DICOM files (<5).\n",
      "60015832497YSC transformation finished\n"
     ]
    },
    {
     "name": "stderr",
     "output_type": "stream",
     "text": [
      "WARNING: In /tmp/SimpleITK-build/ITK-prefix/include/ITK-5.3/itkImageSeriesReader.hxx, line 478\n",
      "ImageSeriesReader (0x1023b47f0): Non uniform sampling or missing slices detected,  maximum nonuniformity:328.16\n",
      "\n",
      "WARNING: In /tmp/SimpleITK-build/ITK-prefix/include/ITK-5.3/itkImageSeriesReader.hxx, line 478\n",
      "ImageSeriesReader (0x1023fbc20): Non uniform sampling or missing slices detected,  maximum nonuniformity:328.16\n",
      "\n"
     ]
    },
    {
     "name": "stdout",
     "output_type": "stream",
     "text": [
      "60015832497YSC transformation finished\n",
      "60015832497YSC transformation finished\n",
      "60015832497YSC transformation finished\n",
      "60015832497YSC transformation finished\n",
      "Skipped processing folder /Volumes/MR_analysis/MRCP_DICOM/60015832497YSC/SE19 due to insufficient DICOM files (<5).\n",
      "60015832497YSC transformation finished\n"
     ]
    },
    {
     "name": "stderr",
     "output_type": "stream",
     "text": [
      "WARNING: In /tmp/SimpleITK-build/ITK-prefix/include/ITK-5.3/itkImageSeriesReader.hxx, line 478\n",
      "ImageSeriesReader (0x102388590): Non uniform sampling or missing slices detected,  maximum nonuniformity:328.153\n",
      "\n",
      "WARNING: In /tmp/SimpleITK-build/ITK-prefix/include/ITK-5.3/itkImageSeriesReader.hxx, line 478\n",
      "ImageSeriesReader (0x1023b47f0): Non uniform sampling or missing slices detected,  maximum nonuniformity:328.153\n",
      "\n"
     ]
    },
    {
     "name": "stdout",
     "output_type": "stream",
     "text": [
      "60015832497YSC transformation finished\n"
     ]
    },
    {
     "name": "stderr",
     "output_type": "stream",
     "text": [
      "WARNING: In /tmp/SimpleITK-build/ITK-prefix/include/ITK-5.3/itkImageSeriesReader.hxx, line 478\n",
      "ImageSeriesReader (0x1023ee170): Non uniform sampling or missing slices detected,  maximum nonuniformity:0.000708642\n",
      "\n"
     ]
    },
    {
     "name": "stdout",
     "output_type": "stream",
     "text": [
      "60015832497YSC transformation finished\n"
     ]
    },
    {
     "name": "stderr",
     "output_type": "stream",
     "text": [
      "WARNING: In /tmp/SimpleITK-build/ITK-prefix/include/ITK-5.3/itkImageSeriesReader.hxx, line 478\n",
      "ImageSeriesReader (0x1023f7890): Non uniform sampling or missing slices detected,  maximum nonuniformity:0.000708642\n",
      "\n"
     ]
    },
    {
     "name": "stdout",
     "output_type": "stream",
     "text": [
      "60015832497YSC transformation finished\n"
     ]
    },
    {
     "name": "stderr",
     "output_type": "stream",
     "text": [
      "WARNING: In /tmp/SimpleITK-build/ITK-prefix/include/ITK-5.3/itkImageSeriesReader.hxx, line 478\n",
      "ImageSeriesReader (0x1023cd010): Non uniform sampling or missing slices detected,  maximum nonuniformity:0.000708642\n",
      "\n"
     ]
    },
    {
     "name": "stdout",
     "output_type": "stream",
     "text": [
      "60015832497YSC transformation finished\n"
     ]
    },
    {
     "name": "stderr",
     "output_type": "stream",
     "text": [
      "WARNING: In /tmp/SimpleITK-build/ITK-prefix/include/ITK-5.3/itkImageSeriesReader.hxx, line 478\n",
      "ImageSeriesReader (0x1023e73c0): Non uniform sampling or missing slices detected,  maximum nonuniformity:0.000708642\n",
      "\n"
     ]
    },
    {
     "name": "stdout",
     "output_type": "stream",
     "text": [
      "60015832497YSC transformation finished\n",
      "60015832497YSC transformation finished\n"
     ]
    },
    {
     "name": "stderr",
     "output_type": "stream",
     "text": [
      "WARNING: In /tmp/SimpleITK-build/ITK-prefix/include/ITK-5.3/itkImageSeriesReader.hxx, line 478\n",
      "ImageSeriesReader (0x105ce2a90): Non uniform sampling or missing slices detected,  maximum nonuniformity:337.371\n",
      "\n"
     ]
    },
    {
     "name": "stdout",
     "output_type": "stream",
     "text": [
      "60016522809LXQ transformation finished\n"
     ]
    },
    {
     "name": "stderr",
     "output_type": "stream",
     "text": [
      "WARNING: In /tmp/SimpleITK-build/ITK-prefix/include/ITK-5.3/itkImageSeriesReader.hxx, line 478\n",
      "ImageSeriesReader (0x105cf7670): Non uniform sampling or missing slices detected,  maximum nonuniformity:543.784\n",
      "\n"
     ]
    },
    {
     "name": "stdout",
     "output_type": "stream",
     "text": [
      "60016522809LXQ transformation finished\n"
     ]
    },
    {
     "name": "stderr",
     "output_type": "stream",
     "text": [
      "WARNING: In /tmp/SimpleITK-build/ITK-prefix/include/ITK-5.3/itkImageSeriesReader.hxx, line 478\n",
      "ImageSeriesReader (0x105cf7670): Non uniform sampling or missing slices detected,  maximum nonuniformity:207.042\n",
      "\n"
     ]
    },
    {
     "name": "stdout",
     "output_type": "stream",
     "text": [
      "60016522809LXQ transformation finished\n"
     ]
    },
    {
     "name": "stderr",
     "output_type": "stream",
     "text": [
      "WARNING: In /tmp/SimpleITK-build/ITK-prefix/include/ITK-5.3/itkImageSeriesReader.hxx, line 478\n",
      "ImageSeriesReader (0x105cb5830): Non uniform sampling or missing slices detected,  maximum nonuniformity:0.000626137\n",
      "\n"
     ]
    },
    {
     "name": "stdout",
     "output_type": "stream",
     "text": [
      "60016522809LXQ transformation finished\n",
      "60016522809LXQ transformation finished\n"
     ]
    },
    {
     "name": "stderr",
     "output_type": "stream",
     "text": [
      "WARNING: In /tmp/SimpleITK-build/ITK-prefix/include/ITK-5.3/itkImageSeriesReader.hxx, line 478\n",
      "ImageSeriesReader (0x105cb5830): Non uniform sampling or missing slices detected,  maximum nonuniformity:0.000603608\n",
      "\n",
      "WARNING: In /tmp/SimpleITK-build/ITK-prefix/include/ITK-5.3/itkImageSeriesReader.hxx, line 478\n",
      "ImageSeriesReader (0x105cf5290): Non uniform sampling or missing slices detected,  maximum nonuniformity:0.000603608\n",
      "\n"
     ]
    },
    {
     "name": "stdout",
     "output_type": "stream",
     "text": [
      "60016522809LXQ transformation finished\n",
      "60016522809LXQ transformation finished\n"
     ]
    },
    {
     "name": "stderr",
     "output_type": "stream",
     "text": [
      "WARNING: In /tmp/SimpleITK-build/ITK-prefix/include/ITK-5.3/itkImageSeriesReader.hxx, line 478\n",
      "ImageSeriesReader (0x105cb5830): Non uniform sampling or missing slices detected,  maximum nonuniformity:328.154\n",
      "\n",
      "WARNING: In /tmp/SimpleITK-build/ITK-prefix/include/ITK-5.3/itkImageSeriesReader.hxx, line 478\n",
      "ImageSeriesReader (0x105cfba60): Non uniform sampling or missing slices detected,  maximum nonuniformity:328.153\n",
      "\n"
     ]
    },
    {
     "name": "stdout",
     "output_type": "stream",
     "text": [
      "60016522809LXQ transformation finished\n"
     ]
    },
    {
     "name": "stderr",
     "output_type": "stream",
     "text": [
      "WARNING: In /tmp/SimpleITK-build/ITK-prefix/include/ITK-5.3/itkImageSeriesReader.hxx, line 478\n",
      "ImageSeriesReader (0x105cf7670): Non uniform sampling or missing slices detected,  maximum nonuniformity:0.000174876\n",
      "\n"
     ]
    },
    {
     "name": "stdout",
     "output_type": "stream",
     "text": [
      "60016522809LXQ transformation finished\n",
      "Skipped processing folder /Volumes/MR_analysis/MRCP_DICOM/60016522809LXQ/SE52 due to insufficient DICOM files (<5).\n",
      "Skipped processing folder /Volumes/MR_analysis/MRCP_DICOM/60016522809LXQ/SE10 due to insufficient DICOM files (<5).\n",
      "60016522809LXQ transformation finished\n"
     ]
    },
    {
     "name": "stderr",
     "output_type": "stream",
     "text": [
      "WARNING: In /tmp/SimpleITK-build/ITK-prefix/include/ITK-5.3/itkImageSeriesReader.hxx, line 478\n",
      "ImageSeriesReader (0x105cb5830): Non uniform sampling or missing slices detected,  maximum nonuniformity:276.567\n",
      "\n",
      "WARNING: In /tmp/SimpleITK-build/ITK-prefix/include/ITK-5.3/itkImageSeriesReader.hxx, line 478\n",
      "ImageSeriesReader (0x105cc2bd0): Non uniform sampling or missing slices detected,  maximum nonuniformity:196.364\n",
      "\n"
     ]
    },
    {
     "name": "stdout",
     "output_type": "stream",
     "text": [
      "60016522809LXQ transformation finished\n"
     ]
    },
    {
     "name": "stderr",
     "output_type": "stream",
     "text": [
      "WARNING: In /tmp/SimpleITK-build/ITK-prefix/include/ITK-5.3/itkImageSeriesReader.hxx, line 478\n",
      "ImageSeriesReader (0x105ce2a90): Non uniform sampling or missing slices detected,  maximum nonuniformity:0.000245003\n",
      "\n"
     ]
    },
    {
     "name": "stdout",
     "output_type": "stream",
     "text": [
      "60016522809LXQ transformation finished\n",
      "60016522809LXQ transformation finished\n"
     ]
    },
    {
     "name": "stderr",
     "output_type": "stream",
     "text": [
      "WARNING: In /tmp/SimpleITK-build/ITK-prefix/include/ITK-5.3/itkImageSeriesReader.hxx, line 478\n",
      "ImageSeriesReader (0x105cf7670): Non uniform sampling or missing slices detected,  maximum nonuniformity:0.000379032\n",
      "\n"
     ]
    },
    {
     "name": "stdout",
     "output_type": "stream",
     "text": [
      "60016522809LXQ transformation finished\n"
     ]
    },
    {
     "name": "stderr",
     "output_type": "stream",
     "text": [
      "WARNING: In /tmp/SimpleITK-build/ITK-prefix/include/ITK-5.3/itkImageSeriesReader.hxx, line 478\n",
      "ImageSeriesReader (0x105cc2bd0): Non uniform sampling or missing slices detected,  maximum nonuniformity:0.000379032\n",
      "\n"
     ]
    },
    {
     "name": "stdout",
     "output_type": "stream",
     "text": [
      "60016522809LXQ transformation finished\n"
     ]
    },
    {
     "name": "stderr",
     "output_type": "stream",
     "text": [
      "WARNING: In /tmp/SimpleITK-build/ITK-prefix/include/ITK-5.3/itkImageSeriesReader.hxx, line 478\n",
      "ImageSeriesReader (0x1023ee170): Non uniform sampling or missing slices detected,  maximum nonuniformity:0.000379032\n",
      "\n"
     ]
    },
    {
     "name": "stdout",
     "output_type": "stream",
     "text": [
      "60016522809LXQ transformation finished\n",
      "60016522809LXQ transformation finished\n"
     ]
    },
    {
     "name": "stderr",
     "output_type": "stream",
     "text": [
      "WARNING: In /tmp/SimpleITK-build/ITK-prefix/include/ITK-5.3/itkImageSeriesReader.hxx, line 478\n",
      "ImageSeriesReader (0x1023e6db0): Non uniform sampling or missing slices detected,  maximum nonuniformity:0.000379032\n",
      "\n"
     ]
    },
    {
     "name": "stdout",
     "output_type": "stream",
     "text": [
      "60016522809LXQ transformation finished\n"
     ]
    },
    {
     "name": "stderr",
     "output_type": "stream",
     "text": [
      "WARNING: In /tmp/SimpleITK-build/ITK-prefix/include/ITK-5.3/itkImageSeriesReader.hxx, line 478\n",
      "ImageSeriesReader (0x1023ee170): Non uniform sampling or missing slices detected,  maximum nonuniformity:0.000379032\n",
      "\n"
     ]
    },
    {
     "name": "stdout",
     "output_type": "stream",
     "text": [
      "60016522809LXQ transformation finished\n"
     ]
    },
    {
     "name": "stderr",
     "output_type": "stream",
     "text": [
      "WARNING: In /tmp/SimpleITK-build/ITK-prefix/include/ITK-5.3/itkImageSeriesReader.hxx, line 478\n",
      "ImageSeriesReader (0x102388590): Non uniform sampling or missing slices detected,  maximum nonuniformity:0.000379032\n",
      "\n"
     ]
    },
    {
     "name": "stdout",
     "output_type": "stream",
     "text": [
      "60016522809LXQ transformation finished\n"
     ]
    },
    {
     "name": "stderr",
     "output_type": "stream",
     "text": [
      "WARNING: In /tmp/SimpleITK-build/ITK-prefix/include/ITK-5.3/itkImageSeriesReader.hxx, line 478\n",
      "ImageSeriesReader (0x1023fbfe0): Non uniform sampling or missing slices detected,  maximum nonuniformity:0.000379032\n",
      "\n"
     ]
    },
    {
     "name": "stdout",
     "output_type": "stream",
     "text": [
      "60016522809LXQ transformation finished\n"
     ]
    },
    {
     "name": "stderr",
     "output_type": "stream",
     "text": [
      "WARNING: In /tmp/SimpleITK-build/ITK-prefix/include/ITK-5.3/itkImageSeriesReader.hxx, line 478\n",
      "ImageSeriesReader (0x1023ee780): Non uniform sampling or missing slices detected,  maximum nonuniformity:0.000379032\n",
      "\n"
     ]
    },
    {
     "name": "stdout",
     "output_type": "stream",
     "text": [
      "60016522809LXQ transformation finished\n",
      "60016522809LXQ transformation finished\n"
     ]
    },
    {
     "name": "stderr",
     "output_type": "stream",
     "text": [
      "WARNING: In /tmp/SimpleITK-build/ITK-prefix/include/ITK-5.3/itkImageSeriesReader.hxx, line 478\n",
      "ImageSeriesReader (0x105ce2a90): Non uniform sampling or missing slices detected,  maximum nonuniformity:0.000379032\n",
      "\n"
     ]
    },
    {
     "name": "stdout",
     "output_type": "stream",
     "text": [
      "60016522809LXQ transformation finished\n"
     ]
    },
    {
     "name": "stderr",
     "output_type": "stream",
     "text": [
      "WARNING: In /tmp/SimpleITK-build/ITK-prefix/include/ITK-5.3/itkImageSeriesReader.hxx, line 478\n",
      "ImageSeriesReader (0x105cc2bd0): Non uniform sampling or missing slices detected,  maximum nonuniformity:0.000379032\n",
      "\n"
     ]
    },
    {
     "name": "stdout",
     "output_type": "stream",
     "text": [
      "60016522809LXQ transformation finished\n"
     ]
    },
    {
     "name": "stderr",
     "output_type": "stream",
     "text": [
      "WARNING: In /tmp/SimpleITK-build/ITK-prefix/include/ITK-5.3/itkImageSeriesReader.hxx, line 478\n",
      "ImageSeriesReader (0x105ce2a90): Non uniform sampling or missing slices detected,  maximum nonuniformity:0.000379032\n",
      "\n"
     ]
    },
    {
     "name": "stdout",
     "output_type": "stream",
     "text": [
      "60016522809LXQ transformation finished\n"
     ]
    },
    {
     "name": "stderr",
     "output_type": "stream",
     "text": [
      "WARNING: In /tmp/SimpleITK-build/ITK-prefix/include/ITK-5.3/itkImageSeriesReader.hxx, line 478\n",
      "ImageSeriesReader (0x105ce2a90): Non uniform sampling or missing slices detected,  maximum nonuniformity:0.000379032\n",
      "\n"
     ]
    },
    {
     "name": "stdout",
     "output_type": "stream",
     "text": [
      "60016522809LXQ transformation finished\n",
      "60016522809LXQ transformation finished\n"
     ]
    },
    {
     "name": "stderr",
     "output_type": "stream",
     "text": [
      "WARNING: In /tmp/SimpleITK-build/ITK-prefix/include/ITK-5.3/itkImageSeriesReader.hxx, line 478\n",
      "ImageSeriesReader (0x3105042c0): Non uniform sampling or missing slices detected,  maximum nonuniformity:0.000379032\n",
      "\n"
     ]
    },
    {
     "name": "stdout",
     "output_type": "stream",
     "text": [
      "60016522809LXQ transformation finished\n"
     ]
    },
    {
     "name": "stderr",
     "output_type": "stream",
     "text": [
      "WARNING: In /tmp/SimpleITK-build/ITK-prefix/include/ITK-5.3/itkImageSeriesReader.hxx, line 478\n",
      "ImageSeriesReader (0x105cc2bd0): Non uniform sampling or missing slices detected,  maximum nonuniformity:0.000379032\n",
      "\n"
     ]
    },
    {
     "name": "stdout",
     "output_type": "stream",
     "text": [
      "60016522809LXQ transformation finished\n",
      "60016522809LXQ transformation finished\n"
     ]
    },
    {
     "name": "stderr",
     "output_type": "stream",
     "text": [
      "WARNING: In /tmp/SimpleITK-build/ITK-prefix/include/ITK-5.3/itkImageSeriesReader.hxx, line 478\n",
      "ImageSeriesReader (0x1023e73c0): Non uniform sampling or missing slices detected,  maximum nonuniformity:0.000379032\n",
      "\n"
     ]
    },
    {
     "name": "stdout",
     "output_type": "stream",
     "text": [
      "60016522809LXQ transformation finished\n"
     ]
    },
    {
     "name": "stderr",
     "output_type": "stream",
     "text": [
      "WARNING: In /tmp/SimpleITK-build/ITK-prefix/include/ITK-5.3/itkImageSeriesReader.hxx, line 478\n",
      "ImageSeriesReader (0x1023f7890): Non uniform sampling or missing slices detected,  maximum nonuniformity:0.000379032\n",
      "\n"
     ]
    },
    {
     "name": "stdout",
     "output_type": "stream",
     "text": [
      "60016522809LXQ transformation finished\n",
      "60016522809LXQ transformation finished\n"
     ]
    },
    {
     "name": "stderr",
     "output_type": "stream",
     "text": [
      "WARNING: In /tmp/SimpleITK-build/ITK-prefix/include/ITK-5.3/itkImageSeriesReader.hxx, line 478\n",
      "ImageSeriesReader (0x1023fbfe0): Non uniform sampling or missing slices detected,  maximum nonuniformity:0.000449262\n",
      "\n"
     ]
    },
    {
     "name": "stdout",
     "output_type": "stream",
     "text": [
      "60016522809LXQ transformation finished\n"
     ]
    },
    {
     "name": "stderr",
     "output_type": "stream",
     "text": [
      "WARNING: In /tmp/SimpleITK-build/ITK-prefix/include/ITK-5.3/itkImageSeriesReader.hxx, line 478\n",
      "ImageSeriesReader (0x10239bee0): Non uniform sampling or missing slices detected,  maximum nonuniformity:0.000449262\n",
      "\n"
     ]
    },
    {
     "name": "stdout",
     "output_type": "stream",
     "text": [
      "60016522809LXQ transformation finished\n"
     ]
    },
    {
     "name": "stderr",
     "output_type": "stream",
     "text": [
      "WARNING: In /tmp/SimpleITK-build/ITK-prefix/include/ITK-5.3/itkImageSeriesReader.hxx, line 478\n",
      "ImageSeriesReader (0x1023f7890): Non uniform sampling or missing slices detected,  maximum nonuniformity:0.000449262\n",
      "\n"
     ]
    },
    {
     "name": "stdout",
     "output_type": "stream",
     "text": [
      "60016522809LXQ transformation finished\n"
     ]
    },
    {
     "name": "stderr",
     "output_type": "stream",
     "text": [
      "WARNING: In /tmp/SimpleITK-build/ITK-prefix/include/ITK-5.3/itkImageSeriesReader.hxx, line 478\n",
      "ImageSeriesReader (0x120788ea0): Non uniform sampling or missing slices detected,  maximum nonuniformity:0.000449262\n",
      "\n"
     ]
    },
    {
     "name": "stdout",
     "output_type": "stream",
     "text": [
      "60016522809LXQ transformation finished\n"
     ]
    },
    {
     "name": "stderr",
     "output_type": "stream",
     "text": [
      "WARNING: In /tmp/SimpleITK-build/ITK-prefix/include/ITK-5.3/itkImageSeriesReader.hxx, line 478\n",
      "ImageSeriesReader (0x105ce2a90): Non uniform sampling or missing slices detected,  maximum nonuniformity:207.042\n",
      "\n"
     ]
    },
    {
     "name": "stdout",
     "output_type": "stream",
     "text": [
      "60016522809LXQ transformation finished\n",
      "60016522809LXQ transformation finished\n"
     ]
    },
    {
     "name": "stderr",
     "output_type": "stream",
     "text": [
      "WARNING: In /tmp/SimpleITK-build/ITK-prefix/include/ITK-5.3/itkImageSeriesReader.hxx, line 478\n",
      "ImageSeriesReader (0x105ce2a90): Non uniform sampling or missing slices detected,  maximum nonuniformity:0.000606465\n",
      "\n",
      "WARNING: In /tmp/SimpleITK-build/ITK-prefix/include/ITK-5.3/itkImageSeriesReader.hxx, line 478\n",
      "ImageSeriesReader (0x105cb5830): Non uniform sampling or missing slices detected,  maximum nonuniformity:0.000606465\n",
      "\n"
     ]
    },
    {
     "name": "stdout",
     "output_type": "stream",
     "text": [
      "60016522809LXQ transformation finished\n",
      "Skipped processing folder /Volumes/MR_analysis/MRCP_DICOM/60016522809LXQ/SE36 due to insufficient DICOM files (<5).\n"
     ]
    },
    {
     "name": "stderr",
     "output_type": "stream",
     "text": [
      "WARNING: In /tmp/SimpleITK-build/ITK-prefix/include/ITK-5.3/itkImageSeriesReader.hxx, line 478\n",
      "ImageSeriesReader (0x105cf7670): Non uniform sampling or missing slices detected,  maximum nonuniformity:0.000174876\n",
      "\n"
     ]
    },
    {
     "name": "stdout",
     "output_type": "stream",
     "text": [
      "60016522809LXQ transformation finished\n",
      "60016522809LXQ transformation finished\n"
     ]
    },
    {
     "name": "stderr",
     "output_type": "stream",
     "text": [
      "WARNING: In /tmp/SimpleITK-build/ITK-prefix/include/ITK-5.3/itkImageSeriesReader.hxx, line 478\n",
      "ImageSeriesReader (0x105cf7670): Non uniform sampling or missing slices detected,  maximum nonuniformity:328.16\n",
      "\n",
      "WARNING: In /tmp/SimpleITK-build/ITK-prefix/include/ITK-5.3/itkImageSeriesReader.hxx, line 478\n",
      "ImageSeriesReader (0x105cc2bd0): Non uniform sampling or missing slices detected,  maximum nonuniformity:328.16\n",
      "\n"
     ]
    },
    {
     "name": "stdout",
     "output_type": "stream",
     "text": [
      "60016522809LXQ transformation finished\n",
      "Skipped processing folder /Volumes/MR_analysis/MRCP_DICOM/60016522809LXQ/SE13 due to insufficient DICOM files (<5).\n"
     ]
    },
    {
     "name": "stderr",
     "output_type": "stream",
     "text": [
      "WARNING: In /tmp/SimpleITK-build/ITK-prefix/include/ITK-5.3/itkImageSeriesReader.hxx, line 478\n",
      "ImageSeriesReader (0x105cb5830): Non uniform sampling or missing slices detected,  maximum nonuniformity:0.000245003\n",
      "\n"
     ]
    },
    {
     "name": "stdout",
     "output_type": "stream",
     "text": [
      "60016522809LXQ transformation finished\n",
      "Skipped processing folder /Volumes/MR_analysis/MRCP_DICOM/60016522809LXQ/SE42 due to insufficient DICOM files (<5).\n",
      "60016522809LXQ transformation finished\n"
     ]
    },
    {
     "name": "stderr",
     "output_type": "stream",
     "text": [
      "WARNING: In /tmp/SimpleITK-build/ITK-prefix/include/ITK-5.3/itkImageSeriesReader.hxx, line 478\n",
      "ImageSeriesReader (0x105ce2a90): Non uniform sampling or missing slices detected,  maximum nonuniformity:318.564\n",
      "\n",
      "WARNING: In /tmp/SimpleITK-build/ITK-prefix/include/ITK-5.3/itkImageSeriesReader.hxx, line 478\n",
      "ImageSeriesReader (0x105cc2bd0): Non uniform sampling or missing slices detected,  maximum nonuniformity:328.153\n",
      "\n"
     ]
    },
    {
     "name": "stdout",
     "output_type": "stream",
     "text": [
      "60016522809LXQ transformation finished\n",
      "60016522809LXQ transformation finished\n"
     ]
    },
    {
     "name": "stderr",
     "output_type": "stream",
     "text": [
      "WARNING: In /tmp/SimpleITK-build/ITK-prefix/include/ITK-5.3/itkImageSeriesReader.hxx, line 478\n",
      "ImageSeriesReader (0x105ce2a90): Non uniform sampling or missing slices detected,  maximum nonuniformity:328.153\n",
      "\n",
      "WARNING: In /tmp/SimpleITK-build/ITK-prefix/include/ITK-5.3/itkImageSeriesReader.hxx, line 478\n",
      "ImageSeriesReader (0x105cc2bd0): Non uniform sampling or missing slices detected,  maximum nonuniformity:0.000379032\n",
      "\n"
     ]
    },
    {
     "name": "stdout",
     "output_type": "stream",
     "text": [
      "60016522809LXQ transformation finished\n"
     ]
    },
    {
     "name": "stderr",
     "output_type": "stream",
     "text": [
      "WARNING: In /tmp/SimpleITK-build/ITK-prefix/include/ITK-5.3/itkImageSeriesReader.hxx, line 478\n",
      "ImageSeriesReader (0x105cc2bd0): Non uniform sampling or missing slices detected,  maximum nonuniformity:0.000379032\n",
      "\n"
     ]
    },
    {
     "name": "stdout",
     "output_type": "stream",
     "text": [
      "60016522809LXQ transformation finished\n"
     ]
    },
    {
     "name": "stderr",
     "output_type": "stream",
     "text": [
      "WARNING: In /tmp/SimpleITK-build/ITK-prefix/include/ITK-5.3/itkImageSeriesReader.hxx, line 478\n",
      "ImageSeriesReader (0x105cb5830): Non uniform sampling or missing slices detected,  maximum nonuniformity:0.000379032\n",
      "\n"
     ]
    },
    {
     "name": "stdout",
     "output_type": "stream",
     "text": [
      "60016522809LXQ transformation finished\n",
      "60016522809LXQ transformation finished\n"
     ]
    },
    {
     "name": "stderr",
     "output_type": "stream",
     "text": [
      "WARNING: In /tmp/SimpleITK-build/ITK-prefix/include/ITK-5.3/itkImageSeriesReader.hxx, line 478\n",
      "ImageSeriesReader (0x105cf7670): Non uniform sampling or missing slices detected,  maximum nonuniformity:0.000379032\n",
      "\n"
     ]
    },
    {
     "name": "stdout",
     "output_type": "stream",
     "text": [
      "60016522809LXQ transformation finished\n"
     ]
    },
    {
     "name": "stderr",
     "output_type": "stream",
     "text": [
      "WARNING: In /tmp/SimpleITK-build/ITK-prefix/include/ITK-5.3/itkImageSeriesReader.hxx, line 478\n",
      "ImageSeriesReader (0x1023fbc20): Non uniform sampling or missing slices detected,  maximum nonuniformity:337.371\n",
      "\n"
     ]
    },
    {
     "name": "stdout",
     "output_type": "stream",
     "text": [
      "60016524946LJQ transformation finished\n"
     ]
    },
    {
     "name": "stderr",
     "output_type": "stream",
     "text": [
      "WARNING: In /tmp/SimpleITK-build/ITK-prefix/include/ITK-5.3/itkImageSeriesReader.hxx, line 478\n",
      "ImageSeriesReader (0x1023b5930): Non uniform sampling or missing slices detected,  maximum nonuniformity:543.784\n",
      "\n"
     ]
    },
    {
     "name": "stdout",
     "output_type": "stream",
     "text": [
      "60016524946LJQ transformation finished\n"
     ]
    },
    {
     "name": "stderr",
     "output_type": "stream",
     "text": [
      "WARNING: In /tmp/SimpleITK-build/ITK-prefix/include/ITK-5.3/itkImageSeriesReader.hxx, line 478\n",
      "ImageSeriesReader (0x1023979a0): Non uniform sampling or missing slices detected,  maximum nonuniformity:178.022\n",
      "\n"
     ]
    },
    {
     "name": "stdout",
     "output_type": "stream",
     "text": [
      "60016524946LJQ transformation finished\n",
      "60016524946LJQ transformation finished\n",
      "60016524946LJQ transformation finished\n",
      "60016524946LJQ transformation finished\n",
      "60016524946LJQ transformation finished\n"
     ]
    },
    {
     "name": "stderr",
     "output_type": "stream",
     "text": [
      "WARNING: In /tmp/SimpleITK-build/ITK-prefix/include/ITK-5.3/itkImageSeriesReader.hxx, line 478\n",
      "ImageSeriesReader (0x1023b5930): Non uniform sampling or missing slices detected,  maximum nonuniformity:193.424\n",
      "\n",
      "WARNING: In /tmp/SimpleITK-build/ITK-prefix/include/ITK-5.3/itkImageSeriesReader.hxx, line 478\n",
      "ImageSeriesReader (0x1023cd010): Non uniform sampling or missing slices detected,  maximum nonuniformity:0.000151032\n",
      "\n"
     ]
    },
    {
     "name": "stdout",
     "output_type": "stream",
     "text": [
      "60016524946LJQ transformation finished\n",
      "60016524946LJQ transformation finished\n",
      "Skipped processing folder /Volumes/MR_analysis/MRCP_DICOM/60016524946LJQ/SE43 due to insufficient DICOM files (<5).\n"
     ]
    },
    {
     "name": "stderr",
     "output_type": "stream",
     "text": [
      "WARNING: In /tmp/SimpleITK-build/ITK-prefix/include/ITK-5.3/itkImageSeriesReader.hxx, line 478\n",
      "ImageSeriesReader (0x1023979a0): Non uniform sampling or missing slices detected,  maximum nonuniformity:328.153\n",
      "\n",
      "WARNING: In /tmp/SimpleITK-build/ITK-prefix/include/ITK-5.3/itkImageSeriesReader.hxx, line 478\n",
      "ImageSeriesReader (0x120787420): Non uniform sampling or missing slices detected,  maximum nonuniformity:280.558\n",
      "\n"
     ]
    },
    {
     "name": "stdout",
     "output_type": "stream",
     "text": [
      "60016524946LJQ transformation finished\n",
      "Skipped processing folder /Volumes/MR_analysis/MRCP_DICOM/60016524946LJQ/SE17 due to insufficient DICOM files (<5).\n",
      "60016524946LJQ transformation finished\n"
     ]
    },
    {
     "name": "stderr",
     "output_type": "stream",
     "text": [
      "WARNING: In /tmp/SimpleITK-build/ITK-prefix/include/ITK-5.3/itkImageSeriesReader.hxx, line 478\n",
      "ImageSeriesReader (0x1023b5930): Non uniform sampling or missing slices detected,  maximum nonuniformity:196.364\n",
      "\n"
     ]
    },
    {
     "name": "stdout",
     "output_type": "stream",
     "text": [
      "60016524946LJQ transformation finished\n",
      "60016524946LJQ transformation finished\n"
     ]
    },
    {
     "name": "stderr",
     "output_type": "stream",
     "text": [
      "WARNING: In /tmp/SimpleITK-build/ITK-prefix/include/ITK-5.3/itkImageSeriesReader.hxx, line 478\n",
      "ImageSeriesReader (0x1023e73c0): Non uniform sampling or missing slices detected,  maximum nonuniformity:0.00094658\n",
      "\n"
     ]
    },
    {
     "name": "stdout",
     "output_type": "stream",
     "text": [
      "60016524946LJQ transformation finished\n"
     ]
    },
    {
     "name": "stderr",
     "output_type": "stream",
     "text": [
      "WARNING: In /tmp/SimpleITK-build/ITK-prefix/include/ITK-5.3/itkImageSeriesReader.hxx, line 478\n",
      "ImageSeriesReader (0x105ce2a90): Non uniform sampling or missing slices detected,  maximum nonuniformity:0.00094658\n",
      "\n"
     ]
    },
    {
     "name": "stdout",
     "output_type": "stream",
     "text": [
      "60016524946LJQ transformation finished\n"
     ]
    },
    {
     "name": "stderr",
     "output_type": "stream",
     "text": [
      "WARNING: In /tmp/SimpleITK-build/ITK-prefix/include/ITK-5.3/itkImageSeriesReader.hxx, line 478\n",
      "ImageSeriesReader (0x105cf7670): Non uniform sampling or missing slices detected,  maximum nonuniformity:0.00094658\n",
      "\n"
     ]
    },
    {
     "name": "stdout",
     "output_type": "stream",
     "text": [
      "60016524946LJQ transformation finished\n",
      "60016524946LJQ transformation finished\n"
     ]
    },
    {
     "name": "stderr",
     "output_type": "stream",
     "text": [
      "WARNING: In /tmp/SimpleITK-build/ITK-prefix/include/ITK-5.3/itkImageSeriesReader.hxx, line 478\n",
      "ImageSeriesReader (0x105cc2bd0): Non uniform sampling or missing slices detected,  maximum nonuniformity:0.00094658\n",
      "\n"
     ]
    },
    {
     "name": "stdout",
     "output_type": "stream",
     "text": [
      "60016524946LJQ transformation finished\n"
     ]
    },
    {
     "name": "stderr",
     "output_type": "stream",
     "text": [
      "WARNING: In /tmp/SimpleITK-build/ITK-prefix/include/ITK-5.3/itkImageSeriesReader.hxx, line 478\n",
      "ImageSeriesReader (0x105cb5830): Non uniform sampling or missing slices detected,  maximum nonuniformity:0.00094658\n",
      "\n"
     ]
    },
    {
     "name": "stdout",
     "output_type": "stream",
     "text": [
      "60016524946LJQ transformation finished\n"
     ]
    },
    {
     "name": "stderr",
     "output_type": "stream",
     "text": [
      "WARNING: In /tmp/SimpleITK-build/ITK-prefix/include/ITK-5.3/itkImageSeriesReader.hxx, line 478\n",
      "ImageSeriesReader (0x3105042c0): Non uniform sampling or missing slices detected,  maximum nonuniformity:0.00094658\n",
      "\n"
     ]
    },
    {
     "name": "stdout",
     "output_type": "stream",
     "text": [
      "60016524946LJQ transformation finished\n"
     ]
    },
    {
     "name": "stderr",
     "output_type": "stream",
     "text": [
      "WARNING: In /tmp/SimpleITK-build/ITK-prefix/include/ITK-5.3/itkImageSeriesReader.hxx, line 478\n",
      "ImageSeriesReader (0x1023b47f0): Non uniform sampling or missing slices detected,  maximum nonuniformity:0.00094658\n",
      "\n"
     ]
    },
    {
     "name": "stdout",
     "output_type": "stream",
     "text": [
      "60016524946LJQ transformation finished\n",
      "60016524946LJQ transformation finished\n"
     ]
    },
    {
     "name": "stderr",
     "output_type": "stream",
     "text": [
      "WARNING: In /tmp/SimpleITK-build/ITK-prefix/include/ITK-5.3/itkImageSeriesReader.hxx, line 478\n",
      "ImageSeriesReader (0x1023979a0): Non uniform sampling or missing slices detected,  maximum nonuniformity:0.00094658\n",
      "\n"
     ]
    },
    {
     "name": "stdout",
     "output_type": "stream",
     "text": [
      "60016524946LJQ transformation finished\n"
     ]
    },
    {
     "name": "stderr",
     "output_type": "stream",
     "text": [
      "WARNING: In /tmp/SimpleITK-build/ITK-prefix/include/ITK-5.3/itkImageSeriesReader.hxx, line 478\n",
      "ImageSeriesReader (0x1023fbc20): Non uniform sampling or missing slices detected,  maximum nonuniformity:0.00094658\n",
      "\n"
     ]
    },
    {
     "name": "stdout",
     "output_type": "stream",
     "text": [
      "60016524946LJQ transformation finished\n"
     ]
    },
    {
     "name": "stderr",
     "output_type": "stream",
     "text": [
      "WARNING: In /tmp/SimpleITK-build/ITK-prefix/include/ITK-5.3/itkImageSeriesReader.hxx, line 478\n",
      "ImageSeriesReader (0x1023cd010): Non uniform sampling or missing slices detected,  maximum nonuniformity:0.00094658\n",
      "\n"
     ]
    },
    {
     "name": "stdout",
     "output_type": "stream",
     "text": [
      "60016524946LJQ transformation finished\n"
     ]
    },
    {
     "name": "stderr",
     "output_type": "stream",
     "text": [
      "WARNING: In /tmp/SimpleITK-build/ITK-prefix/include/ITK-5.3/itkImageSeriesReader.hxx, line 478\n",
      "ImageSeriesReader (0x1023b47f0): Non uniform sampling or missing slices detected,  maximum nonuniformity:0.00094658\n",
      "\n"
     ]
    },
    {
     "name": "stdout",
     "output_type": "stream",
     "text": [
      "60016524946LJQ transformation finished\n",
      "60016524946LJQ transformation finished\n"
     ]
    },
    {
     "name": "stderr",
     "output_type": "stream",
     "text": [
      "WARNING: In /tmp/SimpleITK-build/ITK-prefix/include/ITK-5.3/itkImageSeriesReader.hxx, line 478\n",
      "ImageSeriesReader (0x1023e5c60): Non uniform sampling or missing slices detected,  maximum nonuniformity:0.00094658\n",
      "\n"
     ]
    },
    {
     "name": "stdout",
     "output_type": "stream",
     "text": [
      "60016524946LJQ transformation finished\n",
      "60016524946LJQ transformation finished\n"
     ]
    },
    {
     "name": "stderr",
     "output_type": "stream",
     "text": [
      "WARNING: In /tmp/SimpleITK-build/ITK-prefix/include/ITK-5.3/itkImageSeriesReader.hxx, line 478\n",
      "ImageSeriesReader (0x105cb5830): Non uniform sampling or missing slices detected,  maximum nonuniformity:0.00094658\n",
      "\n"
     ]
    },
    {
     "name": "stdout",
     "output_type": "stream",
     "text": [
      "60016524946LJQ transformation finished\n"
     ]
    },
    {
     "name": "stderr",
     "output_type": "stream",
     "text": [
      "WARNING: In /tmp/SimpleITK-build/ITK-prefix/include/ITK-5.3/itkImageSeriesReader.hxx, line 478\n",
      "ImageSeriesReader (0x1023cd010): Non uniform sampling or missing slices detected,  maximum nonuniformity:0.00094658\n",
      "\n"
     ]
    },
    {
     "name": "stdout",
     "output_type": "stream",
     "text": [
      "60016524946LJQ transformation finished\n"
     ]
    },
    {
     "name": "stderr",
     "output_type": "stream",
     "text": [
      "WARNING: In /tmp/SimpleITK-build/ITK-prefix/include/ITK-5.3/itkImageSeriesReader.hxx, line 478\n",
      "ImageSeriesReader (0x105cc2bd0): Non uniform sampling or missing slices detected,  maximum nonuniformity:0.00094658\n",
      "\n"
     ]
    },
    {
     "name": "stdout",
     "output_type": "stream",
     "text": [
      "60016524946LJQ transformation finished\n"
     ]
    },
    {
     "name": "stderr",
     "output_type": "stream",
     "text": [
      "WARNING: In /tmp/SimpleITK-build/ITK-prefix/include/ITK-5.3/itkImageSeriesReader.hxx, line 478\n",
      "ImageSeriesReader (0x1023b5930): Non uniform sampling or missing slices detected,  maximum nonuniformity:0.00094658\n",
      "\n"
     ]
    },
    {
     "name": "stdout",
     "output_type": "stream",
     "text": [
      "60016524946LJQ transformation finished\n",
      "60016524946LJQ transformation finished\n"
     ]
    },
    {
     "name": "stderr",
     "output_type": "stream",
     "text": [
      "WARNING: In /tmp/SimpleITK-build/ITK-prefix/include/ITK-5.3/itkImageSeriesReader.hxx, line 478\n",
      "ImageSeriesReader (0x1023f7890): Non uniform sampling or missing slices detected,  maximum nonuniformity:0.00094658\n",
      "\n"
     ]
    },
    {
     "name": "stdout",
     "output_type": "stream",
     "text": [
      "60016524946LJQ transformation finished\n"
     ]
    },
    {
     "name": "stderr",
     "output_type": "stream",
     "text": [
      "WARNING: In /tmp/SimpleITK-build/ITK-prefix/include/ITK-5.3/itkImageSeriesReader.hxx, line 478\n",
      "ImageSeriesReader (0x1023b5930): Non uniform sampling or missing slices detected,  maximum nonuniformity:0.00094658\n",
      "\n"
     ]
    },
    {
     "name": "stdout",
     "output_type": "stream",
     "text": [
      "60016524946LJQ transformation finished\n"
     ]
    },
    {
     "name": "stderr",
     "output_type": "stream",
     "text": [
      "WARNING: In /tmp/SimpleITK-build/ITK-prefix/include/ITK-5.3/itkImageSeriesReader.hxx, line 478\n",
      "ImageSeriesReader (0x1023b5930): Non uniform sampling or missing slices detected,  maximum nonuniformity:0.00094658\n",
      "\n"
     ]
    },
    {
     "name": "stdout",
     "output_type": "stream",
     "text": [
      "60016524946LJQ transformation finished\n"
     ]
    },
    {
     "name": "stderr",
     "output_type": "stream",
     "text": [
      "WARNING: In /tmp/SimpleITK-build/ITK-prefix/include/ITK-5.3/itkImageSeriesReader.hxx, line 478\n",
      "ImageSeriesReader (0x102388590): Non uniform sampling or missing slices detected,  maximum nonuniformity:0.00094658\n",
      "\n"
     ]
    },
    {
     "name": "stdout",
     "output_type": "stream",
     "text": [
      "60016524946LJQ transformation finished\n"
     ]
    },
    {
     "name": "stderr",
     "output_type": "stream",
     "text": [
      "WARNING: In /tmp/SimpleITK-build/ITK-prefix/include/ITK-5.3/itkImageSeriesReader.hxx, line 478\n",
      "ImageSeriesReader (0x10239b8e0): Non uniform sampling or missing slices detected,  maximum nonuniformity:0.000762625\n",
      "\n"
     ]
    },
    {
     "name": "stdout",
     "output_type": "stream",
     "text": [
      "60016524946LJQ transformation finished\n"
     ]
    },
    {
     "name": "stderr",
     "output_type": "stream",
     "text": [
      "WARNING: In /tmp/SimpleITK-build/ITK-prefix/include/ITK-5.3/itkImageSeriesReader.hxx, line 478\n",
      "ImageSeriesReader (0x105cf7670): Non uniform sampling or missing slices detected,  maximum nonuniformity:0.000762625\n",
      "\n"
     ]
    },
    {
     "name": "stdout",
     "output_type": "stream",
     "text": [
      "60016524946LJQ transformation finished\n"
     ]
    },
    {
     "name": "stderr",
     "output_type": "stream",
     "text": [
      "WARNING: In /tmp/SimpleITK-build/ITK-prefix/include/ITK-5.3/itkImageSeriesReader.hxx, line 478\n",
      "ImageSeriesReader (0x105ce2a90): Non uniform sampling or missing slices detected,  maximum nonuniformity:0.000762625\n",
      "\n"
     ]
    },
    {
     "name": "stdout",
     "output_type": "stream",
     "text": [
      "60016524946LJQ transformation finished\n"
     ]
    },
    {
     "name": "stderr",
     "output_type": "stream",
     "text": [
      "WARNING: In /tmp/SimpleITK-build/ITK-prefix/include/ITK-5.3/itkImageSeriesReader.hxx, line 478\n",
      "ImageSeriesReader (0x102388590): Non uniform sampling or missing slices detected,  maximum nonuniformity:0.000762625\n",
      "\n"
     ]
    },
    {
     "name": "stdout",
     "output_type": "stream",
     "text": [
      "60016524946LJQ transformation finished\n",
      "60016524946LJQ transformation finished\n"
     ]
    },
    {
     "name": "stderr",
     "output_type": "stream",
     "text": [
      "WARNING: In /tmp/SimpleITK-build/ITK-prefix/include/ITK-5.3/itkImageSeriesReader.hxx, line 478\n",
      "ImageSeriesReader (0x105ce2a90): Non uniform sampling or missing slices detected,  maximum nonuniformity:178.022\n",
      "\n"
     ]
    },
    {
     "name": "stdout",
     "output_type": "stream",
     "text": [
      "60016524946LJQ transformation finished\n",
      "60016524946LJQ transformation finished\n",
      "Skipped processing folder /Volumes/MR_analysis/MRCP_DICOM/60016524946LJQ/SE15 due to insufficient DICOM files (<5).\n"
     ]
    },
    {
     "name": "stderr",
     "output_type": "stream",
     "text": [
      "WARNING: In /tmp/SimpleITK-build/ITK-prefix/include/ITK-5.3/itkImageSeriesReader.hxx, line 478\n",
      "ImageSeriesReader (0x1023979a0): Non uniform sampling or missing slices detected,  maximum nonuniformity:39.3043\n",
      "\n",
      "WARNING: In /tmp/SimpleITK-build/ITK-prefix/include/ITK-5.3/itkImageSeriesReader.hxx, line 478\n",
      "ImageSeriesReader (0x105ce2a90): Non uniform sampling or missing slices detected,  maximum nonuniformity:0.000151032\n",
      "\n"
     ]
    },
    {
     "name": "stdout",
     "output_type": "stream",
     "text": [
      "60016524946LJQ transformation finished\n",
      "60016524946LJQ transformation finished\n"
     ]
    },
    {
     "name": "stderr",
     "output_type": "stream",
     "text": [
      "WARNING: In /tmp/SimpleITK-build/ITK-prefix/include/ITK-5.3/itkImageSeriesReader.hxx, line 478\n",
      "ImageSeriesReader (0x14061d0c0): Non uniform sampling or missing slices detected,  maximum nonuniformity:196.364\n",
      "\n"
     ]
    },
    {
     "name": "stdout",
     "output_type": "stream",
     "text": [
      "60016524946LJQ transformation finished\n",
      "60016524946LJQ transformation finished\n",
      "60016524946LJQ transformation finished\n",
      "60016524946LJQ transformation finished\n",
      "Skipped processing folder /Volumes/MR_analysis/MRCP_DICOM/60016524946LJQ/SE47 due to insufficient DICOM files (<5).\n"
     ]
    },
    {
     "name": "stderr",
     "output_type": "stream",
     "text": [
      "WARNING: In /tmp/SimpleITK-build/ITK-prefix/include/ITK-5.3/itkImageSeriesReader.hxx, line 478\n",
      "ImageSeriesReader (0x1023b5930): Non uniform sampling or missing slices detected,  maximum nonuniformity:328.16\n",
      "\n",
      "WARNING: In /tmp/SimpleITK-build/ITK-prefix/include/ITK-5.3/itkImageSeriesReader.hxx, line 478\n",
      "ImageSeriesReader (0x1023fbc20): Non uniform sampling or missing slices detected,  maximum nonuniformity:280.558\n",
      "\n"
     ]
    },
    {
     "name": "stdout",
     "output_type": "stream",
     "text": [
      "60016524946LJQ transformation finished\n"
     ]
    },
    {
     "name": "stderr",
     "output_type": "stream",
     "text": [
      "WARNING: In /tmp/SimpleITK-build/ITK-prefix/include/ITK-5.3/itkImageSeriesReader.hxx, line 478\n",
      "ImageSeriesReader (0x1023e73c0): Non uniform sampling or missing slices detected,  maximum nonuniformity:0.00094658\n",
      "\n"
     ]
    },
    {
     "name": "stdout",
     "output_type": "stream",
     "text": [
      "60016524946LJQ transformation finished\n"
     ]
    },
    {
     "name": "stderr",
     "output_type": "stream",
     "text": [
      "WARNING: In /tmp/SimpleITK-build/ITK-prefix/include/ITK-5.3/itkImageSeriesReader.hxx, line 478\n",
      "ImageSeriesReader (0x10239bee0): Non uniform sampling or missing slices detected,  maximum nonuniformity:0.00094658\n",
      "\n"
     ]
    },
    {
     "name": "stdout",
     "output_type": "stream",
     "text": [
      "60016524946LJQ transformation finished\n"
     ]
    },
    {
     "name": "stderr",
     "output_type": "stream",
     "text": [
      "WARNING: In /tmp/SimpleITK-build/ITK-prefix/include/ITK-5.3/itkImageSeriesReader.hxx, line 478\n",
      "ImageSeriesReader (0x102388590): Non uniform sampling or missing slices detected,  maximum nonuniformity:0.00094658\n",
      "\n"
     ]
    },
    {
     "name": "stdout",
     "output_type": "stream",
     "text": [
      "60016524946LJQ transformation finished\n"
     ]
    },
    {
     "name": "stderr",
     "output_type": "stream",
     "text": [
      "WARNING: In /tmp/SimpleITK-build/ITK-prefix/include/ITK-5.3/itkImageSeriesReader.hxx, line 478\n",
      "ImageSeriesReader (0x105cf7670): Non uniform sampling or missing slices detected,  maximum nonuniformity:0.00094658\n",
      "\n"
     ]
    },
    {
     "name": "stdout",
     "output_type": "stream",
     "text": [
      "60016524946LJQ transformation finished\n",
      "60016524946LJQ transformation finished\n"
     ]
    },
    {
     "name": "stderr",
     "output_type": "stream",
     "text": [
      "WARNING: In /tmp/SimpleITK-build/ITK-prefix/include/ITK-5.3/itkImageSeriesReader.hxx, line 478\n",
      "ImageSeriesReader (0x105ce2a90): Non uniform sampling or missing slices detected,  maximum nonuniformity:337.371\n",
      "\n",
      "WARNING: In /tmp/SimpleITK-build/ITK-prefix/include/ITK-5.3/itkImageSeriesReader.hxx, line 478\n",
      "ImageSeriesReader (0x105cfba60): Non uniform sampling or missing slices detected,  maximum nonuniformity:337.371\n",
      "\n"
     ]
    },
    {
     "name": "stdout",
     "output_type": "stream",
     "text": [
      "60016525837DXG transformation finished\n",
      "60016525837DXG transformation finished\n"
     ]
    },
    {
     "name": "stderr",
     "output_type": "stream",
     "text": [
      "WARNING: In /tmp/SimpleITK-build/ITK-prefix/include/ITK-5.3/itkImageSeriesReader.hxx, line 478\n",
      "ImageSeriesReader (0x327b4a840): Non uniform sampling or missing slices detected,  maximum nonuniformity:543.784\n",
      "\n"
     ]
    },
    {
     "name": "stdout",
     "output_type": "stream",
     "text": [
      "60016525837DXG transformation finished\n",
      "60016525837DXG transformation finished\n",
      "60016525837DXG transformation finished\n"
     ]
    },
    {
     "name": "stderr",
     "output_type": "stream",
     "text": [
      "WARNING: In /tmp/SimpleITK-build/ITK-prefix/include/ITK-5.3/itkImageSeriesReader.hxx, line 478\n",
      "ImageSeriesReader (0x105cb5830): Non uniform sampling or missing slices detected,  maximum nonuniformity:183.048\n",
      "\n"
     ]
    },
    {
     "name": "stdout",
     "output_type": "stream",
     "text": [
      "60016525837DXG transformation finished\n"
     ]
    },
    {
     "name": "stderr",
     "output_type": "stream",
     "text": [
      "WARNING: In /tmp/SimpleITK-build/ITK-prefix/include/ITK-5.3/itkImageSeriesReader.hxx, line 478\n",
      "ImageSeriesReader (0x105cf7670): Non uniform sampling or missing slices detected,  maximum nonuniformity:183.048\n",
      "\n"
     ]
    },
    {
     "name": "stdout",
     "output_type": "stream",
     "text": [
      "60016525837DXG transformation finished\n",
      "60016525837DXG transformation finished\n",
      "60016525837DXG transformation finished\n"
     ]
    },
    {
     "name": "stderr",
     "output_type": "stream",
     "text": [
      "WARNING: In /tmp/SimpleITK-build/ITK-prefix/include/ITK-5.3/itkImageSeriesReader.hxx, line 478\n",
      "ImageSeriesReader (0x10239ccb0): Non uniform sampling or missing slices detected,  maximum nonuniformity:0.000269461\n",
      "\n"
     ]
    },
    {
     "name": "stdout",
     "output_type": "stream",
     "text": [
      "60016525837DXG transformation finished\n",
      "Skipped processing folder /Volumes/MR_analysis/MRCP_DICOM/60016525837DXG/SE36 due to insufficient DICOM files (<5).\n",
      "60016525837DXG transformation finished\n"
     ]
    },
    {
     "name": "stderr",
     "output_type": "stream",
     "text": [
      "WARNING: In /tmp/SimpleITK-build/ITK-prefix/include/ITK-5.3/itkImageSeriesReader.hxx, line 478\n",
      "ImageSeriesReader (0x10239ccb0): Non uniform sampling or missing slices detected,  maximum nonuniformity:328.16\n",
      "\n",
      "WARNING: In /tmp/SimpleITK-build/ITK-prefix/include/ITK-5.3/itkImageSeriesReader.hxx, line 478\n",
      "ImageSeriesReader (0x1023979a0): Non uniform sampling or missing slices detected,  maximum nonuniformity:328.16\n",
      "\n"
     ]
    },
    {
     "name": "stdout",
     "output_type": "stream",
     "text": [
      "60016525837DXG transformation finished\n",
      "60016525837DXG transformation finished\n",
      "60016525837DXG transformation finished\n",
      "Skipped processing folder /Volumes/MR_analysis/MRCP_DICOM/60016525837DXG/SE30 due to insufficient DICOM files (<5).\n"
     ]
    },
    {
     "name": "stderr",
     "output_type": "stream",
     "text": [
      "WARNING: In /tmp/SimpleITK-build/ITK-prefix/include/ITK-5.3/itkImageSeriesReader.hxx, line 478\n",
      "ImageSeriesReader (0x1023979a0): Non uniform sampling or missing slices detected,  maximum nonuniformity:0.000455407\n",
      "\n"
     ]
    },
    {
     "name": "stdout",
     "output_type": "stream",
     "text": [
      "60016525837DXG transformation finished\n",
      "60016525837DXG transformation finished\n"
     ]
    },
    {
     "name": "stderr",
     "output_type": "stream",
     "text": [
      "WARNING: In /tmp/SimpleITK-build/ITK-prefix/include/ITK-5.3/itkImageSeriesReader.hxx, line 478\n",
      "ImageSeriesReader (0x105cb5830): Non uniform sampling or missing slices detected,  maximum nonuniformity:276.567\n",
      "\n",
      "WARNING: In /tmp/SimpleITK-build/ITK-prefix/include/ITK-5.3/itkImageSeriesReader.hxx, line 478\n",
      "ImageSeriesReader (0x1023b47f0): Non uniform sampling or missing slices detected,  maximum nonuniformity:328.153\n",
      "\n"
     ]
    },
    {
     "name": "stdout",
     "output_type": "stream",
     "text": [
      "60016525837DXG transformation finished\n"
     ]
    },
    {
     "name": "stderr",
     "output_type": "stream",
     "text": [
      "WARNING: In /tmp/SimpleITK-build/ITK-prefix/include/ITK-5.3/itkImageSeriesReader.hxx, line 478\n",
      "ImageSeriesReader (0x1023cabb0): Non uniform sampling or missing slices detected,  maximum nonuniformity:0.000608465\n",
      "\n"
     ]
    },
    {
     "name": "stdout",
     "output_type": "stream",
     "text": [
      "60016525837DXG transformation finished\n"
     ]
    },
    {
     "name": "stderr",
     "output_type": "stream",
     "text": [
      "WARNING: In /tmp/SimpleITK-build/ITK-prefix/include/ITK-5.3/itkImageSeriesReader.hxx, line 478\n",
      "ImageSeriesReader (0x105ce2a90): Non uniform sampling or missing slices detected,  maximum nonuniformity:0.000608465\n",
      "\n"
     ]
    },
    {
     "name": "stdout",
     "output_type": "stream",
     "text": [
      "60016525837DXG transformation finished\n"
     ]
    },
    {
     "name": "stderr",
     "output_type": "stream",
     "text": [
      "WARNING: In /tmp/SimpleITK-build/ITK-prefix/include/ITK-5.3/itkImageSeriesReader.hxx, line 478\n",
      "ImageSeriesReader (0x102388590): Non uniform sampling or missing slices detected,  maximum nonuniformity:0.000608465\n",
      "\n"
     ]
    },
    {
     "name": "stdout",
     "output_type": "stream",
     "text": [
      "60016525837DXG transformation finished\n",
      "60016525837DXG transformation finished\n"
     ]
    },
    {
     "name": "stderr",
     "output_type": "stream",
     "text": [
      "WARNING: In /tmp/SimpleITK-build/ITK-prefix/include/ITK-5.3/itkImageSeriesReader.hxx, line 478\n",
      "ImageSeriesReader (0x105cf7670): Non uniform sampling or missing slices detected,  maximum nonuniformity:0.000608465\n",
      "\n"
     ]
    },
    {
     "name": "stdout",
     "output_type": "stream",
     "text": [
      "60016525837DXG transformation finished\n"
     ]
    },
    {
     "name": "stderr",
     "output_type": "stream",
     "text": [
      "WARNING: In /tmp/SimpleITK-build/ITK-prefix/include/ITK-5.3/itkImageSeriesReader.hxx, line 478\n",
      "ImageSeriesReader (0x105ce2a90): Non uniform sampling or missing slices detected,  maximum nonuniformity:0.000609396\n",
      "\n"
     ]
    },
    {
     "name": "stdout",
     "output_type": "stream",
     "text": [
      "60016525837DXG transformation finished\n"
     ]
    },
    {
     "name": "stderr",
     "output_type": "stream",
     "text": [
      "WARNING: In /tmp/SimpleITK-build/ITK-prefix/include/ITK-5.3/itkImageSeriesReader.hxx, line 478\n",
      "ImageSeriesReader (0x105cb5830): Non uniform sampling or missing slices detected,  maximum nonuniformity:0.000609396\n",
      "\n"
     ]
    },
    {
     "name": "stdout",
     "output_type": "stream",
     "text": [
      "60016525837DXG transformation finished\n"
     ]
    },
    {
     "name": "stderr",
     "output_type": "stream",
     "text": [
      "WARNING: In /tmp/SimpleITK-build/ITK-prefix/include/ITK-5.3/itkImageSeriesReader.hxx, line 478\n",
      "ImageSeriesReader (0x1023979a0): Non uniform sampling or missing slices detected,  maximum nonuniformity:0.000609396\n",
      "\n"
     ]
    },
    {
     "name": "stdout",
     "output_type": "stream",
     "text": [
      "60016525837DXG transformation finished\n"
     ]
    },
    {
     "name": "stderr",
     "output_type": "stream",
     "text": [
      "WARNING: In /tmp/SimpleITK-build/ITK-prefix/include/ITK-5.3/itkImageSeriesReader.hxx, line 478\n",
      "ImageSeriesReader (0x105cc2bd0): Non uniform sampling or missing slices detected,  maximum nonuniformity:0.000609396\n",
      "\n"
     ]
    },
    {
     "name": "stdout",
     "output_type": "stream",
     "text": [
      "60016525837DXG transformation finished\n",
      "60016525837DXG transformation finished\n"
     ]
    },
    {
     "name": "stderr",
     "output_type": "stream",
     "text": [
      "WARNING: In /tmp/SimpleITK-build/ITK-prefix/include/ITK-5.3/itkImageSeriesReader.hxx, line 478\n",
      "ImageSeriesReader (0x1023ee170): Non uniform sampling or missing slices detected,  maximum nonuniformity:0.000609396\n",
      "\n"
     ]
    },
    {
     "name": "stdout",
     "output_type": "stream",
     "text": [
      "60016525837DXG transformation finished\n"
     ]
    },
    {
     "name": "stderr",
     "output_type": "stream",
     "text": [
      "WARNING: In /tmp/SimpleITK-build/ITK-prefix/include/ITK-5.3/itkImageSeriesReader.hxx, line 478\n",
      "ImageSeriesReader (0x1023f7890): Non uniform sampling or missing slices detected,  maximum nonuniformity:0.000609396\n",
      "\n"
     ]
    },
    {
     "name": "stdout",
     "output_type": "stream",
     "text": [
      "60016525837DXG transformation finished\n",
      "60016525837DXG transformation finished\n"
     ]
    },
    {
     "name": "stderr",
     "output_type": "stream",
     "text": [
      "WARNING: In /tmp/SimpleITK-build/ITK-prefix/include/ITK-5.3/itkImageSeriesReader.hxx, line 478\n",
      "ImageSeriesReader (0x105ce2a90): Non uniform sampling or missing slices detected,  maximum nonuniformity:0.000609396\n",
      "\n"
     ]
    },
    {
     "name": "stdout",
     "output_type": "stream",
     "text": [
      "60016525837DXG transformation finished\n"
     ]
    },
    {
     "name": "stderr",
     "output_type": "stream",
     "text": [
      "WARNING: In /tmp/SimpleITK-build/ITK-prefix/include/ITK-5.3/itkImageSeriesReader.hxx, line 478\n",
      "ImageSeriesReader (0x1023979a0): Non uniform sampling or missing slices detected,  maximum nonuniformity:0.000609396\n",
      "\n"
     ]
    },
    {
     "name": "stdout",
     "output_type": "stream",
     "text": [
      "60016525837DXG transformation finished\n"
     ]
    },
    {
     "name": "stderr",
     "output_type": "stream",
     "text": [
      "WARNING: In /tmp/SimpleITK-build/ITK-prefix/include/ITK-5.3/itkImageSeriesReader.hxx, line 478\n",
      "ImageSeriesReader (0x105cb5830): Non uniform sampling or missing slices detected,  maximum nonuniformity:0.000609396\n",
      "\n"
     ]
    },
    {
     "name": "stdout",
     "output_type": "stream",
     "text": [
      "60016525837DXG transformation finished\n"
     ]
    },
    {
     "name": "stderr",
     "output_type": "stream",
     "text": [
      "WARNING: In /tmp/SimpleITK-build/ITK-prefix/include/ITK-5.3/itkImageSeriesReader.hxx, line 478\n",
      "ImageSeriesReader (0x10239b8e0): Non uniform sampling or missing slices detected,  maximum nonuniformity:0.000609396\n",
      "\n"
     ]
    },
    {
     "name": "stdout",
     "output_type": "stream",
     "text": [
      "60016525837DXG transformation finished\n"
     ]
    },
    {
     "name": "stderr",
     "output_type": "stream",
     "text": [
      "WARNING: In /tmp/SimpleITK-build/ITK-prefix/include/ITK-5.3/itkImageSeriesReader.hxx, line 478\n",
      "ImageSeriesReader (0x1023b5930): Non uniform sampling or missing slices detected,  maximum nonuniformity:0.000609396\n",
      "\n"
     ]
    },
    {
     "name": "stdout",
     "output_type": "stream",
     "text": [
      "60016525837DXG transformation finished\n"
     ]
    },
    {
     "name": "stderr",
     "output_type": "stream",
     "text": [
      "WARNING: In /tmp/SimpleITK-build/ITK-prefix/include/ITK-5.3/itkImageSeriesReader.hxx, line 478\n",
      "ImageSeriesReader (0x105ce2a90): Non uniform sampling or missing slices detected,  maximum nonuniformity:0.000609396\n",
      "\n"
     ]
    },
    {
     "name": "stdout",
     "output_type": "stream",
     "text": [
      "60016525837DXG transformation finished\n",
      "60016525837DXG transformation finished\n"
     ]
    },
    {
     "name": "stderr",
     "output_type": "stream",
     "text": [
      "WARNING: In /tmp/SimpleITK-build/ITK-prefix/include/ITK-5.3/itkImageSeriesReader.hxx, line 478\n",
      "ImageSeriesReader (0x105cc2bd0): Non uniform sampling or missing slices detected,  maximum nonuniformity:0.000667356\n",
      "\n"
     ]
    },
    {
     "name": "stdout",
     "output_type": "stream",
     "text": [
      "60016525837DXG transformation finished\n"
     ]
    },
    {
     "name": "stderr",
     "output_type": "stream",
     "text": [
      "WARNING: In /tmp/SimpleITK-build/ITK-prefix/include/ITK-5.3/itkImageSeriesReader.hxx, line 478\n",
      "ImageSeriesReader (0x105cf7670): Non uniform sampling or missing slices detected,  maximum nonuniformity:0.000667356\n",
      "\n"
     ]
    },
    {
     "name": "stdout",
     "output_type": "stream",
     "text": [
      "60016525837DXG transformation finished\n"
     ]
    },
    {
     "name": "stderr",
     "output_type": "stream",
     "text": [
      "WARNING: In /tmp/SimpleITK-build/ITK-prefix/include/ITK-5.3/itkImageSeriesReader.hxx, line 478\n",
      "ImageSeriesReader (0x10239b8e0): Non uniform sampling or missing slices detected,  maximum nonuniformity:0.000667356\n",
      "\n"
     ]
    },
    {
     "name": "stdout",
     "output_type": "stream",
     "text": [
      "60016525837DXG transformation finished\n"
     ]
    },
    {
     "name": "stderr",
     "output_type": "stream",
     "text": [
      "WARNING: In /tmp/SimpleITK-build/ITK-prefix/include/ITK-5.3/itkImageSeriesReader.hxx, line 478\n",
      "ImageSeriesReader (0x105cb5830): Non uniform sampling or missing slices detected,  maximum nonuniformity:0.000667356\n",
      "\n"
     ]
    },
    {
     "name": "stdout",
     "output_type": "stream",
     "text": [
      "60016525837DXG transformation finished\n",
      "60016525837DXG transformation finished\n"
     ]
    },
    {
     "name": "stderr",
     "output_type": "stream",
     "text": [
      "WARNING: In /tmp/SimpleITK-build/ITK-prefix/include/ITK-5.3/itkImageSeriesReader.hxx, line 478\n",
      "ImageSeriesReader (0x1023e73c0): Non uniform sampling or missing slices detected,  maximum nonuniformity:0.000269461\n",
      "\n"
     ]
    },
    {
     "name": "stdout",
     "output_type": "stream",
     "text": [
      "60016525837DXG transformation finished\n",
      "Skipped processing folder /Volumes/MR_analysis/MRCP_DICOM/60016525837DXG/SE35 due to insufficient DICOM files (<5).\n",
      "60016525837DXG transformation finished\n"
     ]
    },
    {
     "name": "stderr",
     "output_type": "stream",
     "text": [
      "WARNING: In /tmp/SimpleITK-build/ITK-prefix/include/ITK-5.3/itkImageSeriesReader.hxx, line 478\n",
      "ImageSeriesReader (0x1023fbc20): Non uniform sampling or missing slices detected,  maximum nonuniformity:330.178\n",
      "\n",
      "WARNING: In /tmp/SimpleITK-build/ITK-prefix/include/ITK-5.3/itkImageSeriesReader.hxx, line 478\n",
      "ImageSeriesReader (0x1023fbc20): Non uniform sampling or missing slices detected,  maximum nonuniformity:330.178\n",
      "\n"
     ]
    },
    {
     "name": "stdout",
     "output_type": "stream",
     "text": [
      "60016525837DXG transformation finished\n",
      "Skipped processing folder /Volumes/MR_analysis/MRCP_DICOM/60016525837DXG/SE26 due to insufficient DICOM files (<5).\n"
     ]
    },
    {
     "name": "stderr",
     "output_type": "stream",
     "text": [
      "WARNING: In /tmp/SimpleITK-build/ITK-prefix/include/ITK-5.3/itkImageSeriesReader.hxx, line 478\n",
      "ImageSeriesReader (0x1023b47f0): Non uniform sampling or missing slices detected,  maximum nonuniformity:0.000455407\n",
      "\n"
     ]
    },
    {
     "name": "stdout",
     "output_type": "stream",
     "text": [
      "60016525837DXG transformation finished\n",
      "60016525837DXG transformation finished\n"
     ]
    },
    {
     "name": "stderr",
     "output_type": "stream",
     "text": [
      "WARNING: In /tmp/SimpleITK-build/ITK-prefix/include/ITK-5.3/itkImageSeriesReader.hxx, line 478\n",
      "ImageSeriesReader (0x105ce2a90): Non uniform sampling or missing slices detected,  maximum nonuniformity:328.153\n",
      "\n",
      "WARNING: In /tmp/SimpleITK-build/ITK-prefix/include/ITK-5.3/itkImageSeriesReader.hxx, line 478\n",
      "ImageSeriesReader (0x105cf7670): Non uniform sampling or missing slices detected,  maximum nonuniformity:328.153\n",
      "\n"
     ]
    },
    {
     "name": "stdout",
     "output_type": "stream",
     "text": [
      "60016525837DXG transformation finished\n"
     ]
    },
    {
     "name": "stderr",
     "output_type": "stream",
     "text": [
      "WARNING: In /tmp/SimpleITK-build/ITK-prefix/include/ITK-5.3/itkImageSeriesReader.hxx, line 478\n",
      "ImageSeriesReader (0x105cb5830): Non uniform sampling or missing slices detected,  maximum nonuniformity:0.000609396\n",
      "\n"
     ]
    },
    {
     "name": "stdout",
     "output_type": "stream",
     "text": [
      "60016525837DXG transformation finished\n",
      "60016525837DXG transformation finished\n"
     ]
    },
    {
     "name": "stderr",
     "output_type": "stream",
     "text": [
      "WARNING: In /tmp/SimpleITK-build/ITK-prefix/include/ITK-5.3/itkImageSeriesReader.hxx, line 478\n",
      "ImageSeriesReader (0x105cc2bd0): Non uniform sampling or missing slices detected,  maximum nonuniformity:0.000609396\n",
      "\n"
     ]
    },
    {
     "name": "stdout",
     "output_type": "stream",
     "text": [
      "60016525837DXG transformation finished\n"
     ]
    },
    {
     "name": "stderr",
     "output_type": "stream",
     "text": [
      "WARNING: In /tmp/SimpleITK-build/ITK-prefix/include/ITK-5.3/itkImageSeriesReader.hxx, line 478\n",
      "ImageSeriesReader (0x105ce2a90): Non uniform sampling or missing slices detected,  maximum nonuniformity:0.000609396\n",
      "\n"
     ]
    },
    {
     "name": "stdout",
     "output_type": "stream",
     "text": [
      "60016525837DXG transformation finished\n"
     ]
    },
    {
     "name": "stderr",
     "output_type": "stream",
     "text": [
      "WARNING: In /tmp/SimpleITK-build/ITK-prefix/include/ITK-5.3/itkImageSeriesReader.hxx, line 478\n",
      "ImageSeriesReader (0x105cf7670): Non uniform sampling or missing slices detected,  maximum nonuniformity:0.000609396\n",
      "\n"
     ]
    },
    {
     "name": "stdout",
     "output_type": "stream",
     "text": [
      "60016525837DXG transformation finished\n",
      "Metadata exported to /Volumes/MR_analysis/MRCP_metadata36.xlsx\n"
     ]
    }
   ],
   "source": [
    "from pathlib import Path\n",
    "import SimpleITK as sitk\n",
    "import pydicom\n",
    "import os\n",
    "import pandas as pd\n",
    "\n",
    "def read_dicom_metadata(filepath):\n",
    "    try:\n",
    "        return pydicom.read_file(filepath, stop_before_pixels=True)\n",
    "    except Exception as e:\n",
    "        print(f\"Error reading DICOM metadata: {e}\")\n",
    "        return None\n",
    "\n",
    "def sanitize_filename(filename):\n",
    "    return filename.replace(\" \", \"_\").replace(\"/\", \"_\").replace(\"(\", \"\").replace(\")\", \"\").replace(\":\", \"\").replace(\"-\", \"\").replace(\"+\", \"\")\n",
    "\n",
    "def get_metadata(subpath):\n",
    "    dicom_file = next(subpath.glob('*'), None)\n",
    "    if dicom_file:\n",
    "        img = read_dicom_metadata(dicom_file)\n",
    "        if img:\n",
    "            return {\n",
    "                'name': getattr(img, 'SeriesDescription', \"None\"),\n",
    "                'ID': getattr(img, 'PatientID', \"None\"),\n",
    "                'imgID': getattr(img, 'AccessionNumber', \"None\"),\n",
    "                'actime': getattr(img, 'AcquisitionTime', \"None\"),\n",
    "                'series_number': getattr(img, 'SeriesNumber', \"None\"),\n",
    "                'study_date': getattr(img, 'StudyDate', \"None\"),\n",
    "                'manufacturer': getattr(img, 'Manufacturer', \"None\"),\n",
    "                'slice_thickness': getattr(img, 'SliceThickness', \"None\"),\n",
    "                'modality': getattr(img, 'Modality', \"None\"),\n",
    "                'gender': getattr(img, 'PatientSex', \"None\"),\n",
    "                'age': getattr(img, 'PatientAge', \"None\"),\n",
    "                'height': getattr(img, 'PatientSize', \"None\"),\n",
    "                'weight': getattr(img, 'PatientWeight', \"None\"),\n",
    "                'file_count': len(list(subpath.glob('*')))\n",
    "            }\n",
    "    return {'name': \"None\", 'ID': \"None\", 'imgID': \"None\", 'actime': \"None\"}\n",
    "\n",
    "def filter_uniform_size_series(filenames):\n",
    "    sizes = {}\n",
    "    for fn in filenames:\n",
    "        try:\n",
    "            img = pydicom.read_file(fn)\n",
    "            size = img.pixel_array.shape\n",
    "            sizes.setdefault(size, []).append(fn)\n",
    "        except AttributeError as e:\n",
    "            print(f\"Warning: Unable to access pixel data for file {fn}: {e}\")\n",
    "        except Exception as e:\n",
    "            print(f\"Error processing file {fn}: {e}\")\n",
    "    max_size = max(sizes.keys(), key=lambda size: len(sizes[size]), default=None)\n",
    "    return sizes.get(max_size, [])\n",
    "\n",
    "def dcmRead(path):\n",
    "    reader = sitk.ImageSeriesReader()\n",
    "    filenamesDICOM = reader.GetGDCMSeriesFileNames(str(path))\n",
    "    uniform_filenames = filter_uniform_size_series(filenamesDICOM)\n",
    "    if uniform_filenames:\n",
    "        reader.SetFileNames(uniform_filenames)\n",
    "        try:\n",
    "            img = reader.Execute()\n",
    "            return img, sitk.GetArrayFromImage(img)\n",
    "        except RuntimeError as e:\n",
    "            print(f\"Error reading DICOM series at {path}: {e}\")\n",
    "            return None, None\n",
    "    else:\n",
    "        print(f\"No uniform series found at {path}\")\n",
    "    return None, None\n",
    "\n",
    "def create_path(base, *paths):\n",
    "    path = Path(base, *paths)\n",
    "    path.mkdir(parents=True, exist_ok=True)\n",
    "    return path\n",
    "\n",
    "def sort_subfolders_by_actime(subfolders):\n",
    "    subfolders_metadata = [(subfolder, get_metadata(subfolder)) for subfolder in subfolders]\n",
    "    return sorted(subfolders_metadata, key=lambda x: x[1]['actime'])\n",
    "\n",
    "def determine_and_create_save_path(NIIsavepath, seriesname_lower, MR_ID, imgID, ACtime):\n",
    "    NIIsavepath = Path(NIIsavepath)\n",
    "    clean_seriesname = sanitize_filename(seriesname_lower)\n",
    "    savePath = NIIsavepath / f\"{MR_ID}_{imgID}_{ACtime}_{clean_seriesname}.nii.gz\"\n",
    "    return savePath\n",
    "\n",
    "def export_metadata_to_excel(metadata_list, excel_path):\n",
    "    df = pd.DataFrame(metadata_list)\n",
    "    df.to_excel(excel_path, index=False)\n",
    "    print(f\"Metadata exported to {excel_path}\")\n",
    "\n",
    "def series_extract(dcmpath, NIIsavepath, excel_savepath):\n",
    "    dcmpath = Path(dcmpath)\n",
    "    NIIsavepath = Path(NIIsavepath)\n",
    "    \n",
    "    metadata_list = []\n",
    "    \n",
    "    for filefolder in Path(dcmpath).iterdir():\n",
    "        if filefolder.is_dir():\n",
    "            sorted_subfolders = sort_subfolders_by_actime(filefolder.iterdir())\n",
    "            for subfolder, metadata in sorted_subfolders:\n",
    "                seriesname_lower = metadata['name'].lower()\n",
    "                if metadata['file_count'] >= 5:  # Only process if there are 5 or more files\n",
    "                    img, _ = dcmRead(subfolder)\n",
    "                    if img:\n",
    "                        savePath = determine_and_create_save_path(NIIsavepath, seriesname_lower, metadata['ID'], metadata['imgID'], metadata['actime'])\n",
    "                        try:\n",
    "                            sitk.WriteImage(img, str(savePath))\n",
    "                            print(f\"{metadata['ID']} transformation finished\")\n",
    "                        except Exception as e:\n",
    "                            print(f\"Error writing NIfTI file {savePath}: {e}\")\n",
    "                else:\n",
    "                    print(f\"Skipped processing folder {subfolder} due to insufficient DICOM files (<5).\")\n",
    "                \n",
    "                metadata_list.append(metadata)  # Store metadata regardless of whether the series was processed\n",
    "    \n",
    "    export_metadata_to_excel(metadata_list, excel_savepath)\n",
    "\n",
    "if __name__ == \"__main__\":\n",
    "    dcmpath = \"/Volumes/MR_analysis/MRCP_DICOM/\"\n",
    "    NIIsavepath = \"/Volumes/MR_analysis/MRCP_NII/\"\n",
    "    excel_savepath = \"/Volumes/MR_analysis/MRCP_metadata36.xlsx\"\n",
    "    os.makedirs(NIIsavepath,exist_ok=True)\n",
    "    \n",
    "    series_extract(dcmpath, NIIsavepath, excel_savepath)"
   ]
  },
  {
   "cell_type": "code",
   "execution_count": null,
   "metadata": {},
   "outputs": [],
   "source": [
    "# 删除或移动一个文件夹下的所有文件\n",
    "import os\n",
    "import shutil\n",
    "\n",
    "def del_file(path):\n",
    "    ls = os.listdir(path)\n",
    "    for i in ls:\n",
    "        c_path = os.path.join(path, i)\n",
    "        if os.path.isdir(c_path):  # 如果是文件夹那么递归调用一下\n",
    "            del_file(c_path)\n",
    "        else:  # 如果是一个文件那么直接删除\n",
    "            os.remove(c_path)\n",
    "    print('文件已经清空完成')\n",
    "def move_file(path, path_moved):\n",
    "    if not os.path.exists(path_moved):\n",
    "        os.makedirs(path_moved)\n",
    "\n",
    "\n",
    "    for item in os.listdir(path):\n",
    "        src = os.path.join(path, item)\n",
    "        dst = os.path.join(path_moved, item)\n",
    "\n",
    "\n",
    "        if os.path.isdir(src):\n",
    "            # If it's a directory, recursively move it\n",
    "            move_file(src, dst)\n",
    "        else:\n",
    "            # If it's a file, check if it already exists in the destination\n",
    "            if os.path.exists(dst):\n",
    "                # If a file with the same name exists, replace it\n",
    "                os.remove(dst)\n",
    "            shutil.move(src, dst)\n",
    "\n",
    "    if os.path.isdir(path):\n",
    "        # If it's a directory, remove the source directory after all contents are moved\n",
    "        os.rmdir(path)\n",
    "    print('Directory and its contents have been moved with file replacement.')\n",
    "del_file(\"/Volumes/ZILINGZHOU/DICOM/\")\n",
    "# move_file(\"/Users/ziling/Desktop/MRCP/MRCP_all_NII/\",\"/Volumes/Extreme_zzl/MRCP_NII/\")\n",
    "# move_file(\"I:/CRC_DICOM_MRE/\",\"H:/CRC_DICOM_MRE/\")\n",
    "\n",
    "\n",
    "# path = \"L:/IBD_GIST_DICOM_origin/control/\"\n",
    "# savepath = \"I:/IBD_GIST_DICOM_origin/control/\"\n",
    "# for file in os.listdir(path):\n",
    "#     subpath = os.path.join(path,file)\n",
    "#     move_file(subpath,os.path.join(savepath,file))"
   ]
  }
 ],
 "metadata": {
  "kernelspec": {
   "display_name": "radiomics_envs",
   "language": "python",
   "name": "python3"
  },
  "language_info": {
   "codemirror_mode": {
    "name": "ipython",
    "version": 3
   },
   "file_extension": ".py",
   "mimetype": "text/x-python",
   "name": "python",
   "nbconvert_exporter": "python",
   "pygments_lexer": "ipython3",
   "version": "3.10.11"
  }
 },
 "nbformat": 4,
 "nbformat_minor": 2
}
