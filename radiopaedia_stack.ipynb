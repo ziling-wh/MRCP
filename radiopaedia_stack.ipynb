{
 "cells": [
  {
   "cell_type": "code",
   "execution_count": 1,
   "metadata": {},
   "outputs": [
    {
     "name": "stdout",
     "output_type": "stream",
     "text": [
      "Corrected coronal 3D image saved as case28.nii.gz\n"
     ]
    }
   ],
   "source": [
    "import os\n",
    "import re\n",
    "import numpy as np\n",
    "from PIL import Image\n",
    "import nibabel as nib\n",
    "\n",
    "# Define the folder containing the images\n",
    "# folder_path = '/Users/ziling/Desktop/google_download_temp'\n",
    "folder_path = '/Volumes/Extreme_zzl/Radiopaedia_testing_group/case12'\n",
    "\n",
    "# Get a list of all .jpg files in the folder\n",
    "jpg_files = [f for f in os.listdir(folder_path) if f.endswith('.jpg') and not f.startswith(\".\")] \n",
    "\n",
    "# Extract the sequence number from the filenames using regex and sort the files by number\n",
    "jpg_files_sorted = sorted(jpg_files, key=lambda x: int(re.search(r'\\((\\d+)\\)', x).group(1)))\n",
    "\n",
    "# Load the images, correct orientation, and stack them into a 3D numpy array\n",
    "image_stack = []\n",
    "\n",
    "for file in jpg_files_sorted:\n",
    "    img_path = os.path.join(folder_path, file)\n",
    "    img = Image.open(img_path).convert('L')  # Convert to grayscale if needed\n",
    "    \n",
    "    # Rotate the image by 90 degrees clockwise to match the correct orientation\n",
    "    img = img.rotate(90)\n",
    "    # img = img.transpose(Image.FLIP_TOP_BOTTOM)\n",
    "    img = img.transpose(Image.FLIP_LEFT_RIGHT)\n",
    "    img_array = np.array(img)\n",
    "    image_stack.append(img_array)\n",
    "\n",
    "# Convert the list of 2D arrays to a 3D numpy array (Coronal stacking)\n",
    "image_stack_3d_coronal = np.stack(image_stack, axis=1)  # Stack along the second axis for coronal plane\n",
    "\n",
    "# Create a NIfTI image\n",
    "nii_image = nib.Nifti1Image(image_stack_3d_coronal, affine=np.eye(4))\n",
    "\n",
    "# Save the image as .nii.gz\n",
    "nib.save(nii_image, '/Users/ziling/Desktop/MRCP/NII_img_Radiopaedia/case12.nii.gz')\n",
    "\n",
    "# Check the result\n",
    "print(\"Corrected coronal 3D image saved as case28.nii.gz\")"
   ]
  },
  {
   "cell_type": "code",
   "execution_count": 20,
   "metadata": {},
   "outputs": [
    {
     "name": "stdout",
     "output_type": "stream",
     "text": [
      "Sorted image files based on modification time: ['meandering-main-pancreatic-duct.jpg', 'meandering-main-pancreatic-duct (1).jpg', 'meandering-main-pancreatic-duct (2).jpg', 'meandering-main-pancreatic-duct (3).jpg', 'meandering-main-pancreatic-duct (4).jpg', 'meandering-main-pancreatic-duct (5).jpg', 'meandering-main-pancreatic-duct (6).jpg', 'meandering-main-pancreatic-duct (7).jpg', 'meandering-main-pancreatic-duct (8).jpg', 'meandering-main-pancreatic-duct (9).jpg', 'meandering-main-pancreatic-duct (10).jpg', 'meandering-main-pancreatic-duct (11).jpg', 'meandering-main-pancreatic-duct (12).jpg', 'meandering-main-pancreatic-duct (13).jpg', 'meandering-main-pancreatic-duct (14).jpg', 'meandering-main-pancreatic-duct (15).jpg', 'meandering-main-pancreatic-duct (16).jpg', 'meandering-main-pancreatic-duct (17).jpg', 'meandering-main-pancreatic-duct (18).jpg', 'meandering-main-pancreatic-duct (19).jpg', 'meandering-main-pancreatic-duct (20).jpg', 'meandering-main-pancreatic-duct (21).jpg', 'meandering-main-pancreatic-duct (22).jpg', 'meandering-main-pancreatic-duct (23).jpg', 'meandering-main-pancreatic-duct (24).jpg', 'meandering-main-pancreatic-duct (25).jpg', 'meandering-main-pancreatic-duct (26).jpg', 'meandering-main-pancreatic-duct (27).jpg', 'meandering-main-pancreatic-duct (28).jpg', 'meandering-main-pancreatic-duct (29).jpg', 'meandering-main-pancreatic-duct (30).jpg', 'meandering-main-pancreatic-duct (31).jpg', 'meandering-main-pancreatic-duct (32).jpg', 'meandering-main-pancreatic-duct (33).jpg', 'meandering-main-pancreatic-duct (34).jpg', 'meandering-main-pancreatic-duct (35).jpg', 'meandering-main-pancreatic-duct (36).jpg', 'meandering-main-pancreatic-duct (37).jpg', 'meandering-main-pancreatic-duct (38).jpg', 'meandering-main-pancreatic-duct (39).jpg']\n",
      "Corrected coronal 3D image saved as /Users/ziling/Desktop/MRCP/NII_img_Radiopaedia/case27.nii.gz\n"
     ]
    }
   ],
   "source": [
    "import os\n",
    "import numpy as np\n",
    "from PIL import Image\n",
    "import nibabel as nib\n",
    "\n",
    "# Define the folder containing the images\n",
    "folder_path = '/Volumes/Extreme_zzl/Radiopaedia_testing_group/case27'\n",
    "\n",
    "# Get a list of all .jpg, .jpeg, or .png files in the folder, ignoring hidden files\n",
    "valid_extensions = ('.jpg', '.jpeg', '.png')\n",
    "image_files = [f for f in os.listdir(folder_path) if f.lower().endswith(valid_extensions) and not f.startswith(\".\")]\n",
    "\n",
    "# Check if there are any valid image files in the folder\n",
    "if not image_files:\n",
    "    raise ValueError(f\"No .jpg, .jpeg, or .png files found in the directory: {folder_path}\")\n",
    "\n",
    "# Sort the files based on their creation or modification time\n",
    "image_files_sorted = sorted(image_files, key=lambda x: os.path.getmtime(os.path.join(folder_path, x)))\n",
    "\n",
    "# Print sorted file names for debugging\n",
    "print(f\"Sorted image files based on modification time: {image_files_sorted}\")\n",
    "\n",
    "# Load the images, correct orientation, and stack them into a 3D numpy array\n",
    "image_stack = []\n",
    "\n",
    "for file in image_files_sorted:\n",
    "    img_path = os.path.join(folder_path, file)\n",
    "    \n",
    "    try:\n",
    "        img = Image.open(img_path).convert('L')  # Convert to grayscale if needed\n",
    "        \n",
    "        # Rotate the image by 90 degrees clockwise to match the correct orientation\n",
    "        img = img.rotate(90)\n",
    "        img = img.transpose(Image.FLIP_LEFT_RIGHT)  # Optional: Flip if required\n",
    "        img_array = np.array(img)\n",
    "        image_stack.append(img_array)\n",
    "    except Exception as e:\n",
    "        print(f\"Error loading image {file}: {e}\")\n",
    "\n",
    "# Check if any images were successfully loaded\n",
    "if not image_stack:\n",
    "    raise ValueError(\"No valid images were loaded into the stack.\")\n",
    "\n",
    "# Convert the list of 2D arrays to a 3D numpy array (Coronal stacking)\n",
    "image_stack_3d_coronal = np.stack(image_stack, axis=1)  # Stack along the second axis for coronal plane if saggital axis=0\n",
    "\n",
    "# Create a NIfTI image\n",
    "nii_image = nib.Nifti1Image(image_stack_3d_coronal, affine=np.eye(4))\n",
    "\n",
    "# Save the image as .nii.gz\n",
    "output_path = '/Users/ziling/Desktop/MRCP/NII_img_Radiopaedia/case27.nii.gz'\n",
    "nib.save(nii_image, output_path)\n",
    "\n",
    "# Check the result\n",
    "print(f\"Corrected coronal 3D image saved as {output_path}\")"
   ]
  }
 ],
 "metadata": {
  "kernelspec": {
   "display_name": "radiomics_envs",
   "language": "python",
   "name": "python3"
  },
  "language_info": {
   "codemirror_mode": {
    "name": "ipython",
    "version": 3
   },
   "file_extension": ".py",
   "mimetype": "text/x-python",
   "name": "python",
   "nbconvert_exporter": "python",
   "pygments_lexer": "ipython3",
   "version": "3.10.11"
  }
 },
 "nbformat": 4,
 "nbformat_minor": 2
}
