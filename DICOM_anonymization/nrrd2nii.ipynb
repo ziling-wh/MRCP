{
 "cells": [
  {
   "cell_type": "code",
   "execution_count": null,
   "metadata": {},
   "outputs": [],
   "source": [
    "import SimpleITK as sitk\n",
    "import os\n",
    "import numpy as np\n",
    "\n",
    "# define the path\n",
    "labelsTr_nrrd_dir = \"/Users/ziling/Desktop/MRCP/GT_NRRD/Radiopaedia\"\n",
    "imagesTr_nii_dir = \"/Users/ziling/Desktop/MRCP/NII_img_Radiopaedia\"\n",
    "output_labelsTr_dir = \"/Users/ziling/Desktop/MRCP/NII_GT_Radiopaedia\"\n",
    "os.makedirs(output_labelsTr_dir, exist_ok=True)\n",
    "\n",
    "# labelsTs_nrrd_dir = r\"D:\\nnUNet\\DATASET\\Task022_MRCP\\labelsTs\"\n",
    "# imagesTs_nii_dir = r\"D:\\nnUNet\\DATASET\\Task022_MRCP\\imagesTs\"\n",
    "# output_labelsTs_dir = r\"D:\\nnUNet\\DATASET\\Task022_MRCP\\labelsTs_converted\"\n",
    "# os.makedirs(output_labelsTs_dir, exist_ok=True)\n",
    "\n",
    "def convert_nrrd_to_nii_gz(nrrd_dir, nii_dir, output_dir):\n",
    "    nrrd_files = [f for f in os.listdir(nrrd_dir) if f.endswith('.nrrd') and not f.startswith('.')]\n",
    "    for nrrd_file in nrrd_files:\n",
    "        # 读取nrrd文件\n",
    "        nrrd_path = os.path.join(nrrd_dir, nrrd_file)\n",
    "        label_img = sitk.ReadImage(nrrd_path)\n",
    "        label_arr = sitk.GetArrayFromImage(label_img)\n",
    "        label_arr_trans=np.zeros((label_arr.shape))\n",
    "        label_arr_trans[label_arr!=0] = 1\n",
    "        label_img_tran = sitk.GetImageFromArray(label_arr_trans)\n",
    "\n",
    "        # 对应的nii.gz图像文件\n",
    "        nii_file = nrrd_file.replace('.nrrd', '.nii.gz')  # 假设nrrd文件和nii文件有相同的基础名称\n",
    "        nii_path = os.path.join(nii_dir, nii_file)\n",
    "\n",
    "        if not os.path.exists(nii_path):\n",
    "            print(f\"Warning: Corresponding NIfTI file {nii_file} not found for {nrrd_file}\")\n",
    "            continue\n",
    "\n",
    "        # 读取nii.gz文件的三维信息\n",
    "        ref_img = sitk.ReadImage(nii_path)\n",
    "\n",
    "        # 检查尺寸是否匹配\n",
    "        if label_img.GetSize() == ref_img.GetSize():\n",
    "            # 调整label_img的方向、间隔和起始点与ref_img一致\n",
    "            label_img_tran.CopyInformation(ref_img)\n",
    "\n",
    "            # 保存为nii.gz格式\n",
    "            output_path = os.path.join(output_dir, nrrd_file.replace('.nrrd', '.nii.gz'))\n",
    "            sitk.WriteImage(label_img_tran, output_path)\n",
    "            # print(f\"Converted {nrrd_file} to {output_path}\")\n",
    "        else:\n",
    "            print(f\"Size mismatch: {nrrd_file} and {nii_file} have different sizes. Conversion skipped.\")\n",
    "\n",
    "# 转换labelsTr目录下的文件\n",
    "convert_nrrd_to_nii_gz(labelsTr_nrrd_dir, imagesTr_nii_dir, output_labelsTr_dir)\n",
    "\n",
    "# 转换labelsTs目录下的文件\n",
    "# convert_nrrd_to_nii_gz(labelsTs_nrrd_dir, imagesTs_nii_dir, output_labelsTs_dir)\n"
   ]
  }
 ],
 "metadata": {
  "kernelspec": {
   "display_name": "nnunet_envs",
   "language": "python",
   "name": "python3"
  },
  "language_info": {
   "codemirror_mode": {
    "name": "ipython",
    "version": 3
   },
   "file_extension": ".py",
   "mimetype": "text/x-python",
   "name": "python",
   "nbconvert_exporter": "python",
   "pygments_lexer": "ipython3",
   "version": "3.10.11"
  }
 },
 "nbformat": 4,
 "nbformat_minor": 2
}
