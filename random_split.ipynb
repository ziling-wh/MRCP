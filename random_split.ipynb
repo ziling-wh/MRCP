{
 "cells": [
  {
   "cell_type": "code",
   "execution_count": 1,
   "metadata": {},
   "outputs": [
    {
     "name": "stdout",
     "output_type": "stream",
     "text": [
      "训练集和验证集已成功导出到Excel文件。\n"
     ]
    }
   ],
   "source": [
    "from sklearn.model_selection import train_test_split\n",
    "import pandas as pd\n",
    "\n",
    "# 加载数据\n",
    "df = pd.read_excel('/Users/ziling/Desktop/MRCP/for_division.xlsx')\n",
    "\n",
    "# 按8:2划分训练集和验证集，并设定随机种子\n",
    "train_df, val_df = train_test_split(df, test_size=0.2, random_state=42)\n",
    "\n",
    "# 将训练集和验证集导出到Excel文件\n",
    "train_df.to_excel('/Users/ziling/Desktop/MRCP/train_data.xlsx', index=False)\n",
    "val_df.to_excel('/Users/ziling/Desktop/MRCP/val_data.xlsx', index=False)\n",
    "\n",
    "print(\"训练集和验证集已成功导出到Excel文件。\")"
   ]
  },
  {
   "cell_type": "code",
   "execution_count": 5,
   "metadata": {},
   "outputs": [
    {
     "name": "stdout",
     "output_type": "stream",
     "text": [
      "训练集和验证集文件已成功拷贝。\n"
     ]
    }
   ],
   "source": [
    "import pandas as pd\n",
    "import os,glob\n",
    "import shutil\n",
    "\n",
    "# 读取Excel文件\n",
    "train_excel = '/Users/ziling/Desktop/MRCP/train_data.xlsx'  # 你的Excel文件路径\n",
    "val_excel = '/Users/ziling/Desktop/MRCP/val_data.xlsx'      # 验证集Excel文件路径\n",
    "\n",
    "train_df = pd.read_excel(train_excel)\n",
    "val_df = pd.read_excel(val_excel)\n",
    "\n",
    "# 图像文件的源目录\n",
    "source_dir = '/Users/ziling/Desktop/MRCP/data/NII_GT/'  # 你的图像文件存储目录\n",
    "\n",
    "# 目标目录\n",
    "train_dir = '/Users/ziling/Desktop/MRCP/data/train_GT/'  # 训练集目标目录\n",
    "val_dir = '//Users/ziling/Desktop/MRCP/data/validation_GT/'  # 验证集目标目录\n",
    "\n",
    "# 创建目标目录，如果不存在\n",
    "os.makedirs(train_dir, exist_ok=True)\n",
    "os.makedirs(val_dir, exist_ok=True)\n",
    "\n",
    "# 定义一个函数，根据 anno_ID 匹配所有相关文件\n",
    "def find_matching_files(anno_id):\n",
    "    # 使用glob查找所有匹配的文件，如 MRCP001000*.nii.gz\n",
    "    pattern = os.path.join(source_dir, f\"{anno_id}*.nii.gz\")\n",
    "    return glob.glob(pattern)\n",
    "\n",
    "# 拷贝训练集文件到train文件夹\n",
    "for index, row in train_df.iterrows():\n",
    "    matching_files = find_matching_files(row['anno_ID'])  # 找到所有与 anno_ID 相关的文件\n",
    "    if matching_files:\n",
    "        for file in matching_files:\n",
    "            shutil.copy(file, train_dir)\n",
    "    else:\n",
    "        print(f\"No files found for: {row['anno_ID']}\")\n",
    "\n",
    "# 拷贝验证集文件到val文件夹\n",
    "for index, row in val_df.iterrows():\n",
    "    matching_files = find_matching_files(row['anno_ID'])  # 找到所有与 anno_ID 相关的文件\n",
    "    if matching_files:\n",
    "        for file in matching_files:\n",
    "            shutil.copy(file, val_dir)\n",
    "    else:\n",
    "        print(f\"No files found for: {row['anno_ID']}\")\n",
    "\n",
    "print(\"训练集和验证集文件已成功拷贝。\")"
   ]
  }
 ],
 "metadata": {
  "kernelspec": {
   "display_name": "radiomics_envs",
   "language": "python",
   "name": "python3"
  },
  "language_info": {
   "codemirror_mode": {
    "name": "ipython",
    "version": 3
   },
   "file_extension": ".py",
   "mimetype": "text/x-python",
   "name": "python",
   "nbconvert_exporter": "python",
   "pygments_lexer": "ipython3",
   "version": "3.10.11"
  }
 },
 "nbformat": 4,
 "nbformat_minor": 2
}
